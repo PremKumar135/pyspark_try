{
  "nbformat": 4,
  "nbformat_minor": 0,
  "metadata": {
    "colab": {
      "provenance": []
    },
    "kernelspec": {
      "name": "python3",
      "display_name": "Python 3"
    },
    "language_info": {
      "name": "python"
    }
  },
  "cells": [
    {
      "cell_type": "code",
      "execution_count": null,
      "metadata": {
        "colab": {
          "base_uri": "https://localhost:8080/"
        },
        "id": "6QEZrmQKA-tE",
        "outputId": "ca78b59c-a475-4e4c-9da0-191f51437cf3"
      },
      "outputs": [
        {
          "output_type": "stream",
          "name": "stdout",
          "text": [
            "Collecting pyspark\n",
            "  Downloading pyspark-3.4.1.tar.gz (310.8 MB)\n",
            "\u001b[2K     \u001b[90m━━━━━━━━━━━━━━━━━━━━━━━━━━━━━━━━━━━━━━━\u001b[0m \u001b[32m310.8/310.8 MB\u001b[0m \u001b[31m4.0 MB/s\u001b[0m eta \u001b[36m0:00:00\u001b[0m\n",
            "\u001b[?25h  Preparing metadata (setup.py) ... \u001b[?25l\u001b[?25hdone\n",
            "Requirement already satisfied: py4j==0.10.9.7 in /usr/local/lib/python3.10/dist-packages (from pyspark) (0.10.9.7)\n",
            "Building wheels for collected packages: pyspark\n",
            "  Building wheel for pyspark (setup.py) ... \u001b[?25l\u001b[?25hdone\n",
            "  Created wheel for pyspark: filename=pyspark-3.4.1-py2.py3-none-any.whl size=311285398 sha256=b401d59cf50a0b60b583210fdb33f7cc194193f4c81ac1c11f4803fc020158b8\n",
            "  Stored in directory: /root/.cache/pip/wheels/0d/77/a3/ff2f74cc9ab41f8f594dabf0579c2a7c6de920d584206e0834\n",
            "Successfully built pyspark\n",
            "Installing collected packages: pyspark\n",
            "Successfully installed pyspark-3.4.1\n"
          ]
        }
      ],
      "source": [
        "!pip install pyspark"
      ]
    },
    {
      "cell_type": "markdown",
      "source": [
        "## Importing the pyspark"
      ],
      "metadata": {
        "id": "ZJTgyA6ZBG8P"
      }
    },
    {
      "cell_type": "code",
      "source": [
        "from pyspark.sql import *"
      ],
      "metadata": {
        "id": "dSu8vodxBGe8"
      },
      "execution_count": null,
      "outputs": []
    },
    {
      "cell_type": "code",
      "source": [
        "# Create a student\n",
        "Student = Row('firstname', 'lastname', 'email', \"age\", 'rollnumber')\n",
        "\n",
        "student1 = Student(\"john\", 'amaral', 'john@uni.sim', 21, 15423)\n",
        "student2 = Student('cassey', None, 'cassey@uni.sim', 21, 14526)\n",
        "student3 = Student('Louis', 'Lopez', 'louis@uni.sim', 19, 12343)\n",
        "student4 = Student('Jack', 'Torres', None, 23, 13536)\n",
        "student5 = Student('Michael', 'Jackson', 'michael@uni.sim', 20, 16534)"
      ],
      "metadata": {
        "id": "P_sQjdy2BEi2"
      },
      "execution_count": null,
      "outputs": []
    },
    {
      "cell_type": "code",
      "source": [
        "student2"
      ],
      "metadata": {
        "colab": {
          "base_uri": "https://localhost:8080/"
        },
        "id": "8XqDnXZeCTVA",
        "outputId": "cef7baf2-9315-410e-edc5-871f2057039c"
      },
      "execution_count": null,
      "outputs": [
        {
          "output_type": "execute_result",
          "data": {
            "text/plain": [
              "Row(firstname='cassey', lastname=None, email='cassey@uni.sim', age=21, rollnumber=14526)"
            ]
          },
          "metadata": {},
          "execution_count": 4
        }
      ]
    },
    {
      "cell_type": "code",
      "source": [
        "# Create the department\n",
        "department1 = Row(id='001', name='Math')\n",
        "department2 = Row(id='002', name='English')\n",
        "department3 = Row(id='003', name='Physics')\n",
        "department4 = Row(id='004', name='Chemistry')"
      ],
      "metadata": {
        "id": "7YGur683CVEL"
      },
      "execution_count": null,
      "outputs": []
    },
    {
      "cell_type": "code",
      "source": [
        "#create departmentWithStudent instances\n",
        "departmentWithStudent1 = Row(department=department1, student=[student1, student2])\n",
        "departmentWithStudent2 = Row(department=department2, student=[student3, student4])\n",
        "departmentWithStudent3 = Row(department=department3, student=[student5, student4])\n",
        "departmentWithStudent4 = Row(department=department4, student=[student2, student3])"
      ],
      "metadata": {
        "id": "uDSJBl8QDuSD"
      },
      "execution_count": null,
      "outputs": []
    },
    {
      "cell_type": "code",
      "source": [
        "print(departmentWithStudent3.student[0].rollnumber)"
      ],
      "metadata": {
        "colab": {
          "base_uri": "https://localhost:8080/"
        },
        "id": "G3VB8aIMEqL8",
        "outputId": "d3581167-46d5-4d59-8c55-56ef67d22852"
      },
      "execution_count": null,
      "outputs": [
        {
          "output_type": "stream",
          "name": "stdout",
          "text": [
            "16534\n"
          ]
        }
      ]
    },
    {
      "cell_type": "code",
      "source": [
        "departmentWithStudents = [departmentWithStudent1, departmentWithStudent2, departmentWithStudent3, departmentWithStudent4]"
      ],
      "metadata": {
        "id": "9n_lWGfwFD9O"
      },
      "execution_count": null,
      "outputs": []
    },
    {
      "cell_type": "code",
      "source": [
        "from pyspark.context import SparkContext\n",
        "from pyspark.sql.session import SparkSession\n",
        "sc = SparkContext.getOrCreate()\n",
        "spark = SparkSession(sc)\n",
        "\n",
        "df = spark.createDataFrame(departmentWithStudents)\n",
        "\n",
        "display(df)"
      ],
      "metadata": {
        "colab": {
          "base_uri": "https://localhost:8080/",
          "height": 73
        },
        "id": "rg0GVSNN6lam",
        "outputId": "471e91e2-5108-4743-9be5-1f101e7ee8dd"
      },
      "execution_count": null,
      "outputs": [
        {
          "output_type": "display_data",
          "data": {
            "text/plain": [
              "DataFrame[department: struct<id:string,name:string>, student: array<struct<firstname:string,lastname:string,email:string,age:bigint,rollnumber:bigint>>]"
            ]
          },
          "metadata": {}
        }
      ]
    },
    {
      "cell_type": "code",
      "source": [
        "from pyspark.sql import SparkSession"
      ],
      "metadata": {
        "id": "fE77BUlV7HwT"
      },
      "execution_count": null,
      "outputs": []
    },
    {
      "cell_type": "code",
      "source": [
        "spark = SparkSession.builder.appName('create data from csv file').getOrCreate()\n",
        "\n",
        "df = spark.read.csv('/content/country_wise_latest.csv', sep=',', header=True)\n",
        "df.show()\n"
      ],
      "metadata": {
        "colab": {
          "base_uri": "https://localhost:8080/"
        },
        "id": "T-AgkW33_Q4d",
        "outputId": "21b8ae8f-fb15-405e-b1c9-8cd67b26487d"
      },
      "execution_count": null,
      "outputs": [
        {
          "output_type": "stream",
          "name": "stdout",
          "text": [
            "+-------------------+---------+------+---------+------+---------+----------+-------------+------------------+---------------------+----------------------+-------------------+-------------+-----------------+--------------------+\n",
            "|     Country/Region|Confirmed|Deaths|Recovered|Active|New cases|New deaths|New recovered|Deaths / 100 Cases|Recovered / 100 Cases|Deaths / 100 Recovered|Confirmed last week|1 week change|1 week % increase|          WHO Region|\n",
            "+-------------------+---------+------+---------+------+---------+----------+-------------+------------------+---------------------+----------------------+-------------------+-------------+-----------------+--------------------+\n",
            "|        Afghanistan|    36263|  1269|    25198|  9796|      106|        10|           18|               3.5|                69.49|                  5.04|              35526|          737|             2.07|Eastern Mediterra...|\n",
            "|            Albania|     4880|   144|     2745|  1991|      117|         6|           63|              2.95|                56.25|                  5.25|               4171|          709|             17.0|              Europe|\n",
            "|            Algeria|    27973|  1163|    18837|  7973|      616|         8|          749|              4.16|                67.34|                  6.17|              23691|         4282|            18.07|              Africa|\n",
            "|            Andorra|      907|    52|      803|    52|       10|         0|            0|              5.73|                88.53|                  6.48|                884|           23|              2.6|              Europe|\n",
            "|             Angola|      950|    41|      242|   667|       18|         1|            0|              4.32|                25.47|                 16.94|                749|          201|            26.84|              Africa|\n",
            "|Antigua and Barbuda|       86|     3|       65|    18|        4|         0|            5|              3.49|                75.58|                  4.62|                 76|           10|            13.16|            Americas|\n",
            "|          Argentina|   167416|  3059|    72575| 91782|     4890|       120|         2057|              1.83|                43.35|                  4.21|             130774|        36642|            28.02|            Americas|\n",
            "|            Armenia|    37390|   711|    26665| 10014|       73|         6|          187|               1.9|                71.32|                  2.67|              34981|         2409|             6.89|              Europe|\n",
            "|          Australia|    15303|   167|     9311|  5825|      368|         6|          137|              1.09|                60.84|                  1.79|              12428|         2875|            23.13|     Western Pacific|\n",
            "|            Austria|    20558|   713|    18246|  1599|       86|         1|           37|              3.47|                88.75|                  3.91|              19743|          815|             4.13|              Europe|\n",
            "|         Azerbaijan|    30446|   423|    23242|  6781|      396|         6|          558|              1.39|                76.34|                  1.82|              27890|         2556|             9.16|              Europe|\n",
            "|            Bahamas|      382|    11|       91|   280|       40|         0|            0|              2.88|                23.82|                 12.09|                174|          208|           119.54|            Americas|\n",
            "|            Bahrain|    39482|   141|    36110|  3231|      351|         1|          421|              0.36|                91.46|                  0.39|              36936|         2546|             6.89|Eastern Mediterra...|\n",
            "|         Bangladesh|   226225|  2965|   125683| 97577|     2772|        37|         1801|              1.31|                55.56|                  2.36|             207453|        18772|             9.05|     South-East Asia|\n",
            "|           Barbados|      110|     7|       94|     9|        0|         0|            0|              6.36|                85.45|                  7.45|                106|            4|             3.77|            Americas|\n",
            "|            Belarus|    67251|   538|    60492|  6221|      119|         4|           67|               0.8|                89.95|                  0.89|              66213|         1038|             1.57|              Europe|\n",
            "|            Belgium|    66428|  9822|    17452| 39154|      402|         1|           14|             14.79|                26.27|                 56.28|              64094|         2334|             3.64|              Europe|\n",
            "|             Belize|       48|     2|       26|    20|        0|         0|            0|              4.17|                54.17|                  7.69|                 40|            8|             20.0|            Americas|\n",
            "|              Benin|     1770|    35|     1036|   699|        0|         0|            0|              1.98|                58.53|                  3.38|               1602|          168|            10.49|              Africa|\n",
            "|             Bhutan|       99|     0|       86|    13|        4|         0|            1|               0.0|                86.87|                   0.0|                 90|            9|             10.0|     South-East Asia|\n",
            "+-------------------+---------+------+---------+------+---------+----------+-------------+------------------+---------------------+----------------------+-------------------+-------------+-----------------+--------------------+\n",
            "only showing top 20 rows\n",
            "\n"
          ]
        }
      ]
    },
    {
      "cell_type": "code",
      "source": [
        "df.count()"
      ],
      "metadata": {
        "colab": {
          "base_uri": "https://localhost:8080/"
        },
        "id": "76P6gjsFAWix",
        "outputId": "6f9a2001-f0c9-4730-b664-714a0263f4cf"
      },
      "execution_count": null,
      "outputs": [
        {
          "output_type": "execute_result",
          "data": {
            "text/plain": [
              "187"
            ]
          },
          "metadata": {},
          "execution_count": 17
        }
      ]
    },
    {
      "cell_type": "code",
      "source": [
        "df.columns"
      ],
      "metadata": {
        "colab": {
          "base_uri": "https://localhost:8080/"
        },
        "id": "K2IPUVfYA-6I",
        "outputId": "92b9d984-3e26-4220-bf95-50b23e494858"
      },
      "execution_count": null,
      "outputs": [
        {
          "output_type": "execute_result",
          "data": {
            "text/plain": [
              "['Country/Region',\n",
              " 'Confirmed',\n",
              " 'Deaths',\n",
              " 'Recovered',\n",
              " 'Active',\n",
              " 'New cases',\n",
              " 'New deaths',\n",
              " 'New recovered',\n",
              " 'Deaths / 100 Cases',\n",
              " 'Recovered / 100 Cases',\n",
              " 'Deaths / 100 Recovered',\n",
              " 'Confirmed last week',\n",
              " '1 week change',\n",
              " '1 week % increase',\n",
              " 'WHO Region']"
            ]
          },
          "metadata": {},
          "execution_count": 19
        }
      ]
    },
    {
      "cell_type": "code",
      "source": [
        "len(df.columns)"
      ],
      "metadata": {
        "colab": {
          "base_uri": "https://localhost:8080/"
        },
        "id": "K95MXwRBBEBw",
        "outputId": "8f111d92-991b-473d-8b37-848862364dc0"
      },
      "execution_count": null,
      "outputs": [
        {
          "output_type": "execute_result",
          "data": {
            "text/plain": [
              "15"
            ]
          },
          "metadata": {},
          "execution_count": 21
        }
      ]
    },
    {
      "cell_type": "code",
      "source": [
        "df.printSchema()"
      ],
      "metadata": {
        "colab": {
          "base_uri": "https://localhost:8080/"
        },
        "id": "dFzKtQt6BYuI",
        "outputId": "4736edea-69d6-4642-abe4-cc56043ecc55"
      },
      "execution_count": null,
      "outputs": [
        {
          "output_type": "stream",
          "name": "stdout",
          "text": [
            "root\n",
            " |-- Country/Region: string (nullable = true)\n",
            " |-- Confirmed: string (nullable = true)\n",
            " |-- Deaths: string (nullable = true)\n",
            " |-- Recovered: string (nullable = true)\n",
            " |-- Active: string (nullable = true)\n",
            " |-- New cases: string (nullable = true)\n",
            " |-- New deaths: string (nullable = true)\n",
            " |-- New recovered: string (nullable = true)\n",
            " |-- Deaths / 100 Cases: string (nullable = true)\n",
            " |-- Recovered / 100 Cases: string (nullable = true)\n",
            " |-- Deaths / 100 Recovered: string (nullable = true)\n",
            " |-- Confirmed last week: string (nullable = true)\n",
            " |-- 1 week change: string (nullable = true)\n",
            " |-- 1 week % increase: string (nullable = true)\n",
            " |-- WHO Region: string (nullable = true)\n",
            "\n"
          ]
        }
      ]
    },
    {
      "cell_type": "code",
      "source": [
        "df.describe('WHO Region').show()"
      ],
      "metadata": {
        "colab": {
          "base_uri": "https://localhost:8080/"
        },
        "id": "Jh4qdDr7BhGk",
        "outputId": "964f2b33-c2b1-4009-8973-638489d99f1b"
      },
      "execution_count": null,
      "outputs": [
        {
          "output_type": "stream",
          "name": "stdout",
          "text": [
            "+-------+---------------+\n",
            "|summary|     WHO Region|\n",
            "+-------+---------------+\n",
            "|  count|            187|\n",
            "|   mean|           null|\n",
            "| stddev|           null|\n",
            "|    min|         Africa|\n",
            "|    max|Western Pacific|\n",
            "+-------+---------------+\n",
            "\n"
          ]
        }
      ]
    },
    {
      "cell_type": "code",
      "source": [
        "df.describe('Active').show()"
      ],
      "metadata": {
        "colab": {
          "base_uri": "https://localhost:8080/"
        },
        "id": "WLAlqPMdB08K",
        "outputId": "ee179974-3e35-4b50-c741-06a64baa48d5"
      },
      "execution_count": null,
      "outputs": [
        {
          "output_type": "stream",
          "name": "stdout",
          "text": [
            "+-------+------------------+\n",
            "|summary|            Active|\n",
            "+-------+------------------+\n",
            "|  count|               187|\n",
            "|   mean|   34001.935828877|\n",
            "| stddev|213326.17337142891|\n",
            "|    min|                 0|\n",
            "|    max|             98752|\n",
            "+-------+------------------+\n",
            "\n"
          ]
        }
      ]
    },
    {
      "cell_type": "code",
      "source": [
        "df.select('Country/Region','Deaths / 100 cases').show()"
      ],
      "metadata": {
        "colab": {
          "base_uri": "https://localhost:8080/"
        },
        "id": "2KnTyqtmCDLE",
        "outputId": "c03c80e3-a980-4f10-ef43-80218934b395"
      },
      "execution_count": null,
      "outputs": [
        {
          "output_type": "stream",
          "name": "stdout",
          "text": [
            "+-------------------+------------------+\n",
            "|     Country/Region|Deaths / 100 cases|\n",
            "+-------------------+------------------+\n",
            "|        Afghanistan|               3.5|\n",
            "|            Albania|              2.95|\n",
            "|            Algeria|              4.16|\n",
            "|            Andorra|              5.73|\n",
            "|             Angola|              4.32|\n",
            "|Antigua and Barbuda|              3.49|\n",
            "|          Argentina|              1.83|\n",
            "|            Armenia|               1.9|\n",
            "|          Australia|              1.09|\n",
            "|            Austria|              3.47|\n",
            "|         Azerbaijan|              1.39|\n",
            "|            Bahamas|              2.88|\n",
            "|            Bahrain|              0.36|\n",
            "|         Bangladesh|              1.31|\n",
            "|           Barbados|              6.36|\n",
            "|            Belarus|               0.8|\n",
            "|            Belgium|             14.79|\n",
            "|             Belize|              4.17|\n",
            "|              Benin|              1.98|\n",
            "|             Bhutan|               0.0|\n",
            "+-------------------+------------------+\n",
            "only showing top 20 rows\n",
            "\n"
          ]
        }
      ]
    },
    {
      "cell_type": "code",
      "source": [
        "df.filter(df.Deaths>1000).show()"
      ],
      "metadata": {
        "colab": {
          "base_uri": "https://localhost:8080/"
        },
        "id": "hjDyHPmNCgd-",
        "outputId": "995c56fb-ef4f-4180-c4a9-fbba71c7a4f6"
      },
      "execution_count": null,
      "outputs": [
        {
          "output_type": "stream",
          "name": "stdout",
          "text": [
            "+------------------+---------+------+---------+------+---------+----------+-------------+------------------+---------------------+----------------------+-------------------+-------------+-----------------+--------------------+\n",
            "|    Country/Region|Confirmed|Deaths|Recovered|Active|New cases|New deaths|New recovered|Deaths / 100 Cases|Recovered / 100 Cases|Deaths / 100 Recovered|Confirmed last week|1 week change|1 week % increase|          WHO Region|\n",
            "+------------------+---------+------+---------+------+---------+----------+-------------+------------------+---------------------+----------------------+-------------------+-------------+-----------------+--------------------+\n",
            "|       Afghanistan|    36263|  1269|    25198|  9796|      106|        10|           18|               3.5|                69.49|                  5.04|              35526|          737|             2.07|Eastern Mediterra...|\n",
            "|           Algeria|    27973|  1163|    18837|  7973|      616|         8|          749|              4.16|                67.34|                  6.17|              23691|         4282|            18.07|              Africa|\n",
            "|         Argentina|   167416|  3059|    72575| 91782|     4890|       120|         2057|              1.83|                43.35|                  4.21|             130774|        36642|            28.02|            Americas|\n",
            "|        Bangladesh|   226225|  2965|   125683| 97577|     2772|        37|         1801|              1.31|                55.56|                  2.36|             207453|        18772|             9.05|     South-East Asia|\n",
            "|           Belgium|    66428|  9822|    17452| 39154|      402|         1|           14|             14.79|                26.27|                 56.28|              64094|         2334|             3.64|              Europe|\n",
            "|           Bolivia|    71181|  2647|    21478| 47056|     1752|        64|          309|              3.72|                30.17|                 12.32|              60991|        10190|            16.71|            Americas|\n",
            "|            Brazil|  2442375| 87618|  1846641|508116|    23284|       614|        33728|              3.59|                75.61|                  4.74|            2118646|       323729|            15.28|            Americas|\n",
            "|            Canada|   116458|  8944|        0|107514|      682|        11|            0|              7.68|                  0.0|                   inf|             112925|         3533|             3.13|            Americas|\n",
            "|             Chile|   347923|  9187|   319954| 18782|     2133|        75|         1859|              2.64|                91.96|                  2.87|             333029|        14894|             4.47|            Americas|\n",
            "|             China|    86783|  4656|    78869|  3258|      213|         4|            7|              5.37|                90.88|                   5.9|              85622|         1161|             1.36|     Western Pacific|\n",
            "|          Colombia|   257101|  8777|   131161|117163|    16306|       508|        11494|              3.41|                51.02|                  6.69|             204005|        53096|            26.03|            Americas|\n",
            "|Dominican Republic|    64156|  1083|    30204| 32869|     1248|        20|         1601|              1.69|                47.08|                  3.59|              53956|        10200|             18.9|            Americas|\n",
            "|           Ecuador|    81161|  5532|    34896| 40733|      467|        17|            0|              6.82|                 43.0|                 15.85|              74620|         6541|             8.77|            Americas|\n",
            "|             Egypt|    92482|  4652|    34838| 52992|      420|        46|         1007|              5.03|                37.67|                 13.35|              88402|         4080|             4.62|Eastern Mediterra...|\n",
            "|            France|   220352| 30212|    81212|108928|     2551|        17|          267|             13.71|                36.86|                  37.2|             214023|         6329|             2.96|              Europe|\n",
            "|           Germany|   207112|  9125|   190314|  7673|      445|         1|          259|              4.41|                91.89|                  4.79|             203325|         3787|             1.86|              Europe|\n",
            "|         Guatemala|    45309|  1761|    32455| 11093|      256|        27|          843|              3.89|                71.63|                  5.43|              39039|         6270|            16.06|            Americas|\n",
            "|          Honduras|    39741|  1166|     5039| 33536|      465|        50|          117|              2.93|                12.68|                 23.14|              34611|         5130|            14.82|            Americas|\n",
            "|             India|  1480073| 33408|   951166|495499|    44457|       637|        33598|              2.26|                64.26|                  3.51|            1155338|       324735|            28.11|     South-East Asia|\n",
            "|         Indonesia|   100303|  4838|    58173| 37292|     1525|        57|         1518|              4.82|                 58.0|                  8.32|              88214|        12089|             13.7|     South-East Asia|\n",
            "+------------------+---------+------+---------+------+---------+----------+-------------+------------------+---------------------+----------------------+-------------------+-------------+-----------------+--------------------+\n",
            "only showing top 20 rows\n",
            "\n"
          ]
        }
      ]
    },
    {
      "cell_type": "code",
      "source": [
        "df.filter(df.Deaths>1000).count()"
      ],
      "metadata": {
        "colab": {
          "base_uri": "https://localhost:8080/"
        },
        "id": "uqxqjl0nCpWH",
        "outputId": "2bf4986c-b30a-46d4-ab7f-5df233e7db11"
      },
      "execution_count": null,
      "outputs": [
        {
          "output_type": "execute_result",
          "data": {
            "text/plain": [
              "44"
            ]
          },
          "metadata": {},
          "execution_count": 27
        }
      ]
    },
    {
      "cell_type": "code",
      "source": [
        "df.filter((df.Deaths>1000) & (df.Active>10000)).show()"
      ],
      "metadata": {
        "colab": {
          "base_uri": "https://localhost:8080/"
        },
        "id": "VK4FqZMGC1Pm",
        "outputId": "cb80a57d-bf16-4af0-a0fd-4872e03b0407"
      },
      "execution_count": null,
      "outputs": [
        {
          "output_type": "stream",
          "name": "stdout",
          "text": [
            "+------------------+---------+------+---------+------+---------+----------+-------------+------------------+---------------------+----------------------+-------------------+-------------+-----------------+--------------------+\n",
            "|    Country/Region|Confirmed|Deaths|Recovered|Active|New cases|New deaths|New recovered|Deaths / 100 Cases|Recovered / 100 Cases|Deaths / 100 Recovered|Confirmed last week|1 week change|1 week % increase|          WHO Region|\n",
            "+------------------+---------+------+---------+------+---------+----------+-------------+------------------+---------------------+----------------------+-------------------+-------------+-----------------+--------------------+\n",
            "|         Argentina|   167416|  3059|    72575| 91782|     4890|       120|         2057|              1.83|                43.35|                  4.21|             130774|        36642|            28.02|            Americas|\n",
            "|        Bangladesh|   226225|  2965|   125683| 97577|     2772|        37|         1801|              1.31|                55.56|                  2.36|             207453|        18772|             9.05|     South-East Asia|\n",
            "|           Belgium|    66428|  9822|    17452| 39154|      402|         1|           14|             14.79|                26.27|                 56.28|              64094|         2334|             3.64|              Europe|\n",
            "|           Bolivia|    71181|  2647|    21478| 47056|     1752|        64|          309|              3.72|                30.17|                 12.32|              60991|        10190|            16.71|            Americas|\n",
            "|            Brazil|  2442375| 87618|  1846641|508116|    23284|       614|        33728|              3.59|                75.61|                  4.74|            2118646|       323729|            15.28|            Americas|\n",
            "|            Canada|   116458|  8944|        0|107514|      682|        11|            0|              7.68|                  0.0|                   inf|             112925|         3533|             3.13|            Americas|\n",
            "|             Chile|   347923|  9187|   319954| 18782|     2133|        75|         1859|              2.64|                91.96|                  2.87|             333029|        14894|             4.47|            Americas|\n",
            "|          Colombia|   257101|  8777|   131161|117163|    16306|       508|        11494|              3.41|                51.02|                  6.69|             204005|        53096|            26.03|            Americas|\n",
            "|Dominican Republic|    64156|  1083|    30204| 32869|     1248|        20|         1601|              1.69|                47.08|                  3.59|              53956|        10200|             18.9|            Americas|\n",
            "|           Ecuador|    81161|  5532|    34896| 40733|      467|        17|            0|              6.82|                 43.0|                 15.85|              74620|         6541|             8.77|            Americas|\n",
            "|             Egypt|    92482|  4652|    34838| 52992|      420|        46|         1007|              5.03|                37.67|                 13.35|              88402|         4080|             4.62|Eastern Mediterra...|\n",
            "|            France|   220352| 30212|    81212|108928|     2551|        17|          267|             13.71|                36.86|                  37.2|             214023|         6329|             2.96|              Europe|\n",
            "|         Guatemala|    45309|  1761|    32455| 11093|      256|        27|          843|              3.89|                71.63|                  5.43|              39039|         6270|            16.06|            Americas|\n",
            "|          Honduras|    39741|  1166|     5039| 33536|      465|        50|          117|              2.93|                12.68|                 23.14|              34611|         5130|            14.82|            Americas|\n",
            "|             India|  1480073| 33408|   951166|495499|    44457|       637|        33598|              2.26|                64.26|                  3.51|            1155338|       324735|            28.11|     South-East Asia|\n",
            "|         Indonesia|   100303|  4838|    58173| 37292|     1525|        57|         1518|              4.82|                 58.0|                  8.32|              88214|        12089|             13.7|     South-East Asia|\n",
            "|              Iran|   293606| 15912|   255144| 22550|     2434|       212|         1931|              5.42|                 86.9|                  6.24|             276202|        17404|              6.3|Eastern Mediterra...|\n",
            "|              Iraq|   112585|  4458|    77144| 30983|     2553|        96|         1927|              3.96|                68.52|                  5.78|              94693|        17892|            18.89|Eastern Mediterra...|\n",
            "|             Italy|   246286| 35112|   198593| 12581|      168|         5|          147|             14.26|                80.64|                 17.68|             244624|         1662|             0.68|              Europe|\n",
            "|        Kyrgyzstan|    33296|  1301|    21205| 10790|      483|        24|          817|              3.91|                63.69|                  6.14|              27143|         6153|            22.67|              Europe|\n",
            "+------------------+---------+------+---------+------+---------+----------+-------------+------------------+---------------------+----------------------+-------------------+-------------+-----------------+--------------------+\n",
            "only showing top 20 rows\n",
            "\n"
          ]
        }
      ]
    },
    {
      "cell_type": "code",
      "source": [
        "df.orderBy('Active').show()"
      ],
      "metadata": {
        "colab": {
          "base_uri": "https://localhost:8080/"
        },
        "id": "gR1xT0LMDYuC",
        "outputId": "5059c8ba-648c-4246-d547-d53e2ba027f5"
      },
      "execution_count": null,
      "outputs": [
        {
          "output_type": "stream",
          "name": "stdout",
          "text": [
            "+--------------------+---------+------+---------+------+---------+----------+-------------+------------------+---------------------+----------------------+-------------------+-------------+-----------------+---------------+\n",
            "|      Country/Region|Confirmed|Deaths|Recovered|Active|New cases|New deaths|New recovered|Deaths / 100 Cases|Recovered / 100 Cases|Deaths / 100 Recovered|Confirmed last week|1 week change|1 week % increase|     WHO Region|\n",
            "+--------------------+---------+------+---------+------+---------+----------+-------------+------------------+---------------------+----------------------+-------------------+-------------+-----------------+---------------+\n",
            "|              Brunei|      141|     3|      138|     0|        0|         0|            0|              2.13|                97.87|                  2.17|                141|            0|              0.0|Western Pacific|\n",
            "|            Dominica|       18|     0|       18|     0|        0|         0|            0|               0.0|                100.0|                   0.0|                 18|            0|              0.0|       Americas|\n",
            "|             Grenada|       23|     0|       23|     0|        0|         0|            0|               0.0|                100.0|                   0.0|                 23|            0|              0.0|       Americas|\n",
            "|            Holy See|       12|     0|       12|     0|        0|         0|            0|               0.0|                100.0|                   0.0|                 12|            0|              0.0|         Europe|\n",
            "|          San Marino|      699|    42|      657|     0|        0|         0|            0|              6.01|                93.99|                  6.39|                699|            0|              0.0|         Europe|\n",
            "|           Greenland|       14|     0|       13|     1|        1|         0|            0|               0.0|                92.86|                   0.0|                 13|            1|             7.69|         Europe|\n",
            "|                Laos|       20|     0|       19|     1|        0|         0|            0|               0.0|                 95.0|                   0.0|                 19|            1|             5.26|Western Pacific|\n",
            "|      Western Sahara|       10|     1|        8|     1|        0|         0|            0|              10.0|                 80.0|                  12.5|                 10|            0|              0.0|         Africa|\n",
            "|             Armenia|    37390|   711|    26665| 10014|       73|         6|          187|               1.9|                71.32|                  2.67|              34981|         2409|             6.89|         Europe|\n",
            "|              Canada|   116458|  8944|        0|107514|      682|        11|            0|              7.68|                  0.0|                   inf|             112925|         3533|             3.13|       Americas|\n",
            "|          Kyrgyzstan|    33296|  1301|    21205| 10790|      483|        24|          817|              3.91|                63.69|                  6.14|              27143|         6153|            22.67|         Europe|\n",
            "|         South Sudan|     2305|    46|     1175|  1084|       43|         1|            0|               2.0|                50.98|                  3.91|               2211|           94|             4.25|         Africa|\n",
            "|              France|   220352| 30212|    81212|108928|     2551|        17|          267|             13.71|                36.86|                  37.2|             214023|         6329|             2.96|         Europe|\n",
            "|              Turkey|   227019|  5630|   210469| 10920|      919|        17|          982|              2.48|                92.71|                  2.67|             220572|         6447|             2.92|         Europe|\n",
            "|           Guatemala|    45309|  1761|    32455| 11093|      256|        27|          843|              3.89|                71.63|                  5.43|              39039|         6270|            16.06|       Americas|\n",
            "|       Guinea-Bissau|     1954|    26|      803|  1125|        0|         0|            0|              1.33|                 41.1|                  3.24|               1949|            5|             0.26|         Africa|\n",
            "|          Tajikistan|     7235|    60|     6028|  1147|       43|         1|           58|              0.83|                83.32|                   1.0|               6921|          314|             4.54|         Europe|\n",
            "|Sao Tome and Prin...|      865|    14|      734|   117|        2|         0|           38|              1.62|                84.86|                  1.91|                746|          119|            15.95|         Africa|\n",
            "|            Colombia|   257101|  8777|   131161|117163|    16306|       508|        11494|              3.41|                51.02|                  6.69|             204005|        53096|            26.03|       Americas|\n",
            "|          Costa Rica|    15841|   115|     3824| 11902|      612|        11|           88|              0.73|                24.14|                  3.01|              11534|         4307|            37.34|       Americas|\n",
            "+--------------------+---------+------+---------+------+---------+----------+-------------+------------------+---------------------+----------------------+-------------------+-------------+-----------------+---------------+\n",
            "only showing top 20 rows\n",
            "\n"
          ]
        }
      ]
    },
    {
      "cell_type": "code",
      "source": [
        "df.registerTempTable('Covid_Table')\n",
        "\n",
        "spark.sql('select * from Covid_Table').show()"
      ],
      "metadata": {
        "colab": {
          "base_uri": "https://localhost:8080/"
        },
        "id": "-0rqaixZDqzZ",
        "outputId": "3ccd8cb7-a5fd-41e7-ce94-f801cd4c60d6"
      },
      "execution_count": null,
      "outputs": [
        {
          "output_type": "stream",
          "name": "stderr",
          "text": [
            "/usr/local/lib/python3.10/dist-packages/pyspark/sql/dataframe.py:330: FutureWarning: Deprecated in 2.0, use createOrReplaceTempView instead.\n",
            "  warnings.warn(\"Deprecated in 2.0, use createOrReplaceTempView instead.\", FutureWarning)\n"
          ]
        },
        {
          "output_type": "stream",
          "name": "stdout",
          "text": [
            "+-------------------+---------+------+---------+------+---------+----------+-------------+------------------+---------------------+----------------------+-------------------+-------------+-----------------+--------------------+\n",
            "|     Country/Region|Confirmed|Deaths|Recovered|Active|New cases|New deaths|New recovered|Deaths / 100 Cases|Recovered / 100 Cases|Deaths / 100 Recovered|Confirmed last week|1 week change|1 week % increase|          WHO Region|\n",
            "+-------------------+---------+------+---------+------+---------+----------+-------------+------------------+---------------------+----------------------+-------------------+-------------+-----------------+--------------------+\n",
            "|        Afghanistan|    36263|  1269|    25198|  9796|      106|        10|           18|               3.5|                69.49|                  5.04|              35526|          737|             2.07|Eastern Mediterra...|\n",
            "|            Albania|     4880|   144|     2745|  1991|      117|         6|           63|              2.95|                56.25|                  5.25|               4171|          709|             17.0|              Europe|\n",
            "|            Algeria|    27973|  1163|    18837|  7973|      616|         8|          749|              4.16|                67.34|                  6.17|              23691|         4282|            18.07|              Africa|\n",
            "|            Andorra|      907|    52|      803|    52|       10|         0|            0|              5.73|                88.53|                  6.48|                884|           23|              2.6|              Europe|\n",
            "|             Angola|      950|    41|      242|   667|       18|         1|            0|              4.32|                25.47|                 16.94|                749|          201|            26.84|              Africa|\n",
            "|Antigua and Barbuda|       86|     3|       65|    18|        4|         0|            5|              3.49|                75.58|                  4.62|                 76|           10|            13.16|            Americas|\n",
            "|          Argentina|   167416|  3059|    72575| 91782|     4890|       120|         2057|              1.83|                43.35|                  4.21|             130774|        36642|            28.02|            Americas|\n",
            "|            Armenia|    37390|   711|    26665| 10014|       73|         6|          187|               1.9|                71.32|                  2.67|              34981|         2409|             6.89|              Europe|\n",
            "|          Australia|    15303|   167|     9311|  5825|      368|         6|          137|              1.09|                60.84|                  1.79|              12428|         2875|            23.13|     Western Pacific|\n",
            "|            Austria|    20558|   713|    18246|  1599|       86|         1|           37|              3.47|                88.75|                  3.91|              19743|          815|             4.13|              Europe|\n",
            "|         Azerbaijan|    30446|   423|    23242|  6781|      396|         6|          558|              1.39|                76.34|                  1.82|              27890|         2556|             9.16|              Europe|\n",
            "|            Bahamas|      382|    11|       91|   280|       40|         0|            0|              2.88|                23.82|                 12.09|                174|          208|           119.54|            Americas|\n",
            "|            Bahrain|    39482|   141|    36110|  3231|      351|         1|          421|              0.36|                91.46|                  0.39|              36936|         2546|             6.89|Eastern Mediterra...|\n",
            "|         Bangladesh|   226225|  2965|   125683| 97577|     2772|        37|         1801|              1.31|                55.56|                  2.36|             207453|        18772|             9.05|     South-East Asia|\n",
            "|           Barbados|      110|     7|       94|     9|        0|         0|            0|              6.36|                85.45|                  7.45|                106|            4|             3.77|            Americas|\n",
            "|            Belarus|    67251|   538|    60492|  6221|      119|         4|           67|               0.8|                89.95|                  0.89|              66213|         1038|             1.57|              Europe|\n",
            "|            Belgium|    66428|  9822|    17452| 39154|      402|         1|           14|             14.79|                26.27|                 56.28|              64094|         2334|             3.64|              Europe|\n",
            "|             Belize|       48|     2|       26|    20|        0|         0|            0|              4.17|                54.17|                  7.69|                 40|            8|             20.0|            Americas|\n",
            "|              Benin|     1770|    35|     1036|   699|        0|         0|            0|              1.98|                58.53|                  3.38|               1602|          168|            10.49|              Africa|\n",
            "|             Bhutan|       99|     0|       86|    13|        4|         0|            1|               0.0|                86.87|                   0.0|                 90|            9|             10.0|     South-East Asia|\n",
            "+-------------------+---------+------+---------+------+---------+----------+-------------+------------------+---------------------+----------------------+-------------------+-------------+-----------------+--------------------+\n",
            "only showing top 20 rows\n",
            "\n"
          ]
        }
      ]
    },
    {
      "cell_type": "code",
      "source": [
        "spark.sql('Select Recovered from Covid_Table').show()"
      ],
      "metadata": {
        "colab": {
          "base_uri": "https://localhost:8080/"
        },
        "id": "gFUlmJ16ESdv",
        "outputId": "5789648f-819d-4852-a3a7-f2a7ccf91244"
      },
      "execution_count": null,
      "outputs": [
        {
          "output_type": "stream",
          "name": "stdout",
          "text": [
            "+---------+\n",
            "|Recovered|\n",
            "+---------+\n",
            "|    25198|\n",
            "|     2745|\n",
            "|    18837|\n",
            "|      803|\n",
            "|      242|\n",
            "|       65|\n",
            "|    72575|\n",
            "|    26665|\n",
            "|     9311|\n",
            "|    18246|\n",
            "|    23242|\n",
            "|       91|\n",
            "|    36110|\n",
            "|   125683|\n",
            "|       94|\n",
            "|    60492|\n",
            "|    17452|\n",
            "|       26|\n",
            "|     1036|\n",
            "|       86|\n",
            "+---------+\n",
            "only showing top 20 rows\n",
            "\n"
          ]
        }
      ]
    },
    {
      "cell_type": "code",
      "source": [
        "spark = SparkSession.builder.appName('Titanic Csv').getOrCreate()\n",
        "tit_df = spark.read.csv('/content/titanic.csv', sep=',', header=True)\n",
        "tit_df.show()"
      ],
      "metadata": {
        "colab": {
          "base_uri": "https://localhost:8080/"
        },
        "id": "0eJOidr8Emyl",
        "outputId": "ffdf0da1-2d88-4748-bca8-8e385d374c1a"
      },
      "execution_count": null,
      "outputs": [
        {
          "output_type": "stream",
          "name": "stdout",
          "text": [
            "+-----------+--------+------+--------------------+------+----+-----+-----+----------------+-------+-----+--------+\n",
            "|PassengerId|Survived|Pclass|                Name|   Sex| Age|SibSp|Parch|          Ticket|   Fare|Cabin|Embarked|\n",
            "+-----------+--------+------+--------------------+------+----+-----+-----+----------------+-------+-----+--------+\n",
            "|          1|       0|     3|Braund, Mr. Owen ...|  male|  22|    1|    0|       A/5 21171|   7.25| null|       S|\n",
            "|          2|       1|     1|Cumings, Mrs. Joh...|female|  38|    1|    0|        PC 17599|71.2833|  C85|       C|\n",
            "|          3|       1|     3|Heikkinen, Miss. ...|female|  26|    0|    0|STON/O2. 3101282|  7.925| null|       S|\n",
            "|          4|       1|     1|Futrelle, Mrs. Ja...|female|  35|    1|    0|          113803|   53.1| C123|       S|\n",
            "|          5|       0|     3|Allen, Mr. Willia...|  male|  35|    0|    0|          373450|   8.05| null|       S|\n",
            "|          6|       0|     3|    Moran, Mr. James|  male|null|    0|    0|          330877| 8.4583| null|       Q|\n",
            "|          7|       0|     1|McCarthy, Mr. Tim...|  male|  54|    0|    0|           17463|51.8625|  E46|       S|\n",
            "|          8|       0|     3|Palsson, Master. ...|  male|   2|    3|    1|          349909| 21.075| null|       S|\n",
            "|          9|       1|     3|Johnson, Mrs. Osc...|female|  27|    0|    2|          347742|11.1333| null|       S|\n",
            "|         10|       1|     2|Nasser, Mrs. Nich...|female|  14|    1|    0|          237736|30.0708| null|       C|\n",
            "|         11|       1|     3|Sandstrom, Miss. ...|female|   4|    1|    1|         PP 9549|   16.7|   G6|       S|\n",
            "|         12|       1|     1|Bonnell, Miss. El...|female|  58|    0|    0|          113783|  26.55| C103|       S|\n",
            "|         13|       0|     3|Saundercock, Mr. ...|  male|  20|    0|    0|       A/5. 2151|   8.05| null|       S|\n",
            "|         14|       0|     3|Andersson, Mr. An...|  male|  39|    1|    5|          347082| 31.275| null|       S|\n",
            "|         15|       0|     3|Vestrom, Miss. Hu...|female|  14|    0|    0|          350406| 7.8542| null|       S|\n",
            "|         16|       1|     2|Hewlett, Mrs. (Ma...|female|  55|    0|    0|          248706|     16| null|       S|\n",
            "|         17|       0|     3|Rice, Master. Eugene|  male|   2|    4|    1|          382652| 29.125| null|       Q|\n",
            "|         18|       1|     2|Williams, Mr. Cha...|  male|null|    0|    0|          244373|     13| null|       S|\n",
            "|         19|       0|     3|Vander Planke, Mr...|female|  31|    1|    0|          345763|     18| null|       S|\n",
            "|         20|       1|     3|Masselmani, Mrs. ...|female|null|    0|    0|            2649|  7.225| null|       C|\n",
            "+-----------+--------+------+--------------------+------+----+-----+-----+----------------+-------+-----+--------+\n",
            "only showing top 20 rows\n",
            "\n"
          ]
        }
      ]
    },
    {
      "cell_type": "code",
      "source": [
        "tit_df.describe('Survived').show()"
      ],
      "metadata": {
        "colab": {
          "base_uri": "https://localhost:8080/"
        },
        "id": "gwvYtt7zF-SE",
        "outputId": "fcda4ccc-bdd4-4249-fa29-086143dbd79e"
      },
      "execution_count": null,
      "outputs": [
        {
          "output_type": "stream",
          "name": "stdout",
          "text": [
            "+-------+-------------------+\n",
            "|summary|           Survived|\n",
            "+-------+-------------------+\n",
            "|  count|                891|\n",
            "|   mean| 0.3838383838383838|\n",
            "| stddev|0.48659245426485753|\n",
            "|    min|                  0|\n",
            "|    max|                  1|\n",
            "+-------+-------------------+\n",
            "\n"
          ]
        }
      ]
    },
    {
      "cell_type": "code",
      "source": [
        "len(tit_df.columns)"
      ],
      "metadata": {
        "colab": {
          "base_uri": "https://localhost:8080/"
        },
        "id": "GE88nhCrGFtx",
        "outputId": "260c7f5e-9ba1-4465-f42b-c714b3a29228"
      },
      "execution_count": null,
      "outputs": [
        {
          "output_type": "execute_result",
          "data": {
            "text/plain": [
              "12"
            ]
          },
          "metadata": {},
          "execution_count": 42
        }
      ]
    },
    {
      "cell_type": "code",
      "source": [
        "tit_df.count()"
      ],
      "metadata": {
        "colab": {
          "base_uri": "https://localhost:8080/"
        },
        "id": "pKlJgr6jGO5Q",
        "outputId": "48158e90-e327-4df5-8123-d677d07a06ef"
      },
      "execution_count": null,
      "outputs": [
        {
          "output_type": "execute_result",
          "data": {
            "text/plain": [
              "891"
            ]
          },
          "metadata": {},
          "execution_count": 43
        }
      ]
    },
    {
      "cell_type": "code",
      "source": [
        "tit_df.filter(tit_df.Sex=='male').show()"
      ],
      "metadata": {
        "colab": {
          "base_uri": "https://localhost:8080/"
        },
        "id": "4qrZLb7sGk-5",
        "outputId": "c0d31c1d-e7db-40b4-c97b-2f2f7152981f"
      },
      "execution_count": null,
      "outputs": [
        {
          "output_type": "stream",
          "name": "stdout",
          "text": [
            "+-----------+--------+------+--------------------+----+----+-----+-----+----------+-------+-----------+--------+\n",
            "|PassengerId|Survived|Pclass|                Name| Sex| Age|SibSp|Parch|    Ticket|   Fare|      Cabin|Embarked|\n",
            "+-----------+--------+------+--------------------+----+----+-----+-----+----------+-------+-----------+--------+\n",
            "|          1|       0|     3|Braund, Mr. Owen ...|male|  22|    1|    0| A/5 21171|   7.25|       null|       S|\n",
            "|          5|       0|     3|Allen, Mr. Willia...|male|  35|    0|    0|    373450|   8.05|       null|       S|\n",
            "|          6|       0|     3|    Moran, Mr. James|male|null|    0|    0|    330877| 8.4583|       null|       Q|\n",
            "|          7|       0|     1|McCarthy, Mr. Tim...|male|  54|    0|    0|     17463|51.8625|        E46|       S|\n",
            "|          8|       0|     3|Palsson, Master. ...|male|   2|    3|    1|    349909| 21.075|       null|       S|\n",
            "|         13|       0|     3|Saundercock, Mr. ...|male|  20|    0|    0| A/5. 2151|   8.05|       null|       S|\n",
            "|         14|       0|     3|Andersson, Mr. An...|male|  39|    1|    5|    347082| 31.275|       null|       S|\n",
            "|         17|       0|     3|Rice, Master. Eugene|male|   2|    4|    1|    382652| 29.125|       null|       Q|\n",
            "|         18|       1|     2|Williams, Mr. Cha...|male|null|    0|    0|    244373|     13|       null|       S|\n",
            "|         21|       0|     2|Fynney, Mr. Joseph J|male|  35|    0|    0|    239865|     26|       null|       S|\n",
            "|         22|       1|     2|Beesley, Mr. Lawr...|male|  34|    0|    0|    248698|     13|        D56|       S|\n",
            "|         24|       1|     1|Sloper, Mr. Willi...|male|  28|    0|    0|    113788|   35.5|         A6|       S|\n",
            "|         27|       0|     3|Emir, Mr. Farred ...|male|null|    0|    0|      2631|  7.225|       null|       C|\n",
            "|         28|       0|     1|Fortune, Mr. Char...|male|  19|    3|    2|     19950|    263|C23 C25 C27|       S|\n",
            "|         30|       0|     3| Todoroff, Mr. Lalio|male|null|    0|    0|    349216| 7.8958|       null|       S|\n",
            "|         31|       0|     1|Uruchurtu, Don. M...|male|  40|    0|    0|  PC 17601|27.7208|       null|       C|\n",
            "|         34|       0|     2|Wheadon, Mr. Edwa...|male|  66|    0|    0|C.A. 24579|   10.5|       null|       S|\n",
            "|         35|       0|     1|Meyer, Mr. Edgar ...|male|  28|    1|    0|  PC 17604|82.1708|       null|       C|\n",
            "|         36|       0|     1|Holverson, Mr. Al...|male|  42|    1|    0|    113789|     52|       null|       S|\n",
            "|         37|       1|     3|    Mamee, Mr. Hanna|male|null|    0|    0|      2677| 7.2292|       null|       C|\n",
            "+-----------+--------+------+--------------------+----+----+-----+-----+----------+-------+-----------+--------+\n",
            "only showing top 20 rows\n",
            "\n"
          ]
        }
      ]
    },
    {
      "cell_type": "code",
      "source": [
        "tit_df.registerTempTable('Titanic_Table')\n",
        "\n",
        "spark.sql('Select * from Titanic_Table').show()"
      ],
      "metadata": {
        "colab": {
          "base_uri": "https://localhost:8080/"
        },
        "id": "LnEUT_TYGwqs",
        "outputId": "4e4a19cd-be17-4373-e587-462c0baccc54"
      },
      "execution_count": null,
      "outputs": [
        {
          "output_type": "stream",
          "name": "stderr",
          "text": [
            "/usr/local/lib/python3.10/dist-packages/pyspark/sql/dataframe.py:330: FutureWarning: Deprecated in 2.0, use createOrReplaceTempView instead.\n",
            "  warnings.warn(\"Deprecated in 2.0, use createOrReplaceTempView instead.\", FutureWarning)\n"
          ]
        },
        {
          "output_type": "stream",
          "name": "stdout",
          "text": [
            "+-----------+--------+------+--------------------+------+----+-----+-----+----------------+-------+-----+--------+\n",
            "|PassengerId|Survived|Pclass|                Name|   Sex| Age|SibSp|Parch|          Ticket|   Fare|Cabin|Embarked|\n",
            "+-----------+--------+------+--------------------+------+----+-----+-----+----------------+-------+-----+--------+\n",
            "|          1|       0|     3|Braund, Mr. Owen ...|  male|  22|    1|    0|       A/5 21171|   7.25| null|       S|\n",
            "|          2|       1|     1|Cumings, Mrs. Joh...|female|  38|    1|    0|        PC 17599|71.2833|  C85|       C|\n",
            "|          3|       1|     3|Heikkinen, Miss. ...|female|  26|    0|    0|STON/O2. 3101282|  7.925| null|       S|\n",
            "|          4|       1|     1|Futrelle, Mrs. Ja...|female|  35|    1|    0|          113803|   53.1| C123|       S|\n",
            "|          5|       0|     3|Allen, Mr. Willia...|  male|  35|    0|    0|          373450|   8.05| null|       S|\n",
            "|          6|       0|     3|    Moran, Mr. James|  male|null|    0|    0|          330877| 8.4583| null|       Q|\n",
            "|          7|       0|     1|McCarthy, Mr. Tim...|  male|  54|    0|    0|           17463|51.8625|  E46|       S|\n",
            "|          8|       0|     3|Palsson, Master. ...|  male|   2|    3|    1|          349909| 21.075| null|       S|\n",
            "|          9|       1|     3|Johnson, Mrs. Osc...|female|  27|    0|    2|          347742|11.1333| null|       S|\n",
            "|         10|       1|     2|Nasser, Mrs. Nich...|female|  14|    1|    0|          237736|30.0708| null|       C|\n",
            "|         11|       1|     3|Sandstrom, Miss. ...|female|   4|    1|    1|         PP 9549|   16.7|   G6|       S|\n",
            "|         12|       1|     1|Bonnell, Miss. El...|female|  58|    0|    0|          113783|  26.55| C103|       S|\n",
            "|         13|       0|     3|Saundercock, Mr. ...|  male|  20|    0|    0|       A/5. 2151|   8.05| null|       S|\n",
            "|         14|       0|     3|Andersson, Mr. An...|  male|  39|    1|    5|          347082| 31.275| null|       S|\n",
            "|         15|       0|     3|Vestrom, Miss. Hu...|female|  14|    0|    0|          350406| 7.8542| null|       S|\n",
            "|         16|       1|     2|Hewlett, Mrs. (Ma...|female|  55|    0|    0|          248706|     16| null|       S|\n",
            "|         17|       0|     3|Rice, Master. Eugene|  male|   2|    4|    1|          382652| 29.125| null|       Q|\n",
            "|         18|       1|     2|Williams, Mr. Cha...|  male|null|    0|    0|          244373|     13| null|       S|\n",
            "|         19|       0|     3|Vander Planke, Mr...|female|  31|    1|    0|          345763|     18| null|       S|\n",
            "|         20|       1|     3|Masselmani, Mrs. ...|female|null|    0|    0|            2649|  7.225| null|       C|\n",
            "+-----------+--------+------+--------------------+------+----+-----+-----+----------------+-------+-----+--------+\n",
            "only showing top 20 rows\n",
            "\n"
          ]
        }
      ]
    },
    {
      "cell_type": "code",
      "source": [
        "spark.sql(\"Select * from Titanic_Table where Sex='male'\").show()"
      ],
      "metadata": {
        "colab": {
          "base_uri": "https://localhost:8080/"
        },
        "id": "YF42fp1BHIoj",
        "outputId": "b05f9a0b-bff1-46bf-b2d6-b662aa0077ed"
      },
      "execution_count": null,
      "outputs": [
        {
          "output_type": "stream",
          "name": "stdout",
          "text": [
            "+-----------+--------+------+--------------------+----+----+-----+-----+----------+-------+-----------+--------+\n",
            "|PassengerId|Survived|Pclass|                Name| Sex| Age|SibSp|Parch|    Ticket|   Fare|      Cabin|Embarked|\n",
            "+-----------+--------+------+--------------------+----+----+-----+-----+----------+-------+-----------+--------+\n",
            "|          1|       0|     3|Braund, Mr. Owen ...|male|  22|    1|    0| A/5 21171|   7.25|       null|       S|\n",
            "|          5|       0|     3|Allen, Mr. Willia...|male|  35|    0|    0|    373450|   8.05|       null|       S|\n",
            "|          6|       0|     3|    Moran, Mr. James|male|null|    0|    0|    330877| 8.4583|       null|       Q|\n",
            "|          7|       0|     1|McCarthy, Mr. Tim...|male|  54|    0|    0|     17463|51.8625|        E46|       S|\n",
            "|          8|       0|     3|Palsson, Master. ...|male|   2|    3|    1|    349909| 21.075|       null|       S|\n",
            "|         13|       0|     3|Saundercock, Mr. ...|male|  20|    0|    0| A/5. 2151|   8.05|       null|       S|\n",
            "|         14|       0|     3|Andersson, Mr. An...|male|  39|    1|    5|    347082| 31.275|       null|       S|\n",
            "|         17|       0|     3|Rice, Master. Eugene|male|   2|    4|    1|    382652| 29.125|       null|       Q|\n",
            "|         18|       1|     2|Williams, Mr. Cha...|male|null|    0|    0|    244373|     13|       null|       S|\n",
            "|         21|       0|     2|Fynney, Mr. Joseph J|male|  35|    0|    0|    239865|     26|       null|       S|\n",
            "|         22|       1|     2|Beesley, Mr. Lawr...|male|  34|    0|    0|    248698|     13|        D56|       S|\n",
            "|         24|       1|     1|Sloper, Mr. Willi...|male|  28|    0|    0|    113788|   35.5|         A6|       S|\n",
            "|         27|       0|     3|Emir, Mr. Farred ...|male|null|    0|    0|      2631|  7.225|       null|       C|\n",
            "|         28|       0|     1|Fortune, Mr. Char...|male|  19|    3|    2|     19950|    263|C23 C25 C27|       S|\n",
            "|         30|       0|     3| Todoroff, Mr. Lalio|male|null|    0|    0|    349216| 7.8958|       null|       S|\n",
            "|         31|       0|     1|Uruchurtu, Don. M...|male|  40|    0|    0|  PC 17601|27.7208|       null|       C|\n",
            "|         34|       0|     2|Wheadon, Mr. Edwa...|male|  66|    0|    0|C.A. 24579|   10.5|       null|       S|\n",
            "|         35|       0|     1|Meyer, Mr. Edgar ...|male|  28|    1|    0|  PC 17604|82.1708|       null|       C|\n",
            "|         36|       0|     1|Holverson, Mr. Al...|male|  42|    1|    0|    113789|     52|       null|       S|\n",
            "|         37|       1|     3|    Mamee, Mr. Hanna|male|null|    0|    0|      2677| 7.2292|       null|       C|\n",
            "+-----------+--------+------+--------------------+----+----+-----+-----+----------+-------+-----------+--------+\n",
            "only showing top 20 rows\n",
            "\n"
          ]
        }
      ]
    },
    {
      "cell_type": "code",
      "source": [
        "!pip install pyspark"
      ],
      "metadata": {
        "colab": {
          "base_uri": "https://localhost:8080/"
        },
        "id": "MeZZF7AYHah-",
        "outputId": "f9fc7606-c324-4df6-8e50-215c2a4c587b"
      },
      "execution_count": null,
      "outputs": [
        {
          "output_type": "stream",
          "name": "stdout",
          "text": [
            "Collecting pyspark\n",
            "  Downloading pyspark-3.4.1.tar.gz (310.8 MB)\n",
            "\u001b[2K     \u001b[90m━━━━━━━━━━━━━━━━━━━━━━━━━━━━━━━━━━━━━━━\u001b[0m \u001b[32m310.8/310.8 MB\u001b[0m \u001b[31m4.0 MB/s\u001b[0m eta \u001b[36m0:00:00\u001b[0m\n",
            "\u001b[?25h  Preparing metadata (setup.py) ... \u001b[?25l\u001b[?25hdone\n",
            "Requirement already satisfied: py4j==0.10.9.7 in /usr/local/lib/python3.10/dist-packages (from pyspark) (0.10.9.7)\n",
            "Building wheels for collected packages: pyspark\n",
            "  Building wheel for pyspark (setup.py) ... \u001b[?25l\u001b[?25hdone\n",
            "  Created wheel for pyspark: filename=pyspark-3.4.1-py2.py3-none-any.whl size=311285398 sha256=9983edb273e4922c75dd5285013863962acff70bf6095bcabd5e522a15bbb485\n",
            "  Stored in directory: /root/.cache/pip/wheels/0d/77/a3/ff2f74cc9ab41f8f594dabf0579c2a7c6de920d584206e0834\n",
            "Successfully built pyspark\n",
            "Installing collected packages: pyspark\n",
            "Successfully installed pyspark-3.4.1\n"
          ]
        }
      ]
    },
    {
      "cell_type": "code",
      "source": [
        "!unzip archive.zip"
      ],
      "metadata": {
        "colab": {
          "base_uri": "https://localhost:8080/"
        },
        "id": "LzC8lgdwjoC3",
        "outputId": "b3c56da5-4a5b-4dc2-d41d-1082f967068d"
      },
      "execution_count": null,
      "outputs": [
        {
          "output_type": "stream",
          "name": "stdout",
          "text": [
            "Archive:  archive.zip\n",
            "  inflating: heart.csv               \n"
          ]
        }
      ]
    },
    {
      "cell_type": "code",
      "source": [
        "# creating the session\n",
        "from pyspark.sql import SparkSession\n",
        "spark_session = SparkSession.builder.appName('test').getOrCreate()"
      ],
      "metadata": {
        "id": "F0a5WTKilY0u"
      },
      "execution_count": null,
      "outputs": []
    },
    {
      "cell_type": "code",
      "source": [
        "spark_session"
      ],
      "metadata": {
        "colab": {
          "base_uri": "https://localhost:8080/",
          "height": 220
        },
        "id": "mETFDo2Clpnw",
        "outputId": "09e0b0c7-d79c-437c-89b2-5ceb4c34c472"
      },
      "execution_count": null,
      "outputs": [
        {
          "output_type": "execute_result",
          "data": {
            "text/plain": [
              "<pyspark.sql.session.SparkSession at 0x7f6fcd569a80>"
            ],
            "text/html": [
              "\n",
              "            <div>\n",
              "                <p><b>SparkSession - in-memory</b></p>\n",
              "                \n",
              "        <div>\n",
              "            <p><b>SparkContext</b></p>\n",
              "\n",
              "            <p><a href=\"http://a112798310bd:4040\">Spark UI</a></p>\n",
              "\n",
              "            <dl>\n",
              "              <dt>Version</dt>\n",
              "                <dd><code>v3.4.1</code></dd>\n",
              "              <dt>Master</dt>\n",
              "                <dd><code>local[*]</code></dd>\n",
              "              <dt>AppName</dt>\n",
              "                <dd><code>test</code></dd>\n",
              "            </dl>\n",
              "        </div>\n",
              "        \n",
              "            </div>\n",
              "        "
            ]
          },
          "metadata": {},
          "execution_count": 6
        }
      ]
    },
    {
      "cell_type": "code",
      "source": [
        "df = spark_session.read.csv('heart.csv')\n",
        "df.show()"
      ],
      "metadata": {
        "colab": {
          "base_uri": "https://localhost:8080/"
        },
        "id": "bRo66bevl20r",
        "outputId": "8655c63d-0026-4f48-ccf8-59602e0d9ea9"
      },
      "execution_count": null,
      "outputs": [
        {
          "output_type": "stream",
          "name": "stdout",
          "text": [
            "+---+---+-------------+---------+-----------+---------+----------+-----+--------------+-------+--------+------------+\n",
            "|_c0|_c1|          _c2|      _c3|        _c4|      _c5|       _c6|  _c7|           _c8|    _c9|    _c10|        _c11|\n",
            "+---+---+-------------+---------+-----------+---------+----------+-----+--------------+-------+--------+------------+\n",
            "|Age|Sex|ChestPainType|RestingBP|Cholesterol|FastingBS|RestingECG|MaxHR|ExerciseAngina|Oldpeak|ST_Slope|HeartDisease|\n",
            "| 40|  M|          ATA|      140|        289|        0|    Normal|  172|             N|      0|      Up|           0|\n",
            "| 49|  F|          NAP|      160|        180|        0|    Normal|  156|             N|      1|    Flat|           1|\n",
            "| 37|  M|          ATA|      130|        283|        0|        ST|   98|             N|      0|      Up|           0|\n",
            "| 48|  F|          ASY|      138|        214|        0|    Normal|  108|             Y|    1.5|    Flat|           1|\n",
            "| 54|  M|          NAP|      150|        195|        0|    Normal|  122|             N|      0|      Up|           0|\n",
            "| 39|  M|          NAP|      120|        339|        0|    Normal|  170|             N|      0|      Up|           0|\n",
            "| 45|  F|          ATA|      130|        237|        0|    Normal|  170|             N|      0|      Up|           0|\n",
            "| 54|  M|          ATA|      110|        208|        0|    Normal|  142|             N|      0|      Up|           0|\n",
            "| 37|  M|          ASY|      140|        207|        0|    Normal|  130|             Y|    1.5|    Flat|           1|\n",
            "| 48|  F|          ATA|      120|        284|        0|    Normal|  120|             N|      0|      Up|           0|\n",
            "| 37|  F|          NAP|      130|        211|        0|    Normal|  142|             N|      0|      Up|           0|\n",
            "| 58|  M|          ATA|      136|        164|        0|        ST|   99|             Y|      2|    Flat|           1|\n",
            "| 39|  M|          ATA|      120|        204|        0|    Normal|  145|             N|      0|      Up|           0|\n",
            "| 49|  M|          ASY|      140|        234|        0|    Normal|  140|             Y|      1|    Flat|           1|\n",
            "| 42|  F|          NAP|      115|        211|        0|        ST|  137|             N|      0|      Up|           0|\n",
            "| 54|  F|          ATA|      120|        273|        0|    Normal|  150|             N|    1.5|    Flat|           0|\n",
            "| 38|  M|          ASY|      110|        196|        0|    Normal|  166|             N|      0|    Flat|           1|\n",
            "| 43|  F|          ATA|      120|        201|        0|    Normal|  165|             N|      0|      Up|           0|\n",
            "| 60|  M|          ASY|      100|        248|        0|    Normal|  125|             N|      1|    Flat|           1|\n",
            "+---+---+-------------+---------+-----------+---------+----------+-----+--------------+-------+--------+------------+\n",
            "only showing top 20 rows\n",
            "\n"
          ]
        }
      ]
    },
    {
      "cell_type": "code",
      "source": [
        "df.count()"
      ],
      "metadata": {
        "colab": {
          "base_uri": "https://localhost:8080/"
        },
        "id": "e4J1ANVKmb6O",
        "outputId": "4d01a68f-6848-4c23-c6ef-a37a802fed46"
      },
      "execution_count": null,
      "outputs": [
        {
          "output_type": "execute_result",
          "data": {
            "text/plain": [
              "919"
            ]
          },
          "metadata": {},
          "execution_count": 9
        }
      ]
    },
    {
      "cell_type": "code",
      "source": [
        "df = spark_session.read.csv('heart.csv', inferSchema=True, header=True)\n",
        "df.show(3)"
      ],
      "metadata": {
        "colab": {
          "base_uri": "https://localhost:8080/"
        },
        "id": "yr3lSRnMmh27",
        "outputId": "4d65c170-a3ed-4c9d-c593-34f8d66f95cc"
      },
      "execution_count": null,
      "outputs": [
        {
          "output_type": "stream",
          "name": "stdout",
          "text": [
            "+---+---+-------------+---------+-----------+---------+----------+-----+--------------+-------+--------+------------+\n",
            "|Age|Sex|ChestPainType|RestingBP|Cholesterol|FastingBS|RestingECG|MaxHR|ExerciseAngina|Oldpeak|ST_Slope|HeartDisease|\n",
            "+---+---+-------------+---------+-----------+---------+----------+-----+--------------+-------+--------+------------+\n",
            "| 40|  M|          ATA|      140|        289|        0|    Normal|  172|             N|    0.0|      Up|           0|\n",
            "| 49|  F|          NAP|      160|        180|        0|    Normal|  156|             N|    1.0|    Flat|           1|\n",
            "| 37|  M|          ATA|      130|        283|        0|        ST|   98|             N|    0.0|      Up|           0|\n",
            "+---+---+-------------+---------+-----------+---------+----------+-----+--------------+-------+--------+------------+\n",
            "only showing top 3 rows\n",
            "\n"
          ]
        }
      ]
    },
    {
      "cell_type": "code",
      "source": [
        "df = spark_session.read.csv('heart.csv', inferSchema=True, header=True, nullValue='NA')\n",
        "df.show(3)"
      ],
      "metadata": {
        "colab": {
          "base_uri": "https://localhost:8080/"
        },
        "id": "zyBeUruUmzwc",
        "outputId": "17cad764-89d5-46dd-e67d-a997d6db850d"
      },
      "execution_count": null,
      "outputs": [
        {
          "output_type": "stream",
          "name": "stdout",
          "text": [
            "+---+---+-------------+---------+-----------+---------+----------+-----+--------------+-------+--------+------------+\n",
            "|Age|Sex|ChestPainType|RestingBP|Cholesterol|FastingBS|RestingECG|MaxHR|ExerciseAngina|Oldpeak|ST_Slope|HeartDisease|\n",
            "+---+---+-------------+---------+-----------+---------+----------+-----+--------------+-------+--------+------------+\n",
            "| 40|  M|          ATA|      140|        289|        0|    Normal|  172|             N|    0.0|      Up|           0|\n",
            "| 49|  F|          NAP|      160|        180|        0|    Normal|  156|             N|    1.0|    Flat|           1|\n",
            "| 37|  M|          ATA|      130|        283|        0|        ST|   98|             N|    0.0|      Up|           0|\n",
            "+---+---+-------------+---------+-----------+---------+----------+-----+--------------+-------+--------+------------+\n",
            "only showing top 3 rows\n",
            "\n"
          ]
        }
      ]
    },
    {
      "cell_type": "code",
      "source": [
        "df.select(['Age', 'Sex']).show(3)"
      ],
      "metadata": {
        "colab": {
          "base_uri": "https://localhost:8080/"
        },
        "id": "6ldcwnKznNju",
        "outputId": "b543825f-127e-452b-8778-58ecc0cf70e0"
      },
      "execution_count": null,
      "outputs": [
        {
          "output_type": "stream",
          "name": "stdout",
          "text": [
            "+---+---+\n",
            "|Age|Sex|\n",
            "+---+---+\n",
            "| 40|  M|\n",
            "| 49|  F|\n",
            "| 37|  M|\n",
            "+---+---+\n",
            "only showing top 3 rows\n",
            "\n"
          ]
        }
      ]
    },
    {
      "cell_type": "code",
      "source": [
        "df.cache()\n",
        "df.collect()"
      ],
      "metadata": {
        "colab": {
          "base_uri": "https://localhost:8080/"
        },
        "id": "eT5GDOQqne3L",
        "outputId": "ed2ecd04-88d6-403d-d04c-594e252c8aea"
      },
      "execution_count": null,
      "outputs": [
        {
          "output_type": "execute_result",
          "data": {
            "text/plain": [
              "[Row(Age=40, Sex='M', ChestPainType='ATA', RestingBP=140, Cholesterol=289, FastingBS=0, RestingECG='Normal', MaxHR=172, ExerciseAngina='N', Oldpeak=0.0, ST_Slope='Up', HeartDisease=0),\n",
              " Row(Age=49, Sex='F', ChestPainType='NAP', RestingBP=160, Cholesterol=180, FastingBS=0, RestingECG='Normal', MaxHR=156, ExerciseAngina='N', Oldpeak=1.0, ST_Slope='Flat', HeartDisease=1),\n",
              " Row(Age=37, Sex='M', ChestPainType='ATA', RestingBP=130, Cholesterol=283, FastingBS=0, RestingECG='ST', MaxHR=98, ExerciseAngina='N', Oldpeak=0.0, ST_Slope='Up', HeartDisease=0),\n",
              " Row(Age=48, Sex='F', ChestPainType='ASY', RestingBP=138, Cholesterol=214, FastingBS=0, RestingECG='Normal', MaxHR=108, ExerciseAngina='Y', Oldpeak=1.5, ST_Slope='Flat', HeartDisease=1),\n",
              " Row(Age=54, Sex='M', ChestPainType='NAP', RestingBP=150, Cholesterol=195, FastingBS=0, RestingECG='Normal', MaxHR=122, ExerciseAngina='N', Oldpeak=0.0, ST_Slope='Up', HeartDisease=0),\n",
              " Row(Age=39, Sex='M', ChestPainType='NAP', RestingBP=120, Cholesterol=339, FastingBS=0, RestingECG='Normal', MaxHR=170, ExerciseAngina='N', Oldpeak=0.0, ST_Slope='Up', HeartDisease=0),\n",
              " Row(Age=45, Sex='F', ChestPainType='ATA', RestingBP=130, Cholesterol=237, FastingBS=0, RestingECG='Normal', MaxHR=170, ExerciseAngina='N', Oldpeak=0.0, ST_Slope='Up', HeartDisease=0),\n",
              " Row(Age=54, Sex='M', ChestPainType='ATA', RestingBP=110, Cholesterol=208, FastingBS=0, RestingECG='Normal', MaxHR=142, ExerciseAngina='N', Oldpeak=0.0, ST_Slope='Up', HeartDisease=0),\n",
              " Row(Age=37, Sex='M', ChestPainType='ASY', RestingBP=140, Cholesterol=207, FastingBS=0, RestingECG='Normal', MaxHR=130, ExerciseAngina='Y', Oldpeak=1.5, ST_Slope='Flat', HeartDisease=1),\n",
              " Row(Age=48, Sex='F', ChestPainType='ATA', RestingBP=120, Cholesterol=284, FastingBS=0, RestingECG='Normal', MaxHR=120, ExerciseAngina='N', Oldpeak=0.0, ST_Slope='Up', HeartDisease=0),\n",
              " Row(Age=37, Sex='F', ChestPainType='NAP', RestingBP=130, Cholesterol=211, FastingBS=0, RestingECG='Normal', MaxHR=142, ExerciseAngina='N', Oldpeak=0.0, ST_Slope='Up', HeartDisease=0),\n",
              " Row(Age=58, Sex='M', ChestPainType='ATA', RestingBP=136, Cholesterol=164, FastingBS=0, RestingECG='ST', MaxHR=99, ExerciseAngina='Y', Oldpeak=2.0, ST_Slope='Flat', HeartDisease=1),\n",
              " Row(Age=39, Sex='M', ChestPainType='ATA', RestingBP=120, Cholesterol=204, FastingBS=0, RestingECG='Normal', MaxHR=145, ExerciseAngina='N', Oldpeak=0.0, ST_Slope='Up', HeartDisease=0),\n",
              " Row(Age=49, Sex='M', ChestPainType='ASY', RestingBP=140, Cholesterol=234, FastingBS=0, RestingECG='Normal', MaxHR=140, ExerciseAngina='Y', Oldpeak=1.0, ST_Slope='Flat', HeartDisease=1),\n",
              " Row(Age=42, Sex='F', ChestPainType='NAP', RestingBP=115, Cholesterol=211, FastingBS=0, RestingECG='ST', MaxHR=137, ExerciseAngina='N', Oldpeak=0.0, ST_Slope='Up', HeartDisease=0),\n",
              " Row(Age=54, Sex='F', ChestPainType='ATA', RestingBP=120, Cholesterol=273, FastingBS=0, RestingECG='Normal', MaxHR=150, ExerciseAngina='N', Oldpeak=1.5, ST_Slope='Flat', HeartDisease=0),\n",
              " Row(Age=38, Sex='M', ChestPainType='ASY', RestingBP=110, Cholesterol=196, FastingBS=0, RestingECG='Normal', MaxHR=166, ExerciseAngina='N', Oldpeak=0.0, ST_Slope='Flat', HeartDisease=1),\n",
              " Row(Age=43, Sex='F', ChestPainType='ATA', RestingBP=120, Cholesterol=201, FastingBS=0, RestingECG='Normal', MaxHR=165, ExerciseAngina='N', Oldpeak=0.0, ST_Slope='Up', HeartDisease=0),\n",
              " Row(Age=60, Sex='M', ChestPainType='ASY', RestingBP=100, Cholesterol=248, FastingBS=0, RestingECG='Normal', MaxHR=125, ExerciseAngina='N', Oldpeak=1.0, ST_Slope='Flat', HeartDisease=1),\n",
              " Row(Age=36, Sex='M', ChestPainType='ATA', RestingBP=120, Cholesterol=267, FastingBS=0, RestingECG='Normal', MaxHR=160, ExerciseAngina='N', Oldpeak=3.0, ST_Slope='Flat', HeartDisease=1),\n",
              " Row(Age=43, Sex='F', ChestPainType='TA', RestingBP=100, Cholesterol=223, FastingBS=0, RestingECG='Normal', MaxHR=142, ExerciseAngina='N', Oldpeak=0.0, ST_Slope='Up', HeartDisease=0),\n",
              " Row(Age=44, Sex='M', ChestPainType='ATA', RestingBP=120, Cholesterol=184, FastingBS=0, RestingECG='Normal', MaxHR=142, ExerciseAngina='N', Oldpeak=1.0, ST_Slope='Flat', HeartDisease=0),\n",
              " Row(Age=49, Sex='F', ChestPainType='ATA', RestingBP=124, Cholesterol=201, FastingBS=0, RestingECG='Normal', MaxHR=164, ExerciseAngina='N', Oldpeak=0.0, ST_Slope='Up', HeartDisease=0),\n",
              " Row(Age=44, Sex='M', ChestPainType='ATA', RestingBP=150, Cholesterol=288, FastingBS=0, RestingECG='Normal', MaxHR=150, ExerciseAngina='Y', Oldpeak=3.0, ST_Slope='Flat', HeartDisease=1),\n",
              " Row(Age=40, Sex='M', ChestPainType='NAP', RestingBP=130, Cholesterol=215, FastingBS=0, RestingECG='Normal', MaxHR=138, ExerciseAngina='N', Oldpeak=0.0, ST_Slope='Up', HeartDisease=0),\n",
              " Row(Age=36, Sex='M', ChestPainType='NAP', RestingBP=130, Cholesterol=209, FastingBS=0, RestingECG='Normal', MaxHR=178, ExerciseAngina='N', Oldpeak=0.0, ST_Slope='Up', HeartDisease=0),\n",
              " Row(Age=53, Sex='M', ChestPainType='ASY', RestingBP=124, Cholesterol=260, FastingBS=0, RestingECG='ST', MaxHR=112, ExerciseAngina='Y', Oldpeak=3.0, ST_Slope='Flat', HeartDisease=0),\n",
              " Row(Age=52, Sex='M', ChestPainType='ATA', RestingBP=120, Cholesterol=284, FastingBS=0, RestingECG='Normal', MaxHR=118, ExerciseAngina='N', Oldpeak=0.0, ST_Slope='Up', HeartDisease=0),\n",
              " Row(Age=53, Sex='F', ChestPainType='ATA', RestingBP=113, Cholesterol=468, FastingBS=0, RestingECG='Normal', MaxHR=127, ExerciseAngina='N', Oldpeak=0.0, ST_Slope='Up', HeartDisease=0),\n",
              " Row(Age=51, Sex='M', ChestPainType='ATA', RestingBP=125, Cholesterol=188, FastingBS=0, RestingECG='Normal', MaxHR=145, ExerciseAngina='N', Oldpeak=0.0, ST_Slope='Up', HeartDisease=0),\n",
              " Row(Age=53, Sex='M', ChestPainType='NAP', RestingBP=145, Cholesterol=518, FastingBS=0, RestingECG='Normal', MaxHR=130, ExerciseAngina='N', Oldpeak=0.0, ST_Slope='Flat', HeartDisease=1),\n",
              " Row(Age=56, Sex='M', ChestPainType='NAP', RestingBP=130, Cholesterol=167, FastingBS=0, RestingECG='Normal', MaxHR=114, ExerciseAngina='N', Oldpeak=0.0, ST_Slope='Up', HeartDisease=0),\n",
              " Row(Age=54, Sex='M', ChestPainType='ASY', RestingBP=125, Cholesterol=224, FastingBS=0, RestingECG='Normal', MaxHR=122, ExerciseAngina='N', Oldpeak=2.0, ST_Slope='Flat', HeartDisease=1),\n",
              " Row(Age=41, Sex='M', ChestPainType='ASY', RestingBP=130, Cholesterol=172, FastingBS=0, RestingECG='ST', MaxHR=130, ExerciseAngina='N', Oldpeak=2.0, ST_Slope='Flat', HeartDisease=1),\n",
              " Row(Age=43, Sex='F', ChestPainType='ATA', RestingBP=150, Cholesterol=186, FastingBS=0, RestingECG='Normal', MaxHR=154, ExerciseAngina='N', Oldpeak=0.0, ST_Slope='Up', HeartDisease=0),\n",
              " Row(Age=32, Sex='M', ChestPainType='ATA', RestingBP=125, Cholesterol=254, FastingBS=0, RestingECG='Normal', MaxHR=155, ExerciseAngina='N', Oldpeak=0.0, ST_Slope='Up', HeartDisease=0),\n",
              " Row(Age=65, Sex='M', ChestPainType='ASY', RestingBP=140, Cholesterol=306, FastingBS=1, RestingECG='Normal', MaxHR=87, ExerciseAngina='Y', Oldpeak=1.5, ST_Slope='Flat', HeartDisease=1),\n",
              " Row(Age=41, Sex='F', ChestPainType='ATA', RestingBP=110, Cholesterol=250, FastingBS=0, RestingECG='ST', MaxHR=142, ExerciseAngina='N', Oldpeak=0.0, ST_Slope='Up', HeartDisease=0),\n",
              " Row(Age=48, Sex='F', ChestPainType='ATA', RestingBP=120, Cholesterol=177, FastingBS=1, RestingECG='ST', MaxHR=148, ExerciseAngina='N', Oldpeak=0.0, ST_Slope='Up', HeartDisease=0),\n",
              " Row(Age=48, Sex='F', ChestPainType='ASY', RestingBP=150, Cholesterol=227, FastingBS=0, RestingECG='Normal', MaxHR=130, ExerciseAngina='Y', Oldpeak=1.0, ST_Slope='Flat', HeartDisease=0),\n",
              " Row(Age=54, Sex='F', ChestPainType='ATA', RestingBP=150, Cholesterol=230, FastingBS=0, RestingECG='Normal', MaxHR=130, ExerciseAngina='N', Oldpeak=0.0, ST_Slope='Up', HeartDisease=0),\n",
              " Row(Age=54, Sex='F', ChestPainType='NAP', RestingBP=130, Cholesterol=294, FastingBS=0, RestingECG='ST', MaxHR=100, ExerciseAngina='Y', Oldpeak=0.0, ST_Slope='Flat', HeartDisease=1),\n",
              " Row(Age=35, Sex='M', ChestPainType='ATA', RestingBP=150, Cholesterol=264, FastingBS=0, RestingECG='Normal', MaxHR=168, ExerciseAngina='N', Oldpeak=0.0, ST_Slope='Up', HeartDisease=0),\n",
              " Row(Age=52, Sex='M', ChestPainType='NAP', RestingBP=140, Cholesterol=259, FastingBS=0, RestingECG='ST', MaxHR=170, ExerciseAngina='N', Oldpeak=0.0, ST_Slope='Up', HeartDisease=0),\n",
              " Row(Age=43, Sex='M', ChestPainType='ASY', RestingBP=120, Cholesterol=175, FastingBS=0, RestingECG='Normal', MaxHR=120, ExerciseAngina='Y', Oldpeak=1.0, ST_Slope='Flat', HeartDisease=1),\n",
              " Row(Age=59, Sex='M', ChestPainType='NAP', RestingBP=130, Cholesterol=318, FastingBS=0, RestingECG='Normal', MaxHR=120, ExerciseAngina='Y', Oldpeak=1.0, ST_Slope='Flat', HeartDisease=0),\n",
              " Row(Age=37, Sex='M', ChestPainType='ASY', RestingBP=120, Cholesterol=223, FastingBS=0, RestingECG='Normal', MaxHR=168, ExerciseAngina='N', Oldpeak=0.0, ST_Slope='Up', HeartDisease=0),\n",
              " Row(Age=50, Sex='M', ChestPainType='ATA', RestingBP=140, Cholesterol=216, FastingBS=0, RestingECG='Normal', MaxHR=170, ExerciseAngina='N', Oldpeak=0.0, ST_Slope='Up', HeartDisease=0),\n",
              " Row(Age=36, Sex='M', ChestPainType='NAP', RestingBP=112, Cholesterol=340, FastingBS=0, RestingECG='Normal', MaxHR=184, ExerciseAngina='N', Oldpeak=1.0, ST_Slope='Flat', HeartDisease=0),\n",
              " Row(Age=41, Sex='M', ChestPainType='ASY', RestingBP=110, Cholesterol=289, FastingBS=0, RestingECG='Normal', MaxHR=170, ExerciseAngina='N', Oldpeak=0.0, ST_Slope='Flat', HeartDisease=1),\n",
              " Row(Age=50, Sex='M', ChestPainType='ASY', RestingBP=130, Cholesterol=233, FastingBS=0, RestingECG='Normal', MaxHR=121, ExerciseAngina='Y', Oldpeak=2.0, ST_Slope='Flat', HeartDisease=1),\n",
              " Row(Age=47, Sex='F', ChestPainType='ASY', RestingBP=120, Cholesterol=205, FastingBS=0, RestingECG='Normal', MaxHR=98, ExerciseAngina='Y', Oldpeak=2.0, ST_Slope='Flat', HeartDisease=1),\n",
              " Row(Age=45, Sex='M', ChestPainType='ATA', RestingBP=140, Cholesterol=224, FastingBS=1, RestingECG='Normal', MaxHR=122, ExerciseAngina='N', Oldpeak=0.0, ST_Slope='Up', HeartDisease=0),\n",
              " Row(Age=41, Sex='F', ChestPainType='ATA', RestingBP=130, Cholesterol=245, FastingBS=0, RestingECG='Normal', MaxHR=150, ExerciseAngina='N', Oldpeak=0.0, ST_Slope='Up', HeartDisease=0),\n",
              " Row(Age=52, Sex='F', ChestPainType='ASY', RestingBP=130, Cholesterol=180, FastingBS=0, RestingECG='Normal', MaxHR=140, ExerciseAngina='Y', Oldpeak=1.5, ST_Slope='Flat', HeartDisease=0),\n",
              " Row(Age=51, Sex='F', ChestPainType='ATA', RestingBP=160, Cholesterol=194, FastingBS=0, RestingECG='Normal', MaxHR=170, ExerciseAngina='N', Oldpeak=0.0, ST_Slope='Up', HeartDisease=0),\n",
              " Row(Age=31, Sex='M', ChestPainType='ASY', RestingBP=120, Cholesterol=270, FastingBS=0, RestingECG='Normal', MaxHR=153, ExerciseAngina='Y', Oldpeak=1.5, ST_Slope='Flat', HeartDisease=1),\n",
              " Row(Age=58, Sex='M', ChestPainType='NAP', RestingBP=130, Cholesterol=213, FastingBS=0, RestingECG='ST', MaxHR=140, ExerciseAngina='N', Oldpeak=0.0, ST_Slope='Flat', HeartDisease=1),\n",
              " Row(Age=54, Sex='M', ChestPainType='ASY', RestingBP=150, Cholesterol=365, FastingBS=0, RestingECG='ST', MaxHR=134, ExerciseAngina='N', Oldpeak=1.0, ST_Slope='Up', HeartDisease=0),\n",
              " Row(Age=52, Sex='M', ChestPainType='ASY', RestingBP=112, Cholesterol=342, FastingBS=0, RestingECG='ST', MaxHR=96, ExerciseAngina='Y', Oldpeak=1.0, ST_Slope='Flat', HeartDisease=1),\n",
              " Row(Age=49, Sex='M', ChestPainType='ATA', RestingBP=100, Cholesterol=253, FastingBS=0, RestingECG='Normal', MaxHR=174, ExerciseAngina='N', Oldpeak=0.0, ST_Slope='Up', HeartDisease=0),\n",
              " Row(Age=43, Sex='F', ChestPainType='NAP', RestingBP=150, Cholesterol=254, FastingBS=0, RestingECG='Normal', MaxHR=175, ExerciseAngina='N', Oldpeak=0.0, ST_Slope='Up', HeartDisease=0),\n",
              " Row(Age=45, Sex='M', ChestPainType='ASY', RestingBP=140, Cholesterol=224, FastingBS=0, RestingECG='Normal', MaxHR=144, ExerciseAngina='N', Oldpeak=0.0, ST_Slope='Up', HeartDisease=0),\n",
              " Row(Age=46, Sex='M', ChestPainType='ASY', RestingBP=120, Cholesterol=277, FastingBS=0, RestingECG='Normal', MaxHR=125, ExerciseAngina='Y', Oldpeak=1.0, ST_Slope='Flat', HeartDisease=1),\n",
              " Row(Age=50, Sex='F', ChestPainType='ATA', RestingBP=110, Cholesterol=202, FastingBS=0, RestingECG='Normal', MaxHR=145, ExerciseAngina='N', Oldpeak=0.0, ST_Slope='Up', HeartDisease=0),\n",
              " Row(Age=37, Sex='F', ChestPainType='ATA', RestingBP=120, Cholesterol=260, FastingBS=0, RestingECG='Normal', MaxHR=130, ExerciseAngina='N', Oldpeak=0.0, ST_Slope='Up', HeartDisease=0),\n",
              " Row(Age=45, Sex='F', ChestPainType='ASY', RestingBP=132, Cholesterol=297, FastingBS=0, RestingECG='Normal', MaxHR=144, ExerciseAngina='N', Oldpeak=0.0, ST_Slope='Up', HeartDisease=0),\n",
              " Row(Age=32, Sex='M', ChestPainType='ATA', RestingBP=110, Cholesterol=225, FastingBS=0, RestingECG='Normal', MaxHR=184, ExerciseAngina='N', Oldpeak=0.0, ST_Slope='Up', HeartDisease=0),\n",
              " Row(Age=52, Sex='M', ChestPainType='ASY', RestingBP=160, Cholesterol=246, FastingBS=0, RestingECG='ST', MaxHR=82, ExerciseAngina='Y', Oldpeak=4.0, ST_Slope='Flat', HeartDisease=1),\n",
              " Row(Age=44, Sex='M', ChestPainType='ASY', RestingBP=150, Cholesterol=412, FastingBS=0, RestingECG='Normal', MaxHR=170, ExerciseAngina='N', Oldpeak=0.0, ST_Slope='Up', HeartDisease=0),\n",
              " Row(Age=57, Sex='M', ChestPainType='ATA', RestingBP=140, Cholesterol=265, FastingBS=0, RestingECG='ST', MaxHR=145, ExerciseAngina='Y', Oldpeak=1.0, ST_Slope='Flat', HeartDisease=1),\n",
              " Row(Age=44, Sex='M', ChestPainType='ATA', RestingBP=130, Cholesterol=215, FastingBS=0, RestingECG='Normal', MaxHR=135, ExerciseAngina='N', Oldpeak=0.0, ST_Slope='Up', HeartDisease=0),\n",
              " Row(Age=52, Sex='M', ChestPainType='ASY', RestingBP=120, Cholesterol=182, FastingBS=0, RestingECG='Normal', MaxHR=150, ExerciseAngina='N', Oldpeak=0.0, ST_Slope='Flat', HeartDisease=1),\n",
              " Row(Age=44, Sex='F', ChestPainType='ASY', RestingBP=120, Cholesterol=218, FastingBS=0, RestingECG='ST', MaxHR=115, ExerciseAngina='N', Oldpeak=0.0, ST_Slope='Up', HeartDisease=0),\n",
              " Row(Age=55, Sex='M', ChestPainType='ASY', RestingBP=140, Cholesterol=268, FastingBS=0, RestingECG='Normal', MaxHR=128, ExerciseAngina='Y', Oldpeak=1.5, ST_Slope='Flat', HeartDisease=1),\n",
              " Row(Age=46, Sex='M', ChestPainType='NAP', RestingBP=150, Cholesterol=163, FastingBS=0, RestingECG='Normal', MaxHR=116, ExerciseAngina='N', Oldpeak=0.0, ST_Slope='Up', HeartDisease=0),\n",
              " Row(Age=32, Sex='M', ChestPainType='ASY', RestingBP=118, Cholesterol=529, FastingBS=0, RestingECG='Normal', MaxHR=130, ExerciseAngina='N', Oldpeak=0.0, ST_Slope='Flat', HeartDisease=1),\n",
              " Row(Age=35, Sex='F', ChestPainType='ASY', RestingBP=140, Cholesterol=167, FastingBS=0, RestingECG='Normal', MaxHR=150, ExerciseAngina='N', Oldpeak=0.0, ST_Slope='Up', HeartDisease=0),\n",
              " Row(Age=52, Sex='M', ChestPainType='ATA', RestingBP=140, Cholesterol=100, FastingBS=0, RestingECG='Normal', MaxHR=138, ExerciseAngina='Y', Oldpeak=0.0, ST_Slope='Up', HeartDisease=0),\n",
              " Row(Age=49, Sex='M', ChestPainType='ASY', RestingBP=130, Cholesterol=206, FastingBS=0, RestingECG='Normal', MaxHR=170, ExerciseAngina='N', Oldpeak=0.0, ST_Slope='Flat', HeartDisease=1),\n",
              " Row(Age=55, Sex='M', ChestPainType='NAP', RestingBP=110, Cholesterol=277, FastingBS=0, RestingECG='Normal', MaxHR=160, ExerciseAngina='N', Oldpeak=0.0, ST_Slope='Up', HeartDisease=0),\n",
              " Row(Age=54, Sex='M', ChestPainType='ATA', RestingBP=120, Cholesterol=238, FastingBS=0, RestingECG='Normal', MaxHR=154, ExerciseAngina='N', Oldpeak=0.0, ST_Slope='Up', HeartDisease=0),\n",
              " Row(Age=63, Sex='M', ChestPainType='ASY', RestingBP=150, Cholesterol=223, FastingBS=0, RestingECG='Normal', MaxHR=115, ExerciseAngina='N', Oldpeak=0.0, ST_Slope='Flat', HeartDisease=1),\n",
              " Row(Age=52, Sex='M', ChestPainType='ATA', RestingBP=160, Cholesterol=196, FastingBS=0, RestingECG='Normal', MaxHR=165, ExerciseAngina='N', Oldpeak=0.0, ST_Slope='Up', HeartDisease=0),\n",
              " Row(Age=56, Sex='M', ChestPainType='ASY', RestingBP=150, Cholesterol=213, FastingBS=1, RestingECG='Normal', MaxHR=125, ExerciseAngina='Y', Oldpeak=1.0, ST_Slope='Flat', HeartDisease=1),\n",
              " Row(Age=66, Sex='M', ChestPainType='ASY', RestingBP=140, Cholesterol=139, FastingBS=0, RestingECG='Normal', MaxHR=94, ExerciseAngina='Y', Oldpeak=1.0, ST_Slope='Flat', HeartDisease=1),\n",
              " Row(Age=65, Sex='M', ChestPainType='ASY', RestingBP=170, Cholesterol=263, FastingBS=1, RestingECG='Normal', MaxHR=112, ExerciseAngina='Y', Oldpeak=2.0, ST_Slope='Flat', HeartDisease=1),\n",
              " Row(Age=53, Sex='F', ChestPainType='ATA', RestingBP=140, Cholesterol=216, FastingBS=0, RestingECG='Normal', MaxHR=142, ExerciseAngina='Y', Oldpeak=2.0, ST_Slope='Flat', HeartDisease=0),\n",
              " Row(Age=43, Sex='M', ChestPainType='TA', RestingBP=120, Cholesterol=291, FastingBS=0, RestingECG='ST', MaxHR=155, ExerciseAngina='N', Oldpeak=0.0, ST_Slope='Flat', HeartDisease=1),\n",
              " Row(Age=55, Sex='M', ChestPainType='ASY', RestingBP=140, Cholesterol=229, FastingBS=0, RestingECG='Normal', MaxHR=110, ExerciseAngina='Y', Oldpeak=0.5, ST_Slope='Flat', HeartDisease=0),\n",
              " Row(Age=49, Sex='F', ChestPainType='ATA', RestingBP=110, Cholesterol=208, FastingBS=0, RestingECG='Normal', MaxHR=160, ExerciseAngina='N', Oldpeak=0.0, ST_Slope='Up', HeartDisease=0),\n",
              " Row(Age=39, Sex='M', ChestPainType='ASY', RestingBP=130, Cholesterol=307, FastingBS=0, RestingECG='Normal', MaxHR=140, ExerciseAngina='N', Oldpeak=0.0, ST_Slope='Up', HeartDisease=0),\n",
              " Row(Age=52, Sex='F', ChestPainType='ATA', RestingBP=120, Cholesterol=210, FastingBS=0, RestingECG='Normal', MaxHR=148, ExerciseAngina='N', Oldpeak=0.0, ST_Slope='Up', HeartDisease=0),\n",
              " Row(Age=48, Sex='M', ChestPainType='ASY', RestingBP=160, Cholesterol=329, FastingBS=0, RestingECG='Normal', MaxHR=92, ExerciseAngina='Y', Oldpeak=1.5, ST_Slope='Flat', HeartDisease=1),\n",
              " Row(Age=39, Sex='F', ChestPainType='NAP', RestingBP=110, Cholesterol=182, FastingBS=0, RestingECG='ST', MaxHR=180, ExerciseAngina='N', Oldpeak=0.0, ST_Slope='Up', HeartDisease=0),\n",
              " Row(Age=58, Sex='M', ChestPainType='ASY', RestingBP=130, Cholesterol=263, FastingBS=0, RestingECG='Normal', MaxHR=140, ExerciseAngina='Y', Oldpeak=2.0, ST_Slope='Flat', HeartDisease=1),\n",
              " Row(Age=43, Sex='M', ChestPainType='ATA', RestingBP=142, Cholesterol=207, FastingBS=0, RestingECG='Normal', MaxHR=138, ExerciseAngina='N', Oldpeak=0.0, ST_Slope='Up', HeartDisease=0),\n",
              " Row(Age=39, Sex='M', ChestPainType='NAP', RestingBP=160, Cholesterol=147, FastingBS=1, RestingECG='Normal', MaxHR=160, ExerciseAngina='N', Oldpeak=0.0, ST_Slope='Up', HeartDisease=0),\n",
              " Row(Age=56, Sex='M', ChestPainType='ASY', RestingBP=120, Cholesterol=85, FastingBS=0, RestingECG='Normal', MaxHR=140, ExerciseAngina='N', Oldpeak=0.0, ST_Slope='Up', HeartDisease=0),\n",
              " Row(Age=41, Sex='M', ChestPainType='ATA', RestingBP=125, Cholesterol=269, FastingBS=0, RestingECG='Normal', MaxHR=144, ExerciseAngina='N', Oldpeak=0.0, ST_Slope='Up', HeartDisease=0),\n",
              " Row(Age=65, Sex='M', ChestPainType='ASY', RestingBP=130, Cholesterol=275, FastingBS=0, RestingECG='ST', MaxHR=115, ExerciseAngina='Y', Oldpeak=1.0, ST_Slope='Flat', HeartDisease=1),\n",
              " Row(Age=51, Sex='M', ChestPainType='ASY', RestingBP=130, Cholesterol=179, FastingBS=0, RestingECG='Normal', MaxHR=100, ExerciseAngina='N', Oldpeak=0.0, ST_Slope='Up', HeartDisease=0),\n",
              " Row(Age=40, Sex='F', ChestPainType='ASY', RestingBP=150, Cholesterol=392, FastingBS=0, RestingECG='Normal', MaxHR=130, ExerciseAngina='N', Oldpeak=2.0, ST_Slope='Flat', HeartDisease=1),\n",
              " Row(Age=40, Sex='M', ChestPainType='ASY', RestingBP=120, Cholesterol=466, FastingBS=1, RestingECG='Normal', MaxHR=152, ExerciseAngina='Y', Oldpeak=1.0, ST_Slope='Flat', HeartDisease=1),\n",
              " Row(Age=46, Sex='M', ChestPainType='ASY', RestingBP=118, Cholesterol=186, FastingBS=0, RestingECG='Normal', MaxHR=124, ExerciseAngina='N', Oldpeak=0.0, ST_Slope='Flat', HeartDisease=1),\n",
              " Row(Age=57, Sex='M', ChestPainType='ATA', RestingBP=140, Cholesterol=260, FastingBS=1, RestingECG='Normal', MaxHR=140, ExerciseAngina='N', Oldpeak=0.0, ST_Slope='Up', HeartDisease=0),\n",
              " Row(Age=48, Sex='F', ChestPainType='ASY', RestingBP=120, Cholesterol=254, FastingBS=0, RestingECG='ST', MaxHR=110, ExerciseAngina='N', Oldpeak=0.0, ST_Slope='Up', HeartDisease=0),\n",
              " Row(Age=34, Sex='M', ChestPainType='ATA', RestingBP=150, Cholesterol=214, FastingBS=0, RestingECG='ST', MaxHR=168, ExerciseAngina='N', Oldpeak=0.0, ST_Slope='Up', HeartDisease=0),\n",
              " Row(Age=50, Sex='M', ChestPainType='ASY', RestingBP=140, Cholesterol=129, FastingBS=0, RestingECG='Normal', MaxHR=135, ExerciseAngina='N', Oldpeak=0.0, ST_Slope='Up', HeartDisease=0),\n",
              " Row(Age=39, Sex='M', ChestPainType='ATA', RestingBP=190, Cholesterol=241, FastingBS=0, RestingECG='Normal', MaxHR=106, ExerciseAngina='N', Oldpeak=0.0, ST_Slope='Up', HeartDisease=0),\n",
              " Row(Age=59, Sex='F', ChestPainType='ATA', RestingBP=130, Cholesterol=188, FastingBS=0, RestingECG='Normal', MaxHR=124, ExerciseAngina='N', Oldpeak=1.0, ST_Slope='Flat', HeartDisease=0),\n",
              " Row(Age=57, Sex='M', ChestPainType='ASY', RestingBP=150, Cholesterol=255, FastingBS=0, RestingECG='Normal', MaxHR=92, ExerciseAngina='Y', Oldpeak=3.0, ST_Slope='Flat', HeartDisease=1),\n",
              " Row(Age=47, Sex='M', ChestPainType='ASY', RestingBP=140, Cholesterol=276, FastingBS=1, RestingECG='Normal', MaxHR=125, ExerciseAngina='Y', Oldpeak=0.0, ST_Slope='Up', HeartDisease=0),\n",
              " Row(Age=38, Sex='M', ChestPainType='ATA', RestingBP=140, Cholesterol=297, FastingBS=0, RestingECG='Normal', MaxHR=150, ExerciseAngina='N', Oldpeak=0.0, ST_Slope='Up', HeartDisease=0),\n",
              " Row(Age=49, Sex='F', ChestPainType='NAP', RestingBP=130, Cholesterol=207, FastingBS=0, RestingECG='ST', MaxHR=135, ExerciseAngina='N', Oldpeak=0.0, ST_Slope='Up', HeartDisease=0),\n",
              " Row(Age=33, Sex='F', ChestPainType='ASY', RestingBP=100, Cholesterol=246, FastingBS=0, RestingECG='Normal', MaxHR=150, ExerciseAngina='Y', Oldpeak=1.0, ST_Slope='Flat', HeartDisease=1),\n",
              " Row(Age=38, Sex='M', ChestPainType='ASY', RestingBP=120, Cholesterol=282, FastingBS=0, RestingECG='Normal', MaxHR=170, ExerciseAngina='N', Oldpeak=0.0, ST_Slope='Flat', HeartDisease=1),\n",
              " Row(Age=59, Sex='F', ChestPainType='ASY', RestingBP=130, Cholesterol=338, FastingBS=1, RestingECG='ST', MaxHR=130, ExerciseAngina='Y', Oldpeak=1.5, ST_Slope='Flat', HeartDisease=1),\n",
              " Row(Age=35, Sex='F', ChestPainType='TA', RestingBP=120, Cholesterol=160, FastingBS=0, RestingECG='ST', MaxHR=185, ExerciseAngina='N', Oldpeak=0.0, ST_Slope='Up', HeartDisease=0),\n",
              " Row(Age=34, Sex='M', ChestPainType='TA', RestingBP=140, Cholesterol=156, FastingBS=0, RestingECG='Normal', MaxHR=180, ExerciseAngina='N', Oldpeak=0.0, ST_Slope='Flat', HeartDisease=1),\n",
              " Row(Age=47, Sex='F', ChestPainType='NAP', RestingBP=135, Cholesterol=248, FastingBS=1, RestingECG='Normal', MaxHR=170, ExerciseAngina='N', Oldpeak=0.0, ST_Slope='Flat', HeartDisease=1),\n",
              " Row(Age=52, Sex='F', ChestPainType='NAP', RestingBP=125, Cholesterol=272, FastingBS=0, RestingECG='Normal', MaxHR=139, ExerciseAngina='N', Oldpeak=0.0, ST_Slope='Up', HeartDisease=0),\n",
              " Row(Age=46, Sex='M', ChestPainType='ASY', RestingBP=110, Cholesterol=240, FastingBS=0, RestingECG='ST', MaxHR=140, ExerciseAngina='N', Oldpeak=0.0, ST_Slope='Up', HeartDisease=0),\n",
              " Row(Age=58, Sex='F', ChestPainType='ATA', RestingBP=180, Cholesterol=393, FastingBS=0, RestingECG='Normal', MaxHR=110, ExerciseAngina='Y', Oldpeak=1.0, ST_Slope='Flat', HeartDisease=1),\n",
              " Row(Age=58, Sex='M', ChestPainType='ATA', RestingBP=130, Cholesterol=230, FastingBS=0, RestingECG='Normal', MaxHR=150, ExerciseAngina='N', Oldpeak=0.0, ST_Slope='Up', HeartDisease=0),\n",
              " Row(Age=54, Sex='M', ChestPainType='ATA', RestingBP=120, Cholesterol=246, FastingBS=0, RestingECG='Normal', MaxHR=110, ExerciseAngina='N', Oldpeak=0.0, ST_Slope='Up', HeartDisease=0),\n",
              " Row(Age=34, Sex='F', ChestPainType='ATA', RestingBP=130, Cholesterol=161, FastingBS=0, RestingECG='Normal', MaxHR=190, ExerciseAngina='N', Oldpeak=0.0, ST_Slope='Up', HeartDisease=0),\n",
              " Row(Age=48, Sex='F', ChestPainType='ASY', RestingBP=108, Cholesterol=163, FastingBS=0, RestingECG='Normal', MaxHR=175, ExerciseAngina='N', Oldpeak=2.0, ST_Slope='Up', HeartDisease=0),\n",
              " Row(Age=54, Sex='F', ChestPainType='ATA', RestingBP=120, Cholesterol=230, FastingBS=1, RestingECG='Normal', MaxHR=140, ExerciseAngina='N', Oldpeak=0.0, ST_Slope='Up', HeartDisease=0),\n",
              " Row(Age=42, Sex='M', ChestPainType='NAP', RestingBP=120, Cholesterol=228, FastingBS=0, RestingECG='Normal', MaxHR=152, ExerciseAngina='Y', Oldpeak=1.5, ST_Slope='Flat', HeartDisease=0),\n",
              " Row(Age=38, Sex='M', ChestPainType='NAP', RestingBP=145, Cholesterol=292, FastingBS=0, RestingECG='Normal', MaxHR=130, ExerciseAngina='N', Oldpeak=0.0, ST_Slope='Up', HeartDisease=0),\n",
              " Row(Age=46, Sex='M', ChestPainType='ASY', RestingBP=110, Cholesterol=202, FastingBS=0, RestingECG='Normal', MaxHR=150, ExerciseAngina='Y', Oldpeak=0.0, ST_Slope='Flat', HeartDisease=1),\n",
              " Row(Age=56, Sex='M', ChestPainType='ASY', RestingBP=170, Cholesterol=388, FastingBS=0, RestingECG='ST', MaxHR=122, ExerciseAngina='Y', Oldpeak=2.0, ST_Slope='Flat', HeartDisease=1),\n",
              " Row(Age=56, Sex='M', ChestPainType='ASY', RestingBP=150, Cholesterol=230, FastingBS=0, RestingECG='ST', MaxHR=124, ExerciseAngina='Y', Oldpeak=1.5, ST_Slope='Flat', HeartDisease=1),\n",
              " Row(Age=61, Sex='F', ChestPainType='ASY', RestingBP=130, Cholesterol=294, FastingBS=0, RestingECG='ST', MaxHR=120, ExerciseAngina='Y', Oldpeak=1.0, ST_Slope='Flat', HeartDisease=0),\n",
              " Row(Age=49, Sex='M', ChestPainType='NAP', RestingBP=115, Cholesterol=265, FastingBS=0, RestingECG='Normal', MaxHR=175, ExerciseAngina='N', Oldpeak=0.0, ST_Slope='Flat', HeartDisease=1),\n",
              " Row(Age=43, Sex='F', ChestPainType='ATA', RestingBP=120, Cholesterol=215, FastingBS=0, RestingECG='ST', MaxHR=175, ExerciseAngina='N', Oldpeak=0.0, ST_Slope='Up', HeartDisease=0),\n",
              " Row(Age=39, Sex='M', ChestPainType='ATA', RestingBP=120, Cholesterol=241, FastingBS=0, RestingECG='ST', MaxHR=146, ExerciseAngina='N', Oldpeak=2.0, ST_Slope='Up', HeartDisease=0),\n",
              " Row(Age=54, Sex='M', ChestPainType='ASY', RestingBP=140, Cholesterol=166, FastingBS=0, RestingECG='Normal', MaxHR=118, ExerciseAngina='Y', Oldpeak=0.0, ST_Slope='Flat', HeartDisease=1),\n",
              " Row(Age=43, Sex='M', ChestPainType='ASY', RestingBP=150, Cholesterol=247, FastingBS=0, RestingECG='Normal', MaxHR=130, ExerciseAngina='Y', Oldpeak=2.0, ST_Slope='Flat', HeartDisease=1),\n",
              " Row(Age=52, Sex='M', ChestPainType='ASY', RestingBP=160, Cholesterol=331, FastingBS=0, RestingECG='Normal', MaxHR=94, ExerciseAngina='Y', Oldpeak=2.5, ST_Slope='Flat', HeartDisease=1),\n",
              " Row(Age=50, Sex='M', ChestPainType='ASY', RestingBP=140, Cholesterol=341, FastingBS=0, RestingECG='ST', MaxHR=125, ExerciseAngina='Y', Oldpeak=2.5, ST_Slope='Flat', HeartDisease=1),\n",
              " Row(Age=47, Sex='M', ChestPainType='ASY', RestingBP=160, Cholesterol=291, FastingBS=0, RestingECG='ST', MaxHR=158, ExerciseAngina='Y', Oldpeak=3.0, ST_Slope='Flat', HeartDisease=1),\n",
              " Row(Age=53, Sex='M', ChestPainType='ASY', RestingBP=140, Cholesterol=243, FastingBS=0, RestingECG='Normal', MaxHR=155, ExerciseAngina='N', Oldpeak=0.0, ST_Slope='Up', HeartDisease=0),\n",
              " Row(Age=56, Sex='F', ChestPainType='ATA', RestingBP=120, Cholesterol=279, FastingBS=0, RestingECG='Normal', MaxHR=150, ExerciseAngina='N', Oldpeak=1.0, ST_Slope='Flat', HeartDisease=1),\n",
              " Row(Age=39, Sex='M', ChestPainType='ASY', RestingBP=110, Cholesterol=273, FastingBS=0, RestingECG='Normal', MaxHR=132, ExerciseAngina='N', Oldpeak=0.0, ST_Slope='Up', HeartDisease=0),\n",
              " Row(Age=42, Sex='M', ChestPainType='ATA', RestingBP=120, Cholesterol=198, FastingBS=0, RestingECG='Normal', MaxHR=155, ExerciseAngina='N', Oldpeak=0.0, ST_Slope='Up', HeartDisease=0),\n",
              " Row(Age=43, Sex='F', ChestPainType='ATA', RestingBP=120, Cholesterol=249, FastingBS=0, RestingECG='ST', MaxHR=176, ExerciseAngina='N', Oldpeak=0.0, ST_Slope='Up', HeartDisease=0),\n",
              " Row(Age=50, Sex='M', ChestPainType='ATA', RestingBP=120, Cholesterol=168, FastingBS=0, RestingECG='Normal', MaxHR=160, ExerciseAngina='N', Oldpeak=0.0, ST_Slope='Up', HeartDisease=0),\n",
              " Row(Age=54, Sex='M', ChestPainType='ASY', RestingBP=130, Cholesterol=603, FastingBS=1, RestingECG='Normal', MaxHR=125, ExerciseAngina='Y', Oldpeak=1.0, ST_Slope='Flat', HeartDisease=1),\n",
              " Row(Age=39, Sex='M', ChestPainType='ATA', RestingBP=130, Cholesterol=215, FastingBS=0, RestingECG='Normal', MaxHR=120, ExerciseAngina='N', Oldpeak=0.0, ST_Slope='Up', HeartDisease=0),\n",
              " Row(Age=48, Sex='M', ChestPainType='ATA', RestingBP=100, Cholesterol=159, FastingBS=0, RestingECG='Normal', MaxHR=100, ExerciseAngina='N', Oldpeak=0.0, ST_Slope='Up', HeartDisease=0),\n",
              " Row(Age=40, Sex='M', ChestPainType='ATA', RestingBP=130, Cholesterol=275, FastingBS=0, RestingECG='Normal', MaxHR=150, ExerciseAngina='N', Oldpeak=0.0, ST_Slope='Up', HeartDisease=0),\n",
              " Row(Age=55, Sex='M', ChestPainType='ASY', RestingBP=120, Cholesterol=270, FastingBS=0, RestingECG='Normal', MaxHR=140, ExerciseAngina='N', Oldpeak=0.0, ST_Slope='Up', HeartDisease=0),\n",
              " Row(Age=41, Sex='M', ChestPainType='ATA', RestingBP=120, Cholesterol=291, FastingBS=0, RestingECG='ST', MaxHR=160, ExerciseAngina='N', Oldpeak=0.0, ST_Slope='Up', HeartDisease=0),\n",
              " Row(Age=56, Sex='M', ChestPainType='ASY', RestingBP=155, Cholesterol=342, FastingBS=1, RestingECG='Normal', MaxHR=150, ExerciseAngina='Y', Oldpeak=3.0, ST_Slope='Flat', HeartDisease=1),\n",
              " Row(Age=38, Sex='M', ChestPainType='ASY', RestingBP=110, Cholesterol=190, FastingBS=0, RestingECG='Normal', MaxHR=150, ExerciseAngina='Y', Oldpeak=1.0, ST_Slope='Flat', HeartDisease=1),\n",
              " Row(Age=49, Sex='M', ChestPainType='ASY', RestingBP=140, Cholesterol=185, FastingBS=0, RestingECG='Normal', MaxHR=130, ExerciseAngina='N', Oldpeak=0.0, ST_Slope='Up', HeartDisease=0),\n",
              " Row(Age=44, Sex='M', ChestPainType='ASY', RestingBP=130, Cholesterol=290, FastingBS=0, RestingECG='Normal', MaxHR=100, ExerciseAngina='Y', Oldpeak=2.0, ST_Slope='Flat', HeartDisease=1),\n",
              " Row(Age=54, Sex='M', ChestPainType='ATA', RestingBP=160, Cholesterol=195, FastingBS=0, RestingECG='ST', MaxHR=130, ExerciseAngina='N', Oldpeak=1.0, ST_Slope='Up', HeartDisease=0),\n",
              " Row(Age=59, Sex='M', ChestPainType='ASY', RestingBP=140, Cholesterol=264, FastingBS=1, RestingECG='LVH', MaxHR=119, ExerciseAngina='Y', Oldpeak=0.0, ST_Slope='Flat', HeartDisease=1),\n",
              " Row(Age=49, Sex='M', ChestPainType='ASY', RestingBP=128, Cholesterol=212, FastingBS=0, RestingECG='Normal', MaxHR=96, ExerciseAngina='Y', Oldpeak=0.0, ST_Slope='Flat', HeartDisease=1),\n",
              " Row(Age=47, Sex='M', ChestPainType='ATA', RestingBP=160, Cholesterol=263, FastingBS=0, RestingECG='Normal', MaxHR=174, ExerciseAngina='N', Oldpeak=0.0, ST_Slope='Up', HeartDisease=0),\n",
              " Row(Age=42, Sex='M', ChestPainType='ATA', RestingBP=120, Cholesterol=196, FastingBS=0, RestingECG='Normal', MaxHR=150, ExerciseAngina='N', Oldpeak=0.0, ST_Slope='Up', HeartDisease=0),\n",
              " Row(Age=52, Sex='F', ChestPainType='ATA', RestingBP=140, Cholesterol=225, FastingBS=0, RestingECG='Normal', MaxHR=140, ExerciseAngina='N', Oldpeak=0.0, ST_Slope='Up', HeartDisease=0),\n",
              " Row(Age=46, Sex='M', ChestPainType='TA', RestingBP=140, Cholesterol=272, FastingBS=1, RestingECG='Normal', MaxHR=175, ExerciseAngina='N', Oldpeak=2.0, ST_Slope='Flat', HeartDisease=1),\n",
              " Row(Age=50, Sex='M', ChestPainType='ASY', RestingBP=140, Cholesterol=231, FastingBS=0, RestingECG='ST', MaxHR=140, ExerciseAngina='Y', Oldpeak=5.0, ST_Slope='Flat', HeartDisease=1),\n",
              " Row(Age=48, Sex='M', ChestPainType='ATA', RestingBP=140, Cholesterol=238, FastingBS=0, RestingECG='Normal', MaxHR=118, ExerciseAngina='N', Oldpeak=0.0, ST_Slope='Up', HeartDisease=0),\n",
              " Row(Age=58, Sex='M', ChestPainType='ASY', RestingBP=135, Cholesterol=222, FastingBS=0, RestingECG='Normal', MaxHR=100, ExerciseAngina='N', Oldpeak=0.0, ST_Slope='Up', HeartDisease=0),\n",
              " Row(Age=58, Sex='M', ChestPainType='NAP', RestingBP=140, Cholesterol=179, FastingBS=0, RestingECG='Normal', MaxHR=160, ExerciseAngina='N', Oldpeak=0.0, ST_Slope='Up', HeartDisease=0),\n",
              " Row(Age=29, Sex='M', ChestPainType='ATA', RestingBP=120, Cholesterol=243, FastingBS=0, RestingECG='Normal', MaxHR=160, ExerciseAngina='N', Oldpeak=0.0, ST_Slope='Up', HeartDisease=0),\n",
              " Row(Age=40, Sex='M', ChestPainType='NAP', RestingBP=140, Cholesterol=235, FastingBS=0, RestingECG='Normal', MaxHR=188, ExerciseAngina='N', Oldpeak=0.0, ST_Slope='Up', HeartDisease=0),\n",
              " Row(Age=53, Sex='M', ChestPainType='ATA', RestingBP=140, Cholesterol=320, FastingBS=0, RestingECG='Normal', MaxHR=162, ExerciseAngina='N', Oldpeak=0.0, ST_Slope='Up', HeartDisease=0),\n",
              " Row(Age=49, Sex='M', ChestPainType='NAP', RestingBP=140, Cholesterol=187, FastingBS=0, RestingECG='Normal', MaxHR=172, ExerciseAngina='N', Oldpeak=0.0, ST_Slope='Up', HeartDisease=0),\n",
              " Row(Age=52, Sex='M', ChestPainType='ASY', RestingBP=140, Cholesterol=266, FastingBS=0, RestingECG='Normal', MaxHR=134, ExerciseAngina='Y', Oldpeak=2.0, ST_Slope='Flat', HeartDisease=1),\n",
              " Row(Age=43, Sex='M', ChestPainType='ASY', RestingBP=140, Cholesterol=288, FastingBS=0, RestingECG='Normal', MaxHR=135, ExerciseAngina='Y', Oldpeak=2.0, ST_Slope='Flat', HeartDisease=1),\n",
              " Row(Age=54, Sex='M', ChestPainType='ASY', RestingBP=140, Cholesterol=216, FastingBS=0, RestingECG='Normal', MaxHR=105, ExerciseAngina='N', Oldpeak=1.5, ST_Slope='Flat', HeartDisease=1),\n",
              " Row(Age=59, Sex='M', ChestPainType='ATA', RestingBP=140, Cholesterol=287, FastingBS=0, RestingECG='Normal', MaxHR=150, ExerciseAngina='N', Oldpeak=0.0, ST_Slope='Up', HeartDisease=0),\n",
              " Row(Age=37, Sex='M', ChestPainType='NAP', RestingBP=130, Cholesterol=194, FastingBS=0, RestingECG='Normal', MaxHR=150, ExerciseAngina='N', Oldpeak=0.0, ST_Slope='Up', HeartDisease=0),\n",
              " Row(Age=46, Sex='F', ChestPainType='ASY', RestingBP=130, Cholesterol=238, FastingBS=0, RestingECG='Normal', MaxHR=90, ExerciseAngina='N', Oldpeak=0.0, ST_Slope='Up', HeartDisease=0),\n",
              " Row(Age=52, Sex='M', ChestPainType='ASY', RestingBP=130, Cholesterol=225, FastingBS=0, RestingECG='Normal', MaxHR=120, ExerciseAngina='Y', Oldpeak=2.0, ST_Slope='Flat', HeartDisease=1),\n",
              " Row(Age=51, Sex='M', ChestPainType='ATA', RestingBP=130, Cholesterol=224, FastingBS=0, RestingECG='Normal', MaxHR=150, ExerciseAngina='N', Oldpeak=0.0, ST_Slope='Up', HeartDisease=0),\n",
              " Row(Age=52, Sex='M', ChestPainType='ASY', RestingBP=140, Cholesterol=404, FastingBS=0, RestingECG='Normal', MaxHR=124, ExerciseAngina='Y', Oldpeak=2.0, ST_Slope='Flat', HeartDisease=1),\n",
              " Row(Age=46, Sex='M', ChestPainType='ASY', RestingBP=110, Cholesterol=238, FastingBS=0, RestingECG='ST', MaxHR=140, ExerciseAngina='Y', Oldpeak=1.0, ST_Slope='Flat', HeartDisease=0),\n",
              " Row(Age=54, Sex='F', ChestPainType='ATA', RestingBP=160, Cholesterol=312, FastingBS=0, RestingECG='Normal', MaxHR=130, ExerciseAngina='N', Oldpeak=0.0, ST_Slope='Up', HeartDisease=0),\n",
              " Row(Age=58, Sex='M', ChestPainType='NAP', RestingBP=160, Cholesterol=211, FastingBS=1, RestingECG='ST', MaxHR=92, ExerciseAngina='N', Oldpeak=0.0, ST_Slope='Flat', HeartDisease=1),\n",
              " Row(Age=58, Sex='M', ChestPainType='ATA', RestingBP=130, Cholesterol=251, FastingBS=0, RestingECG='Normal', MaxHR=110, ExerciseAngina='N', Oldpeak=0.0, ST_Slope='Up', HeartDisease=0),\n",
              " Row(Age=41, Sex='M', ChestPainType='ASY', RestingBP=120, Cholesterol=237, FastingBS=1, RestingECG='Normal', MaxHR=138, ExerciseAngina='Y', Oldpeak=1.0, ST_Slope='Flat', HeartDisease=1),\n",
              " Row(Age=50, Sex='F', ChestPainType='ASY', RestingBP=120, Cholesterol=328, FastingBS=0, RestingECG='Normal', MaxHR=110, ExerciseAngina='Y', Oldpeak=1.0, ST_Slope='Flat', HeartDisease=0),\n",
              " Row(Age=53, Sex='M', ChestPainType='ASY', RestingBP=180, Cholesterol=285, FastingBS=0, RestingECG='ST', MaxHR=120, ExerciseAngina='Y', Oldpeak=1.5, ST_Slope='Flat', HeartDisease=1),\n",
              " Row(Age=46, Sex='M', ChestPainType='ASY', RestingBP=180, Cholesterol=280, FastingBS=0, RestingECG='ST', MaxHR=120, ExerciseAngina='N', Oldpeak=0.0, ST_Slope='Up', HeartDisease=0),\n",
              " Row(Age=50, Sex='M', ChestPainType='ATA', RestingBP=170, Cholesterol=209, FastingBS=0, RestingECG='ST', MaxHR=116, ExerciseAngina='N', Oldpeak=0.0, ST_Slope='Up', HeartDisease=0),\n",
              " Row(Age=48, Sex='M', ChestPainType='ATA', RestingBP=130, Cholesterol=245, FastingBS=0, RestingECG='Normal', MaxHR=160, ExerciseAngina='N', Oldpeak=0.0, ST_Slope='Up', HeartDisease=0),\n",
              " Row(Age=45, Sex='M', ChestPainType='NAP', RestingBP=135, Cholesterol=192, FastingBS=0, RestingECG='Normal', MaxHR=110, ExerciseAngina='N', Oldpeak=0.0, ST_Slope='Up', HeartDisease=0),\n",
              " Row(Age=41, Sex='F', ChestPainType='ATA', RestingBP=125, Cholesterol=184, FastingBS=0, RestingECG='Normal', MaxHR=180, ExerciseAngina='N', Oldpeak=0.0, ST_Slope='Up', HeartDisease=0),\n",
              " Row(Age=62, Sex='F', ChestPainType='TA', RestingBP=160, Cholesterol=193, FastingBS=0, RestingECG='Normal', MaxHR=116, ExerciseAngina='N', Oldpeak=0.0, ST_Slope='Up', HeartDisease=0),\n",
              " Row(Age=49, Sex='M', ChestPainType='ASY', RestingBP=120, Cholesterol=297, FastingBS=0, RestingECG='Normal', MaxHR=132, ExerciseAngina='N', Oldpeak=1.0, ST_Slope='Flat', HeartDisease=0),\n",
              " Row(Age=42, Sex='M', ChestPainType='ATA', RestingBP=150, Cholesterol=268, FastingBS=0, RestingECG='Normal', MaxHR=136, ExerciseAngina='N', Oldpeak=0.0, ST_Slope='Up', HeartDisease=0),\n",
              " Row(Age=53, Sex='M', ChestPainType='ASY', RestingBP=120, Cholesterol=246, FastingBS=0, RestingECG='Normal', MaxHR=116, ExerciseAngina='Y', Oldpeak=0.0, ST_Slope='Flat', HeartDisease=1),\n",
              " Row(Age=57, Sex='F', ChestPainType='TA', RestingBP=130, Cholesterol=308, FastingBS=0, RestingECG='Normal', MaxHR=98, ExerciseAngina='N', Oldpeak=1.0, ST_Slope='Flat', HeartDisease=0),\n",
              " Row(Age=47, Sex='M', ChestPainType='TA', RestingBP=110, Cholesterol=249, FastingBS=0, RestingECG='Normal', MaxHR=150, ExerciseAngina='N', Oldpeak=0.0, ST_Slope='Up', HeartDisease=0),\n",
              " Row(Age=46, Sex='M', ChestPainType='NAP', RestingBP=120, Cholesterol=230, FastingBS=0, RestingECG='Normal', MaxHR=150, ExerciseAngina='N', Oldpeak=0.0, ST_Slope='Up', HeartDisease=0),\n",
              " Row(Age=42, Sex='M', ChestPainType='NAP', RestingBP=160, Cholesterol=147, FastingBS=0, RestingECG='Normal', MaxHR=146, ExerciseAngina='N', Oldpeak=0.0, ST_Slope='Up', HeartDisease=0),\n",
              " Row(Age=31, Sex='F', ChestPainType='ATA', RestingBP=100, Cholesterol=219, FastingBS=0, RestingECG='ST', MaxHR=150, ExerciseAngina='N', Oldpeak=0.0, ST_Slope='Up', HeartDisease=0),\n",
              " Row(Age=56, Sex='M', ChestPainType='ATA', RestingBP=130, Cholesterol=184, FastingBS=0, RestingECG='Normal', MaxHR=100, ExerciseAngina='N', Oldpeak=0.0, ST_Slope='Up', HeartDisease=0),\n",
              " Row(Age=50, Sex='M', ChestPainType='ASY', RestingBP=150, Cholesterol=215, FastingBS=0, RestingECG='Normal', MaxHR=140, ExerciseAngina='Y', Oldpeak=0.0, ST_Slope='Up', HeartDisease=0),\n",
              " Row(Age=35, Sex='M', ChestPainType='ATA', RestingBP=120, Cholesterol=308, FastingBS=0, RestingECG='LVH', MaxHR=180, ExerciseAngina='N', Oldpeak=0.0, ST_Slope='Up', HeartDisease=0),\n",
              " Row(Age=35, Sex='M', ChestPainType='ATA', RestingBP=110, Cholesterol=257, FastingBS=0, RestingECG='Normal', MaxHR=140, ExerciseAngina='N', Oldpeak=0.0, ST_Slope='Flat', HeartDisease=1),\n",
              " Row(Age=28, Sex='M', ChestPainType='ATA', RestingBP=130, Cholesterol=132, FastingBS=0, RestingECG='LVH', MaxHR=185, ExerciseAngina='N', Oldpeak=0.0, ST_Slope='Up', HeartDisease=0),\n",
              " Row(Age=54, Sex='M', ChestPainType='ASY', RestingBP=125, Cholesterol=216, FastingBS=0, RestingECG='Normal', MaxHR=140, ExerciseAngina='N', Oldpeak=0.0, ST_Slope='Flat', HeartDisease=1),\n",
              " Row(Age=48, Sex='M', ChestPainType='ASY', RestingBP=106, Cholesterol=263, FastingBS=1, RestingECG='Normal', MaxHR=110, ExerciseAngina='N', Oldpeak=0.0, ST_Slope='Flat', HeartDisease=1),\n",
              " Row(Age=50, Sex='F', ChestPainType='NAP', RestingBP=140, Cholesterol=288, FastingBS=0, RestingECG='Normal', MaxHR=140, ExerciseAngina='Y', Oldpeak=0.0, ST_Slope='Flat', HeartDisease=1),\n",
              " Row(Age=56, Sex='M', ChestPainType='NAP', RestingBP=130, Cholesterol=276, FastingBS=0, RestingECG='Normal', MaxHR=128, ExerciseAngina='Y', Oldpeak=1.0, ST_Slope='Up', HeartDisease=0),\n",
              " Row(Age=56, Sex='F', ChestPainType='NAP', RestingBP=130, Cholesterol=219, FastingBS=0, RestingECG='ST', MaxHR=164, ExerciseAngina='N', Oldpeak=0.0, ST_Slope='Up', HeartDisease=0),\n",
              " Row(Age=47, Sex='M', ChestPainType='ASY', RestingBP=150, Cholesterol=226, FastingBS=0, RestingECG='Normal', MaxHR=98, ExerciseAngina='Y', Oldpeak=1.5, ST_Slope='Flat', HeartDisease=1),\n",
              " Row(Age=30, Sex='F', ChestPainType='TA', RestingBP=170, Cholesterol=237, FastingBS=0, RestingECG='ST', MaxHR=170, ExerciseAngina='N', Oldpeak=0.0, ST_Slope='Up', HeartDisease=0),\n",
              " Row(Age=39, Sex='M', ChestPainType='ASY', RestingBP=110, Cholesterol=280, FastingBS=0, RestingECG='Normal', MaxHR=150, ExerciseAngina='N', Oldpeak=0.0, ST_Slope='Flat', HeartDisease=1),\n",
              " Row(Age=54, Sex='M', ChestPainType='NAP', RestingBP=120, Cholesterol=217, FastingBS=0, RestingECG='Normal', MaxHR=137, ExerciseAngina='N', Oldpeak=0.0, ST_Slope='Up', HeartDisease=0),\n",
              " Row(Age=55, Sex='M', ChestPainType='ATA', RestingBP=140, Cholesterol=196, FastingBS=0, RestingECG='Normal', MaxHR=150, ExerciseAngina='N', Oldpeak=0.0, ST_Slope='Up', HeartDisease=0),\n",
              " Row(Age=29, Sex='M', ChestPainType='ATA', RestingBP=140, Cholesterol=263, FastingBS=0, RestingECG='Normal', MaxHR=170, ExerciseAngina='N', Oldpeak=0.0, ST_Slope='Up', HeartDisease=0),\n",
              " Row(Age=46, Sex='M', ChestPainType='ASY', RestingBP=130, Cholesterol=222, FastingBS=0, RestingECG='Normal', MaxHR=112, ExerciseAngina='N', Oldpeak=0.0, ST_Slope='Flat', HeartDisease=1),\n",
              " Row(Age=51, Sex='F', ChestPainType='ASY', RestingBP=160, Cholesterol=303, FastingBS=0, RestingECG='Normal', MaxHR=150, ExerciseAngina='Y', Oldpeak=1.0, ST_Slope='Flat', HeartDisease=1),\n",
              " Row(Age=48, Sex='F', ChestPainType='NAP', RestingBP=120, Cholesterol=195, FastingBS=0, RestingECG='Normal', MaxHR=125, ExerciseAngina='N', Oldpeak=0.0, ST_Slope='Up', HeartDisease=0),\n",
              " Row(Age=33, Sex='M', ChestPainType='NAP', RestingBP=120, Cholesterol=298, FastingBS=0, RestingECG='Normal', MaxHR=185, ExerciseAngina='N', Oldpeak=0.0, ST_Slope='Up', HeartDisease=0),\n",
              " Row(Age=55, Sex='M', ChestPainType='ATA', RestingBP=120, Cholesterol=256, FastingBS=1, RestingECG='Normal', MaxHR=137, ExerciseAngina='N', Oldpeak=0.0, ST_Slope='Up', HeartDisease=0),\n",
              " Row(Age=50, Sex='M', ChestPainType='ASY', RestingBP=145, Cholesterol=264, FastingBS=0, RestingECG='Normal', MaxHR=150, ExerciseAngina='N', Oldpeak=0.0, ST_Slope='Flat', HeartDisease=1),\n",
              " Row(Age=53, Sex='M', ChestPainType='NAP', RestingBP=120, Cholesterol=195, FastingBS=0, RestingECG='Normal', MaxHR=140, ExerciseAngina='N', Oldpeak=0.0, ST_Slope='Up', HeartDisease=0),\n",
              " Row(Age=38, Sex='M', ChestPainType='ASY', RestingBP=92, Cholesterol=117, FastingBS=0, RestingECG='Normal', MaxHR=134, ExerciseAngina='Y', Oldpeak=2.5, ST_Slope='Flat', HeartDisease=1),\n",
              " Row(Age=41, Sex='M', ChestPainType='ATA', RestingBP=120, Cholesterol=295, FastingBS=0, RestingECG='Normal', MaxHR=170, ExerciseAngina='N', Oldpeak=0.0, ST_Slope='Up', HeartDisease=0),\n",
              " Row(Age=37, Sex='F', ChestPainType='ASY', RestingBP=130, Cholesterol=173, FastingBS=0, RestingECG='ST', MaxHR=184, ExerciseAngina='N', Oldpeak=0.0, ST_Slope='Up', HeartDisease=0),\n",
              " Row(Age=37, Sex='M', ChestPainType='ASY', RestingBP=130, Cholesterol=315, FastingBS=0, RestingECG='Normal', MaxHR=158, ExerciseAngina='N', Oldpeak=0.0, ST_Slope='Up', HeartDisease=0),\n",
              " Row(Age=40, Sex='M', ChestPainType='NAP', RestingBP=130, Cholesterol=281, FastingBS=0, RestingECG='Normal', MaxHR=167, ExerciseAngina='N', Oldpeak=0.0, ST_Slope='Up', HeartDisease=0),\n",
              " Row(Age=38, Sex='F', ChestPainType='ATA', RestingBP=120, Cholesterol=275, FastingBS=0, RestingECG='Normal', MaxHR=129, ExerciseAngina='N', Oldpeak=0.0, ST_Slope='Up', HeartDisease=0),\n",
              " Row(Age=41, Sex='M', ChestPainType='ASY', RestingBP=112, Cholesterol=250, FastingBS=0, RestingECG='Normal', MaxHR=142, ExerciseAngina='N', Oldpeak=0.0, ST_Slope='Up', HeartDisease=0),\n",
              " Row(Age=54, Sex='F', ChestPainType='ATA', RestingBP=140, Cholesterol=309, FastingBS=0, RestingECG='ST', MaxHR=140, ExerciseAngina='N', Oldpeak=0.0, ST_Slope='Up', HeartDisease=0),\n",
              " Row(Age=39, Sex='M', ChestPainType='ATA', RestingBP=120, Cholesterol=200, FastingBS=0, RestingECG='Normal', MaxHR=160, ExerciseAngina='Y', Oldpeak=1.0, ST_Slope='Flat', HeartDisease=0),\n",
              " Row(Age=41, Sex='M', ChestPainType='ASY', RestingBP=120, Cholesterol=336, FastingBS=0, RestingECG='Normal', MaxHR=118, ExerciseAngina='Y', Oldpeak=3.0, ST_Slope='Flat', HeartDisease=1),\n",
              " Row(Age=55, Sex='M', ChestPainType='TA', RestingBP=140, Cholesterol=295, FastingBS=0, RestingECG='Normal', MaxHR=136, ExerciseAngina='N', Oldpeak=0.0, ST_Slope='Flat', HeartDisease=1),\n",
              " Row(Age=48, Sex='M', ChestPainType='ASY', RestingBP=160, Cholesterol=355, FastingBS=0, RestingECG='Normal', MaxHR=99, ExerciseAngina='Y', Oldpeak=2.0, ST_Slope='Flat', HeartDisease=1),\n",
              " Row(Age=48, Sex='M', ChestPainType='ASY', RestingBP=160, Cholesterol=193, FastingBS=0, RestingECG='Normal', MaxHR=102, ExerciseAngina='Y', Oldpeak=3.0, ST_Slope='Flat', HeartDisease=1),\n",
              " Row(Age=55, Sex='M', ChestPainType='ATA', RestingBP=145, Cholesterol=326, FastingBS=0, RestingECG='Normal', MaxHR=155, ExerciseAngina='N', Oldpeak=0.0, ST_Slope='Up', HeartDisease=0),\n",
              " Row(Age=54, Sex='M', ChestPainType='ASY', RestingBP=200, Cholesterol=198, FastingBS=0, RestingECG='Normal', MaxHR=142, ExerciseAngina='Y', Oldpeak=2.0, ST_Slope='Flat', HeartDisease=1),\n",
              " Row(Age=55, Sex='M', ChestPainType='ATA', RestingBP=160, Cholesterol=292, FastingBS=1, RestingECG='Normal', MaxHR=143, ExerciseAngina='Y', Oldpeak=2.0, ST_Slope='Flat', HeartDisease=1),\n",
              " Row(Age=43, Sex='F', ChestPainType='ATA', RestingBP=120, Cholesterol=266, FastingBS=0, RestingECG='Normal', MaxHR=118, ExerciseAngina='N', Oldpeak=0.0, ST_Slope='Up', HeartDisease=0),\n",
              " Row(Age=48, Sex='M', ChestPainType='ASY', RestingBP=160, Cholesterol=268, FastingBS=0, RestingECG='Normal', MaxHR=103, ExerciseAngina='Y', Oldpeak=1.0, ST_Slope='Flat', HeartDisease=1),\n",
              " Row(Age=54, Sex='M', ChestPainType='TA', RestingBP=120, Cholesterol=171, FastingBS=0, RestingECG='Normal', MaxHR=137, ExerciseAngina='N', Oldpeak=2.0, ST_Slope='Up', HeartDisease=0),\n",
              " Row(Age=54, Sex='M', ChestPainType='NAP', RestingBP=120, Cholesterol=237, FastingBS=0, RestingECG='Normal', MaxHR=150, ExerciseAngina='Y', Oldpeak=1.5, ST_Slope='Flat', HeartDisease=1),\n",
              " Row(Age=48, Sex='M', ChestPainType='ASY', RestingBP=122, Cholesterol=275, FastingBS=1, RestingECG='ST', MaxHR=150, ExerciseAngina='Y', Oldpeak=2.0, ST_Slope='Down', HeartDisease=1),\n",
              " Row(Age=45, Sex='M', ChestPainType='ASY', RestingBP=130, Cholesterol=219, FastingBS=0, RestingECG='ST', MaxHR=130, ExerciseAngina='Y', Oldpeak=1.0, ST_Slope='Flat', HeartDisease=1),\n",
              " Row(Age=49, Sex='M', ChestPainType='ASY', RestingBP=130, Cholesterol=341, FastingBS=0, RestingECG='Normal', MaxHR=120, ExerciseAngina='Y', Oldpeak=1.0, ST_Slope='Flat', HeartDisease=1),\n",
              " Row(Age=44, Sex='M', ChestPainType='ASY', RestingBP=135, Cholesterol=491, FastingBS=0, RestingECG='Normal', MaxHR=135, ExerciseAngina='N', Oldpeak=0.0, ST_Slope='Flat', HeartDisease=1),\n",
              " Row(Age=48, Sex='M', ChestPainType='ASY', RestingBP=120, Cholesterol=260, FastingBS=0, RestingECG='Normal', MaxHR=115, ExerciseAngina='N', Oldpeak=2.0, ST_Slope='Flat', HeartDisease=1),\n",
              " Row(Age=61, Sex='M', ChestPainType='ASY', RestingBP=125, Cholesterol=292, FastingBS=0, RestingECG='ST', MaxHR=115, ExerciseAngina='Y', Oldpeak=0.0, ST_Slope='Up', HeartDisease=0),\n",
              " Row(Age=62, Sex='M', ChestPainType='ATA', RestingBP=140, Cholesterol=271, FastingBS=0, RestingECG='Normal', MaxHR=152, ExerciseAngina='N', Oldpeak=1.0, ST_Slope='Up', HeartDisease=0),\n",
              " Row(Age=55, Sex='M', ChestPainType='ASY', RestingBP=145, Cholesterol=248, FastingBS=0, RestingECG='Normal', MaxHR=96, ExerciseAngina='Y', Oldpeak=2.0, ST_Slope='Flat', HeartDisease=1),\n",
              " Row(Age=53, Sex='F', ChestPainType='NAP', RestingBP=120, Cholesterol=274, FastingBS=0, RestingECG='Normal', MaxHR=130, ExerciseAngina='N', Oldpeak=0.0, ST_Slope='Up', HeartDisease=0),\n",
              " Row(Age=55, Sex='F', ChestPainType='ATA', RestingBP=130, Cholesterol=394, FastingBS=0, RestingECG='LVH', MaxHR=150, ExerciseAngina='N', Oldpeak=0.0, ST_Slope='Up', HeartDisease=0),\n",
              " Row(Age=36, Sex='M', ChestPainType='NAP', RestingBP=150, Cholesterol=160, FastingBS=0, RestingECG='Normal', MaxHR=172, ExerciseAngina='N', Oldpeak=0.0, ST_Slope='Up', HeartDisease=0),\n",
              " Row(Age=51, Sex='F', ChestPainType='NAP', RestingBP=150, Cholesterol=200, FastingBS=0, RestingECG='Normal', MaxHR=120, ExerciseAngina='N', Oldpeak=0.5, ST_Slope='Up', HeartDisease=0),\n",
              " Row(Age=55, Sex='F', ChestPainType='ATA', RestingBP=122, Cholesterol=320, FastingBS=0, RestingECG='Normal', MaxHR=155, ExerciseAngina='N', Oldpeak=0.0, ST_Slope='Up', HeartDisease=0),\n",
              " Row(Age=46, Sex='M', ChestPainType='ATA', RestingBP=140, Cholesterol=275, FastingBS=0, RestingECG='Normal', MaxHR=165, ExerciseAngina='Y', Oldpeak=0.0, ST_Slope='Up', HeartDisease=0),\n",
              " Row(Age=54, Sex='F', ChestPainType='ATA', RestingBP=120, Cholesterol=221, FastingBS=0, RestingECG='Normal', MaxHR=138, ExerciseAngina='N', Oldpeak=1.0, ST_Slope='Up', HeartDisease=0),\n",
              " Row(Age=46, Sex='M', ChestPainType='ASY', RestingBP=120, Cholesterol=231, FastingBS=0, RestingECG='Normal', MaxHR=115, ExerciseAngina='Y', Oldpeak=0.0, ST_Slope='Flat', HeartDisease=1),\n",
              " Row(Age=59, Sex='M', ChestPainType='ASY', RestingBP=130, Cholesterol=126, FastingBS=0, RestingECG='Normal', MaxHR=125, ExerciseAngina='N', Oldpeak=0.0, ST_Slope='Flat', HeartDisease=1),\n",
              " Row(Age=47, Sex='M', ChestPainType='NAP', RestingBP=140, Cholesterol=193, FastingBS=0, RestingECG='Normal', MaxHR=145, ExerciseAngina='Y', Oldpeak=1.0, ST_Slope='Flat', HeartDisease=1),\n",
              " Row(Age=54, Sex='M', ChestPainType='ATA', RestingBP=160, Cholesterol=305, FastingBS=0, RestingECG='Normal', MaxHR=175, ExerciseAngina='N', Oldpeak=0.0, ST_Slope='Up', HeartDisease=0),\n",
              " Row(Age=52, Sex='M', ChestPainType='ASY', RestingBP=130, Cholesterol=298, FastingBS=0, RestingECG='Normal', MaxHR=110, ExerciseAngina='Y', Oldpeak=1.0, ST_Slope='Flat', HeartDisease=1),\n",
              " Row(Age=34, Sex='M', ChestPainType='ATA', RestingBP=98, Cholesterol=220, FastingBS=0, RestingECG='Normal', MaxHR=150, ExerciseAngina='N', Oldpeak=0.0, ST_Slope='Up', HeartDisease=0),\n",
              " Row(Age=54, Sex='M', ChestPainType='ASY', RestingBP=130, Cholesterol=242, FastingBS=0, RestingECG='Normal', MaxHR=91, ExerciseAngina='Y', Oldpeak=1.0, ST_Slope='Flat', HeartDisease=1),\n",
              " Row(Age=47, Sex='F', ChestPainType='NAP', RestingBP=130, Cholesterol=235, FastingBS=0, RestingECG='Normal', MaxHR=145, ExerciseAngina='N', Oldpeak=2.0, ST_Slope='Flat', HeartDisease=0),\n",
              " Row(Age=45, Sex='M', ChestPainType='ASY', RestingBP=120, Cholesterol=225, FastingBS=0, RestingECG='Normal', MaxHR=140, ExerciseAngina='N', Oldpeak=0.0, ST_Slope='Up', HeartDisease=0),\n",
              " Row(Age=32, Sex='F', ChestPainType='ATA', RestingBP=105, Cholesterol=198, FastingBS=0, RestingECG='Normal', MaxHR=165, ExerciseAngina='N', Oldpeak=0.0, ST_Slope='Up', HeartDisease=0),\n",
              " Row(Age=55, Sex='M', ChestPainType='ASY', RestingBP=140, Cholesterol=201, FastingBS=0, RestingECG='Normal', MaxHR=130, ExerciseAngina='Y', Oldpeak=3.0, ST_Slope='Flat', HeartDisease=1),\n",
              " Row(Age=55, Sex='M', ChestPainType='NAP', RestingBP=120, Cholesterol=220, FastingBS=0, RestingECG='LVH', MaxHR=134, ExerciseAngina='N', Oldpeak=0.0, ST_Slope='Up', HeartDisease=0),\n",
              " Row(Age=45, Sex='F', ChestPainType='ATA', RestingBP=180, Cholesterol=295, FastingBS=0, RestingECG='Normal', MaxHR=180, ExerciseAngina='N', Oldpeak=0.0, ST_Slope='Up', HeartDisease=0),\n",
              " Row(Age=59, Sex='M', ChestPainType='NAP', RestingBP=180, Cholesterol=213, FastingBS=0, RestingECG='Normal', MaxHR=100, ExerciseAngina='N', Oldpeak=0.0, ST_Slope='Up', HeartDisease=0),\n",
              " Row(Age=51, Sex='M', ChestPainType='NAP', RestingBP=135, Cholesterol=160, FastingBS=0, RestingECG='Normal', MaxHR=150, ExerciseAngina='N', Oldpeak=2.0, ST_Slope='Flat', HeartDisease=1),\n",
              " Row(Age=52, Sex='M', ChestPainType='ASY', RestingBP=170, Cholesterol=223, FastingBS=0, RestingECG='Normal', MaxHR=126, ExerciseAngina='Y', Oldpeak=1.5, ST_Slope='Flat', HeartDisease=1),\n",
              " Row(Age=57, Sex='F', ChestPainType='ASY', RestingBP=180, Cholesterol=347, FastingBS=0, RestingECG='ST', MaxHR=126, ExerciseAngina='Y', Oldpeak=0.8, ST_Slope='Flat', HeartDisease=0),\n",
              " Row(Age=54, Sex='F', ChestPainType='ATA', RestingBP=130, Cholesterol=253, FastingBS=0, RestingECG='ST', MaxHR=155, ExerciseAngina='N', Oldpeak=0.0, ST_Slope='Up', HeartDisease=0),\n",
              " Row(Age=60, Sex='M', ChestPainType='NAP', RestingBP=120, Cholesterol=246, FastingBS=0, RestingECG='LVH', MaxHR=135, ExerciseAngina='N', Oldpeak=0.0, ST_Slope='Up', HeartDisease=0),\n",
              " Row(Age=49, Sex='M', ChestPainType='ASY', RestingBP=150, Cholesterol=222, FastingBS=0, RestingECG='Normal', MaxHR=122, ExerciseAngina='N', Oldpeak=2.0, ST_Slope='Flat', HeartDisease=1),\n",
              " Row(Age=51, Sex='F', ChestPainType='NAP', RestingBP=130, Cholesterol=220, FastingBS=0, RestingECG='Normal', MaxHR=160, ExerciseAngina='Y', Oldpeak=2.0, ST_Slope='Up', HeartDisease=0),\n",
              " Row(Age=55, Sex='F', ChestPainType='ATA', RestingBP=110, Cholesterol=344, FastingBS=0, RestingECG='ST', MaxHR=160, ExerciseAngina='N', Oldpeak=0.0, ST_Slope='Up', HeartDisease=0),\n",
              " Row(Age=42, Sex='M', ChestPainType='ASY', RestingBP=140, Cholesterol=358, FastingBS=0, RestingECG='Normal', MaxHR=170, ExerciseAngina='N', Oldpeak=0.0, ST_Slope='Up', HeartDisease=0),\n",
              " Row(Age=51, Sex='F', ChestPainType='NAP', RestingBP=110, Cholesterol=190, FastingBS=0, RestingECG='Normal', MaxHR=120, ExerciseAngina='N', Oldpeak=0.0, ST_Slope='Up', HeartDisease=0),\n",
              " Row(Age=59, Sex='M', ChestPainType='ASY', RestingBP=140, Cholesterol=169, FastingBS=0, RestingECG='Normal', MaxHR=140, ExerciseAngina='N', Oldpeak=0.0, ST_Slope='Up', HeartDisease=0),\n",
              " Row(Age=53, Sex='M', ChestPainType='ATA', RestingBP=120, Cholesterol=181, FastingBS=0, RestingECG='Normal', MaxHR=132, ExerciseAngina='N', Oldpeak=0.0, ST_Slope='Up', HeartDisease=0),\n",
              " Row(Age=48, Sex='F', ChestPainType='ATA', RestingBP=133, Cholesterol=308, FastingBS=0, RestingECG='ST', MaxHR=156, ExerciseAngina='N', Oldpeak=2.0, ST_Slope='Up', HeartDisease=0),\n",
              " Row(Age=36, Sex='M', ChestPainType='ATA', RestingBP=120, Cholesterol=166, FastingBS=0, RestingECG='Normal', MaxHR=180, ExerciseAngina='N', Oldpeak=0.0, ST_Slope='Up', HeartDisease=0),\n",
              " Row(Age=48, Sex='M', ChestPainType='NAP', RestingBP=110, Cholesterol=211, FastingBS=0, RestingECG='Normal', MaxHR=138, ExerciseAngina='N', Oldpeak=0.0, ST_Slope='Up', HeartDisease=0),\n",
              " Row(Age=47, Sex='F', ChestPainType='ATA', RestingBP=140, Cholesterol=257, FastingBS=0, RestingECG='Normal', MaxHR=135, ExerciseAngina='N', Oldpeak=1.0, ST_Slope='Up', HeartDisease=0),\n",
              " Row(Age=53, Sex='M', ChestPainType='ASY', RestingBP=130, Cholesterol=182, FastingBS=0, RestingECG='Normal', MaxHR=148, ExerciseAngina='N', Oldpeak=0.0, ST_Slope='Up', HeartDisease=0),\n",
              " Row(Age=65, Sex='M', ChestPainType='ASY', RestingBP=115, Cholesterol=0, FastingBS=0, RestingECG='Normal', MaxHR=93, ExerciseAngina='Y', Oldpeak=0.0, ST_Slope='Flat', HeartDisease=1),\n",
              " Row(Age=32, Sex='M', ChestPainType='TA', RestingBP=95, Cholesterol=0, FastingBS=1, RestingECG='Normal', MaxHR=127, ExerciseAngina='N', Oldpeak=0.7, ST_Slope='Up', HeartDisease=1),\n",
              " Row(Age=61, Sex='M', ChestPainType='ASY', RestingBP=105, Cholesterol=0, FastingBS=1, RestingECG='Normal', MaxHR=110, ExerciseAngina='Y', Oldpeak=1.5, ST_Slope='Up', HeartDisease=1),\n",
              " Row(Age=50, Sex='M', ChestPainType='ASY', RestingBP=145, Cholesterol=0, FastingBS=1, RestingECG='Normal', MaxHR=139, ExerciseAngina='Y', Oldpeak=0.7, ST_Slope='Flat', HeartDisease=1),\n",
              " Row(Age=57, Sex='M', ChestPainType='ASY', RestingBP=110, Cholesterol=0, FastingBS=1, RestingECG='ST', MaxHR=131, ExerciseAngina='Y', Oldpeak=1.4, ST_Slope='Up', HeartDisease=1),\n",
              " Row(Age=51, Sex='M', ChestPainType='ASY', RestingBP=110, Cholesterol=0, FastingBS=1, RestingECG='Normal', MaxHR=92, ExerciseAngina='N', Oldpeak=0.0, ST_Slope='Flat', HeartDisease=1),\n",
              " Row(Age=47, Sex='M', ChestPainType='ASY', RestingBP=110, Cholesterol=0, FastingBS=1, RestingECG='ST', MaxHR=149, ExerciseAngina='N', Oldpeak=2.1, ST_Slope='Up', HeartDisease=1),\n",
              " Row(Age=60, Sex='M', ChestPainType='ASY', RestingBP=160, Cholesterol=0, FastingBS=1, RestingECG='Normal', MaxHR=149, ExerciseAngina='N', Oldpeak=0.4, ST_Slope='Flat', HeartDisease=1),\n",
              " Row(Age=55, Sex='M', ChestPainType='ATA', RestingBP=140, Cholesterol=0, FastingBS=0, RestingECG='ST', MaxHR=150, ExerciseAngina='N', Oldpeak=0.2, ST_Slope='Up', HeartDisease=0),\n",
              " Row(Age=53, Sex='M', ChestPainType='ASY', RestingBP=125, Cholesterol=0, FastingBS=1, RestingECG='Normal', MaxHR=120, ExerciseAngina='N', Oldpeak=1.5, ST_Slope='Up', HeartDisease=1),\n",
              " Row(Age=62, Sex='F', ChestPainType='ASY', RestingBP=120, Cholesterol=0, FastingBS=1, RestingECG='ST', MaxHR=123, ExerciseAngina='Y', Oldpeak=1.7, ST_Slope='Down', HeartDisease=1),\n",
              " Row(Age=51, Sex='M', ChestPainType='ASY', RestingBP=95, Cholesterol=0, FastingBS=1, RestingECG='Normal', MaxHR=126, ExerciseAngina='N', Oldpeak=2.2, ST_Slope='Flat', HeartDisease=1),\n",
              " Row(Age=51, Sex='F', ChestPainType='ASY', RestingBP=120, Cholesterol=0, FastingBS=1, RestingECG='Normal', MaxHR=127, ExerciseAngina='Y', Oldpeak=1.5, ST_Slope='Up', HeartDisease=1),\n",
              " Row(Age=55, Sex='M', ChestPainType='ASY', RestingBP=115, Cholesterol=0, FastingBS=1, RestingECG='Normal', MaxHR=155, ExerciseAngina='N', Oldpeak=0.1, ST_Slope='Flat', HeartDisease=1),\n",
              " Row(Age=53, Sex='M', ChestPainType='ATA', RestingBP=130, Cholesterol=0, FastingBS=0, RestingECG='ST', MaxHR=120, ExerciseAngina='N', Oldpeak=0.7, ST_Slope='Down', HeartDisease=0),\n",
              " Row(Age=58, Sex='M', ChestPainType='ASY', RestingBP=115, Cholesterol=0, FastingBS=1, RestingECG='Normal', MaxHR=138, ExerciseAngina='N', Oldpeak=0.5, ST_Slope='Up', HeartDisease=1),\n",
              " Row(Age=57, Sex='M', ChestPainType='ASY', RestingBP=95, Cholesterol=0, FastingBS=1, RestingECG='Normal', MaxHR=182, ExerciseAngina='N', Oldpeak=0.7, ST_Slope='Down', HeartDisease=1),\n",
              " Row(Age=65, Sex='M', ChestPainType='ASY', RestingBP=155, Cholesterol=0, FastingBS=0, RestingECG='Normal', MaxHR=154, ExerciseAngina='N', Oldpeak=1.0, ST_Slope='Up', HeartDisease=0),\n",
              " Row(Age=60, Sex='M', ChestPainType='ASY', RestingBP=125, Cholesterol=0, FastingBS=1, RestingECG='Normal', MaxHR=110, ExerciseAngina='N', Oldpeak=0.1, ST_Slope='Up', HeartDisease=1),\n",
              " Row(Age=41, Sex='M', ChestPainType='ASY', RestingBP=125, Cholesterol=0, FastingBS=1, RestingECG='Normal', MaxHR=176, ExerciseAngina='N', Oldpeak=1.6, ST_Slope='Up', HeartDisease=1),\n",
              " Row(Age=34, Sex='M', ChestPainType='ASY', RestingBP=115, Cholesterol=0, FastingBS=1, RestingECG='Normal', MaxHR=154, ExerciseAngina='N', Oldpeak=0.2, ST_Slope='Up', HeartDisease=1),\n",
              " Row(Age=53, Sex='M', ChestPainType='ASY', RestingBP=80, Cholesterol=0, FastingBS=0, RestingECG='Normal', MaxHR=141, ExerciseAngina='Y', Oldpeak=2.0, ST_Slope='Down', HeartDisease=0),\n",
              " Row(Age=74, Sex='M', ChestPainType='ATA', RestingBP=145, Cholesterol=0, FastingBS=1, RestingECG='ST', MaxHR=123, ExerciseAngina='N', Oldpeak=1.3, ST_Slope='Up', HeartDisease=1),\n",
              " Row(Age=57, Sex='M', ChestPainType='NAP', RestingBP=105, Cholesterol=0, FastingBS=1, RestingECG='Normal', MaxHR=148, ExerciseAngina='N', Oldpeak=0.3, ST_Slope='Flat', HeartDisease=1),\n",
              " Row(Age=56, Sex='M', ChestPainType='ASY', RestingBP=140, Cholesterol=0, FastingBS=1, RestingECG='Normal', MaxHR=121, ExerciseAngina='Y', Oldpeak=1.8, ST_Slope='Up', HeartDisease=1),\n",
              " Row(Age=61, Sex='M', ChestPainType='ASY', RestingBP=130, Cholesterol=0, FastingBS=1, RestingECG='Normal', MaxHR=77, ExerciseAngina='N', Oldpeak=2.5, ST_Slope='Flat', HeartDisease=1),\n",
              " Row(Age=68, Sex='M', ChestPainType='ASY', RestingBP=145, Cholesterol=0, FastingBS=1, RestingECG='Normal', MaxHR=136, ExerciseAngina='N', Oldpeak=1.8, ST_Slope='Up', HeartDisease=1),\n",
              " Row(Age=59, Sex='M', ChestPainType='NAP', RestingBP=125, Cholesterol=0, FastingBS=1, RestingECG='Normal', MaxHR=175, ExerciseAngina='N', Oldpeak=2.6, ST_Slope='Flat', HeartDisease=1),\n",
              " Row(Age=63, Sex='M', ChestPainType='ASY', RestingBP=100, Cholesterol=0, FastingBS=1, RestingECG='Normal', MaxHR=109, ExerciseAngina='N', Oldpeak=-0.9, ST_Slope='Flat', HeartDisease=1),\n",
              " Row(Age=38, Sex='F', ChestPainType='ASY', RestingBP=105, Cholesterol=0, FastingBS=1, RestingECG='Normal', MaxHR=166, ExerciseAngina='N', Oldpeak=2.8, ST_Slope='Up', HeartDisease=1),\n",
              " Row(Age=62, Sex='M', ChestPainType='ASY', RestingBP=115, Cholesterol=0, FastingBS=1, RestingECG='Normal', MaxHR=128, ExerciseAngina='Y', Oldpeak=2.5, ST_Slope='Down', HeartDisease=1),\n",
              " Row(Age=46, Sex='M', ChestPainType='ASY', RestingBP=100, Cholesterol=0, FastingBS=1, RestingECG='ST', MaxHR=133, ExerciseAngina='N', Oldpeak=-2.6, ST_Slope='Flat', HeartDisease=1),\n",
              " Row(Age=42, Sex='M', ChestPainType='ASY', RestingBP=105, Cholesterol=0, FastingBS=1, RestingECG='Normal', MaxHR=128, ExerciseAngina='Y', Oldpeak=-1.5, ST_Slope='Down', HeartDisease=1),\n",
              " Row(Age=45, Sex='M', ChestPainType='NAP', RestingBP=110, Cholesterol=0, FastingBS=0, RestingECG='Normal', MaxHR=138, ExerciseAngina='N', Oldpeak=-0.1, ST_Slope='Up', HeartDisease=0),\n",
              " Row(Age=59, Sex='M', ChestPainType='ASY', RestingBP=125, Cholesterol=0, FastingBS=1, RestingECG='Normal', MaxHR=119, ExerciseAngina='Y', Oldpeak=0.9, ST_Slope='Up', HeartDisease=1),\n",
              " Row(Age=52, Sex='M', ChestPainType='ASY', RestingBP=95, Cholesterol=0, FastingBS=1, RestingECG='Normal', MaxHR=82, ExerciseAngina='Y', Oldpeak=0.8, ST_Slope='Flat', HeartDisease=1),\n",
              " Row(Age=60, Sex='M', ChestPainType='ASY', RestingBP=130, Cholesterol=0, FastingBS=1, RestingECG='ST', MaxHR=130, ExerciseAngina='Y', Oldpeak=1.1, ST_Slope='Down', HeartDisease=1),\n",
              " Row(Age=60, Sex='M', ChestPainType='NAP', RestingBP=115, Cholesterol=0, FastingBS=1, RestingECG='Normal', MaxHR=143, ExerciseAngina='N', Oldpeak=2.4, ST_Slope='Up', HeartDisease=1),\n",
              " Row(Age=56, Sex='M', ChestPainType='ASY', RestingBP=115, Cholesterol=0, FastingBS=1, RestingECG='ST', MaxHR=82, ExerciseAngina='N', Oldpeak=-1.0, ST_Slope='Up', HeartDisease=1),\n",
              " Row(Age=38, Sex='M', ChestPainType='NAP', RestingBP=100, Cholesterol=0, FastingBS=0, RestingECG='Normal', MaxHR=179, ExerciseAngina='N', Oldpeak=-1.1, ST_Slope='Up', HeartDisease=0),\n",
              " Row(Age=40, Sex='M', ChestPainType='ASY', RestingBP=95, Cholesterol=0, FastingBS=1, RestingECG='ST', MaxHR=144, ExerciseAngina='N', Oldpeak=0.0, ST_Slope='Up', HeartDisease=1),\n",
              " Row(Age=51, Sex='M', ChestPainType='ASY', RestingBP=130, Cholesterol=0, FastingBS=1, RestingECG='Normal', MaxHR=170, ExerciseAngina='N', Oldpeak=-0.7, ST_Slope='Up', HeartDisease=1),\n",
              " Row(Age=62, Sex='M', ChestPainType='TA', RestingBP=120, Cholesterol=0, FastingBS=1, RestingECG='LVH', MaxHR=134, ExerciseAngina='N', Oldpeak=-0.8, ST_Slope='Flat', HeartDisease=1),\n",
              " Row(Age=72, Sex='M', ChestPainType='NAP', RestingBP=160, Cholesterol=0, FastingBS=0, RestingECG='LVH', MaxHR=114, ExerciseAngina='N', Oldpeak=1.6, ST_Slope='Flat', HeartDisease=0),\n",
              " Row(Age=63, Sex='M', ChestPainType='ASY', RestingBP=150, Cholesterol=0, FastingBS=1, RestingECG='ST', MaxHR=154, ExerciseAngina='N', Oldpeak=3.7, ST_Slope='Up', HeartDisease=1),\n",
              " Row(Age=63, Sex='M', ChestPainType='ASY', RestingBP=140, Cholesterol=0, FastingBS=1, RestingECG='LVH', MaxHR=149, ExerciseAngina='N', Oldpeak=2.0, ST_Slope='Up', HeartDisease=1),\n",
              " Row(Age=64, Sex='F', ChestPainType='ASY', RestingBP=95, Cholesterol=0, FastingBS=1, RestingECG='Normal', MaxHR=145, ExerciseAngina='N', Oldpeak=1.1, ST_Slope='Down', HeartDisease=1),\n",
              " Row(Age=43, Sex='M', ChestPainType='ASY', RestingBP=100, Cholesterol=0, FastingBS=1, RestingECG='Normal', MaxHR=122, ExerciseAngina='N', Oldpeak=1.5, ST_Slope='Down', HeartDisease=1),\n",
              " Row(Age=64, Sex='M', ChestPainType='ASY', RestingBP=110, Cholesterol=0, FastingBS=1, RestingECG='Normal', MaxHR=114, ExerciseAngina='Y', Oldpeak=1.3, ST_Slope='Down', HeartDisease=1),\n",
              " Row(Age=61, Sex='M', ChestPainType='ASY', RestingBP=110, Cholesterol=0, FastingBS=1, RestingECG='Normal', MaxHR=113, ExerciseAngina='N', Oldpeak=1.4, ST_Slope='Flat', HeartDisease=1),\n",
              " Row(Age=52, Sex='M', ChestPainType='ASY', RestingBP=130, Cholesterol=0, FastingBS=1, RestingECG='Normal', MaxHR=120, ExerciseAngina='N', Oldpeak=0.0, ST_Slope='Flat', HeartDisease=1),\n",
              " Row(Age=51, Sex='M', ChestPainType='ASY', RestingBP=120, Cholesterol=0, FastingBS=1, RestingECG='Normal', MaxHR=104, ExerciseAngina='N', Oldpeak=0.0, ST_Slope='Flat', HeartDisease=1),\n",
              " Row(Age=69, Sex='M', ChestPainType='ASY', RestingBP=135, Cholesterol=0, FastingBS=0, RestingECG='Normal', MaxHR=130, ExerciseAngina='N', Oldpeak=0.0, ST_Slope='Flat', HeartDisease=1),\n",
              " Row(Age=59, Sex='M', ChestPainType='ASY', RestingBP=120, Cholesterol=0, FastingBS=0, RestingECG='Normal', MaxHR=115, ExerciseAngina='N', Oldpeak=0.0, ST_Slope='Flat', HeartDisease=1),\n",
              " Row(Age=48, Sex='M', ChestPainType='ASY', RestingBP=115, Cholesterol=0, FastingBS=1, RestingECG='Normal', MaxHR=128, ExerciseAngina='N', Oldpeak=0.0, ST_Slope='Flat', HeartDisease=1),\n",
              " Row(Age=69, Sex='M', ChestPainType='ASY', RestingBP=137, Cholesterol=0, FastingBS=0, RestingECG='ST', MaxHR=104, ExerciseAngina='Y', Oldpeak=1.6, ST_Slope='Flat', HeartDisease=1),\n",
              " Row(Age=36, Sex='M', ChestPainType='ASY', RestingBP=110, Cholesterol=0, FastingBS=1, RestingECG='Normal', MaxHR=125, ExerciseAngina='Y', Oldpeak=1.0, ST_Slope='Flat', HeartDisease=1),\n",
              " Row(Age=53, Sex='M', ChestPainType='ASY', RestingBP=120, Cholesterol=0, FastingBS=1, RestingECG='Normal', MaxHR=120, ExerciseAngina='N', Oldpeak=0.0, ST_Slope='Flat', HeartDisease=1),\n",
              " Row(Age=43, Sex='M', ChestPainType='ASY', RestingBP=140, Cholesterol=0, FastingBS=0, RestingECG='ST', MaxHR=140, ExerciseAngina='Y', Oldpeak=0.5, ST_Slope='Up', HeartDisease=1),\n",
              " Row(Age=56, Sex='M', ChestPainType='ASY', RestingBP=120, Cholesterol=0, FastingBS=0, RestingECG='ST', MaxHR=100, ExerciseAngina='Y', Oldpeak=-1.0, ST_Slope='Down', HeartDisease=1),\n",
              " Row(Age=58, Sex='M', ChestPainType='ASY', RestingBP=130, Cholesterol=0, FastingBS=0, RestingECG='ST', MaxHR=100, ExerciseAngina='Y', Oldpeak=1.0, ST_Slope='Flat', HeartDisease=1),\n",
              " Row(Age=55, Sex='M', ChestPainType='ASY', RestingBP=120, Cholesterol=0, FastingBS=0, RestingECG='ST', MaxHR=92, ExerciseAngina='N', Oldpeak=0.3, ST_Slope='Up', HeartDisease=1),\n",
              " Row(Age=67, Sex='M', ChestPainType='TA', RestingBP=145, Cholesterol=0, FastingBS=0, RestingECG='LVH', MaxHR=125, ExerciseAngina='N', Oldpeak=0.0, ST_Slope='Flat', HeartDisease=1),\n",
              " Row(Age=46, Sex='M', ChestPainType='ASY', RestingBP=115, Cholesterol=0, FastingBS=0, RestingECG='Normal', MaxHR=113, ExerciseAngina='Y', Oldpeak=1.5, ST_Slope='Flat', HeartDisease=1),\n",
              " Row(Age=53, Sex='M', ChestPainType='ATA', RestingBP=120, Cholesterol=0, FastingBS=0, RestingECG='Normal', MaxHR=95, ExerciseAngina='N', Oldpeak=0.0, ST_Slope='Flat', HeartDisease=1),\n",
              " Row(Age=38, Sex='M', ChestPainType='NAP', RestingBP=115, Cholesterol=0, FastingBS=0, RestingECG='Normal', MaxHR=128, ExerciseAngina='Y', Oldpeak=0.0, ST_Slope='Flat', HeartDisease=1),\n",
              " Row(Age=53, Sex='M', ChestPainType='NAP', RestingBP=105, Cholesterol=0, FastingBS=0, RestingECG='Normal', MaxHR=115, ExerciseAngina='N', Oldpeak=0.0, ST_Slope='Flat', HeartDisease=1),\n",
              " Row(Age=62, Sex='M', ChestPainType='NAP', RestingBP=160, Cholesterol=0, FastingBS=0, RestingECG='Normal', MaxHR=72, ExerciseAngina='Y', Oldpeak=0.0, ST_Slope='Flat', HeartDisease=1),\n",
              " Row(Age=47, Sex='M', ChestPainType='ASY', RestingBP=160, Cholesterol=0, FastingBS=0, RestingECG='Normal', MaxHR=124, ExerciseAngina='Y', Oldpeak=0.0, ST_Slope='Flat', HeartDisease=1),\n",
              " Row(Age=56, Sex='M', ChestPainType='NAP', RestingBP=155, Cholesterol=0, FastingBS=0, RestingECG='ST', MaxHR=99, ExerciseAngina='N', Oldpeak=0.0, ST_Slope='Flat', HeartDisease=1),\n",
              " Row(Age=56, Sex='M', ChestPainType='ASY', RestingBP=120, Cholesterol=0, FastingBS=0, RestingECG='ST', MaxHR=148, ExerciseAngina='N', Oldpeak=0.0, ST_Slope='Flat', HeartDisease=1),\n",
              " Row(Age=56, Sex='M', ChestPainType='NAP', RestingBP=120, Cholesterol=0, FastingBS=0, RestingECG='Normal', MaxHR=97, ExerciseAngina='N', Oldpeak=0.0, ST_Slope='Flat', HeartDisease=0),\n",
              " Row(Age=64, Sex='F', ChestPainType='ASY', RestingBP=200, Cholesterol=0, FastingBS=0, RestingECG='Normal', MaxHR=140, ExerciseAngina='Y', Oldpeak=1.0, ST_Slope='Flat', HeartDisease=1),\n",
              " Row(Age=61, Sex='M', ChestPainType='ASY', RestingBP=150, Cholesterol=0, FastingBS=0, RestingECG='Normal', MaxHR=117, ExerciseAngina='Y', Oldpeak=2.0, ST_Slope='Flat', HeartDisease=1),\n",
              " Row(Age=68, Sex='M', ChestPainType='ASY', RestingBP=135, Cholesterol=0, FastingBS=0, RestingECG='ST', MaxHR=120, ExerciseAngina='Y', Oldpeak=0.0, ST_Slope='Up', HeartDisease=1),\n",
              " Row(Age=57, Sex='M', ChestPainType='ASY', RestingBP=140, Cholesterol=0, FastingBS=0, RestingECG='Normal', MaxHR=120, ExerciseAngina='Y', Oldpeak=2.0, ST_Slope='Flat', HeartDisease=1),\n",
              " Row(Age=63, Sex='M', ChestPainType='ASY', RestingBP=150, Cholesterol=0, FastingBS=0, RestingECG='Normal', MaxHR=86, ExerciseAngina='Y', Oldpeak=2.0, ST_Slope='Flat', HeartDisease=1),\n",
              " Row(Age=60, Sex='M', ChestPainType='ASY', RestingBP=135, Cholesterol=0, FastingBS=0, RestingECG='Normal', MaxHR=63, ExerciseAngina='Y', Oldpeak=0.5, ST_Slope='Up', HeartDisease=1),\n",
              " Row(Age=66, Sex='M', ChestPainType='ASY', RestingBP=150, Cholesterol=0, FastingBS=0, RestingECG='Normal', MaxHR=108, ExerciseAngina='Y', Oldpeak=2.0, ST_Slope='Flat', HeartDisease=1),\n",
              " Row(Age=63, Sex='M', ChestPainType='ASY', RestingBP=185, Cholesterol=0, FastingBS=0, RestingECG='Normal', MaxHR=98, ExerciseAngina='Y', Oldpeak=0.0, ST_Slope='Up', HeartDisease=1),\n",
              " Row(Age=59, Sex='M', ChestPainType='ASY', RestingBP=135, Cholesterol=0, FastingBS=0, RestingECG='Normal', MaxHR=115, ExerciseAngina='Y', Oldpeak=1.0, ST_Slope='Flat', HeartDisease=1),\n",
              " Row(Age=61, Sex='M', ChestPainType='ASY', RestingBP=125, Cholesterol=0, FastingBS=0, RestingECG='Normal', MaxHR=105, ExerciseAngina='Y', Oldpeak=0.0, ST_Slope='Down', HeartDisease=1),\n",
              " Row(Age=73, Sex='F', ChestPainType='NAP', RestingBP=160, Cholesterol=0, FastingBS=0, RestingECG='ST', MaxHR=121, ExerciseAngina='N', Oldpeak=0.0, ST_Slope='Up', HeartDisease=1),\n",
              " Row(Age=47, Sex='M', ChestPainType='NAP', RestingBP=155, Cholesterol=0, FastingBS=0, RestingECG='Normal', MaxHR=118, ExerciseAngina='Y', Oldpeak=1.0, ST_Slope='Flat', HeartDisease=1),\n",
              " Row(Age=65, Sex='M', ChestPainType='ASY', RestingBP=160, Cholesterol=0, FastingBS=1, RestingECG='ST', MaxHR=122, ExerciseAngina='N', Oldpeak=1.2, ST_Slope='Flat', HeartDisease=1),\n",
              " Row(Age=70, Sex='M', ChestPainType='ASY', RestingBP=140, Cholesterol=0, FastingBS=1, RestingECG='Normal', MaxHR=157, ExerciseAngina='Y', Oldpeak=2.0, ST_Slope='Flat', HeartDisease=1),\n",
              " Row(Age=50, Sex='M', ChestPainType='ASY', RestingBP=120, Cholesterol=0, FastingBS=0, RestingECG='ST', MaxHR=156, ExerciseAngina='Y', Oldpeak=0.0, ST_Slope='Up', HeartDisease=1),\n",
              " Row(Age=60, Sex='M', ChestPainType='ASY', RestingBP=160, Cholesterol=0, FastingBS=0, RestingECG='ST', MaxHR=99, ExerciseAngina='Y', Oldpeak=0.5, ST_Slope='Flat', HeartDisease=1),\n",
              " Row(Age=50, Sex='M', ChestPainType='ASY', RestingBP=115, Cholesterol=0, FastingBS=0, RestingECG='Normal', MaxHR=120, ExerciseAngina='Y', Oldpeak=0.5, ST_Slope='Flat', HeartDisease=1),\n",
              " Row(Age=43, Sex='M', ChestPainType='ASY', RestingBP=115, Cholesterol=0, FastingBS=0, RestingECG='Normal', MaxHR=145, ExerciseAngina='Y', Oldpeak=2.0, ST_Slope='Flat', HeartDisease=1),\n",
              " Row(Age=38, Sex='F', ChestPainType='ASY', RestingBP=110, Cholesterol=0, FastingBS=0, RestingECG='Normal', MaxHR=156, ExerciseAngina='N', Oldpeak=0.0, ST_Slope='Flat', HeartDisease=1),\n",
              " Row(Age=54, Sex='M', ChestPainType='ASY', RestingBP=120, Cholesterol=0, FastingBS=0, RestingECG='Normal', MaxHR=155, ExerciseAngina='N', Oldpeak=0.0, ST_Slope='Flat', HeartDisease=1),\n",
              " Row(Age=61, Sex='M', ChestPainType='ASY', RestingBP=150, Cholesterol=0, FastingBS=0, RestingECG='Normal', MaxHR=105, ExerciseAngina='Y', Oldpeak=0.0, ST_Slope='Flat', HeartDisease=1),\n",
              " Row(Age=42, Sex='M', ChestPainType='ASY', RestingBP=145, Cholesterol=0, FastingBS=0, RestingECG='Normal', MaxHR=99, ExerciseAngina='Y', Oldpeak=0.0, ST_Slope='Flat', HeartDisease=1),\n",
              " Row(Age=53, Sex='M', ChestPainType='ASY', RestingBP=130, Cholesterol=0, FastingBS=0, RestingECG='LVH', MaxHR=135, ExerciseAngina='Y', Oldpeak=1.0, ST_Slope='Flat', HeartDisease=1),\n",
              " Row(Age=55, Sex='M', ChestPainType='ASY', RestingBP=140, Cholesterol=0, FastingBS=0, RestingECG='Normal', MaxHR=83, ExerciseAngina='N', Oldpeak=0.0, ST_Slope='Flat', HeartDisease=1),\n",
              " Row(Age=61, Sex='M', ChestPainType='ASY', RestingBP=160, Cholesterol=0, FastingBS=1, RestingECG='ST', MaxHR=145, ExerciseAngina='N', Oldpeak=1.0, ST_Slope='Flat', HeartDisease=1),\n",
              " Row(Age=51, Sex='M', ChestPainType='ASY', RestingBP=140, Cholesterol=0, FastingBS=0, RestingECG='Normal', MaxHR=60, ExerciseAngina='N', Oldpeak=0.0, ST_Slope='Flat', HeartDisease=1),\n",
              " Row(Age=70, Sex='M', ChestPainType='ASY', RestingBP=115, Cholesterol=0, FastingBS=0, RestingECG='ST', MaxHR=92, ExerciseAngina='Y', Oldpeak=0.0, ST_Slope='Flat', HeartDisease=1),\n",
              " Row(Age=61, Sex='M', ChestPainType='ASY', RestingBP=130, Cholesterol=0, FastingBS=0, RestingECG='LVH', MaxHR=115, ExerciseAngina='N', Oldpeak=0.0, ST_Slope='Flat', HeartDisease=1),\n",
              " Row(Age=38, Sex='M', ChestPainType='ASY', RestingBP=150, Cholesterol=0, FastingBS=1, RestingECG='Normal', MaxHR=120, ExerciseAngina='Y', Oldpeak=0.7, ST_Slope='Flat', HeartDisease=1),\n",
              " Row(Age=57, Sex='M', ChestPainType='ASY', RestingBP=160, Cholesterol=0, FastingBS=1, RestingECG='Normal', MaxHR=98, ExerciseAngina='Y', Oldpeak=2.0, ST_Slope='Flat', HeartDisease=1),\n",
              " Row(Age=38, Sex='M', ChestPainType='ASY', RestingBP=135, Cholesterol=0, FastingBS=1, RestingECG='Normal', MaxHR=150, ExerciseAngina='N', Oldpeak=0.0, ST_Slope='Flat', HeartDisease=1),\n",
              " Row(Age=62, Sex='F', ChestPainType='TA', RestingBP=140, Cholesterol=0, FastingBS=1, RestingECG='Normal', MaxHR=143, ExerciseAngina='N', Oldpeak=0.0, ST_Slope='Flat', HeartDisease=1),\n",
              " Row(Age=58, Sex='M', ChestPainType='ASY', RestingBP=170, Cholesterol=0, FastingBS=1, RestingECG='ST', MaxHR=105, ExerciseAngina='Y', Oldpeak=0.0, ST_Slope='Flat', HeartDisease=1),\n",
              " Row(Age=52, Sex='M', ChestPainType='ASY', RestingBP=165, Cholesterol=0, FastingBS=1, RestingECG='Normal', MaxHR=122, ExerciseAngina='Y', Oldpeak=1.0, ST_Slope='Up', HeartDisease=1),\n",
              " Row(Age=61, Sex='M', ChestPainType='NAP', RestingBP=200, Cholesterol=0, FastingBS=1, RestingECG='ST', MaxHR=70, ExerciseAngina='N', Oldpeak=0.0, ST_Slope='Flat', HeartDisease=1),\n",
              " Row(Age=50, Sex='F', ChestPainType='ASY', RestingBP=160, Cholesterol=0, FastingBS=1, RestingECG='Normal', MaxHR=110, ExerciseAngina='N', Oldpeak=0.0, ST_Slope='Flat', HeartDisease=1),\n",
              " Row(Age=51, Sex='M', ChestPainType='ASY', RestingBP=130, Cholesterol=0, FastingBS=1, RestingECG='ST', MaxHR=163, ExerciseAngina='N', Oldpeak=0.0, ST_Slope='Flat', HeartDisease=1),\n",
              " Row(Age=65, Sex='M', ChestPainType='ASY', RestingBP=145, Cholesterol=0, FastingBS=1, RestingECG='ST', MaxHR=67, ExerciseAngina='N', Oldpeak=0.7, ST_Slope='Flat', HeartDisease=1),\n",
              " Row(Age=52, Sex='M', ChestPainType='ASY', RestingBP=135, Cholesterol=0, FastingBS=1, RestingECG='Normal', MaxHR=128, ExerciseAngina='Y', Oldpeak=2.0, ST_Slope='Flat', HeartDisease=1),\n",
              " Row(Age=47, Sex='M', ChestPainType='NAP', RestingBP=110, Cholesterol=0, FastingBS=1, RestingECG='Normal', MaxHR=120, ExerciseAngina='Y', Oldpeak=0.0, ST_Slope='Flat', HeartDisease=1),\n",
              " Row(Age=35, Sex='M', ChestPainType='ASY', RestingBP=120, Cholesterol=0, FastingBS=1, RestingECG='Normal', MaxHR=130, ExerciseAngina='Y', Oldpeak=1.2, ST_Slope='Flat', HeartDisease=1),\n",
              " Row(Age=57, Sex='M', ChestPainType='ASY', RestingBP=140, Cholesterol=0, FastingBS=1, RestingECG='Normal', MaxHR=100, ExerciseAngina='Y', Oldpeak=0.0, ST_Slope='Flat', HeartDisease=1),\n",
              " Row(Age=62, Sex='M', ChestPainType='ASY', RestingBP=115, Cholesterol=0, FastingBS=1, RestingECG='Normal', MaxHR=72, ExerciseAngina='Y', Oldpeak=-0.5, ST_Slope='Flat', HeartDisease=1),\n",
              " Row(Age=59, Sex='M', ChestPainType='ASY', RestingBP=110, Cholesterol=0, FastingBS=1, RestingECG='Normal', MaxHR=94, ExerciseAngina='N', Oldpeak=0.0, ST_Slope='Flat', HeartDisease=1),\n",
              " Row(Age=53, Sex='M', ChestPainType='NAP', RestingBP=160, Cholesterol=0, FastingBS=1, RestingECG='LVH', MaxHR=122, ExerciseAngina='Y', Oldpeak=0.0, ST_Slope='Flat', HeartDisease=1),\n",
              " Row(Age=62, Sex='M', ChestPainType='ASY', RestingBP=150, Cholesterol=0, FastingBS=1, RestingECG='ST', MaxHR=78, ExerciseAngina='N', Oldpeak=2.0, ST_Slope='Flat', HeartDisease=1),\n",
              " Row(Age=54, Sex='M', ChestPainType='ASY', RestingBP=180, Cholesterol=0, FastingBS=1, RestingECG='Normal', MaxHR=150, ExerciseAngina='N', Oldpeak=1.5, ST_Slope='Flat', HeartDisease=1),\n",
              " Row(Age=56, Sex='M', ChestPainType='ASY', RestingBP=125, Cholesterol=0, FastingBS=1, RestingECG='Normal', MaxHR=103, ExerciseAngina='Y', Oldpeak=1.0, ST_Slope='Flat', HeartDisease=1),\n",
              " Row(Age=56, Sex='M', ChestPainType='NAP', RestingBP=125, Cholesterol=0, FastingBS=1, RestingECG='Normal', MaxHR=98, ExerciseAngina='N', Oldpeak=-2.0, ST_Slope='Flat', HeartDisease=1),\n",
              " Row(Age=54, Sex='M', ChestPainType='ASY', RestingBP=130, Cholesterol=0, FastingBS=1, RestingECG='Normal', MaxHR=110, ExerciseAngina='Y', Oldpeak=3.0, ST_Slope='Flat', HeartDisease=1),\n",
              " Row(Age=66, Sex='F', ChestPainType='ASY', RestingBP=155, Cholesterol=0, FastingBS=1, RestingECG='Normal', MaxHR=90, ExerciseAngina='N', Oldpeak=0.0, ST_Slope='Flat', HeartDisease=1),\n",
              " Row(Age=63, Sex='M', ChestPainType='ASY', RestingBP=140, Cholesterol=260, FastingBS=0, RestingECG='ST', MaxHR=112, ExerciseAngina='Y', Oldpeak=3.0, ST_Slope='Flat', HeartDisease=1),\n",
              " Row(Age=44, Sex='M', ChestPainType='ASY', RestingBP=130, Cholesterol=209, FastingBS=0, RestingECG='ST', MaxHR=127, ExerciseAngina='N', Oldpeak=0.0, ST_Slope='Up', HeartDisease=0),\n",
              " Row(Age=60, Sex='M', ChestPainType='ASY', RestingBP=132, Cholesterol=218, FastingBS=0, RestingECG='ST', MaxHR=140, ExerciseAngina='Y', Oldpeak=1.5, ST_Slope='Down', HeartDisease=1),\n",
              " Row(Age=55, Sex='M', ChestPainType='ASY', RestingBP=142, Cholesterol=228, FastingBS=0, RestingECG='ST', MaxHR=149, ExerciseAngina='Y', Oldpeak=2.5, ST_Slope='Up', HeartDisease=1),\n",
              " Row(Age=66, Sex='M', ChestPainType='NAP', RestingBP=110, Cholesterol=213, FastingBS=1, RestingECG='LVH', MaxHR=99, ExerciseAngina='Y', Oldpeak=1.3, ST_Slope='Flat', HeartDisease=0),\n",
              " Row(Age=66, Sex='M', ChestPainType='NAP', RestingBP=120, Cholesterol=0, FastingBS=0, RestingECG='ST', MaxHR=120, ExerciseAngina='N', Oldpeak=-0.5, ST_Slope='Up', HeartDisease=0),\n",
              " Row(Age=65, Sex='M', ChestPainType='ASY', RestingBP=150, Cholesterol=236, FastingBS=1, RestingECG='ST', MaxHR=105, ExerciseAngina='Y', Oldpeak=0.0, ST_Slope='Flat', HeartDisease=1),\n",
              " Row(Age=60, Sex='M', ChestPainType='NAP', RestingBP=180, Cholesterol=0, FastingBS=0, RestingECG='ST', MaxHR=140, ExerciseAngina='Y', Oldpeak=1.5, ST_Slope='Flat', HeartDisease=0),\n",
              " Row(Age=60, Sex='M', ChestPainType='NAP', RestingBP=120, Cholesterol=0, FastingBS=1, RestingECG='Normal', MaxHR=141, ExerciseAngina='Y', Oldpeak=2.0, ST_Slope='Up', HeartDisease=1),\n",
              " Row(Age=60, Sex='M', ChestPainType='ATA', RestingBP=160, Cholesterol=267, FastingBS=1, RestingECG='ST', MaxHR=157, ExerciseAngina='N', Oldpeak=0.5, ST_Slope='Flat', HeartDisease=1),\n",
              " Row(Age=56, Sex='M', ChestPainType='ATA', RestingBP=126, Cholesterol=166, FastingBS=0, RestingECG='ST', MaxHR=140, ExerciseAngina='N', Oldpeak=0.0, ST_Slope='Up', HeartDisease=0),\n",
              " Row(Age=59, Sex='M', ChestPainType='ASY', RestingBP=140, Cholesterol=0, FastingBS=0, RestingECG='ST', MaxHR=117, ExerciseAngina='Y', Oldpeak=1.0, ST_Slope='Flat', HeartDisease=1),\n",
              " Row(Age=62, Sex='M', ChestPainType='ASY', RestingBP=110, Cholesterol=0, FastingBS=0, RestingECG='Normal', MaxHR=120, ExerciseAngina='Y', Oldpeak=0.5, ST_Slope='Flat', HeartDisease=1),\n",
              " Row(Age=63, Sex='M', ChestPainType='NAP', RestingBP=133, Cholesterol=0, FastingBS=0, RestingECG='LVH', MaxHR=120, ExerciseAngina='Y', Oldpeak=1.0, ST_Slope='Flat', HeartDisease=1),\n",
              " Row(Age=57, Sex='M', ChestPainType='ASY', RestingBP=128, Cholesterol=0, FastingBS=1, RestingECG='ST', MaxHR=148, ExerciseAngina='Y', Oldpeak=1.0, ST_Slope='Flat', HeartDisease=1),\n",
              " Row(Age=62, Sex='M', ChestPainType='ASY', RestingBP=120, Cholesterol=220, FastingBS=0, RestingECG='ST', MaxHR=86, ExerciseAngina='N', Oldpeak=0.0, ST_Slope='Up', HeartDisease=0),\n",
              " Row(Age=63, Sex='M', ChestPainType='ASY', RestingBP=170, Cholesterol=177, FastingBS=0, RestingECG='Normal', MaxHR=84, ExerciseAngina='Y', Oldpeak=2.5, ST_Slope='Down', HeartDisease=1),\n",
              " Row(Age=46, Sex='M', ChestPainType='ASY', RestingBP=110, Cholesterol=236, FastingBS=0, RestingECG='Normal', MaxHR=125, ExerciseAngina='Y', Oldpeak=2.0, ST_Slope='Flat', HeartDisease=1),\n",
              " Row(Age=63, Sex='M', ChestPainType='ASY', RestingBP=126, Cholesterol=0, FastingBS=0, RestingECG='ST', MaxHR=120, ExerciseAngina='N', Oldpeak=1.5, ST_Slope='Down', HeartDisease=0),\n",
              " Row(Age=60, Sex='M', ChestPainType='ASY', RestingBP=152, Cholesterol=0, FastingBS=0, RestingECG='ST', MaxHR=118, ExerciseAngina='Y', Oldpeak=0.0, ST_Slope='Up', HeartDisease=0),\n",
              " Row(Age=58, Sex='M', ChestPainType='ASY', RestingBP=116, Cholesterol=0, FastingBS=0, RestingECG='Normal', MaxHR=124, ExerciseAngina='N', Oldpeak=1.0, ST_Slope='Up', HeartDisease=1),\n",
              " Row(Age=64, Sex='M', ChestPainType='ASY', RestingBP=120, Cholesterol=0, FastingBS=1, RestingECG='ST', MaxHR=106, ExerciseAngina='N', Oldpeak=2.0, ST_Slope='Flat', HeartDisease=1),\n",
              " Row(Age=63, Sex='M', ChestPainType='NAP', RestingBP=130, Cholesterol=0, FastingBS=0, RestingECG='ST', MaxHR=111, ExerciseAngina='Y', Oldpeak=0.0, ST_Slope='Flat', HeartDisease=1),\n",
              " Row(Age=74, Sex='M', ChestPainType='NAP', RestingBP=138, Cholesterol=0, FastingBS=0, RestingECG='Normal', MaxHR=116, ExerciseAngina='N', Oldpeak=0.2, ST_Slope='Up', HeartDisease=0),\n",
              " Row(Age=52, Sex='M', ChestPainType='NAP', RestingBP=128, Cholesterol=0, FastingBS=0, RestingECG='ST', MaxHR=180, ExerciseAngina='N', Oldpeak=3.0, ST_Slope='Up', HeartDisease=1),\n",
              " Row(Age=69, Sex='M', ChestPainType='ASY', RestingBP=130, Cholesterol=0, FastingBS=1, RestingECG='ST', MaxHR=129, ExerciseAngina='N', Oldpeak=1.0, ST_Slope='Flat', HeartDisease=1),\n",
              " Row(Age=51, Sex='M', ChestPainType='ASY', RestingBP=128, Cholesterol=0, FastingBS=1, RestingECG='ST', MaxHR=125, ExerciseAngina='Y', Oldpeak=1.2, ST_Slope='Flat', HeartDisease=1),\n",
              " Row(Age=60, Sex='M', ChestPainType='ASY', RestingBP=130, Cholesterol=186, FastingBS=1, RestingECG='ST', MaxHR=140, ExerciseAngina='Y', Oldpeak=0.5, ST_Slope='Flat', HeartDisease=1),\n",
              " Row(Age=56, Sex='M', ChestPainType='ASY', RestingBP=120, Cholesterol=100, FastingBS=0, RestingECG='Normal', MaxHR=120, ExerciseAngina='Y', Oldpeak=1.5, ST_Slope='Flat', HeartDisease=1),\n",
              " Row(Age=55, Sex='M', ChestPainType='NAP', RestingBP=136, Cholesterol=228, FastingBS=0, RestingECG='ST', MaxHR=124, ExerciseAngina='Y', Oldpeak=1.6, ST_Slope='Flat', HeartDisease=1),\n",
              " Row(Age=54, Sex='M', ChestPainType='ASY', RestingBP=130, Cholesterol=0, FastingBS=0, RestingECG='ST', MaxHR=117, ExerciseAngina='Y', Oldpeak=1.4, ST_Slope='Flat', HeartDisease=1),\n",
              " Row(Age=77, Sex='M', ChestPainType='ASY', RestingBP=124, Cholesterol=171, FastingBS=0, RestingECG='ST', MaxHR=110, ExerciseAngina='Y', Oldpeak=2.0, ST_Slope='Up', HeartDisease=1),\n",
              " Row(Age=63, Sex='M', ChestPainType='ASY', RestingBP=160, Cholesterol=230, FastingBS=1, RestingECG='Normal', MaxHR=105, ExerciseAngina='Y', Oldpeak=1.0, ST_Slope='Flat', HeartDisease=1),\n",
              " Row(Age=55, Sex='M', ChestPainType='NAP', RestingBP=0, Cholesterol=0, FastingBS=0, RestingECG='Normal', MaxHR=155, ExerciseAngina='N', Oldpeak=1.5, ST_Slope='Flat', HeartDisease=1),\n",
              " Row(Age=52, Sex='M', ChestPainType='NAP', RestingBP=122, Cholesterol=0, FastingBS=0, RestingECG='Normal', MaxHR=110, ExerciseAngina='Y', Oldpeak=2.0, ST_Slope='Down', HeartDisease=1),\n",
              " Row(Age=64, Sex='M', ChestPainType='ASY', RestingBP=144, Cholesterol=0, FastingBS=0, RestingECG='ST', MaxHR=122, ExerciseAngina='Y', Oldpeak=1.0, ST_Slope='Flat', HeartDisease=1),\n",
              " Row(Age=60, Sex='M', ChestPainType='ASY', RestingBP=140, Cholesterol=281, FastingBS=0, RestingECG='ST', MaxHR=118, ExerciseAngina='Y', Oldpeak=1.5, ST_Slope='Flat', HeartDisease=1),\n",
              " Row(Age=60, Sex='M', ChestPainType='ASY', RestingBP=120, Cholesterol=0, FastingBS=0, RestingECG='Normal', MaxHR=133, ExerciseAngina='Y', Oldpeak=2.0, ST_Slope='Up', HeartDisease=0),\n",
              " Row(Age=58, Sex='M', ChestPainType='ASY', RestingBP=136, Cholesterol=203, FastingBS=1, RestingECG='Normal', MaxHR=123, ExerciseAngina='Y', Oldpeak=1.2, ST_Slope='Flat', HeartDisease=1),\n",
              " Row(Age=59, Sex='M', ChestPainType='ASY', RestingBP=154, Cholesterol=0, FastingBS=0, RestingECG='ST', MaxHR=131, ExerciseAngina='Y', Oldpeak=1.5, ST_Slope='Up', HeartDisease=0),\n",
              " Row(Age=61, Sex='M', ChestPainType='NAP', RestingBP=120, Cholesterol=0, FastingBS=0, RestingECG='Normal', MaxHR=80, ExerciseAngina='Y', Oldpeak=0.0, ST_Slope='Flat', HeartDisease=1),\n",
              " Row(Age=40, Sex='M', ChestPainType='ASY', RestingBP=125, Cholesterol=0, FastingBS=1, RestingECG='Normal', MaxHR=165, ExerciseAngina='N', Oldpeak=0.0, ST_Slope='Flat', HeartDisease=1),\n",
              " Row(Age=61, Sex='M', ChestPainType='ASY', RestingBP=134, Cholesterol=0, FastingBS=1, RestingECG='ST', MaxHR=86, ExerciseAngina='N', Oldpeak=1.5, ST_Slope='Flat', HeartDisease=1),\n",
              " Row(Age=41, Sex='M', ChestPainType='ASY', RestingBP=104, Cholesterol=0, FastingBS=0, RestingECG='ST', MaxHR=111, ExerciseAngina='N', Oldpeak=0.0, ST_Slope='Up', HeartDisease=0),\n",
              " Row(Age=57, Sex='M', ChestPainType='ASY', RestingBP=139, Cholesterol=277, FastingBS=1, RestingECG='ST', MaxHR=118, ExerciseAngina='Y', Oldpeak=1.9, ST_Slope='Flat', HeartDisease=1),\n",
              " Row(Age=63, Sex='M', ChestPainType='ASY', RestingBP=136, Cholesterol=0, FastingBS=0, RestingECG='Normal', MaxHR=84, ExerciseAngina='Y', Oldpeak=0.0, ST_Slope='Flat', HeartDisease=1),\n",
              " Row(Age=59, Sex='M', ChestPainType='ASY', RestingBP=122, Cholesterol=233, FastingBS=0, RestingECG='Normal', MaxHR=117, ExerciseAngina='Y', Oldpeak=1.3, ST_Slope='Down', HeartDisease=1),\n",
              " Row(Age=51, Sex='M', ChestPainType='ASY', RestingBP=128, Cholesterol=0, FastingBS=0, RestingECG='Normal', MaxHR=107, ExerciseAngina='N', Oldpeak=0.0, ST_Slope='Up', HeartDisease=0),\n",
              " Row(Age=59, Sex='M', ChestPainType='NAP', RestingBP=131, Cholesterol=0, FastingBS=0, RestingECG='Normal', MaxHR=128, ExerciseAngina='Y', Oldpeak=2.0, ST_Slope='Down', HeartDisease=1),\n",
              " Row(Age=42, Sex='M', ChestPainType='NAP', RestingBP=134, Cholesterol=240, FastingBS=0, RestingECG='Normal', MaxHR=160, ExerciseAngina='N', Oldpeak=0.0, ST_Slope='Up', HeartDisease=0),\n",
              " Row(Age=55, Sex='M', ChestPainType='NAP', RestingBP=120, Cholesterol=0, FastingBS=0, RestingECG='ST', MaxHR=125, ExerciseAngina='Y', Oldpeak=2.5, ST_Slope='Flat', HeartDisease=1),\n",
              " Row(Age=63, Sex='F', ChestPainType='ATA', RestingBP=132, Cholesterol=0, FastingBS=0, RestingECG='Normal', MaxHR=130, ExerciseAngina='N', Oldpeak=0.1, ST_Slope='Up', HeartDisease=0),\n",
              " Row(Age=62, Sex='M', ChestPainType='ASY', RestingBP=152, Cholesterol=153, FastingBS=0, RestingECG='ST', MaxHR=97, ExerciseAngina='Y', Oldpeak=1.6, ST_Slope='Up', HeartDisease=1),\n",
              " Row(Age=56, Sex='M', ChestPainType='ATA', RestingBP=124, Cholesterol=224, FastingBS=1, RestingECG='Normal', MaxHR=161, ExerciseAngina='N', Oldpeak=2.0, ST_Slope='Flat', HeartDisease=0),\n",
              " Row(Age=53, Sex='M', ChestPainType='ASY', RestingBP=126, Cholesterol=0, FastingBS=0, RestingECG='Normal', MaxHR=106, ExerciseAngina='N', Oldpeak=0.0, ST_Slope='Flat', HeartDisease=1),\n",
              " Row(Age=68, Sex='M', ChestPainType='ASY', RestingBP=138, Cholesterol=0, FastingBS=0, RestingECG='Normal', MaxHR=130, ExerciseAngina='Y', Oldpeak=3.0, ST_Slope='Flat', HeartDisease=1),\n",
              " Row(Age=53, Sex='M', ChestPainType='ASY', RestingBP=154, Cholesterol=0, FastingBS=1, RestingECG='ST', MaxHR=140, ExerciseAngina='Y', Oldpeak=1.5, ST_Slope='Flat', HeartDisease=1),\n",
              " Row(Age=60, Sex='M', ChestPainType='NAP', RestingBP=141, Cholesterol=316, FastingBS=1, RestingECG='ST', MaxHR=122, ExerciseAngina='Y', Oldpeak=1.7, ST_Slope='Flat', HeartDisease=1),\n",
              " Row(Age=62, Sex='M', ChestPainType='ATA', RestingBP=131, Cholesterol=0, FastingBS=0, RestingECG='Normal', MaxHR=130, ExerciseAngina='N', Oldpeak=0.1, ST_Slope='Up', HeartDisease=0),\n",
              " Row(Age=59, Sex='M', ChestPainType='ASY', RestingBP=178, Cholesterol=0, FastingBS=1, RestingECG='LVH', MaxHR=120, ExerciseAngina='Y', Oldpeak=0.0, ST_Slope='Flat', HeartDisease=1),\n",
              " Row(Age=51, Sex='M', ChestPainType='ASY', RestingBP=132, Cholesterol=218, FastingBS=1, RestingECG='LVH', MaxHR=139, ExerciseAngina='N', Oldpeak=0.1, ST_Slope='Up', HeartDisease=0),\n",
              " Row(Age=61, Sex='M', ChestPainType='ASY', RestingBP=110, Cholesterol=0, FastingBS=1, RestingECG='Normal', MaxHR=108, ExerciseAngina='Y', Oldpeak=2.0, ST_Slope='Down', HeartDisease=1),\n",
              " Row(Age=57, Sex='M', ChestPainType='ASY', RestingBP=130, Cholesterol=311, FastingBS=1, RestingECG='ST', MaxHR=148, ExerciseAngina='Y', Oldpeak=2.0, ST_Slope='Flat', HeartDisease=1),\n",
              " Row(Age=56, Sex='M', ChestPainType='NAP', RestingBP=170, Cholesterol=0, FastingBS=0, RestingECG='LVH', MaxHR=123, ExerciseAngina='Y', Oldpeak=2.5, ST_Slope='Flat', HeartDisease=1),\n",
              " Row(Age=58, Sex='M', ChestPainType='ATA', RestingBP=126, Cholesterol=0, FastingBS=1, RestingECG='Normal', MaxHR=110, ExerciseAngina='Y', Oldpeak=2.0, ST_Slope='Flat', HeartDisease=1),\n",
              " Row(Age=69, Sex='M', ChestPainType='NAP', RestingBP=140, Cholesterol=0, FastingBS=1, RestingECG='ST', MaxHR=118, ExerciseAngina='N', Oldpeak=2.5, ST_Slope='Down', HeartDisease=1),\n",
              " Row(Age=67, Sex='M', ChestPainType='TA', RestingBP=142, Cholesterol=270, FastingBS=1, RestingECG='Normal', MaxHR=125, ExerciseAngina='N', Oldpeak=2.5, ST_Slope='Up', HeartDisease=1),\n",
              " Row(Age=58, Sex='M', ChestPainType='ASY', RestingBP=120, Cholesterol=0, FastingBS=0, RestingECG='LVH', MaxHR=106, ExerciseAngina='Y', Oldpeak=1.5, ST_Slope='Down', HeartDisease=1),\n",
              " Row(Age=65, Sex='M', ChestPainType='ASY', RestingBP=134, Cholesterol=0, FastingBS=0, RestingECG='Normal', MaxHR=112, ExerciseAngina='Y', Oldpeak=1.1, ST_Slope='Flat', HeartDisease=1),\n",
              " Row(Age=63, Sex='M', ChestPainType='ATA', RestingBP=139, Cholesterol=217, FastingBS=1, RestingECG='ST', MaxHR=128, ExerciseAngina='Y', Oldpeak=1.2, ST_Slope='Flat', HeartDisease=1),\n",
              " Row(Age=55, Sex='M', ChestPainType='ATA', RestingBP=110, Cholesterol=214, FastingBS=1, RestingECG='ST', MaxHR=180, ExerciseAngina='N', Oldpeak=0.4, ST_Slope='Up', HeartDisease=0),\n",
              " Row(Age=57, Sex='M', ChestPainType='ASY', RestingBP=140, Cholesterol=214, FastingBS=0, RestingECG='ST', MaxHR=144, ExerciseAngina='Y', Oldpeak=2.0, ST_Slope='Flat', HeartDisease=1),\n",
              " Row(Age=65, Sex='M', ChestPainType='TA', RestingBP=140, Cholesterol=252, FastingBS=0, RestingECG='Normal', MaxHR=135, ExerciseAngina='N', Oldpeak=0.3, ST_Slope='Up', HeartDisease=0),\n",
              " Row(Age=54, Sex='M', ChestPainType='ASY', RestingBP=136, Cholesterol=220, FastingBS=0, RestingECG='Normal', MaxHR=140, ExerciseAngina='Y', Oldpeak=3.0, ST_Slope='Flat', HeartDisease=1),\n",
              " Row(Age=72, Sex='M', ChestPainType='NAP', RestingBP=120, Cholesterol=214, FastingBS=0, RestingECG='Normal', MaxHR=102, ExerciseAngina='Y', Oldpeak=1.0, ST_Slope='Flat', HeartDisease=1),\n",
              " Row(Age=75, Sex='M', ChestPainType='ASY', RestingBP=170, Cholesterol=203, FastingBS=1, RestingECG='ST', MaxHR=108, ExerciseAngina='N', Oldpeak=0.0, ST_Slope='Flat', HeartDisease=1),\n",
              " Row(Age=49, Sex='M', ChestPainType='TA', RestingBP=130, Cholesterol=0, FastingBS=0, RestingECG='ST', MaxHR=145, ExerciseAngina='N', Oldpeak=3.0, ST_Slope='Flat', HeartDisease=1),\n",
              " Row(Age=51, Sex='M', ChestPainType='NAP', RestingBP=137, Cholesterol=339, FastingBS=0, RestingECG='Normal', MaxHR=127, ExerciseAngina='Y', Oldpeak=1.7, ST_Slope='Flat', HeartDisease=1),\n",
              " Row(Age=60, Sex='M', ChestPainType='ASY', RestingBP=142, Cholesterol=216, FastingBS=0, RestingECG='Normal', MaxHR=110, ExerciseAngina='Y', Oldpeak=2.5, ST_Slope='Flat', HeartDisease=1),\n",
              " Row(Age=64, Sex='F', ChestPainType='ASY', RestingBP=142, Cholesterol=276, FastingBS=0, RestingECG='Normal', MaxHR=140, ExerciseAngina='Y', Oldpeak=1.0, ST_Slope='Flat', HeartDisease=1),\n",
              " Row(Age=58, Sex='M', ChestPainType='ASY', RestingBP=132, Cholesterol=458, FastingBS=1, RestingECG='Normal', MaxHR=69, ExerciseAngina='N', Oldpeak=1.0, ST_Slope='Down', HeartDisease=0),\n",
              " Row(Age=61, Sex='M', ChestPainType='ASY', RestingBP=146, Cholesterol=241, FastingBS=0, RestingECG='Normal', MaxHR=148, ExerciseAngina='Y', Oldpeak=3.0, ST_Slope='Down', HeartDisease=1),\n",
              " Row(Age=67, Sex='M', ChestPainType='ASY', RestingBP=160, Cholesterol=384, FastingBS=1, RestingECG='ST', MaxHR=130, ExerciseAngina='Y', Oldpeak=0.0, ST_Slope='Flat', HeartDisease=1),\n",
              " Row(Age=62, Sex='M', ChestPainType='ASY', RestingBP=135, Cholesterol=297, FastingBS=0, RestingECG='Normal', MaxHR=130, ExerciseAngina='Y', Oldpeak=1.0, ST_Slope='Flat', HeartDisease=1),\n",
              " Row(Age=65, Sex='M', ChestPainType='ASY', RestingBP=136, Cholesterol=248, FastingBS=0, RestingECG='Normal', MaxHR=140, ExerciseAngina='Y', Oldpeak=4.0, ST_Slope='Down', HeartDisease=1),\n",
              " Row(Age=63, Sex='M', ChestPainType='ASY', RestingBP=130, Cholesterol=308, FastingBS=0, RestingECG='Normal', MaxHR=138, ExerciseAngina='Y', Oldpeak=2.0, ST_Slope='Flat', HeartDisease=1),\n",
              " Row(Age=69, Sex='M', ChestPainType='ASY', RestingBP=140, Cholesterol=208, FastingBS=0, RestingECG='ST', MaxHR=140, ExerciseAngina='Y', Oldpeak=2.0, ST_Slope='Flat', HeartDisease=1),\n",
              " Row(Age=51, Sex='M', ChestPainType='ASY', RestingBP=132, Cholesterol=227, FastingBS=1, RestingECG='ST', MaxHR=138, ExerciseAngina='N', Oldpeak=0.2, ST_Slope='Up', HeartDisease=0),\n",
              " Row(Age=62, Sex='M', ChestPainType='ASY', RestingBP=158, Cholesterol=210, FastingBS=1, RestingECG='Normal', MaxHR=112, ExerciseAngina='Y', Oldpeak=3.0, ST_Slope='Down', HeartDisease=1),\n",
              " Row(Age=55, Sex='M', ChestPainType='NAP', RestingBP=136, Cholesterol=245, FastingBS=1, RestingECG='ST', MaxHR=131, ExerciseAngina='Y', Oldpeak=1.2, ST_Slope='Flat', HeartDisease=1),\n",
              " Row(Age=75, Sex='M', ChestPainType='ASY', RestingBP=136, Cholesterol=225, FastingBS=0, RestingECG='Normal', MaxHR=112, ExerciseAngina='Y', Oldpeak=3.0, ST_Slope='Flat', HeartDisease=1),\n",
              " Row(Age=40, Sex='M', ChestPainType='NAP', RestingBP=106, Cholesterol=240, FastingBS=0, RestingECG='Normal', MaxHR=80, ExerciseAngina='Y', Oldpeak=0.0, ST_Slope='Up', HeartDisease=0),\n",
              " Row(Age=67, Sex='M', ChestPainType='ASY', RestingBP=120, Cholesterol=0, FastingBS=1, RestingECG='Normal', MaxHR=150, ExerciseAngina='N', Oldpeak=1.5, ST_Slope='Down', HeartDisease=1),\n",
              " Row(Age=58, Sex='M', ChestPainType='ASY', RestingBP=110, Cholesterol=198, FastingBS=0, RestingECG='Normal', MaxHR=110, ExerciseAngina='N', Oldpeak=0.0, ST_Slope='Flat', HeartDisease=1),\n",
              " Row(Age=60, Sex='M', ChestPainType='ASY', RestingBP=136, Cholesterol=195, FastingBS=0, RestingECG='Normal', MaxHR=126, ExerciseAngina='N', Oldpeak=0.3, ST_Slope='Up', HeartDisease=0),\n",
              " Row(Age=63, Sex='M', ChestPainType='ASY', RestingBP=160, Cholesterol=267, FastingBS=1, RestingECG='ST', MaxHR=88, ExerciseAngina='Y', Oldpeak=2.0, ST_Slope='Flat', HeartDisease=1),\n",
              " Row(Age=35, Sex='M', ChestPainType='NAP', RestingBP=123, Cholesterol=161, FastingBS=0, RestingECG='ST', MaxHR=153, ExerciseAngina='N', Oldpeak=-0.1, ST_Slope='Up', HeartDisease=0),\n",
              " Row(Age=62, Sex='M', ChestPainType='TA', RestingBP=112, Cholesterol=258, FastingBS=0, RestingECG='ST', MaxHR=150, ExerciseAngina='Y', Oldpeak=1.3, ST_Slope='Flat', HeartDisease=1),\n",
              " Row(Age=43, Sex='M', ChestPainType='ASY', RestingBP=122, Cholesterol=0, FastingBS=0, RestingECG='Normal', MaxHR=120, ExerciseAngina='N', Oldpeak=0.5, ST_Slope='Up', HeartDisease=1),\n",
              " Row(Age=63, Sex='M', ChestPainType='NAP', RestingBP=130, Cholesterol=0, FastingBS=1, RestingECG='ST', MaxHR=160, ExerciseAngina='N', Oldpeak=3.0, ST_Slope='Flat', HeartDisease=0),\n",
              " Row(Age=68, Sex='M', ChestPainType='NAP', RestingBP=150, Cholesterol=195, FastingBS=1, RestingECG='Normal', MaxHR=132, ExerciseAngina='N', Oldpeak=0.0, ST_Slope='Flat', HeartDisease=1),\n",
              " Row(Age=65, Sex='M', ChestPainType='ASY', RestingBP=150, Cholesterol=235, FastingBS=0, RestingECG='Normal', MaxHR=120, ExerciseAngina='Y', Oldpeak=1.5, ST_Slope='Flat', HeartDisease=1),\n",
              " Row(Age=48, Sex='M', ChestPainType='NAP', RestingBP=102, Cholesterol=0, FastingBS=1, RestingECG='ST', MaxHR=110, ExerciseAngina='Y', Oldpeak=1.0, ST_Slope='Down', HeartDisease=1),\n",
              " Row(Age=63, Sex='M', ChestPainType='ASY', RestingBP=96, Cholesterol=305, FastingBS=0, RestingECG='ST', MaxHR=121, ExerciseAngina='Y', Oldpeak=1.0, ST_Slope='Up', HeartDisease=1),\n",
              " Row(Age=64, Sex='M', ChestPainType='ASY', RestingBP=130, Cholesterol=223, FastingBS=0, RestingECG='ST', MaxHR=128, ExerciseAngina='N', Oldpeak=0.5, ST_Slope='Flat', HeartDisease=0),\n",
              " Row(Age=61, Sex='M', ChestPainType='ASY', RestingBP=120, Cholesterol=282, FastingBS=0, RestingECG='ST', MaxHR=135, ExerciseAngina='Y', Oldpeak=4.0, ST_Slope='Down', HeartDisease=1),\n",
              " Row(Age=50, Sex='M', ChestPainType='ASY', RestingBP=144, Cholesterol=349, FastingBS=0, RestingECG='LVH', MaxHR=120, ExerciseAngina='Y', Oldpeak=1.0, ST_Slope='Up', HeartDisease=1),\n",
              " Row(Age=59, Sex='M', ChestPainType='ASY', RestingBP=124, Cholesterol=160, FastingBS=0, RestingECG='Normal', MaxHR=117, ExerciseAngina='Y', Oldpeak=1.0, ST_Slope='Flat', HeartDisease=1),\n",
              " Row(Age=55, Sex='M', ChestPainType='ASY', RestingBP=150, Cholesterol=160, FastingBS=0, RestingECG='ST', MaxHR=150, ExerciseAngina='N', Oldpeak=0.0, ST_Slope='Up', HeartDisease=0),\n",
              " Row(Age=45, Sex='M', ChestPainType='NAP', RestingBP=130, Cholesterol=236, FastingBS=0, RestingECG='Normal', MaxHR=144, ExerciseAngina='N', Oldpeak=0.1, ST_Slope='Up', HeartDisease=0),\n",
              " Row(Age=65, Sex='M', ChestPainType='ASY', RestingBP=144, Cholesterol=312, FastingBS=0, RestingECG='LVH', MaxHR=113, ExerciseAngina='Y', Oldpeak=1.7, ST_Slope='Flat', HeartDisease=1),\n",
              " Row(Age=61, Sex='M', ChestPainType='ATA', RestingBP=139, Cholesterol=283, FastingBS=0, RestingECG='Normal', MaxHR=135, ExerciseAngina='N', Oldpeak=0.3, ST_Slope='Up', HeartDisease=0),\n",
              " Row(Age=49, Sex='M', ChestPainType='NAP', RestingBP=131, Cholesterol=142, FastingBS=0, RestingECG='Normal', MaxHR=127, ExerciseAngina='Y', Oldpeak=1.5, ST_Slope='Flat', HeartDisease=1),\n",
              " Row(Age=72, Sex='M', ChestPainType='ASY', RestingBP=143, Cholesterol=211, FastingBS=0, RestingECG='Normal', MaxHR=109, ExerciseAngina='Y', Oldpeak=1.4, ST_Slope='Flat', HeartDisease=1),\n",
              " Row(Age=50, Sex='M', ChestPainType='ASY', RestingBP=133, Cholesterol=218, FastingBS=0, RestingECG='Normal', MaxHR=128, ExerciseAngina='Y', Oldpeak=1.1, ST_Slope='Flat', HeartDisease=1),\n",
              " Row(Age=64, Sex='M', ChestPainType='ASY', RestingBP=143, Cholesterol=306, FastingBS=1, RestingECG='ST', MaxHR=115, ExerciseAngina='Y', Oldpeak=1.8, ST_Slope='Flat', HeartDisease=1),\n",
              " Row(Age=55, Sex='M', ChestPainType='ASY', RestingBP=116, Cholesterol=186, FastingBS=1, RestingECG='ST', MaxHR=102, ExerciseAngina='N', Oldpeak=0.0, ST_Slope='Flat', HeartDisease=1),\n",
              " Row(Age=63, Sex='M', ChestPainType='ASY', RestingBP=110, Cholesterol=252, FastingBS=0, RestingECG='ST', MaxHR=140, ExerciseAngina='Y', Oldpeak=2.0, ST_Slope='Flat', HeartDisease=1),\n",
              " Row(Age=59, Sex='M', ChestPainType='ASY', RestingBP=125, Cholesterol=222, FastingBS=0, RestingECG='Normal', MaxHR=135, ExerciseAngina='Y', Oldpeak=2.5, ST_Slope='Down', HeartDisease=1),\n",
              " Row(Age=56, Sex='M', ChestPainType='ASY', RestingBP=130, Cholesterol=0, FastingBS=0, RestingECG='LVH', MaxHR=122, ExerciseAngina='Y', Oldpeak=1.0, ST_Slope='Flat', HeartDisease=1),\n",
              " Row(Age=62, Sex='M', ChestPainType='NAP', RestingBP=133, Cholesterol=0, FastingBS=1, RestingECG='ST', MaxHR=119, ExerciseAngina='Y', Oldpeak=1.2, ST_Slope='Flat', HeartDisease=1),\n",
              " Row(Age=74, Sex='M', ChestPainType='ASY', RestingBP=150, Cholesterol=258, FastingBS=1, RestingECG='ST', MaxHR=130, ExerciseAngina='Y', Oldpeak=4.0, ST_Slope='Down', HeartDisease=1),\n",
              " Row(Age=54, Sex='M', ChestPainType='ASY', RestingBP=130, Cholesterol=202, FastingBS=1, RestingECG='Normal', MaxHR=112, ExerciseAngina='Y', Oldpeak=2.0, ST_Slope='Flat', HeartDisease=1),\n",
              " Row(Age=57, Sex='M', ChestPainType='ASY', RestingBP=110, Cholesterol=197, FastingBS=0, RestingECG='LVH', MaxHR=100, ExerciseAngina='N', Oldpeak=0.0, ST_Slope='Up', HeartDisease=0),\n",
              " Row(Age=62, Sex='M', ChestPainType='NAP', RestingBP=138, Cholesterol=204, FastingBS=0, RestingECG='ST', MaxHR=122, ExerciseAngina='Y', Oldpeak=1.2, ST_Slope='Flat', HeartDisease=1),\n",
              " Row(Age=76, Sex='M', ChestPainType='NAP', RestingBP=104, Cholesterol=113, FastingBS=0, RestingECG='LVH', MaxHR=120, ExerciseAngina='N', Oldpeak=3.5, ST_Slope='Down', HeartDisease=1),\n",
              " Row(Age=54, Sex='F', ChestPainType='ASY', RestingBP=138, Cholesterol=274, FastingBS=0, RestingECG='Normal', MaxHR=105, ExerciseAngina='Y', Oldpeak=1.5, ST_Slope='Flat', HeartDisease=1),\n",
              " Row(Age=70, Sex='M', ChestPainType='ASY', RestingBP=170, Cholesterol=192, FastingBS=0, RestingECG='ST', MaxHR=129, ExerciseAngina='Y', Oldpeak=3.0, ST_Slope='Down', HeartDisease=1),\n",
              " Row(Age=61, Sex='F', ChestPainType='ATA', RestingBP=140, Cholesterol=298, FastingBS=1, RestingECG='Normal', MaxHR=120, ExerciseAngina='Y', Oldpeak=0.0, ST_Slope='Up', HeartDisease=0),\n",
              " Row(Age=48, Sex='M', ChestPainType='ASY', RestingBP=132, Cholesterol=272, FastingBS=0, RestingECG='ST', MaxHR=139, ExerciseAngina='N', Oldpeak=0.2, ST_Slope='Up', HeartDisease=0),\n",
              " Row(Age=48, Sex='M', ChestPainType='NAP', RestingBP=132, Cholesterol=220, FastingBS=1, RestingECG='ST', MaxHR=162, ExerciseAngina='N', Oldpeak=0.0, ST_Slope='Flat', HeartDisease=1),\n",
              " Row(Age=61, Sex='M', ChestPainType='TA', RestingBP=142, Cholesterol=200, FastingBS=1, RestingECG='ST', MaxHR=100, ExerciseAngina='N', Oldpeak=1.5, ST_Slope='Down', HeartDisease=1),\n",
              " Row(Age=66, Sex='M', ChestPainType='ASY', RestingBP=112, Cholesterol=261, FastingBS=0, RestingECG='Normal', MaxHR=140, ExerciseAngina='N', Oldpeak=1.5, ST_Slope='Up', HeartDisease=1),\n",
              " Row(Age=68, Sex='M', ChestPainType='TA', RestingBP=139, Cholesterol=181, FastingBS=1, RestingECG='ST', MaxHR=135, ExerciseAngina='N', Oldpeak=0.2, ST_Slope='Up', HeartDisease=0),\n",
              " Row(Age=55, Sex='M', ChestPainType='ASY', RestingBP=172, Cholesterol=260, FastingBS=0, RestingECG='Normal', MaxHR=73, ExerciseAngina='N', Oldpeak=2.0, ST_Slope='Flat', HeartDisease=1),\n",
              " Row(Age=62, Sex='M', ChestPainType='NAP', RestingBP=120, Cholesterol=220, FastingBS=0, RestingECG='LVH', MaxHR=86, ExerciseAngina='N', Oldpeak=0.0, ST_Slope='Up', HeartDisease=0),\n",
              " Row(Age=71, Sex='M', ChestPainType='NAP', RestingBP=144, Cholesterol=221, FastingBS=0, RestingECG='Normal', MaxHR=108, ExerciseAngina='Y', Oldpeak=1.8, ST_Slope='Flat', HeartDisease=1),\n",
              " Row(Age=74, Sex='M', ChestPainType='TA', RestingBP=145, Cholesterol=216, FastingBS=1, RestingECG='Normal', MaxHR=116, ExerciseAngina='Y', Oldpeak=1.8, ST_Slope='Flat', HeartDisease=1),\n",
              " Row(Age=53, Sex='M', ChestPainType='NAP', RestingBP=155, Cholesterol=175, FastingBS=1, RestingECG='ST', MaxHR=160, ExerciseAngina='N', Oldpeak=0.3, ST_Slope='Up', HeartDisease=0),\n",
              " Row(Age=58, Sex='M', ChestPainType='NAP', RestingBP=150, Cholesterol=219, FastingBS=0, RestingECG='ST', MaxHR=118, ExerciseAngina='Y', Oldpeak=0.0, ST_Slope='Flat', HeartDisease=1),\n",
              " Row(Age=75, Sex='M', ChestPainType='ASY', RestingBP=160, Cholesterol=310, FastingBS=1, RestingECG='Normal', MaxHR=112, ExerciseAngina='Y', Oldpeak=2.0, ST_Slope='Down', HeartDisease=0),\n",
              " Row(Age=56, Sex='M', ChestPainType='NAP', RestingBP=137, Cholesterol=208, FastingBS=1, RestingECG='ST', MaxHR=122, ExerciseAngina='Y', Oldpeak=1.8, ST_Slope='Flat', HeartDisease=1),\n",
              " Row(Age=58, Sex='M', ChestPainType='NAP', RestingBP=137, Cholesterol=232, FastingBS=0, RestingECG='ST', MaxHR=124, ExerciseAngina='Y', Oldpeak=1.4, ST_Slope='Flat', HeartDisease=1),\n",
              " Row(Age=64, Sex='M', ChestPainType='ASY', RestingBP=134, Cholesterol=273, FastingBS=0, RestingECG='Normal', MaxHR=102, ExerciseAngina='Y', Oldpeak=4.0, ST_Slope='Down', HeartDisease=1),\n",
              " Row(Age=54, Sex='M', ChestPainType='NAP', RestingBP=133, Cholesterol=203, FastingBS=0, RestingECG='ST', MaxHR=137, ExerciseAngina='N', Oldpeak=0.2, ST_Slope='Up', HeartDisease=0),\n",
              " Row(Age=54, Sex='M', ChestPainType='ATA', RestingBP=132, Cholesterol=182, FastingBS=0, RestingECG='ST', MaxHR=141, ExerciseAngina='N', Oldpeak=0.1, ST_Slope='Up', HeartDisease=0),\n",
              " Row(Age=59, Sex='M', ChestPainType='ASY', RestingBP=140, Cholesterol=274, FastingBS=0, RestingECG='Normal', MaxHR=154, ExerciseAngina='Y', Oldpeak=2.0, ST_Slope='Flat', HeartDisease=0),\n",
              " Row(Age=55, Sex='M', ChestPainType='ASY', RestingBP=135, Cholesterol=204, FastingBS=1, RestingECG='ST', MaxHR=126, ExerciseAngina='Y', Oldpeak=1.1, ST_Slope='Flat', HeartDisease=1),\n",
              " Row(Age=57, Sex='M', ChestPainType='ASY', RestingBP=144, Cholesterol=270, FastingBS=1, RestingECG='ST', MaxHR=160, ExerciseAngina='Y', Oldpeak=2.0, ST_Slope='Flat', HeartDisease=1),\n",
              " Row(Age=61, Sex='M', ChestPainType='ASY', RestingBP=141, Cholesterol=292, FastingBS=0, RestingECG='ST', MaxHR=115, ExerciseAngina='Y', Oldpeak=1.7, ST_Slope='Flat', HeartDisease=1),\n",
              " Row(Age=41, Sex='M', ChestPainType='ASY', RestingBP=150, Cholesterol=171, FastingBS=0, RestingECG='Normal', MaxHR=128, ExerciseAngina='Y', Oldpeak=1.5, ST_Slope='Flat', HeartDisease=0),\n",
              " Row(Age=71, Sex='M', ChestPainType='ASY', RestingBP=130, Cholesterol=221, FastingBS=0, RestingECG='ST', MaxHR=115, ExerciseAngina='Y', Oldpeak=0.0, ST_Slope='Flat', HeartDisease=1),\n",
              " Row(Age=38, Sex='M', ChestPainType='ASY', RestingBP=110, Cholesterol=289, FastingBS=0, RestingECG='Normal', MaxHR=105, ExerciseAngina='Y', Oldpeak=1.5, ST_Slope='Down', HeartDisease=1),\n",
              " Row(Age=55, Sex='M', ChestPainType='ASY', RestingBP=158, Cholesterol=217, FastingBS=0, RestingECG='Normal', MaxHR=110, ExerciseAngina='Y', Oldpeak=2.5, ST_Slope='Flat', HeartDisease=1),\n",
              " Row(Age=56, Sex='M', ChestPainType='ASY', RestingBP=128, Cholesterol=223, FastingBS=0, RestingECG='ST', MaxHR=119, ExerciseAngina='Y', Oldpeak=2.0, ST_Slope='Down', HeartDisease=1),\n",
              " Row(Age=69, Sex='M', ChestPainType='ASY', RestingBP=140, Cholesterol=110, FastingBS=1, RestingECG='Normal', MaxHR=109, ExerciseAngina='Y', Oldpeak=1.5, ST_Slope='Flat', HeartDisease=1),\n",
              " Row(Age=64, Sex='M', ChestPainType='ASY', RestingBP=150, Cholesterol=193, FastingBS=0, RestingECG='ST', MaxHR=135, ExerciseAngina='Y', Oldpeak=0.5, ST_Slope='Flat', HeartDisease=1),\n",
              " Row(Age=72, Sex='M', ChestPainType='ASY', RestingBP=160, Cholesterol=123, FastingBS=1, RestingECG='LVH', MaxHR=130, ExerciseAngina='N', Oldpeak=1.5, ST_Slope='Flat', HeartDisease=1),\n",
              " Row(Age=69, Sex='M', ChestPainType='ASY', RestingBP=142, Cholesterol=210, FastingBS=1, RestingECG='ST', MaxHR=112, ExerciseAngina='Y', Oldpeak=1.5, ST_Slope='Flat', HeartDisease=1),\n",
              " Row(Age=56, Sex='M', ChestPainType='ASY', RestingBP=137, Cholesterol=282, FastingBS=1, RestingECG='Normal', MaxHR=126, ExerciseAngina='Y', Oldpeak=1.2, ST_Slope='Flat', HeartDisease=1),\n",
              " Row(Age=62, Sex='M', ChestPainType='ASY', RestingBP=139, Cholesterol=170, FastingBS=0, RestingECG='ST', MaxHR=120, ExerciseAngina='Y', Oldpeak=3.0, ST_Slope='Flat', HeartDisease=1),\n",
              " Row(Age=67, Sex='M', ChestPainType='ASY', RestingBP=146, Cholesterol=369, FastingBS=0, RestingECG='Normal', MaxHR=110, ExerciseAngina='Y', Oldpeak=1.9, ST_Slope='Flat', HeartDisease=1),\n",
              " Row(Age=57, Sex='M', ChestPainType='ASY', RestingBP=156, Cholesterol=173, FastingBS=0, RestingECG='LVH', MaxHR=119, ExerciseAngina='Y', Oldpeak=3.0, ST_Slope='Down', HeartDisease=1),\n",
              " Row(Age=69, Sex='M', ChestPainType='ASY', RestingBP=145, Cholesterol=289, FastingBS=1, RestingECG='ST', MaxHR=110, ExerciseAngina='Y', Oldpeak=1.8, ST_Slope='Flat', HeartDisease=1),\n",
              " Row(Age=51, Sex='M', ChestPainType='ASY', RestingBP=131, Cholesterol=152, FastingBS=1, RestingECG='LVH', MaxHR=130, ExerciseAngina='Y', Oldpeak=1.0, ST_Slope='Flat', HeartDisease=1),\n",
              " Row(Age=48, Sex='M', ChestPainType='ASY', RestingBP=140, Cholesterol=208, FastingBS=0, RestingECG='Normal', MaxHR=159, ExerciseAngina='Y', Oldpeak=1.5, ST_Slope='Up', HeartDisease=1),\n",
              " Row(Age=69, Sex='M', ChestPainType='ASY', RestingBP=122, Cholesterol=216, FastingBS=1, RestingECG='LVH', MaxHR=84, ExerciseAngina='Y', Oldpeak=0.0, ST_Slope='Flat', HeartDisease=1),\n",
              " Row(Age=69, Sex='M', ChestPainType='NAP', RestingBP=142, Cholesterol=271, FastingBS=0, RestingECG='LVH', MaxHR=126, ExerciseAngina='N', Oldpeak=0.3, ST_Slope='Up', HeartDisease=0),\n",
              " Row(Age=64, Sex='M', ChestPainType='ASY', RestingBP=141, Cholesterol=244, FastingBS=1, RestingECG='ST', MaxHR=116, ExerciseAngina='Y', Oldpeak=1.5, ST_Slope='Flat', HeartDisease=1),\n",
              " Row(Age=57, Sex='M', ChestPainType='ATA', RestingBP=180, Cholesterol=285, FastingBS=1, RestingECG='ST', MaxHR=120, ExerciseAngina='N', Oldpeak=0.8, ST_Slope='Flat', HeartDisease=1),\n",
              " Row(Age=53, Sex='M', ChestPainType='ASY', RestingBP=124, Cholesterol=243, FastingBS=0, RestingECG='Normal', MaxHR=122, ExerciseAngina='Y', Oldpeak=2.0, ST_Slope='Flat', HeartDisease=1),\n",
              " Row(Age=37, Sex='M', ChestPainType='NAP', RestingBP=118, Cholesterol=240, FastingBS=0, RestingECG='LVH', MaxHR=165, ExerciseAngina='N', Oldpeak=1.0, ST_Slope='Flat', HeartDisease=0),\n",
              " Row(Age=67, Sex='M', ChestPainType='ASY', RestingBP=140, Cholesterol=219, FastingBS=0, RestingECG='ST', MaxHR=122, ExerciseAngina='Y', Oldpeak=2.0, ST_Slope='Flat', HeartDisease=1),\n",
              " Row(Age=74, Sex='M', ChestPainType='NAP', RestingBP=140, Cholesterol=237, FastingBS=1, RestingECG='Normal', MaxHR=94, ExerciseAngina='N', Oldpeak=0.0, ST_Slope='Flat', HeartDisease=1),\n",
              " Row(Age=63, Sex='M', ChestPainType='ATA', RestingBP=136, Cholesterol=165, FastingBS=0, RestingECG='ST', MaxHR=133, ExerciseAngina='N', Oldpeak=0.2, ST_Slope='Up', HeartDisease=0),\n",
              " Row(Age=58, Sex='M', ChestPainType='ASY', RestingBP=100, Cholesterol=213, FastingBS=0, RestingECG='ST', MaxHR=110, ExerciseAngina='N', Oldpeak=0.0, ST_Slope='Up', HeartDisease=0),\n",
              " Row(Age=61, Sex='M', ChestPainType='ASY', RestingBP=190, Cholesterol=287, FastingBS=1, RestingECG='LVH', MaxHR=150, ExerciseAngina='Y', Oldpeak=2.0, ST_Slope='Down', HeartDisease=1),\n",
              " Row(Age=64, Sex='M', ChestPainType='ASY', RestingBP=130, Cholesterol=258, FastingBS=1, RestingECG='LVH', MaxHR=130, ExerciseAngina='N', Oldpeak=0.0, ST_Slope='Flat', HeartDisease=1),\n",
              " Row(Age=58, Sex='M', ChestPainType='ASY', RestingBP=160, Cholesterol=256, FastingBS=1, RestingECG='LVH', MaxHR=113, ExerciseAngina='Y', Oldpeak=1.0, ST_Slope='Up', HeartDisease=1),\n",
              " Row(Age=60, Sex='M', ChestPainType='ASY', RestingBP=130, Cholesterol=186, FastingBS=1, RestingECG='LVH', MaxHR=140, ExerciseAngina='Y', Oldpeak=0.5, ST_Slope='Flat', HeartDisease=1),\n",
              " Row(Age=57, Sex='M', ChestPainType='ASY', RestingBP=122, Cholesterol=264, FastingBS=0, RestingECG='LVH', MaxHR=100, ExerciseAngina='N', Oldpeak=0.0, ST_Slope='Flat', HeartDisease=1),\n",
              " Row(Age=55, Sex='M', ChestPainType='NAP', RestingBP=133, Cholesterol=185, FastingBS=0, RestingECG='ST', MaxHR=136, ExerciseAngina='N', Oldpeak=0.2, ST_Slope='Up', HeartDisease=0),\n",
              " Row(Age=55, Sex='M', ChestPainType='ASY', RestingBP=120, Cholesterol=226, FastingBS=0, RestingECG='LVH', MaxHR=127, ExerciseAngina='Y', Oldpeak=1.7, ST_Slope='Down', HeartDisease=1),\n",
              " Row(Age=56, Sex='M', ChestPainType='ASY', RestingBP=130, Cholesterol=203, FastingBS=1, RestingECG='Normal', MaxHR=98, ExerciseAngina='N', Oldpeak=1.5, ST_Slope='Flat', HeartDisease=1),\n",
              " Row(Age=57, Sex='M', ChestPainType='ASY', RestingBP=130, Cholesterol=207, FastingBS=0, RestingECG='ST', MaxHR=96, ExerciseAngina='Y', Oldpeak=1.0, ST_Slope='Flat', HeartDisease=0),\n",
              " Row(Age=61, Sex='M', ChestPainType='NAP', RestingBP=140, Cholesterol=284, FastingBS=0, RestingECG='Normal', MaxHR=123, ExerciseAngina='Y', Oldpeak=1.3, ST_Slope='Flat', HeartDisease=1),\n",
              " Row(Age=61, Sex='M', ChestPainType='NAP', RestingBP=120, Cholesterol=337, FastingBS=0, RestingECG='Normal', MaxHR=98, ExerciseAngina='Y', Oldpeak=0.0, ST_Slope='Flat', HeartDisease=1),\n",
              " Row(Age=74, Sex='M', ChestPainType='ASY', RestingBP=155, Cholesterol=310, FastingBS=0, RestingECG='Normal', MaxHR=112, ExerciseAngina='Y', Oldpeak=1.5, ST_Slope='Down', HeartDisease=1),\n",
              " Row(Age=68, Sex='M', ChestPainType='NAP', RestingBP=134, Cholesterol=254, FastingBS=1, RestingECG='Normal', MaxHR=151, ExerciseAngina='Y', Oldpeak=0.0, ST_Slope='Up', HeartDisease=0),\n",
              " Row(Age=51, Sex='F', ChestPainType='ASY', RestingBP=114, Cholesterol=258, FastingBS=1, RestingECG='LVH', MaxHR=96, ExerciseAngina='N', Oldpeak=1.0, ST_Slope='Up', HeartDisease=0),\n",
              " Row(Age=62, Sex='M', ChestPainType='ASY', RestingBP=160, Cholesterol=254, FastingBS=1, RestingECG='ST', MaxHR=108, ExerciseAngina='Y', Oldpeak=3.0, ST_Slope='Flat', HeartDisease=1),\n",
              " Row(Age=53, Sex='M', ChestPainType='ASY', RestingBP=144, Cholesterol=300, FastingBS=1, RestingECG='ST', MaxHR=128, ExerciseAngina='Y', Oldpeak=1.5, ST_Slope='Flat', HeartDisease=1),\n",
              " Row(Age=62, Sex='M', ChestPainType='ASY', RestingBP=158, Cholesterol=170, FastingBS=0, RestingECG='ST', MaxHR=138, ExerciseAngina='Y', Oldpeak=0.0, ST_Slope='Flat', HeartDisease=1),\n",
              " Row(Age=46, Sex='M', ChestPainType='ASY', RestingBP=134, Cholesterol=310, FastingBS=0, RestingECG='Normal', MaxHR=126, ExerciseAngina='N', Oldpeak=0.0, ST_Slope='Flat', HeartDisease=1),\n",
              " Row(Age=54, Sex='F', ChestPainType='ASY', RestingBP=127, Cholesterol=333, FastingBS=1, RestingECG='ST', MaxHR=154, ExerciseAngina='N', Oldpeak=0.0, ST_Slope='Flat', HeartDisease=1),\n",
              " Row(Age=62, Sex='M', ChestPainType='TA', RestingBP=135, Cholesterol=139, FastingBS=0, RestingECG='ST', MaxHR=137, ExerciseAngina='N', Oldpeak=0.2, ST_Slope='Up', HeartDisease=0),\n",
              " Row(Age=55, Sex='M', ChestPainType='ASY', RestingBP=122, Cholesterol=223, FastingBS=1, RestingECG='ST', MaxHR=100, ExerciseAngina='N', Oldpeak=0.0, ST_Slope='Flat', HeartDisease=1),\n",
              " Row(Age=58, Sex='M', ChestPainType='ASY', RestingBP=140, Cholesterol=385, FastingBS=1, RestingECG='LVH', MaxHR=135, ExerciseAngina='N', Oldpeak=0.3, ST_Slope='Up', HeartDisease=0),\n",
              " Row(Age=62, Sex='M', ChestPainType='ATA', RestingBP=120, Cholesterol=254, FastingBS=0, RestingECG='LVH', MaxHR=93, ExerciseAngina='Y', Oldpeak=0.0, ST_Slope='Flat', HeartDisease=1),\n",
              " Row(Age=70, Sex='M', ChestPainType='ASY', RestingBP=130, Cholesterol=322, FastingBS=0, RestingECG='LVH', MaxHR=109, ExerciseAngina='N', Oldpeak=2.4, ST_Slope='Flat', HeartDisease=1),\n",
              " Row(Age=67, Sex='F', ChestPainType='NAP', RestingBP=115, Cholesterol=564, FastingBS=0, RestingECG='LVH', MaxHR=160, ExerciseAngina='N', Oldpeak=1.6, ST_Slope='Flat', HeartDisease=0),\n",
              " Row(Age=57, Sex='M', ChestPainType='ATA', RestingBP=124, Cholesterol=261, FastingBS=0, RestingECG='Normal', MaxHR=141, ExerciseAngina='N', Oldpeak=0.3, ST_Slope='Up', HeartDisease=1),\n",
              " Row(Age=64, Sex='M', ChestPainType='ASY', RestingBP=128, Cholesterol=263, FastingBS=0, RestingECG='Normal', MaxHR=105, ExerciseAngina='Y', Oldpeak=0.2, ST_Slope='Flat', HeartDisease=0),\n",
              " Row(Age=74, Sex='F', ChestPainType='ATA', RestingBP=120, Cholesterol=269, FastingBS=0, RestingECG='LVH', MaxHR=121, ExerciseAngina='Y', Oldpeak=0.2, ST_Slope='Up', HeartDisease=0),\n",
              " Row(Age=65, Sex='M', ChestPainType='ASY', RestingBP=120, Cholesterol=177, FastingBS=0, RestingECG='Normal', MaxHR=140, ExerciseAngina='N', Oldpeak=0.4, ST_Slope='Up', HeartDisease=0),\n",
              " Row(Age=56, Sex='M', ChestPainType='NAP', RestingBP=130, Cholesterol=256, FastingBS=1, RestingECG='LVH', MaxHR=142, ExerciseAngina='Y', Oldpeak=0.6, ST_Slope='Flat', HeartDisease=1),\n",
              " Row(Age=59, Sex='M', ChestPainType='ASY', RestingBP=110, Cholesterol=239, FastingBS=0, RestingECG='LVH', MaxHR=142, ExerciseAngina='Y', Oldpeak=1.2, ST_Slope='Flat', HeartDisease=1),\n",
              " Row(Age=60, Sex='M', ChestPainType='ASY', RestingBP=140, Cholesterol=293, FastingBS=0, RestingECG='LVH', MaxHR=170, ExerciseAngina='N', Oldpeak=1.2, ST_Slope='Flat', HeartDisease=1),\n",
              " Row(Age=63, Sex='F', ChestPainType='ASY', RestingBP=150, Cholesterol=407, FastingBS=0, RestingECG='LVH', MaxHR=154, ExerciseAngina='N', Oldpeak=4.0, ST_Slope='Flat', HeartDisease=1),\n",
              " Row(Age=59, Sex='M', ChestPainType='ASY', RestingBP=135, Cholesterol=234, FastingBS=0, RestingECG='Normal', MaxHR=161, ExerciseAngina='N', Oldpeak=0.5, ST_Slope='Flat', HeartDisease=0),\n",
              " Row(Age=53, Sex='M', ChestPainType='ASY', RestingBP=142, Cholesterol=226, FastingBS=0, RestingECG='LVH', MaxHR=111, ExerciseAngina='Y', Oldpeak=0.0, ST_Slope='Up', HeartDisease=0),\n",
              " Row(Age=44, Sex='M', ChestPainType='NAP', RestingBP=140, Cholesterol=235, FastingBS=0, RestingECG='LVH', MaxHR=180, ExerciseAngina='N', Oldpeak=0.0, ST_Slope='Up', HeartDisease=0),\n",
              " Row(Age=61, Sex='M', ChestPainType='TA', RestingBP=134, Cholesterol=234, FastingBS=0, RestingECG='Normal', MaxHR=145, ExerciseAngina='N', Oldpeak=2.6, ST_Slope='Flat', HeartDisease=1),\n",
              " Row(Age=57, Sex='F', ChestPainType='ASY', RestingBP=128, Cholesterol=303, FastingBS=0, RestingECG='LVH', MaxHR=159, ExerciseAngina='N', Oldpeak=0.0, ST_Slope='Up', HeartDisease=0),\n",
              " Row(Age=71, Sex='F', ChestPainType='ASY', RestingBP=112, Cholesterol=149, FastingBS=0, RestingECG='Normal', MaxHR=125, ExerciseAngina='N', Oldpeak=1.6, ST_Slope='Flat', HeartDisease=0),\n",
              " Row(Age=46, Sex='M', ChestPainType='ASY', RestingBP=140, Cholesterol=311, FastingBS=0, RestingECG='Normal', MaxHR=120, ExerciseAngina='Y', Oldpeak=1.8, ST_Slope='Flat', HeartDisease=1),\n",
              " Row(Age=53, Sex='M', ChestPainType='ASY', RestingBP=140, Cholesterol=203, FastingBS=1, RestingECG='LVH', MaxHR=155, ExerciseAngina='Y', Oldpeak=3.1, ST_Slope='Down', HeartDisease=1),\n",
              " Row(Age=64, Sex='M', ChestPainType='TA', RestingBP=110, Cholesterol=211, FastingBS=0, RestingECG='LVH', MaxHR=144, ExerciseAngina='Y', Oldpeak=1.8, ST_Slope='Flat', HeartDisease=0),\n",
              " Row(Age=40, Sex='M', ChestPainType='TA', RestingBP=140, Cholesterol=199, FastingBS=0, RestingECG='Normal', MaxHR=178, ExerciseAngina='Y', Oldpeak=1.4, ST_Slope='Up', HeartDisease=0),\n",
              " Row(Age=67, Sex='M', ChestPainType='ASY', RestingBP=120, Cholesterol=229, FastingBS=0, RestingECG='LVH', MaxHR=129, ExerciseAngina='Y', Oldpeak=2.6, ST_Slope='Flat', HeartDisease=1),\n",
              " Row(Age=48, Sex='M', ChestPainType='ATA', RestingBP=130, Cholesterol=245, FastingBS=0, RestingECG='LVH', MaxHR=180, ExerciseAngina='N', Oldpeak=0.2, ST_Slope='Flat', HeartDisease=0),\n",
              " Row(Age=43, Sex='M', ChestPainType='ASY', RestingBP=115, Cholesterol=303, FastingBS=0, RestingECG='Normal', MaxHR=181, ExerciseAngina='N', Oldpeak=1.2, ST_Slope='Flat', HeartDisease=0),\n",
              " Row(Age=47, Sex='M', ChestPainType='ASY', RestingBP=112, Cholesterol=204, FastingBS=0, RestingECG='Normal', MaxHR=143, ExerciseAngina='N', Oldpeak=0.1, ST_Slope='Up', HeartDisease=0),\n",
              " Row(Age=54, Sex='F', ChestPainType='ATA', RestingBP=132, Cholesterol=288, FastingBS=1, RestingECG='LVH', MaxHR=159, ExerciseAngina='Y', Oldpeak=0.0, ST_Slope='Up', HeartDisease=0),\n",
              " Row(Age=48, Sex='F', ChestPainType='NAP', RestingBP=130, Cholesterol=275, FastingBS=0, RestingECG='Normal', MaxHR=139, ExerciseAngina='N', Oldpeak=0.2, ST_Slope='Up', HeartDisease=0),\n",
              " Row(Age=46, Sex='F', ChestPainType='ASY', RestingBP=138, Cholesterol=243, FastingBS=0, RestingECG='LVH', MaxHR=152, ExerciseAngina='Y', Oldpeak=0.0, ST_Slope='Flat', HeartDisease=0),\n",
              " Row(Age=51, Sex='F', ChestPainType='NAP', RestingBP=120, Cholesterol=295, FastingBS=0, RestingECG='LVH', MaxHR=157, ExerciseAngina='N', Oldpeak=0.6, ST_Slope='Up', HeartDisease=0),\n",
              " Row(Age=58, Sex='M', ChestPainType='NAP', RestingBP=112, Cholesterol=230, FastingBS=0, RestingECG='LVH', MaxHR=165, ExerciseAngina='N', Oldpeak=2.5, ST_Slope='Flat', HeartDisease=1),\n",
              " Row(Age=71, Sex='F', ChestPainType='NAP', RestingBP=110, Cholesterol=265, FastingBS=1, RestingECG='LVH', MaxHR=130, ExerciseAngina='N', Oldpeak=0.0, ST_Slope='Up', HeartDisease=0),\n",
              " Row(Age=57, Sex='M', ChestPainType='NAP', RestingBP=128, Cholesterol=229, FastingBS=0, RestingECG='LVH', MaxHR=150, ExerciseAngina='N', Oldpeak=0.4, ST_Slope='Flat', HeartDisease=1),\n",
              " Row(Age=66, Sex='M', ChestPainType='ASY', RestingBP=160, Cholesterol=228, FastingBS=0, RestingECG='LVH', MaxHR=138, ExerciseAngina='N', Oldpeak=2.3, ST_Slope='Up', HeartDisease=0),\n",
              " Row(Age=37, Sex='F', ChestPainType='NAP', RestingBP=120, Cholesterol=215, FastingBS=0, RestingECG='Normal', MaxHR=170, ExerciseAngina='N', Oldpeak=0.0, ST_Slope='Up', HeartDisease=0),\n",
              " Row(Age=59, Sex='M', ChestPainType='ASY', RestingBP=170, Cholesterol=326, FastingBS=0, RestingECG='LVH', MaxHR=140, ExerciseAngina='Y', Oldpeak=3.4, ST_Slope='Down', HeartDisease=1),\n",
              " Row(Age=50, Sex='M', ChestPainType='ASY', RestingBP=144, Cholesterol=200, FastingBS=0, RestingECG='LVH', MaxHR=126, ExerciseAngina='Y', Oldpeak=0.9, ST_Slope='Flat', HeartDisease=1),\n",
              " Row(Age=48, Sex='M', ChestPainType='ASY', RestingBP=130, Cholesterol=256, FastingBS=1, RestingECG='LVH', MaxHR=150, ExerciseAngina='Y', Oldpeak=0.0, ST_Slope='Up', HeartDisease=1),\n",
              " Row(Age=61, Sex='M', ChestPainType='ASY', RestingBP=140, Cholesterol=207, FastingBS=0, RestingECG='LVH', MaxHR=138, ExerciseAngina='Y', Oldpeak=1.9, ST_Slope='Up', HeartDisease=1),\n",
              " Row(Age=59, Sex='M', ChestPainType='TA', RestingBP=160, Cholesterol=273, FastingBS=0, RestingECG='LVH', MaxHR=125, ExerciseAngina='N', Oldpeak=0.0, ST_Slope='Up', HeartDisease=1),\n",
              " Row(Age=42, Sex='M', ChestPainType='NAP', RestingBP=130, Cholesterol=180, FastingBS=0, RestingECG='Normal', MaxHR=150, ExerciseAngina='N', Oldpeak=0.0, ST_Slope='Up', HeartDisease=0),\n",
              " Row(Age=48, Sex='M', ChestPainType='ASY', RestingBP=122, Cholesterol=222, FastingBS=0, RestingECG='LVH', MaxHR=186, ExerciseAngina='N', Oldpeak=0.0, ST_Slope='Up', HeartDisease=0),\n",
              " Row(Age=40, Sex='M', ChestPainType='ASY', RestingBP=152, Cholesterol=223, FastingBS=0, RestingECG='Normal', MaxHR=181, ExerciseAngina='N', Oldpeak=0.0, ST_Slope='Up', HeartDisease=1),\n",
              " Row(Age=62, Sex='F', ChestPainType='ASY', RestingBP=124, Cholesterol=209, FastingBS=0, RestingECG='Normal', MaxHR=163, ExerciseAngina='N', Oldpeak=0.0, ST_Slope='Up', HeartDisease=0),\n",
              " Row(Age=44, Sex='M', ChestPainType='NAP', RestingBP=130, Cholesterol=233, FastingBS=0, RestingECG='Normal', MaxHR=179, ExerciseAngina='Y', Oldpeak=0.4, ST_Slope='Up', HeartDisease=0),\n",
              " Row(Age=46, Sex='M', ChestPainType='ATA', RestingBP=101, Cholesterol=197, FastingBS=1, RestingECG='Normal', MaxHR=156, ExerciseAngina='N', Oldpeak=0.0, ST_Slope='Up', HeartDisease=0),\n",
              " Row(Age=59, Sex='M', ChestPainType='NAP', RestingBP=126, Cholesterol=218, FastingBS=1, RestingECG='Normal', MaxHR=134, ExerciseAngina='N', Oldpeak=2.2, ST_Slope='Flat', HeartDisease=1),\n",
              " Row(Age=58, Sex='M', ChestPainType='NAP', RestingBP=140, Cholesterol=211, FastingBS=1, RestingECG='LVH', MaxHR=165, ExerciseAngina='N', Oldpeak=0.0, ST_Slope='Up', HeartDisease=0),\n",
              " Row(Age=49, Sex='M', ChestPainType='NAP', RestingBP=118, Cholesterol=149, FastingBS=0, RestingECG='LVH', MaxHR=126, ExerciseAngina='N', Oldpeak=0.8, ST_Slope='Up', HeartDisease=1),\n",
              " Row(Age=44, Sex='M', ChestPainType='ASY', RestingBP=110, Cholesterol=197, FastingBS=0, RestingECG='LVH', MaxHR=177, ExerciseAngina='N', Oldpeak=0.0, ST_Slope='Up', HeartDisease=1),\n",
              " Row(Age=66, Sex='M', ChestPainType='ATA', RestingBP=160, Cholesterol=246, FastingBS=0, RestingECG='Normal', MaxHR=120, ExerciseAngina='Y', Oldpeak=0.0, ST_Slope='Flat', HeartDisease=1),\n",
              " Row(Age=65, Sex='F', ChestPainType='ASY', RestingBP=150, Cholesterol=225, FastingBS=0, RestingECG='LVH', MaxHR=114, ExerciseAngina='N', Oldpeak=1.0, ST_Slope='Flat', HeartDisease=1),\n",
              " Row(Age=42, Sex='M', ChestPainType='ASY', RestingBP=136, Cholesterol=315, FastingBS=0, RestingECG='Normal', MaxHR=125, ExerciseAngina='Y', Oldpeak=1.8, ST_Slope='Flat', HeartDisease=1),\n",
              " Row(Age=52, Sex='M', ChestPainType='ATA', RestingBP=128, Cholesterol=205, FastingBS=1, RestingECG='Normal', MaxHR=184, ExerciseAngina='N', Oldpeak=0.0, ST_Slope='Up', HeartDisease=0),\n",
              " Row(Age=65, Sex='F', ChestPainType='NAP', RestingBP=140, Cholesterol=417, FastingBS=1, RestingECG='LVH', MaxHR=157, ExerciseAngina='N', Oldpeak=0.8, ST_Slope='Up', HeartDisease=0),\n",
              " Row(Age=63, Sex='F', ChestPainType='ATA', RestingBP=140, Cholesterol=195, FastingBS=0, RestingECG='Normal', MaxHR=179, ExerciseAngina='N', Oldpeak=0.0, ST_Slope='Up', HeartDisease=0),\n",
              " Row(Age=45, Sex='F', ChestPainType='ATA', RestingBP=130, Cholesterol=234, FastingBS=0, RestingECG='LVH', MaxHR=175, ExerciseAngina='N', Oldpeak=0.6, ST_Slope='Flat', HeartDisease=0),\n",
              " Row(Age=41, Sex='F', ChestPainType='ATA', RestingBP=105, Cholesterol=198, FastingBS=0, RestingECG='Normal', MaxHR=168, ExerciseAngina='N', Oldpeak=0.0, ST_Slope='Up', HeartDisease=0),\n",
              " Row(Age=61, Sex='M', ChestPainType='ASY', RestingBP=138, Cholesterol=166, FastingBS=0, RestingECG='LVH', MaxHR=125, ExerciseAngina='Y', Oldpeak=3.6, ST_Slope='Flat', HeartDisease=1),\n",
              " Row(Age=60, Sex='F', ChestPainType='NAP', RestingBP=120, Cholesterol=178, FastingBS=1, RestingECG='Normal', MaxHR=96, ExerciseAngina='N', Oldpeak=0.0, ST_Slope='Up', HeartDisease=0),\n",
              " Row(Age=59, Sex='F', ChestPainType='ASY', RestingBP=174, Cholesterol=249, FastingBS=0, RestingECG='Normal', MaxHR=143, ExerciseAngina='Y', Oldpeak=0.0, ST_Slope='Flat', HeartDisease=1),\n",
              " Row(Age=62, Sex='M', ChestPainType='ATA', RestingBP=120, Cholesterol=281, FastingBS=0, RestingECG='LVH', MaxHR=103, ExerciseAngina='N', Oldpeak=1.4, ST_Slope='Flat', HeartDisease=1),\n",
              " Row(Age=57, Sex='M', ChestPainType='NAP', RestingBP=150, Cholesterol=126, FastingBS=1, RestingECG='Normal', MaxHR=173, ExerciseAngina='N', Oldpeak=0.2, ST_Slope='Up', HeartDisease=0),\n",
              " Row(Age=51, Sex='F', ChestPainType='ASY', RestingBP=130, Cholesterol=305, FastingBS=0, RestingECG='Normal', MaxHR=142, ExerciseAngina='Y', Oldpeak=1.2, ST_Slope='Flat', HeartDisease=1),\n",
              " Row(Age=44, Sex='M', ChestPainType='NAP', RestingBP=120, Cholesterol=226, FastingBS=0, RestingECG='Normal', MaxHR=169, ExerciseAngina='N', Oldpeak=0.0, ST_Slope='Up', HeartDisease=0),\n",
              " Row(Age=60, Sex='F', ChestPainType='TA', RestingBP=150, Cholesterol=240, FastingBS=0, RestingECG='Normal', MaxHR=171, ExerciseAngina='N', Oldpeak=0.9, ST_Slope='Up', HeartDisease=0),\n",
              " Row(Age=63, Sex='M', ChestPainType='TA', RestingBP=145, Cholesterol=233, FastingBS=1, RestingECG='LVH', MaxHR=150, ExerciseAngina='N', Oldpeak=2.3, ST_Slope='Down', HeartDisease=0),\n",
              " Row(Age=57, Sex='M', ChestPainType='ASY', RestingBP=150, Cholesterol=276, FastingBS=0, RestingECG='LVH', MaxHR=112, ExerciseAngina='Y', Oldpeak=0.6, ST_Slope='Flat', HeartDisease=1),\n",
              " Row(Age=51, Sex='M', ChestPainType='ASY', RestingBP=140, Cholesterol=261, FastingBS=0, RestingECG='LVH', MaxHR=186, ExerciseAngina='Y', Oldpeak=0.0, ST_Slope='Up', HeartDisease=0),\n",
              " Row(Age=58, Sex='F', ChestPainType='ATA', RestingBP=136, Cholesterol=319, FastingBS=1, RestingECG='LVH', MaxHR=152, ExerciseAngina='N', Oldpeak=0.0, ST_Slope='Up', HeartDisease=1),\n",
              " Row(Age=44, Sex='F', ChestPainType='NAP', RestingBP=118, Cholesterol=242, FastingBS=0, RestingECG='Normal', MaxHR=149, ExerciseAngina='N', Oldpeak=0.3, ST_Slope='Flat', HeartDisease=0),\n",
              " Row(Age=47, Sex='M', ChestPainType='NAP', RestingBP=108, Cholesterol=243, FastingBS=0, RestingECG='Normal', MaxHR=152, ExerciseAngina='N', Oldpeak=0.0, ST_Slope='Up', HeartDisease=1),\n",
              " Row(Age=61, Sex='M', ChestPainType='ASY', RestingBP=120, Cholesterol=260, FastingBS=0, RestingECG='Normal', MaxHR=140, ExerciseAngina='Y', Oldpeak=3.6, ST_Slope='Flat', HeartDisease=1),\n",
              " Row(Age=57, Sex='F', ChestPainType='ASY', RestingBP=120, Cholesterol=354, FastingBS=0, RestingECG='Normal', MaxHR=163, ExerciseAngina='Y', Oldpeak=0.6, ST_Slope='Up', HeartDisease=0),\n",
              " Row(Age=70, Sex='M', ChestPainType='ATA', RestingBP=156, Cholesterol=245, FastingBS=0, RestingECG='LVH', MaxHR=143, ExerciseAngina='N', Oldpeak=0.0, ST_Slope='Up', HeartDisease=0),\n",
              " Row(Age=76, Sex='F', ChestPainType='NAP', RestingBP=140, Cholesterol=197, FastingBS=0, RestingECG='ST', MaxHR=116, ExerciseAngina='N', Oldpeak=1.1, ST_Slope='Flat', HeartDisease=0),\n",
              " Row(Age=67, Sex='F', ChestPainType='ASY', RestingBP=106, Cholesterol=223, FastingBS=0, RestingECG='Normal', MaxHR=142, ExerciseAngina='N', Oldpeak=0.3, ST_Slope='Up', HeartDisease=0),\n",
              " Row(Age=45, Sex='M', ChestPainType='ASY', RestingBP=142, Cholesterol=309, FastingBS=0, RestingECG='LVH', MaxHR=147, ExerciseAngina='Y', Oldpeak=0.0, ST_Slope='Flat', HeartDisease=1),\n",
              " Row(Age=45, Sex='M', ChestPainType='ASY', RestingBP=104, Cholesterol=208, FastingBS=0, RestingECG='LVH', MaxHR=148, ExerciseAngina='Y', Oldpeak=3.0, ST_Slope='Flat', HeartDisease=0),\n",
              " Row(Age=39, Sex='F', ChestPainType='NAP', RestingBP=94, Cholesterol=199, FastingBS=0, RestingECG='Normal', MaxHR=179, ExerciseAngina='N', Oldpeak=0.0, ST_Slope='Up', HeartDisease=0),\n",
              " Row(Age=42, Sex='F', ChestPainType='NAP', RestingBP=120, Cholesterol=209, FastingBS=0, RestingECG='Normal', MaxHR=173, ExerciseAngina='N', Oldpeak=0.0, ST_Slope='Flat', HeartDisease=0),\n",
              " Row(Age=56, Sex='M', ChestPainType='ATA', RestingBP=120, Cholesterol=236, FastingBS=0, RestingECG='Normal', MaxHR=178, ExerciseAngina='N', Oldpeak=0.8, ST_Slope='Up', HeartDisease=0),\n",
              " Row(Age=58, Sex='M', ChestPainType='ASY', RestingBP=146, Cholesterol=218, FastingBS=0, RestingECG='Normal', MaxHR=105, ExerciseAngina='N', Oldpeak=2.0, ST_Slope='Flat', HeartDisease=1),\n",
              " Row(Age=35, Sex='M', ChestPainType='ASY', RestingBP=120, Cholesterol=198, FastingBS=0, RestingECG='Normal', MaxHR=130, ExerciseAngina='Y', Oldpeak=1.6, ST_Slope='Flat', HeartDisease=1),\n",
              " Row(Age=58, Sex='M', ChestPainType='ASY', RestingBP=150, Cholesterol=270, FastingBS=0, RestingECG='LVH', MaxHR=111, ExerciseAngina='Y', Oldpeak=0.8, ST_Slope='Up', HeartDisease=1),\n",
              " Row(Age=41, Sex='M', ChestPainType='NAP', RestingBP=130, Cholesterol=214, FastingBS=0, RestingECG='LVH', MaxHR=168, ExerciseAngina='N', Oldpeak=2.0, ST_Slope='Flat', HeartDisease=0),\n",
              " Row(Age=57, Sex='M', ChestPainType='ASY', RestingBP=110, Cholesterol=201, FastingBS=0, RestingECG='Normal', MaxHR=126, ExerciseAngina='Y', Oldpeak=1.5, ST_Slope='Flat', HeartDisease=0),\n",
              " Row(Age=42, Sex='M', ChestPainType='TA', RestingBP=148, Cholesterol=244, FastingBS=0, RestingECG='LVH', MaxHR=178, ExerciseAngina='N', Oldpeak=0.8, ST_Slope='Up', HeartDisease=0),\n",
              " Row(Age=62, Sex='M', ChestPainType='ATA', RestingBP=128, Cholesterol=208, FastingBS=1, RestingECG='LVH', MaxHR=140, ExerciseAngina='N', Oldpeak=0.0, ST_Slope='Up', HeartDisease=0),\n",
              " Row(Age=59, Sex='M', ChestPainType='TA', RestingBP=178, Cholesterol=270, FastingBS=0, RestingECG='LVH', MaxHR=145, ExerciseAngina='N', Oldpeak=4.2, ST_Slope='Down', HeartDisease=0),\n",
              " Row(Age=41, Sex='F', ChestPainType='ATA', RestingBP=126, Cholesterol=306, FastingBS=0, RestingECG='Normal', MaxHR=163, ExerciseAngina='N', Oldpeak=0.0, ST_Slope='Up', HeartDisease=0),\n",
              " Row(Age=50, Sex='M', ChestPainType='ASY', RestingBP=150, Cholesterol=243, FastingBS=0, RestingECG='LVH', MaxHR=128, ExerciseAngina='N', Oldpeak=2.6, ST_Slope='Flat', HeartDisease=1),\n",
              " Row(Age=59, Sex='M', ChestPainType='ATA', RestingBP=140, Cholesterol=221, FastingBS=0, RestingECG='Normal', MaxHR=164, ExerciseAngina='Y', Oldpeak=0.0, ST_Slope='Up', HeartDisease=0),\n",
              " Row(Age=61, Sex='F', ChestPainType='ASY', RestingBP=130, Cholesterol=330, FastingBS=0, RestingECG='LVH', MaxHR=169, ExerciseAngina='N', Oldpeak=0.0, ST_Slope='Up', HeartDisease=1),\n",
              " Row(Age=54, Sex='M', ChestPainType='ASY', RestingBP=124, Cholesterol=266, FastingBS=0, RestingECG='LVH', MaxHR=109, ExerciseAngina='Y', Oldpeak=2.2, ST_Slope='Flat', HeartDisease=1),\n",
              " Row(Age=54, Sex='M', ChestPainType='ASY', RestingBP=110, Cholesterol=206, FastingBS=0, RestingECG='LVH', MaxHR=108, ExerciseAngina='Y', Oldpeak=0.0, ST_Slope='Flat', HeartDisease=1),\n",
              " Row(Age=52, Sex='M', ChestPainType='ASY', RestingBP=125, Cholesterol=212, FastingBS=0, RestingECG='Normal', MaxHR=168, ExerciseAngina='N', Oldpeak=1.0, ST_Slope='Up', HeartDisease=1),\n",
              " Row(Age=47, Sex='M', ChestPainType='ASY', RestingBP=110, Cholesterol=275, FastingBS=0, RestingECG='LVH', MaxHR=118, ExerciseAngina='Y', Oldpeak=1.0, ST_Slope='Flat', HeartDisease=1),\n",
              " Row(Age=66, Sex='M', ChestPainType='ASY', RestingBP=120, Cholesterol=302, FastingBS=0, RestingECG='LVH', MaxHR=151, ExerciseAngina='N', Oldpeak=0.4, ST_Slope='Flat', HeartDisease=0),\n",
              " Row(Age=58, Sex='M', ChestPainType='ASY', RestingBP=100, Cholesterol=234, FastingBS=0, RestingECG='Normal', MaxHR=156, ExerciseAngina='N', Oldpeak=0.1, ST_Slope='Up', HeartDisease=1),\n",
              " Row(Age=64, Sex='F', ChestPainType='NAP', RestingBP=140, Cholesterol=313, FastingBS=0, RestingECG='Normal', MaxHR=133, ExerciseAngina='N', Oldpeak=0.2, ST_Slope='Up', HeartDisease=0),\n",
              " Row(Age=50, Sex='F', ChestPainType='ATA', RestingBP=120, Cholesterol=244, FastingBS=0, RestingECG='Normal', MaxHR=162, ExerciseAngina='N', Oldpeak=1.1, ST_Slope='Up', HeartDisease=0),\n",
              " Row(Age=44, Sex='F', ChestPainType='NAP', RestingBP=108, Cholesterol=141, FastingBS=0, RestingECG='Normal', MaxHR=175, ExerciseAngina='N', Oldpeak=0.6, ST_Slope='Flat', HeartDisease=0),\n",
              " Row(Age=67, Sex='M', ChestPainType='ASY', RestingBP=120, Cholesterol=237, FastingBS=0, RestingECG='Normal', MaxHR=71, ExerciseAngina='N', Oldpeak=1.0, ST_Slope='Flat', HeartDisease=1),\n",
              " Row(Age=49, Sex='F', ChestPainType='ASY', RestingBP=130, Cholesterol=269, FastingBS=0, RestingECG='Normal', MaxHR=163, ExerciseAngina='N', Oldpeak=0.0, ST_Slope='Up', HeartDisease=0),\n",
              " Row(Age=57, Sex='M', ChestPainType='ASY', RestingBP=165, Cholesterol=289, FastingBS=1, RestingECG='LVH', MaxHR=124, ExerciseAngina='N', Oldpeak=1.0, ST_Slope='Flat', HeartDisease=1),\n",
              " Row(Age=63, Sex='M', ChestPainType='ASY', RestingBP=130, Cholesterol=254, FastingBS=0, RestingECG='LVH', MaxHR=147, ExerciseAngina='N', Oldpeak=1.4, ST_Slope='Flat', HeartDisease=1),\n",
              " Row(Age=48, Sex='M', ChestPainType='ASY', RestingBP=124, Cholesterol=274, FastingBS=0, RestingECG='LVH', MaxHR=166, ExerciseAngina='N', Oldpeak=0.5, ST_Slope='Flat', HeartDisease=1),\n",
              " Row(Age=51, Sex='M', ChestPainType='NAP', RestingBP=100, Cholesterol=222, FastingBS=0, RestingECG='Normal', MaxHR=143, ExerciseAngina='Y', Oldpeak=1.2, ST_Slope='Flat', HeartDisease=0),\n",
              " Row(Age=60, Sex='F', ChestPainType='ASY', RestingBP=150, Cholesterol=258, FastingBS=0, RestingECG='LVH', MaxHR=157, ExerciseAngina='N', Oldpeak=2.6, ST_Slope='Flat', HeartDisease=1),\n",
              " Row(Age=59, Sex='M', ChestPainType='ASY', RestingBP=140, Cholesterol=177, FastingBS=0, RestingECG='Normal', MaxHR=162, ExerciseAngina='Y', Oldpeak=0.0, ST_Slope='Up', HeartDisease=1),\n",
              " Row(Age=45, Sex='F', ChestPainType='ATA', RestingBP=112, Cholesterol=160, FastingBS=0, RestingECG='Normal', MaxHR=138, ExerciseAngina='N', Oldpeak=0.0, ST_Slope='Flat', HeartDisease=0),\n",
              " Row(Age=55, Sex='F', ChestPainType='ASY', RestingBP=180, Cholesterol=327, FastingBS=0, RestingECG='ST', MaxHR=117, ExerciseAngina='Y', Oldpeak=3.4, ST_Slope='Flat', HeartDisease=1),\n",
              " Row(Age=41, Sex='M', ChestPainType='ATA', RestingBP=110, Cholesterol=235, FastingBS=0, RestingECG='Normal', MaxHR=153, ExerciseAngina='N', Oldpeak=0.0, ST_Slope='Up', HeartDisease=0),\n",
              " Row(Age=60, Sex='F', ChestPainType='ASY', RestingBP=158, Cholesterol=305, FastingBS=0, RestingECG='LVH', MaxHR=161, ExerciseAngina='N', Oldpeak=0.0, ST_Slope='Up', HeartDisease=1),\n",
              " Row(Age=54, Sex='F', ChestPainType='NAP', RestingBP=135, Cholesterol=304, FastingBS=1, RestingECG='Normal', MaxHR=170, ExerciseAngina='N', Oldpeak=0.0, ST_Slope='Up', HeartDisease=0),\n",
              " Row(Age=42, Sex='M', ChestPainType='ATA', RestingBP=120, Cholesterol=295, FastingBS=0, RestingECG='Normal', MaxHR=162, ExerciseAngina='N', Oldpeak=0.0, ST_Slope='Up', HeartDisease=0),\n",
              " Row(Age=49, Sex='F', ChestPainType='ATA', RestingBP=134, Cholesterol=271, FastingBS=0, RestingECG='Normal', MaxHR=162, ExerciseAngina='N', Oldpeak=0.0, ST_Slope='Flat', HeartDisease=0),\n",
              " Row(Age=46, Sex='M', ChestPainType='ASY', RestingBP=120, Cholesterol=249, FastingBS=0, RestingECG='LVH', MaxHR=144, ExerciseAngina='N', Oldpeak=0.8, ST_Slope='Up', HeartDisease=1),\n",
              " Row(Age=56, Sex='F', ChestPainType='ASY', RestingBP=200, Cholesterol=288, FastingBS=1, RestingECG='LVH', MaxHR=133, ExerciseAngina='Y', Oldpeak=4.0, ST_Slope='Down', HeartDisease=1),\n",
              " Row(Age=66, Sex='F', ChestPainType='TA', RestingBP=150, Cholesterol=226, FastingBS=0, RestingECG='Normal', MaxHR=114, ExerciseAngina='N', Oldpeak=2.6, ST_Slope='Down', HeartDisease=0),\n",
              " Row(Age=56, Sex='M', ChestPainType='ASY', RestingBP=130, Cholesterol=283, FastingBS=1, RestingECG='LVH', MaxHR=103, ExerciseAngina='Y', Oldpeak=1.6, ST_Slope='Down', HeartDisease=1),\n",
              " Row(Age=49, Sex='M', ChestPainType='NAP', RestingBP=120, Cholesterol=188, FastingBS=0, RestingECG='Normal', MaxHR=139, ExerciseAngina='N', Oldpeak=2.0, ST_Slope='Flat', HeartDisease=1),\n",
              " Row(Age=54, Sex='M', ChestPainType='ASY', RestingBP=122, Cholesterol=286, FastingBS=0, RestingECG='LVH', MaxHR=116, ExerciseAngina='Y', Oldpeak=3.2, ST_Slope='Flat', HeartDisease=1),\n",
              " Row(Age=57, Sex='M', ChestPainType='ASY', RestingBP=152, Cholesterol=274, FastingBS=0, RestingECG='Normal', MaxHR=88, ExerciseAngina='Y', Oldpeak=1.2, ST_Slope='Flat', HeartDisease=1),\n",
              " Row(Age=65, Sex='F', ChestPainType='NAP', RestingBP=160, Cholesterol=360, FastingBS=0, RestingECG='LVH', MaxHR=151, ExerciseAngina='N', Oldpeak=0.8, ST_Slope='Up', HeartDisease=0),\n",
              " Row(Age=54, Sex='M', ChestPainType='NAP', RestingBP=125, Cholesterol=273, FastingBS=0, RestingECG='LVH', MaxHR=152, ExerciseAngina='N', Oldpeak=0.5, ST_Slope='Down', HeartDisease=0),\n",
              " Row(Age=54, Sex='F', ChestPainType='NAP', RestingBP=160, Cholesterol=201, FastingBS=0, RestingECG='Normal', MaxHR=163, ExerciseAngina='N', Oldpeak=0.0, ST_Slope='Up', HeartDisease=0),\n",
              " Row(Age=62, Sex='M', ChestPainType='ASY', RestingBP=120, Cholesterol=267, FastingBS=0, RestingECG='Normal', MaxHR=99, ExerciseAngina='Y', Oldpeak=1.8, ST_Slope='Flat', HeartDisease=1),\n",
              " Row(Age=52, Sex='F', ChestPainType='NAP', RestingBP=136, Cholesterol=196, FastingBS=0, RestingECG='LVH', MaxHR=169, ExerciseAngina='N', Oldpeak=0.1, ST_Slope='Flat', HeartDisease=0),\n",
              " Row(Age=52, Sex='M', ChestPainType='ATA', RestingBP=134, Cholesterol=201, FastingBS=0, RestingECG='Normal', MaxHR=158, ExerciseAngina='N', Oldpeak=0.8, ST_Slope='Up', HeartDisease=0),\n",
              " Row(Age=60, Sex='M', ChestPainType='ASY', RestingBP=117, Cholesterol=230, FastingBS=1, RestingECG='Normal', MaxHR=160, ExerciseAngina='Y', Oldpeak=1.4, ST_Slope='Up', HeartDisease=1),\n",
              " Row(Age=63, Sex='F', ChestPainType='ASY', RestingBP=108, Cholesterol=269, FastingBS=0, RestingECG='Normal', MaxHR=169, ExerciseAngina='Y', Oldpeak=1.8, ST_Slope='Flat', HeartDisease=1),\n",
              " Row(Age=66, Sex='M', ChestPainType='ASY', RestingBP=112, Cholesterol=212, FastingBS=0, RestingECG='LVH', MaxHR=132, ExerciseAngina='Y', Oldpeak=0.1, ST_Slope='Up', HeartDisease=1),\n",
              " Row(Age=42, Sex='M', ChestPainType='ASY', RestingBP=140, Cholesterol=226, FastingBS=0, RestingECG='Normal', MaxHR=178, ExerciseAngina='N', Oldpeak=0.0, ST_Slope='Up', HeartDisease=0),\n",
              " Row(Age=64, Sex='M', ChestPainType='ASY', RestingBP=120, Cholesterol=246, FastingBS=0, RestingECG='LVH', MaxHR=96, ExerciseAngina='Y', Oldpeak=2.2, ST_Slope='Down', HeartDisease=1),\n",
              " Row(Age=54, Sex='M', ChestPainType='NAP', RestingBP=150, Cholesterol=232, FastingBS=0, RestingECG='LVH', MaxHR=165, ExerciseAngina='N', Oldpeak=1.6, ST_Slope='Up', HeartDisease=0),\n",
              " Row(Age=46, Sex='F', ChestPainType='NAP', RestingBP=142, Cholesterol=177, FastingBS=0, RestingECG='LVH', MaxHR=160, ExerciseAngina='Y', Oldpeak=1.4, ST_Slope='Down', HeartDisease=0),\n",
              " Row(Age=67, Sex='F', ChestPainType='NAP', RestingBP=152, Cholesterol=277, FastingBS=0, RestingECG='Normal', MaxHR=172, ExerciseAngina='N', Oldpeak=0.0, ST_Slope='Up', HeartDisease=0),\n",
              " Row(Age=56, Sex='M', ChestPainType='ASY', RestingBP=125, Cholesterol=249, FastingBS=1, RestingECG='LVH', MaxHR=144, ExerciseAngina='Y', Oldpeak=1.2, ST_Slope='Flat', HeartDisease=1),\n",
              " Row(Age=34, Sex='F', ChestPainType='ATA', RestingBP=118, Cholesterol=210, FastingBS=0, RestingECG='Normal', MaxHR=192, ExerciseAngina='N', Oldpeak=0.7, ST_Slope='Up', HeartDisease=0),\n",
              " Row(Age=57, Sex='M', ChestPainType='ASY', RestingBP=132, Cholesterol=207, FastingBS=0, RestingECG='Normal', MaxHR=168, ExerciseAngina='Y', Oldpeak=0.0, ST_Slope='Up', HeartDisease=0),\n",
              " Row(Age=64, Sex='M', ChestPainType='ASY', RestingBP=145, Cholesterol=212, FastingBS=0, RestingECG='LVH', MaxHR=132, ExerciseAngina='N', Oldpeak=2.0, ST_Slope='Flat', HeartDisease=1),\n",
              " Row(Age=59, Sex='M', ChestPainType='ASY', RestingBP=138, Cholesterol=271, FastingBS=0, RestingECG='LVH', MaxHR=182, ExerciseAngina='N', Oldpeak=0.0, ST_Slope='Up', HeartDisease=0),\n",
              " Row(Age=50, Sex='M', ChestPainType='NAP', RestingBP=140, Cholesterol=233, FastingBS=0, RestingECG='Normal', MaxHR=163, ExerciseAngina='N', Oldpeak=0.6, ST_Slope='Flat', HeartDisease=1),\n",
              " Row(Age=51, Sex='M', ChestPainType='TA', RestingBP=125, Cholesterol=213, FastingBS=0, RestingECG='LVH', MaxHR=125, ExerciseAngina='Y', Oldpeak=1.4, ST_Slope='Up', HeartDisease=0),\n",
              " Row(Age=54, Sex='M', ChestPainType='ATA', RestingBP=192, Cholesterol=283, FastingBS=0, RestingECG='LVH', MaxHR=195, ExerciseAngina='N', Oldpeak=0.0, ST_Slope='Up', HeartDisease=1),\n",
              " Row(Age=53, Sex='M', ChestPainType='ASY', RestingBP=123, Cholesterol=282, FastingBS=0, RestingECG='Normal', MaxHR=95, ExerciseAngina='Y', Oldpeak=2.0, ST_Slope='Flat', HeartDisease=1),\n",
              " Row(Age=52, Sex='M', ChestPainType='ASY', RestingBP=112, Cholesterol=230, FastingBS=0, RestingECG='Normal', MaxHR=160, ExerciseAngina='N', Oldpeak=0.0, ST_Slope='Up', HeartDisease=1),\n",
              " Row(Age=40, Sex='M', ChestPainType='ASY', RestingBP=110, Cholesterol=167, FastingBS=0, RestingECG='LVH', MaxHR=114, ExerciseAngina='Y', Oldpeak=2.0, ST_Slope='Flat', HeartDisease=1),\n",
              " Row(Age=58, Sex='M', ChestPainType='NAP', RestingBP=132, Cholesterol=224, FastingBS=0, RestingECG='LVH', MaxHR=173, ExerciseAngina='N', Oldpeak=3.2, ST_Slope='Up', HeartDisease=1),\n",
              " Row(Age=41, Sex='F', ChestPainType='NAP', RestingBP=112, Cholesterol=268, FastingBS=0, RestingECG='LVH', MaxHR=172, ExerciseAngina='Y', Oldpeak=0.0, ST_Slope='Up', HeartDisease=0),\n",
              " Row(Age=41, Sex='M', ChestPainType='NAP', RestingBP=112, Cholesterol=250, FastingBS=0, RestingECG='Normal', MaxHR=179, ExerciseAngina='N', Oldpeak=0.0, ST_Slope='Up', HeartDisease=0),\n",
              " Row(Age=50, Sex='F', ChestPainType='NAP', RestingBP=120, Cholesterol=219, FastingBS=0, RestingECG='Normal', MaxHR=158, ExerciseAngina='N', Oldpeak=1.6, ST_Slope='Flat', HeartDisease=0),\n",
              " Row(Age=54, Sex='F', ChestPainType='NAP', RestingBP=108, Cholesterol=267, FastingBS=0, RestingECG='LVH', MaxHR=167, ExerciseAngina='N', Oldpeak=0.0, ST_Slope='Up', HeartDisease=0),\n",
              " Row(Age=64, Sex='F', ChestPainType='ASY', RestingBP=130, Cholesterol=303, FastingBS=0, RestingECG='Normal', MaxHR=122, ExerciseAngina='N', Oldpeak=2.0, ST_Slope='Flat', HeartDisease=0),\n",
              " Row(Age=51, Sex='F', ChestPainType='NAP', RestingBP=130, Cholesterol=256, FastingBS=0, RestingECG='LVH', MaxHR=149, ExerciseAngina='N', Oldpeak=0.5, ST_Slope='Up', HeartDisease=0),\n",
              " Row(Age=46, Sex='F', ChestPainType='ATA', RestingBP=105, Cholesterol=204, FastingBS=0, RestingECG='Normal', MaxHR=172, ExerciseAngina='N', Oldpeak=0.0, ST_Slope='Up', HeartDisease=0),\n",
              " Row(Age=55, Sex='M', ChestPainType='ASY', RestingBP=140, Cholesterol=217, FastingBS=0, RestingECG='Normal', MaxHR=111, ExerciseAngina='Y', Oldpeak=5.6, ST_Slope='Down', HeartDisease=1),\n",
              " Row(Age=45, Sex='M', ChestPainType='ATA', RestingBP=128, Cholesterol=308, FastingBS=0, RestingECG='LVH', MaxHR=170, ExerciseAngina='N', Oldpeak=0.0, ST_Slope='Up', HeartDisease=0),\n",
              " Row(Age=56, Sex='M', ChestPainType='TA', RestingBP=120, Cholesterol=193, FastingBS=0, RestingECG='LVH', MaxHR=162, ExerciseAngina='N', Oldpeak=1.9, ST_Slope='Flat', HeartDisease=0),\n",
              " Row(Age=66, Sex='F', ChestPainType='ASY', RestingBP=178, Cholesterol=228, FastingBS=1, RestingECG='Normal', MaxHR=165, ExerciseAngina='Y', Oldpeak=1.0, ST_Slope='Flat', HeartDisease=1),\n",
              " Row(Age=38, Sex='M', ChestPainType='TA', RestingBP=120, Cholesterol=231, FastingBS=0, RestingECG='Normal', MaxHR=182, ExerciseAngina='Y', Oldpeak=3.8, ST_Slope='Flat', HeartDisease=1),\n",
              " Row(Age=62, Sex='F', ChestPainType='ASY', RestingBP=150, Cholesterol=244, FastingBS=0, RestingECG='Normal', MaxHR=154, ExerciseAngina='Y', Oldpeak=1.4, ST_Slope='Flat', HeartDisease=1),\n",
              " Row(Age=55, Sex='M', ChestPainType='ATA', RestingBP=130, Cholesterol=262, FastingBS=0, RestingECG='Normal', MaxHR=155, ExerciseAngina='N', Oldpeak=0.0, ST_Slope='Up', HeartDisease=0),\n",
              " Row(Age=58, Sex='M', ChestPainType='ASY', RestingBP=128, Cholesterol=259, FastingBS=0, RestingECG='LVH', MaxHR=130, ExerciseAngina='Y', Oldpeak=3.0, ST_Slope='Flat', HeartDisease=1),\n",
              " Row(Age=43, Sex='M', ChestPainType='ASY', RestingBP=110, Cholesterol=211, FastingBS=0, RestingECG='Normal', MaxHR=161, ExerciseAngina='N', Oldpeak=0.0, ST_Slope='Up', HeartDisease=0),\n",
              " Row(Age=64, Sex='F', ChestPainType='ASY', RestingBP=180, Cholesterol=325, FastingBS=0, RestingECG='Normal', MaxHR=154, ExerciseAngina='Y', Oldpeak=0.0, ST_Slope='Up', HeartDisease=0),\n",
              " Row(Age=50, Sex='F', ChestPainType='ASY', RestingBP=110, Cholesterol=254, FastingBS=0, RestingECG='LVH', MaxHR=159, ExerciseAngina='N', Oldpeak=0.0, ST_Slope='Up', HeartDisease=0),\n",
              " Row(Age=53, Sex='M', ChestPainType='NAP', RestingBP=130, Cholesterol=197, FastingBS=1, RestingECG='LVH', MaxHR=152, ExerciseAngina='N', Oldpeak=1.2, ST_Slope='Down', HeartDisease=0),\n",
              " Row(Age=45, Sex='F', ChestPainType='ASY', RestingBP=138, Cholesterol=236, FastingBS=0, RestingECG='LVH', MaxHR=152, ExerciseAngina='Y', Oldpeak=0.2, ST_Slope='Flat', HeartDisease=0),\n",
              " Row(Age=65, Sex='M', ChestPainType='TA', RestingBP=138, Cholesterol=282, FastingBS=1, RestingECG='LVH', MaxHR=174, ExerciseAngina='N', Oldpeak=1.4, ST_Slope='Flat', HeartDisease=1),\n",
              " Row(Age=69, Sex='M', ChestPainType='TA', RestingBP=160, Cholesterol=234, FastingBS=1, RestingECG='LVH', MaxHR=131, ExerciseAngina='N', Oldpeak=0.1, ST_Slope='Flat', HeartDisease=0),\n",
              " Row(Age=69, Sex='M', ChestPainType='NAP', RestingBP=140, Cholesterol=254, FastingBS=0, RestingECG='LVH', MaxHR=146, ExerciseAngina='N', Oldpeak=2.0, ST_Slope='Flat', HeartDisease=1),\n",
              " Row(Age=67, Sex='M', ChestPainType='ASY', RestingBP=100, Cholesterol=299, FastingBS=0, RestingECG='LVH', MaxHR=125, ExerciseAngina='Y', Oldpeak=0.9, ST_Slope='Flat', HeartDisease=1),\n",
              " Row(Age=68, Sex='F', ChestPainType='NAP', RestingBP=120, Cholesterol=211, FastingBS=0, RestingECG='LVH', MaxHR=115, ExerciseAngina='N', Oldpeak=1.5, ST_Slope='Flat', HeartDisease=0),\n",
              " Row(Age=34, Sex='M', ChestPainType='TA', RestingBP=118, Cholesterol=182, FastingBS=0, RestingECG='LVH', MaxHR=174, ExerciseAngina='N', Oldpeak=0.0, ST_Slope='Up', HeartDisease=0),\n",
              " Row(Age=62, Sex='F', ChestPainType='ASY', RestingBP=138, Cholesterol=294, FastingBS=1, RestingECG='Normal', MaxHR=106, ExerciseAngina='N', Oldpeak=1.9, ST_Slope='Flat', HeartDisease=1),\n",
              " Row(Age=51, Sex='M', ChestPainType='ASY', RestingBP=140, Cholesterol=298, FastingBS=0, RestingECG='Normal', MaxHR=122, ExerciseAngina='Y', Oldpeak=4.2, ST_Slope='Flat', HeartDisease=1),\n",
              " Row(Age=46, Sex='M', ChestPainType='NAP', RestingBP=150, Cholesterol=231, FastingBS=0, RestingECG='Normal', MaxHR=147, ExerciseAngina='N', Oldpeak=3.6, ST_Slope='Flat', HeartDisease=1),\n",
              " Row(Age=67, Sex='M', ChestPainType='ASY', RestingBP=125, Cholesterol=254, FastingBS=1, RestingECG='Normal', MaxHR=163, ExerciseAngina='N', Oldpeak=0.2, ST_Slope='Flat', HeartDisease=1),\n",
              " Row(Age=50, Sex='M', ChestPainType='NAP', RestingBP=129, Cholesterol=196, FastingBS=0, RestingECG='Normal', MaxHR=163, ExerciseAngina='N', Oldpeak=0.0, ST_Slope='Up', HeartDisease=0),\n",
              " Row(Age=42, Sex='M', ChestPainType='NAP', RestingBP=120, Cholesterol=240, FastingBS=1, RestingECG='Normal', MaxHR=194, ExerciseAngina='N', Oldpeak=0.8, ST_Slope='Down', HeartDisease=0),\n",
              " Row(Age=56, Sex='F', ChestPainType='ASY', RestingBP=134, Cholesterol=409, FastingBS=0, RestingECG='LVH', MaxHR=150, ExerciseAngina='Y', Oldpeak=1.9, ST_Slope='Flat', HeartDisease=1),\n",
              " Row(Age=41, Sex='M', ChestPainType='ASY', RestingBP=110, Cholesterol=172, FastingBS=0, RestingECG='LVH', MaxHR=158, ExerciseAngina='N', Oldpeak=0.0, ST_Slope='Up', HeartDisease=1),\n",
              " Row(Age=42, Sex='F', ChestPainType='ASY', RestingBP=102, Cholesterol=265, FastingBS=0, RestingECG='LVH', MaxHR=122, ExerciseAngina='N', Oldpeak=0.6, ST_Slope='Flat', HeartDisease=0),\n",
              " Row(Age=53, Sex='M', ChestPainType='NAP', RestingBP=130, Cholesterol=246, FastingBS=1, RestingECG='LVH', MaxHR=173, ExerciseAngina='N', Oldpeak=0.0, ST_Slope='Up', HeartDisease=0),\n",
              " Row(Age=43, Sex='M', ChestPainType='NAP', RestingBP=130, Cholesterol=315, FastingBS=0, RestingECG='Normal', MaxHR=162, ExerciseAngina='N', Oldpeak=1.9, ST_Slope='Up', HeartDisease=0),\n",
              " Row(Age=56, Sex='M', ChestPainType='ASY', RestingBP=132, Cholesterol=184, FastingBS=0, RestingECG='LVH', MaxHR=105, ExerciseAngina='Y', Oldpeak=2.1, ST_Slope='Flat', HeartDisease=1),\n",
              " Row(Age=52, Sex='M', ChestPainType='ASY', RestingBP=108, Cholesterol=233, FastingBS=1, RestingECG='Normal', MaxHR=147, ExerciseAngina='N', Oldpeak=0.1, ST_Slope='Up', HeartDisease=0),\n",
              " Row(Age=62, Sex='F', ChestPainType='ASY', RestingBP=140, Cholesterol=394, FastingBS=0, RestingECG='LVH', MaxHR=157, ExerciseAngina='N', Oldpeak=1.2, ST_Slope='Flat', HeartDisease=0),\n",
              " Row(Age=70, Sex='M', ChestPainType='NAP', RestingBP=160, Cholesterol=269, FastingBS=0, RestingECG='Normal', MaxHR=112, ExerciseAngina='Y', Oldpeak=2.9, ST_Slope='Flat', HeartDisease=1),\n",
              " Row(Age=54, Sex='M', ChestPainType='ASY', RestingBP=140, Cholesterol=239, FastingBS=0, RestingECG='Normal', MaxHR=160, ExerciseAngina='N', Oldpeak=1.2, ST_Slope='Up', HeartDisease=0),\n",
              " Row(Age=70, Sex='M', ChestPainType='ASY', RestingBP=145, Cholesterol=174, FastingBS=0, RestingECG='Normal', MaxHR=125, ExerciseAngina='Y', Oldpeak=2.6, ST_Slope='Down', HeartDisease=1),\n",
              " Row(Age=54, Sex='M', ChestPainType='ATA', RestingBP=108, Cholesterol=309, FastingBS=0, RestingECG='Normal', MaxHR=156, ExerciseAngina='N', Oldpeak=0.0, ST_Slope='Up', HeartDisease=0),\n",
              " Row(Age=35, Sex='M', ChestPainType='ASY', RestingBP=126, Cholesterol=282, FastingBS=0, RestingECG='LVH', MaxHR=156, ExerciseAngina='Y', Oldpeak=0.0, ST_Slope='Up', HeartDisease=1),\n",
              " Row(Age=48, Sex='M', ChestPainType='NAP', RestingBP=124, Cholesterol=255, FastingBS=1, RestingECG='Normal', MaxHR=175, ExerciseAngina='N', Oldpeak=0.0, ST_Slope='Up', HeartDisease=0),\n",
              " Row(Age=55, Sex='F', ChestPainType='ATA', RestingBP=135, Cholesterol=250, FastingBS=0, RestingECG='LVH', MaxHR=161, ExerciseAngina='N', Oldpeak=1.4, ST_Slope='Flat', HeartDisease=0),\n",
              " Row(Age=58, Sex='F', ChestPainType='ASY', RestingBP=100, Cholesterol=248, FastingBS=0, RestingECG='LVH', MaxHR=122, ExerciseAngina='N', Oldpeak=1.0, ST_Slope='Flat', HeartDisease=0),\n",
              " Row(Age=54, Sex='F', ChestPainType='NAP', RestingBP=110, Cholesterol=214, FastingBS=0, RestingECG='Normal', MaxHR=158, ExerciseAngina='N', Oldpeak=1.6, ST_Slope='Flat', HeartDisease=0),\n",
              " Row(Age=69, Sex='F', ChestPainType='TA', RestingBP=140, Cholesterol=239, FastingBS=0, RestingECG='Normal', MaxHR=151, ExerciseAngina='N', Oldpeak=1.8, ST_Slope='Up', HeartDisease=0),\n",
              " Row(Age=77, Sex='M', ChestPainType='ASY', RestingBP=125, Cholesterol=304, FastingBS=0, RestingECG='LVH', MaxHR=162, ExerciseAngina='Y', Oldpeak=0.0, ST_Slope='Up', HeartDisease=1),\n",
              " Row(Age=68, Sex='M', ChestPainType='NAP', RestingBP=118, Cholesterol=277, FastingBS=0, RestingECG='Normal', MaxHR=151, ExerciseAngina='N', Oldpeak=1.0, ST_Slope='Up', HeartDisease=0),\n",
              " Row(Age=58, Sex='M', ChestPainType='ASY', RestingBP=125, Cholesterol=300, FastingBS=0, RestingECG='LVH', MaxHR=171, ExerciseAngina='N', Oldpeak=0.0, ST_Slope='Up', HeartDisease=1),\n",
              " Row(Age=60, Sex='M', ChestPainType='ASY', RestingBP=125, Cholesterol=258, FastingBS=0, RestingECG='LVH', MaxHR=141, ExerciseAngina='Y', Oldpeak=2.8, ST_Slope='Flat', HeartDisease=1),\n",
              " Row(Age=51, Sex='M', ChestPainType='ASY', RestingBP=140, Cholesterol=299, FastingBS=0, RestingECG='Normal', MaxHR=173, ExerciseAngina='Y', Oldpeak=1.6, ST_Slope='Up', HeartDisease=1),\n",
              " Row(Age=55, Sex='M', ChestPainType='ASY', RestingBP=160, Cholesterol=289, FastingBS=0, RestingECG='LVH', MaxHR=145, ExerciseAngina='Y', Oldpeak=0.8, ST_Slope='Flat', HeartDisease=1),\n",
              " Row(Age=52, Sex='M', ChestPainType='TA', RestingBP=152, Cholesterol=298, FastingBS=1, RestingECG='Normal', MaxHR=178, ExerciseAngina='N', Oldpeak=1.2, ST_Slope='Flat', HeartDisease=0),\n",
              " Row(Age=60, Sex='F', ChestPainType='NAP', RestingBP=102, Cholesterol=318, FastingBS=0, RestingECG='Normal', MaxHR=160, ExerciseAngina='N', Oldpeak=0.0, ST_Slope='Up', HeartDisease=0),\n",
              " Row(Age=58, Sex='M', ChestPainType='NAP', RestingBP=105, Cholesterol=240, FastingBS=0, RestingECG='LVH', MaxHR=154, ExerciseAngina='Y', Oldpeak=0.6, ST_Slope='Flat', HeartDisease=0),\n",
              " Row(Age=64, Sex='M', ChestPainType='NAP', RestingBP=125, Cholesterol=309, FastingBS=0, RestingECG='Normal', MaxHR=131, ExerciseAngina='Y', Oldpeak=1.8, ST_Slope='Flat', HeartDisease=1),\n",
              " Row(Age=37, Sex='M', ChestPainType='NAP', RestingBP=130, Cholesterol=250, FastingBS=0, RestingECG='Normal', MaxHR=187, ExerciseAngina='N', Oldpeak=3.5, ST_Slope='Down', HeartDisease=0),\n",
              " Row(Age=59, Sex='M', ChestPainType='TA', RestingBP=170, Cholesterol=288, FastingBS=0, RestingECG='LVH', MaxHR=159, ExerciseAngina='N', Oldpeak=0.2, ST_Slope='Flat', HeartDisease=1),\n",
              " Row(Age=51, Sex='M', ChestPainType='NAP', RestingBP=125, Cholesterol=245, FastingBS=1, RestingECG='LVH', MaxHR=166, ExerciseAngina='N', Oldpeak=2.4, ST_Slope='Flat', HeartDisease=0),\n",
              " Row(Age=43, Sex='F', ChestPainType='NAP', RestingBP=122, Cholesterol=213, FastingBS=0, RestingECG='Normal', MaxHR=165, ExerciseAngina='N', Oldpeak=0.2, ST_Slope='Flat', HeartDisease=0),\n",
              " Row(Age=58, Sex='M', ChestPainType='ASY', RestingBP=128, Cholesterol=216, FastingBS=0, RestingECG='LVH', MaxHR=131, ExerciseAngina='Y', Oldpeak=2.2, ST_Slope='Flat', HeartDisease=1),\n",
              " Row(Age=29, Sex='M', ChestPainType='ATA', RestingBP=130, Cholesterol=204, FastingBS=0, RestingECG='LVH', MaxHR=202, ExerciseAngina='N', Oldpeak=0.0, ST_Slope='Up', HeartDisease=0),\n",
              " Row(Age=41, Sex='F', ChestPainType='ATA', RestingBP=130, Cholesterol=204, FastingBS=0, RestingECG='LVH', MaxHR=172, ExerciseAngina='N', Oldpeak=1.4, ST_Slope='Up', HeartDisease=0),\n",
              " Row(Age=63, Sex='F', ChestPainType='NAP', RestingBP=135, Cholesterol=252, FastingBS=0, RestingECG='LVH', MaxHR=172, ExerciseAngina='N', Oldpeak=0.0, ST_Slope='Up', HeartDisease=0),\n",
              " Row(Age=51, Sex='M', ChestPainType='NAP', RestingBP=94, Cholesterol=227, FastingBS=0, RestingECG='Normal', MaxHR=154, ExerciseAngina='Y', Oldpeak=0.0, ST_Slope='Up', HeartDisease=0),\n",
              " Row(Age=54, Sex='M', ChestPainType='NAP', RestingBP=120, Cholesterol=258, FastingBS=0, RestingECG='LVH', MaxHR=147, ExerciseAngina='N', Oldpeak=0.4, ST_Slope='Flat', HeartDisease=0),\n",
              " Row(Age=44, Sex='M', ChestPainType='ATA', RestingBP=120, Cholesterol=220, FastingBS=0, RestingECG='Normal', MaxHR=170, ExerciseAngina='N', Oldpeak=0.0, ST_Slope='Up', HeartDisease=0),\n",
              " Row(Age=54, Sex='M', ChestPainType='ASY', RestingBP=110, Cholesterol=239, FastingBS=0, RestingECG='Normal', MaxHR=126, ExerciseAngina='Y', Oldpeak=2.8, ST_Slope='Flat', HeartDisease=1),\n",
              " Row(Age=65, Sex='M', ChestPainType='ASY', RestingBP=135, Cholesterol=254, FastingBS=0, RestingECG='LVH', MaxHR=127, ExerciseAngina='N', Oldpeak=2.8, ST_Slope='Flat', HeartDisease=1),\n",
              " Row(Age=57, Sex='M', ChestPainType='NAP', RestingBP=150, Cholesterol=168, FastingBS=0, RestingECG='Normal', MaxHR=174, ExerciseAngina='N', Oldpeak=1.6, ST_Slope='Up', HeartDisease=0),\n",
              " Row(Age=63, Sex='M', ChestPainType='ASY', RestingBP=130, Cholesterol=330, FastingBS=1, RestingECG='LVH', MaxHR=132, ExerciseAngina='Y', Oldpeak=1.8, ST_Slope='Up', HeartDisease=1),\n",
              " Row(Age=35, Sex='F', ChestPainType='ASY', RestingBP=138, Cholesterol=183, FastingBS=0, RestingECG='Normal', MaxHR=182, ExerciseAngina='N', Oldpeak=1.4, ST_Slope='Up', HeartDisease=0),\n",
              " Row(Age=41, Sex='M', ChestPainType='ATA', RestingBP=135, Cholesterol=203, FastingBS=0, RestingECG='Normal', MaxHR=132, ExerciseAngina='N', Oldpeak=0.0, ST_Slope='Flat', HeartDisease=0),\n",
              " Row(Age=62, Sex='F', ChestPainType='NAP', RestingBP=130, Cholesterol=263, FastingBS=0, RestingECG='Normal', MaxHR=97, ExerciseAngina='N', Oldpeak=1.2, ST_Slope='Flat', HeartDisease=1),\n",
              " Row(Age=43, Sex='F', ChestPainType='ASY', RestingBP=132, Cholesterol=341, FastingBS=1, RestingECG='LVH', MaxHR=136, ExerciseAngina='Y', Oldpeak=3.0, ST_Slope='Flat', HeartDisease=1),\n",
              " Row(Age=58, Sex='F', ChestPainType='TA', RestingBP=150, Cholesterol=283, FastingBS=1, RestingECG='LVH', MaxHR=162, ExerciseAngina='N', Oldpeak=1.0, ST_Slope='Up', HeartDisease=0),\n",
              " Row(Age=52, Sex='M', ChestPainType='TA', RestingBP=118, Cholesterol=186, FastingBS=0, RestingECG='LVH', MaxHR=190, ExerciseAngina='N', Oldpeak=0.0, ST_Slope='Flat', HeartDisease=0),\n",
              " Row(Age=61, Sex='F', ChestPainType='ASY', RestingBP=145, Cholesterol=307, FastingBS=0, RestingECG='LVH', MaxHR=146, ExerciseAngina='Y', Oldpeak=1.0, ST_Slope='Flat', HeartDisease=1),\n",
              " Row(Age=39, Sex='M', ChestPainType='ASY', RestingBP=118, Cholesterol=219, FastingBS=0, RestingECG='Normal', MaxHR=140, ExerciseAngina='N', Oldpeak=1.2, ST_Slope='Flat', HeartDisease=1),\n",
              " Row(Age=45, Sex='M', ChestPainType='ASY', RestingBP=115, Cholesterol=260, FastingBS=0, RestingECG='LVH', MaxHR=185, ExerciseAngina='N', Oldpeak=0.0, ST_Slope='Up', HeartDisease=0),\n",
              " Row(Age=52, Sex='M', ChestPainType='ASY', RestingBP=128, Cholesterol=255, FastingBS=0, RestingECG='Normal', MaxHR=161, ExerciseAngina='Y', Oldpeak=0.0, ST_Slope='Up', HeartDisease=1),\n",
              " Row(Age=62, Sex='M', ChestPainType='NAP', RestingBP=130, Cholesterol=231, FastingBS=0, RestingECG='Normal', MaxHR=146, ExerciseAngina='N', Oldpeak=1.8, ST_Slope='Flat', HeartDisease=0),\n",
              " Row(Age=62, Sex='F', ChestPainType='ASY', RestingBP=160, Cholesterol=164, FastingBS=0, RestingECG='LVH', MaxHR=145, ExerciseAngina='N', Oldpeak=6.2, ST_Slope='Down', HeartDisease=1),\n",
              " Row(Age=53, Sex='F', ChestPainType='ASY', RestingBP=138, Cholesterol=234, FastingBS=0, RestingECG='LVH', MaxHR=160, ExerciseAngina='N', Oldpeak=0.0, ST_Slope='Up', HeartDisease=0),\n",
              " Row(Age=43, Sex='M', ChestPainType='ASY', RestingBP=120, Cholesterol=177, FastingBS=0, RestingECG='LVH', MaxHR=120, ExerciseAngina='Y', Oldpeak=2.5, ST_Slope='Flat', HeartDisease=1),\n",
              " Row(Age=47, Sex='M', ChestPainType='NAP', RestingBP=138, Cholesterol=257, FastingBS=0, RestingECG='LVH', MaxHR=156, ExerciseAngina='N', Oldpeak=0.0, ST_Slope='Up', HeartDisease=0),\n",
              " Row(Age=52, Sex='M', ChestPainType='ATA', RestingBP=120, Cholesterol=325, FastingBS=0, RestingECG='Normal', MaxHR=172, ExerciseAngina='N', Oldpeak=0.2, ST_Slope='Up', HeartDisease=0),\n",
              " Row(Age=68, Sex='M', ChestPainType='NAP', RestingBP=180, Cholesterol=274, FastingBS=1, RestingECG='LVH', MaxHR=150, ExerciseAngina='Y', Oldpeak=1.6, ST_Slope='Flat', HeartDisease=1),\n",
              " Row(Age=39, Sex='M', ChestPainType='NAP', RestingBP=140, Cholesterol=321, FastingBS=0, RestingECG='LVH', MaxHR=182, ExerciseAngina='N', Oldpeak=0.0, ST_Slope='Up', HeartDisease=0),\n",
              " Row(Age=53, Sex='F', ChestPainType='ASY', RestingBP=130, Cholesterol=264, FastingBS=0, RestingECG='LVH', MaxHR=143, ExerciseAngina='N', Oldpeak=0.4, ST_Slope='Flat', HeartDisease=0),\n",
              " Row(Age=62, Sex='F', ChestPainType='ASY', RestingBP=140, Cholesterol=268, FastingBS=0, RestingECG='LVH', MaxHR=160, ExerciseAngina='N', Oldpeak=3.6, ST_Slope='Down', HeartDisease=1),\n",
              " Row(Age=51, Sex='F', ChestPainType='NAP', RestingBP=140, Cholesterol=308, FastingBS=0, RestingECG='LVH', MaxHR=142, ExerciseAngina='N', Oldpeak=1.5, ST_Slope='Up', HeartDisease=0),\n",
              " Row(Age=60, Sex='M', ChestPainType='ASY', RestingBP=130, Cholesterol=253, FastingBS=0, RestingECG='Normal', MaxHR=144, ExerciseAngina='Y', Oldpeak=1.4, ST_Slope='Up', HeartDisease=1),\n",
              " Row(Age=65, Sex='M', ChestPainType='ASY', RestingBP=110, Cholesterol=248, FastingBS=0, RestingECG='LVH', MaxHR=158, ExerciseAngina='N', Oldpeak=0.6, ST_Slope='Up', HeartDisease=1),\n",
              " Row(Age=65, Sex='F', ChestPainType='NAP', RestingBP=155, Cholesterol=269, FastingBS=0, RestingECG='Normal', MaxHR=148, ExerciseAngina='N', Oldpeak=0.8, ST_Slope='Up', HeartDisease=0),\n",
              " Row(Age=60, Sex='M', ChestPainType='NAP', RestingBP=140, Cholesterol=185, FastingBS=0, RestingECG='LVH', MaxHR=155, ExerciseAngina='N', Oldpeak=3.0, ST_Slope='Flat', HeartDisease=1),\n",
              " Row(Age=60, Sex='M', ChestPainType='ASY', RestingBP=145, Cholesterol=282, FastingBS=0, RestingECG='LVH', MaxHR=142, ExerciseAngina='Y', Oldpeak=2.8, ST_Slope='Flat', HeartDisease=1),\n",
              " Row(Age=54, Sex='M', ChestPainType='ASY', RestingBP=120, Cholesterol=188, FastingBS=0, RestingECG='Normal', MaxHR=113, ExerciseAngina='N', Oldpeak=1.4, ST_Slope='Flat', HeartDisease=1),\n",
              " Row(Age=44, Sex='M', ChestPainType='ATA', RestingBP=130, Cholesterol=219, FastingBS=0, RestingECG='LVH', MaxHR=188, ExerciseAngina='N', Oldpeak=0.0, ST_Slope='Up', HeartDisease=0),\n",
              " Row(Age=44, Sex='M', ChestPainType='ASY', RestingBP=112, Cholesterol=290, FastingBS=0, RestingECG='LVH', MaxHR=153, ExerciseAngina='N', Oldpeak=0.0, ST_Slope='Up', HeartDisease=1),\n",
              " Row(Age=51, Sex='M', ChestPainType='NAP', RestingBP=110, Cholesterol=175, FastingBS=0, RestingECG='Normal', MaxHR=123, ExerciseAngina='N', Oldpeak=0.6, ST_Slope='Up', HeartDisease=0),\n",
              " Row(Age=59, Sex='M', ChestPainType='NAP', RestingBP=150, Cholesterol=212, FastingBS=1, RestingECG='Normal', MaxHR=157, ExerciseAngina='N', Oldpeak=1.6, ST_Slope='Up', HeartDisease=0),\n",
              " Row(Age=71, Sex='F', ChestPainType='ATA', RestingBP=160, Cholesterol=302, FastingBS=0, RestingECG='Normal', MaxHR=162, ExerciseAngina='N', Oldpeak=0.4, ST_Slope='Up', HeartDisease=0),\n",
              " Row(Age=61, Sex='M', ChestPainType='NAP', RestingBP=150, Cholesterol=243, FastingBS=1, RestingECG='Normal', MaxHR=137, ExerciseAngina='Y', Oldpeak=1.0, ST_Slope='Flat', HeartDisease=0),\n",
              " Row(Age=55, Sex='M', ChestPainType='ASY', RestingBP=132, Cholesterol=353, FastingBS=0, RestingECG='Normal', MaxHR=132, ExerciseAngina='Y', Oldpeak=1.2, ST_Slope='Flat', HeartDisease=1),\n",
              " Row(Age=64, Sex='M', ChestPainType='NAP', RestingBP=140, Cholesterol=335, FastingBS=0, RestingECG='Normal', MaxHR=158, ExerciseAngina='N', Oldpeak=0.0, ST_Slope='Up', HeartDisease=1),\n",
              " Row(Age=43, Sex='M', ChestPainType='ASY', RestingBP=150, Cholesterol=247, FastingBS=0, RestingECG='Normal', MaxHR=171, ExerciseAngina='N', Oldpeak=1.5, ST_Slope='Up', HeartDisease=0),\n",
              " Row(Age=58, Sex='F', ChestPainType='NAP', RestingBP=120, Cholesterol=340, FastingBS=0, RestingECG='Normal', MaxHR=172, ExerciseAngina='N', Oldpeak=0.0, ST_Slope='Up', HeartDisease=0),\n",
              " Row(Age=60, Sex='M', ChestPainType='ASY', RestingBP=130, Cholesterol=206, FastingBS=0, RestingECG='LVH', MaxHR=132, ExerciseAngina='Y', Oldpeak=2.4, ST_Slope='Flat', HeartDisease=1),\n",
              " Row(Age=58, Sex='M', ChestPainType='ATA', RestingBP=120, Cholesterol=284, FastingBS=0, RestingECG='LVH', MaxHR=160, ExerciseAngina='N', Oldpeak=1.8, ST_Slope='Flat', HeartDisease=1),\n",
              " Row(Age=49, Sex='M', ChestPainType='ATA', RestingBP=130, Cholesterol=266, FastingBS=0, RestingECG='Normal', MaxHR=171, ExerciseAngina='N', Oldpeak=0.6, ST_Slope='Up', HeartDisease=0),\n",
              " Row(Age=48, Sex='M', ChestPainType='ATA', RestingBP=110, Cholesterol=229, FastingBS=0, RestingECG='Normal', MaxHR=168, ExerciseAngina='N', Oldpeak=1.0, ST_Slope='Down', HeartDisease=1),\n",
              " Row(Age=52, Sex='M', ChestPainType='NAP', RestingBP=172, Cholesterol=199, FastingBS=1, RestingECG='Normal', MaxHR=162, ExerciseAngina='N', Oldpeak=0.5, ST_Slope='Up', HeartDisease=0),\n",
              " Row(Age=44, Sex='M', ChestPainType='ATA', RestingBP=120, Cholesterol=263, FastingBS=0, RestingECG='Normal', MaxHR=173, ExerciseAngina='N', Oldpeak=0.0, ST_Slope='Up', HeartDisease=0),\n",
              " Row(Age=56, Sex='F', ChestPainType='ATA', RestingBP=140, Cholesterol=294, FastingBS=0, RestingECG='LVH', MaxHR=153, ExerciseAngina='N', Oldpeak=1.3, ST_Slope='Flat', HeartDisease=0),\n",
              " Row(Age=57, Sex='M', ChestPainType='ASY', RestingBP=140, Cholesterol=192, FastingBS=0, RestingECG='Normal', MaxHR=148, ExerciseAngina='N', Oldpeak=0.4, ST_Slope='Flat', HeartDisease=0),\n",
              " Row(Age=67, Sex='M', ChestPainType='ASY', RestingBP=160, Cholesterol=286, FastingBS=0, RestingECG='LVH', MaxHR=108, ExerciseAngina='Y', Oldpeak=1.5, ST_Slope='Flat', HeartDisease=1),\n",
              " Row(Age=53, Sex='F', ChestPainType='NAP', RestingBP=128, Cholesterol=216, FastingBS=0, RestingECG='LVH', MaxHR=115, ExerciseAngina='N', Oldpeak=0.0, ST_Slope='Up', HeartDisease=0),\n",
              " Row(Age=52, Sex='M', ChestPainType='NAP', RestingBP=138, Cholesterol=223, FastingBS=0, RestingECG='Normal', MaxHR=169, ExerciseAngina='N', Oldpeak=0.0, ST_Slope='Up', HeartDisease=0),\n",
              " Row(Age=43, Sex='M', ChestPainType='ASY', RestingBP=132, Cholesterol=247, FastingBS=1, RestingECG='LVH', MaxHR=143, ExerciseAngina='Y', Oldpeak=0.1, ST_Slope='Flat', HeartDisease=1),\n",
              " Row(Age=52, Sex='M', ChestPainType='ASY', RestingBP=128, Cholesterol=204, FastingBS=1, RestingECG='Normal', MaxHR=156, ExerciseAngina='Y', Oldpeak=1.0, ST_Slope='Flat', HeartDisease=1),\n",
              " Row(Age=59, Sex='M', ChestPainType='TA', RestingBP=134, Cholesterol=204, FastingBS=0, RestingECG='Normal', MaxHR=162, ExerciseAngina='N', Oldpeak=0.8, ST_Slope='Up', HeartDisease=1),\n",
              " Row(Age=64, Sex='M', ChestPainType='TA', RestingBP=170, Cholesterol=227, FastingBS=0, RestingECG='LVH', MaxHR=155, ExerciseAngina='N', Oldpeak=0.6, ST_Slope='Flat', HeartDisease=0),\n",
              " Row(Age=66, Sex='F', ChestPainType='NAP', RestingBP=146, Cholesterol=278, FastingBS=0, RestingECG='LVH', MaxHR=152, ExerciseAngina='N', Oldpeak=0.0, ST_Slope='Flat', HeartDisease=0),\n",
              " Row(Age=39, Sex='F', ChestPainType='NAP', RestingBP=138, Cholesterol=220, FastingBS=0, RestingECG='Normal', MaxHR=152, ExerciseAngina='N', Oldpeak=0.0, ST_Slope='Flat', HeartDisease=0),\n",
              " Row(Age=57, Sex='M', ChestPainType='ATA', RestingBP=154, Cholesterol=232, FastingBS=0, RestingECG='LVH', MaxHR=164, ExerciseAngina='N', Oldpeak=0.0, ST_Slope='Up', HeartDisease=1),\n",
              " Row(Age=58, Sex='F', ChestPainType='ASY', RestingBP=130, Cholesterol=197, FastingBS=0, RestingECG='Normal', MaxHR=131, ExerciseAngina='N', Oldpeak=0.6, ST_Slope='Flat', HeartDisease=0),\n",
              " Row(Age=57, Sex='M', ChestPainType='ASY', RestingBP=110, Cholesterol=335, FastingBS=0, RestingECG='Normal', MaxHR=143, ExerciseAngina='Y', Oldpeak=3.0, ST_Slope='Flat', HeartDisease=1),\n",
              " Row(Age=47, Sex='M', ChestPainType='NAP', RestingBP=130, Cholesterol=253, FastingBS=0, RestingECG='Normal', MaxHR=179, ExerciseAngina='N', Oldpeak=0.0, ST_Slope='Up', HeartDisease=0),\n",
              " Row(Age=55, Sex='F', ChestPainType='ASY', RestingBP=128, Cholesterol=205, FastingBS=0, RestingECG='ST', MaxHR=130, ExerciseAngina='Y', Oldpeak=2.0, ST_Slope='Flat', HeartDisease=1),\n",
              " Row(Age=35, Sex='M', ChestPainType='ATA', RestingBP=122, Cholesterol=192, FastingBS=0, RestingECG='Normal', MaxHR=174, ExerciseAngina='N', Oldpeak=0.0, ST_Slope='Up', HeartDisease=0),\n",
              " Row(Age=61, Sex='M', ChestPainType='ASY', RestingBP=148, Cholesterol=203, FastingBS=0, RestingECG='Normal', MaxHR=161, ExerciseAngina='N', Oldpeak=0.0, ST_Slope='Up', HeartDisease=1),\n",
              " Row(Age=58, Sex='M', ChestPainType='ASY', RestingBP=114, Cholesterol=318, FastingBS=0, RestingECG='ST', MaxHR=140, ExerciseAngina='N', Oldpeak=4.4, ST_Slope='Down', HeartDisease=1),\n",
              " Row(Age=58, Sex='F', ChestPainType='ASY', RestingBP=170, Cholesterol=225, FastingBS=1, RestingECG='LVH', MaxHR=146, ExerciseAngina='Y', Oldpeak=2.8, ST_Slope='Flat', HeartDisease=1),\n",
              " Row(Age=58, Sex='M', ChestPainType='ATA', RestingBP=125, Cholesterol=220, FastingBS=0, RestingECG='Normal', MaxHR=144, ExerciseAngina='N', Oldpeak=0.4, ST_Slope='Flat', HeartDisease=0),\n",
              " Row(Age=56, Sex='M', ChestPainType='ATA', RestingBP=130, Cholesterol=221, FastingBS=0, RestingECG='LVH', MaxHR=163, ExerciseAngina='N', Oldpeak=0.0, ST_Slope='Up', HeartDisease=0),\n",
              " Row(Age=56, Sex='M', ChestPainType='ATA', RestingBP=120, Cholesterol=240, FastingBS=0, RestingECG='Normal', MaxHR=169, ExerciseAngina='N', Oldpeak=0.0, ST_Slope='Down', HeartDisease=0),\n",
              " Row(Age=67, Sex='M', ChestPainType='NAP', RestingBP=152, Cholesterol=212, FastingBS=0, RestingECG='LVH', MaxHR=150, ExerciseAngina='N', Oldpeak=0.8, ST_Slope='Flat', HeartDisease=1),\n",
              " Row(Age=55, Sex='F', ChestPainType='ATA', RestingBP=132, Cholesterol=342, FastingBS=0, RestingECG='Normal', MaxHR=166, ExerciseAngina='N', Oldpeak=1.2, ST_Slope='Up', HeartDisease=0),\n",
              " Row(Age=44, Sex='M', ChestPainType='ASY', RestingBP=120, Cholesterol=169, FastingBS=0, RestingECG='Normal', MaxHR=144, ExerciseAngina='Y', Oldpeak=2.8, ST_Slope='Down', HeartDisease=1),\n",
              " Row(Age=63, Sex='M', ChestPainType='ASY', RestingBP=140, Cholesterol=187, FastingBS=0, RestingECG='LVH', MaxHR=144, ExerciseAngina='Y', Oldpeak=4.0, ST_Slope='Up', HeartDisease=1),\n",
              " Row(Age=63, Sex='F', ChestPainType='ASY', RestingBP=124, Cholesterol=197, FastingBS=0, RestingECG='Normal', MaxHR=136, ExerciseAngina='Y', Oldpeak=0.0, ST_Slope='Flat', HeartDisease=1),\n",
              " Row(Age=41, Sex='M', ChestPainType='ATA', RestingBP=120, Cholesterol=157, FastingBS=0, RestingECG='Normal', MaxHR=182, ExerciseAngina='N', Oldpeak=0.0, ST_Slope='Up', HeartDisease=0),\n",
              " Row(Age=59, Sex='M', ChestPainType='ASY', RestingBP=164, Cholesterol=176, FastingBS=1, RestingECG='LVH', MaxHR=90, ExerciseAngina='N', Oldpeak=1.0, ST_Slope='Flat', HeartDisease=1),\n",
              " Row(Age=57, Sex='F', ChestPainType='ASY', RestingBP=140, Cholesterol=241, FastingBS=0, RestingECG='Normal', MaxHR=123, ExerciseAngina='Y', Oldpeak=0.2, ST_Slope='Flat', HeartDisease=1),\n",
              " Row(Age=45, Sex='M', ChestPainType='TA', RestingBP=110, Cholesterol=264, FastingBS=0, RestingECG='Normal', MaxHR=132, ExerciseAngina='N', Oldpeak=1.2, ST_Slope='Flat', HeartDisease=1),\n",
              " Row(Age=68, Sex='M', ChestPainType='ASY', RestingBP=144, Cholesterol=193, FastingBS=1, RestingECG='Normal', MaxHR=141, ExerciseAngina='N', Oldpeak=3.4, ST_Slope='Flat', HeartDisease=1),\n",
              " Row(Age=57, Sex='M', ChestPainType='ASY', RestingBP=130, Cholesterol=131, FastingBS=0, RestingECG='Normal', MaxHR=115, ExerciseAngina='Y', Oldpeak=1.2, ST_Slope='Flat', HeartDisease=1),\n",
              " Row(Age=57, Sex='F', ChestPainType='ATA', RestingBP=130, Cholesterol=236, FastingBS=0, RestingECG='LVH', MaxHR=174, ExerciseAngina='N', Oldpeak=0.0, ST_Slope='Flat', HeartDisease=1),\n",
              " Row(Age=38, Sex='M', ChestPainType='NAP', RestingBP=138, Cholesterol=175, FastingBS=0, RestingECG='Normal', MaxHR=173, ExerciseAngina='N', Oldpeak=0.0, ST_Slope='Up', HeartDisease=0)]"
            ]
          },
          "metadata": {},
          "execution_count": 17
        }
      ]
    },
    {
      "cell_type": "code",
      "source": [
        "#convert it into pandas dataframe\n",
        "pd_df = df.toPandas()\n",
        "pd_df.shape"
      ],
      "metadata": {
        "colab": {
          "base_uri": "https://localhost:8080/"
        },
        "id": "yMlP4fuSoGHB",
        "outputId": "651674e8-34d1-4c00-9f9b-7bbbbcee8060"
      },
      "execution_count": null,
      "outputs": [
        {
          "output_type": "execute_result",
          "data": {
            "text/plain": [
              "(918, 12)"
            ]
          },
          "metadata": {},
          "execution_count": 18
        }
      ]
    },
    {
      "cell_type": "code",
      "source": [
        "pd_df.head()"
      ],
      "metadata": {
        "colab": {
          "base_uri": "https://localhost:8080/",
          "height": 270
        },
        "id": "hPCZV4fMoU2o",
        "outputId": "8585ed71-d873-441b-9b72-5e67b452a3be"
      },
      "execution_count": null,
      "outputs": [
        {
          "output_type": "execute_result",
          "data": {
            "text/plain": [
              "   Age Sex ChestPainType  RestingBP  Cholesterol  FastingBS RestingECG  MaxHR  \\\n",
              "0   40   M           ATA        140          289          0     Normal    172   \n",
              "1   49   F           NAP        160          180          0     Normal    156   \n",
              "2   37   M           ATA        130          283          0         ST     98   \n",
              "3   48   F           ASY        138          214          0     Normal    108   \n",
              "4   54   M           NAP        150          195          0     Normal    122   \n",
              "\n",
              "  ExerciseAngina  Oldpeak ST_Slope  HeartDisease  \n",
              "0              N      0.0       Up             0  \n",
              "1              N      1.0     Flat             1  \n",
              "2              N      0.0       Up             0  \n",
              "3              Y      1.5     Flat             1  \n",
              "4              N      0.0       Up             0  "
            ],
            "text/html": [
              "\n",
              "  <div id=\"df-f5640684-ae92-423b-921e-8f01099c8846\">\n",
              "    <div class=\"colab-df-container\">\n",
              "      <div>\n",
              "<style scoped>\n",
              "    .dataframe tbody tr th:only-of-type {\n",
              "        vertical-align: middle;\n",
              "    }\n",
              "\n",
              "    .dataframe tbody tr th {\n",
              "        vertical-align: top;\n",
              "    }\n",
              "\n",
              "    .dataframe thead th {\n",
              "        text-align: right;\n",
              "    }\n",
              "</style>\n",
              "<table border=\"1\" class=\"dataframe\">\n",
              "  <thead>\n",
              "    <tr style=\"text-align: right;\">\n",
              "      <th></th>\n",
              "      <th>Age</th>\n",
              "      <th>Sex</th>\n",
              "      <th>ChestPainType</th>\n",
              "      <th>RestingBP</th>\n",
              "      <th>Cholesterol</th>\n",
              "      <th>FastingBS</th>\n",
              "      <th>RestingECG</th>\n",
              "      <th>MaxHR</th>\n",
              "      <th>ExerciseAngina</th>\n",
              "      <th>Oldpeak</th>\n",
              "      <th>ST_Slope</th>\n",
              "      <th>HeartDisease</th>\n",
              "    </tr>\n",
              "  </thead>\n",
              "  <tbody>\n",
              "    <tr>\n",
              "      <th>0</th>\n",
              "      <td>40</td>\n",
              "      <td>M</td>\n",
              "      <td>ATA</td>\n",
              "      <td>140</td>\n",
              "      <td>289</td>\n",
              "      <td>0</td>\n",
              "      <td>Normal</td>\n",
              "      <td>172</td>\n",
              "      <td>N</td>\n",
              "      <td>0.0</td>\n",
              "      <td>Up</td>\n",
              "      <td>0</td>\n",
              "    </tr>\n",
              "    <tr>\n",
              "      <th>1</th>\n",
              "      <td>49</td>\n",
              "      <td>F</td>\n",
              "      <td>NAP</td>\n",
              "      <td>160</td>\n",
              "      <td>180</td>\n",
              "      <td>0</td>\n",
              "      <td>Normal</td>\n",
              "      <td>156</td>\n",
              "      <td>N</td>\n",
              "      <td>1.0</td>\n",
              "      <td>Flat</td>\n",
              "      <td>1</td>\n",
              "    </tr>\n",
              "    <tr>\n",
              "      <th>2</th>\n",
              "      <td>37</td>\n",
              "      <td>M</td>\n",
              "      <td>ATA</td>\n",
              "      <td>130</td>\n",
              "      <td>283</td>\n",
              "      <td>0</td>\n",
              "      <td>ST</td>\n",
              "      <td>98</td>\n",
              "      <td>N</td>\n",
              "      <td>0.0</td>\n",
              "      <td>Up</td>\n",
              "      <td>0</td>\n",
              "    </tr>\n",
              "    <tr>\n",
              "      <th>3</th>\n",
              "      <td>48</td>\n",
              "      <td>F</td>\n",
              "      <td>ASY</td>\n",
              "      <td>138</td>\n",
              "      <td>214</td>\n",
              "      <td>0</td>\n",
              "      <td>Normal</td>\n",
              "      <td>108</td>\n",
              "      <td>Y</td>\n",
              "      <td>1.5</td>\n",
              "      <td>Flat</td>\n",
              "      <td>1</td>\n",
              "    </tr>\n",
              "    <tr>\n",
              "      <th>4</th>\n",
              "      <td>54</td>\n",
              "      <td>M</td>\n",
              "      <td>NAP</td>\n",
              "      <td>150</td>\n",
              "      <td>195</td>\n",
              "      <td>0</td>\n",
              "      <td>Normal</td>\n",
              "      <td>122</td>\n",
              "      <td>N</td>\n",
              "      <td>0.0</td>\n",
              "      <td>Up</td>\n",
              "      <td>0</td>\n",
              "    </tr>\n",
              "  </tbody>\n",
              "</table>\n",
              "</div>\n",
              "      <button class=\"colab-df-convert\" onclick=\"convertToInteractive('df-f5640684-ae92-423b-921e-8f01099c8846')\"\n",
              "              title=\"Convert this dataframe to an interactive table.\"\n",
              "              style=\"display:none;\">\n",
              "        \n",
              "  <svg xmlns=\"http://www.w3.org/2000/svg\" height=\"24px\"viewBox=\"0 0 24 24\"\n",
              "       width=\"24px\">\n",
              "    <path d=\"M0 0h24v24H0V0z\" fill=\"none\"/>\n",
              "    <path d=\"M18.56 5.44l.94 2.06.94-2.06 2.06-.94-2.06-.94-.94-2.06-.94 2.06-2.06.94zm-11 1L8.5 8.5l.94-2.06 2.06-.94-2.06-.94L8.5 2.5l-.94 2.06-2.06.94zm10 10l.94 2.06.94-2.06 2.06-.94-2.06-.94-.94-2.06-.94 2.06-2.06.94z\"/><path d=\"M17.41 7.96l-1.37-1.37c-.4-.4-.92-.59-1.43-.59-.52 0-1.04.2-1.43.59L10.3 9.45l-7.72 7.72c-.78.78-.78 2.05 0 2.83L4 21.41c.39.39.9.59 1.41.59.51 0 1.02-.2 1.41-.59l7.78-7.78 2.81-2.81c.8-.78.8-2.07 0-2.86zM5.41 20L4 18.59l7.72-7.72 1.47 1.35L5.41 20z\"/>\n",
              "  </svg>\n",
              "      </button>\n",
              "      \n",
              "  <style>\n",
              "    .colab-df-container {\n",
              "      display:flex;\n",
              "      flex-wrap:wrap;\n",
              "      gap: 12px;\n",
              "    }\n",
              "\n",
              "    .colab-df-convert {\n",
              "      background-color: #E8F0FE;\n",
              "      border: none;\n",
              "      border-radius: 50%;\n",
              "      cursor: pointer;\n",
              "      display: none;\n",
              "      fill: #1967D2;\n",
              "      height: 32px;\n",
              "      padding: 0 0 0 0;\n",
              "      width: 32px;\n",
              "    }\n",
              "\n",
              "    .colab-df-convert:hover {\n",
              "      background-color: #E2EBFA;\n",
              "      box-shadow: 0px 1px 2px rgba(60, 64, 67, 0.3), 0px 1px 3px 1px rgba(60, 64, 67, 0.15);\n",
              "      fill: #174EA6;\n",
              "    }\n",
              "\n",
              "    [theme=dark] .colab-df-convert {\n",
              "      background-color: #3B4455;\n",
              "      fill: #D2E3FC;\n",
              "    }\n",
              "\n",
              "    [theme=dark] .colab-df-convert:hover {\n",
              "      background-color: #434B5C;\n",
              "      box-shadow: 0px 1px 3px 1px rgba(0, 0, 0, 0.15);\n",
              "      filter: drop-shadow(0px 1px 2px rgba(0, 0, 0, 0.3));\n",
              "      fill: #FFFFFF;\n",
              "    }\n",
              "  </style>\n",
              "\n",
              "      <script>\n",
              "        const buttonEl =\n",
              "          document.querySelector('#df-f5640684-ae92-423b-921e-8f01099c8846 button.colab-df-convert');\n",
              "        buttonEl.style.display =\n",
              "          google.colab.kernel.accessAllowed ? 'block' : 'none';\n",
              "\n",
              "        async function convertToInteractive(key) {\n",
              "          const element = document.querySelector('#df-f5640684-ae92-423b-921e-8f01099c8846');\n",
              "          const dataTable =\n",
              "            await google.colab.kernel.invokeFunction('convertToInteractive',\n",
              "                                                     [key], {});\n",
              "          if (!dataTable) return;\n",
              "\n",
              "          const docLinkHtml = 'Like what you see? Visit the ' +\n",
              "            '<a target=\"_blank\" href=https://colab.research.google.com/notebooks/data_table.ipynb>data table notebook</a>'\n",
              "            + ' to learn more about interactive tables.';\n",
              "          element.innerHTML = '';\n",
              "          dataTable['output_type'] = 'display_data';\n",
              "          await google.colab.output.renderOutput(dataTable, element);\n",
              "          const docLink = document.createElement('div');\n",
              "          docLink.innerHTML = docLinkHtml;\n",
              "          element.appendChild(docLink);\n",
              "        }\n",
              "      </script>\n",
              "    </div>\n",
              "  </div>\n",
              "  "
            ]
          },
          "metadata": {},
          "execution_count": 19
        }
      ]
    },
    {
      "cell_type": "code",
      "source": [
        "#convert it into sparkdataframe\n",
        "df = spark_session.createDataFrame(pd_df)\n",
        "df.show(3)"
      ],
      "metadata": {
        "colab": {
          "base_uri": "https://localhost:8080/"
        },
        "id": "PFi0jk8ZoXQU",
        "outputId": "33e022ce-05fa-4713-eade-674b7307c9e4"
      },
      "execution_count": null,
      "outputs": [
        {
          "output_type": "stream",
          "name": "stdout",
          "text": [
            "+---+---+-------------+---------+-----------+---------+----------+-----+--------------+-------+--------+------------+\n",
            "|Age|Sex|ChestPainType|RestingBP|Cholesterol|FastingBS|RestingECG|MaxHR|ExerciseAngina|Oldpeak|ST_Slope|HeartDisease|\n",
            "+---+---+-------------+---------+-----------+---------+----------+-----+--------------+-------+--------+------------+\n",
            "| 40|  M|          ATA|      140|        289|        0|    Normal|  172|             N|    0.0|      Up|           0|\n",
            "| 49|  F|          NAP|      160|        180|        0|    Normal|  156|             N|    1.0|    Flat|           1|\n",
            "| 37|  M|          ATA|      130|        283|        0|        ST|   98|             N|    0.0|      Up|           0|\n",
            "+---+---+-------------+---------+-----------+---------+----------+-----+--------------+-------+--------+------------+\n",
            "only showing top 3 rows\n",
            "\n"
          ]
        }
      ]
    },
    {
      "cell_type": "code",
      "source": [
        "df.head(3)"
      ],
      "metadata": {
        "colab": {
          "base_uri": "https://localhost:8080/"
        },
        "id": "HKg1bUZVouqr",
        "outputId": "b3825b93-e182-4e57-d59e-6d278e2d4f07"
      },
      "execution_count": null,
      "outputs": [
        {
          "output_type": "execute_result",
          "data": {
            "text/plain": [
              "[Row(Age=40, Sex='M', ChestPainType='ATA', RestingBP=140, Cholesterol=289, FastingBS=0, RestingECG='Normal', MaxHR=172, ExerciseAngina='N', Oldpeak=0.0, ST_Slope='Up', HeartDisease=0),\n",
              " Row(Age=49, Sex='F', ChestPainType='NAP', RestingBP=160, Cholesterol=180, FastingBS=0, RestingECG='Normal', MaxHR=156, ExerciseAngina='N', Oldpeak=1.0, ST_Slope='Flat', HeartDisease=1),\n",
              " Row(Age=37, Sex='M', ChestPainType='ATA', RestingBP=130, Cholesterol=283, FastingBS=0, RestingECG='ST', MaxHR=98, ExerciseAngina='N', Oldpeak=0.0, ST_Slope='Up', HeartDisease=0)]"
            ]
          },
          "metadata": {},
          "execution_count": 21
        }
      ]
    },
    {
      "cell_type": "code",
      "source": [
        "df.printSchema()"
      ],
      "metadata": {
        "colab": {
          "base_uri": "https://localhost:8080/"
        },
        "id": "KroyWWxKozoe",
        "outputId": "4b909e92-4ac3-4318-d5c6-81e0c8684346"
      },
      "execution_count": null,
      "outputs": [
        {
          "output_type": "stream",
          "name": "stdout",
          "text": [
            "root\n",
            " |-- Age: long (nullable = true)\n",
            " |-- Sex: string (nullable = true)\n",
            " |-- ChestPainType: string (nullable = true)\n",
            " |-- RestingBP: long (nullable = true)\n",
            " |-- Cholesterol: long (nullable = true)\n",
            " |-- FastingBS: long (nullable = true)\n",
            " |-- RestingECG: string (nullable = true)\n",
            " |-- MaxHR: long (nullable = true)\n",
            " |-- ExerciseAngina: string (nullable = true)\n",
            " |-- Oldpeak: double (nullable = true)\n",
            " |-- ST_Slope: string (nullable = true)\n",
            " |-- HeartDisease: long (nullable = true)\n",
            "\n"
          ]
        }
      ]
    },
    {
      "cell_type": "code",
      "source": [
        "#convert a column to another datatype\n",
        "from pyspark.sql.types import FloatType\n",
        "df = df.withColumn('Age', df.Age.cast(FloatType()))\n",
        "df = df.withColumn('RestingBP', df.RestingBP.cast(FloatType()))\n",
        "df.show()"
      ],
      "metadata": {
        "colab": {
          "base_uri": "https://localhost:8080/"
        },
        "id": "nU3tGLBmo3L8",
        "outputId": "7caae3fe-4bf1-489e-d0cb-17ec10b0e9cb"
      },
      "execution_count": null,
      "outputs": [
        {
          "output_type": "stream",
          "name": "stdout",
          "text": [
            "+----+---+-------------+---------+-----------+---------+----------+-----+--------------+-------+--------+------------+\n",
            "| Age|Sex|ChestPainType|RestingBP|Cholesterol|FastingBS|RestingECG|MaxHR|ExerciseAngina|Oldpeak|ST_Slope|HeartDisease|\n",
            "+----+---+-------------+---------+-----------+---------+----------+-----+--------------+-------+--------+------------+\n",
            "|40.0|  M|          ATA|    140.0|        289|        0|    Normal|  172|             N|    0.0|      Up|           0|\n",
            "|49.0|  F|          NAP|    160.0|        180|        0|    Normal|  156|             N|    1.0|    Flat|           1|\n",
            "|37.0|  M|          ATA|    130.0|        283|        0|        ST|   98|             N|    0.0|      Up|           0|\n",
            "|48.0|  F|          ASY|    138.0|        214|        0|    Normal|  108|             Y|    1.5|    Flat|           1|\n",
            "|54.0|  M|          NAP|    150.0|        195|        0|    Normal|  122|             N|    0.0|      Up|           0|\n",
            "|39.0|  M|          NAP|    120.0|        339|        0|    Normal|  170|             N|    0.0|      Up|           0|\n",
            "|45.0|  F|          ATA|    130.0|        237|        0|    Normal|  170|             N|    0.0|      Up|           0|\n",
            "|54.0|  M|          ATA|    110.0|        208|        0|    Normal|  142|             N|    0.0|      Up|           0|\n",
            "|37.0|  M|          ASY|    140.0|        207|        0|    Normal|  130|             Y|    1.5|    Flat|           1|\n",
            "|48.0|  F|          ATA|    120.0|        284|        0|    Normal|  120|             N|    0.0|      Up|           0|\n",
            "|37.0|  F|          NAP|    130.0|        211|        0|    Normal|  142|             N|    0.0|      Up|           0|\n",
            "|58.0|  M|          ATA|    136.0|        164|        0|        ST|   99|             Y|    2.0|    Flat|           1|\n",
            "|39.0|  M|          ATA|    120.0|        204|        0|    Normal|  145|             N|    0.0|      Up|           0|\n",
            "|49.0|  M|          ASY|    140.0|        234|        0|    Normal|  140|             Y|    1.0|    Flat|           1|\n",
            "|42.0|  F|          NAP|    115.0|        211|        0|        ST|  137|             N|    0.0|      Up|           0|\n",
            "|54.0|  F|          ATA|    120.0|        273|        0|    Normal|  150|             N|    1.5|    Flat|           0|\n",
            "|38.0|  M|          ASY|    110.0|        196|        0|    Normal|  166|             N|    0.0|    Flat|           1|\n",
            "|43.0|  F|          ATA|    120.0|        201|        0|    Normal|  165|             N|    0.0|      Up|           0|\n",
            "|60.0|  M|          ASY|    100.0|        248|        0|    Normal|  125|             N|    1.0|    Flat|           1|\n",
            "|36.0|  M|          ATA|    120.0|        267|        0|    Normal|  160|             N|    3.0|    Flat|           1|\n",
            "+----+---+-------------+---------+-----------+---------+----------+-----+--------------+-------+--------+------------+\n",
            "only showing top 20 rows\n",
            "\n"
          ]
        }
      ]
    },
    {
      "cell_type": "code",
      "source": [
        "pd_df[['Age', 'RestingBP']] = pd_df[['Age', 'RestingBP']].astype('float', errors='ignore')\n",
        "pd_df.head(3)"
      ],
      "metadata": {
        "colab": {
          "base_uri": "https://localhost:8080/",
          "height": 207
        },
        "id": "3GpDoZPdptzo",
        "outputId": "551bc537-8ee3-4f96-9448-d653a107945d"
      },
      "execution_count": null,
      "outputs": [
        {
          "output_type": "execute_result",
          "data": {
            "text/plain": [
              "    Age Sex ChestPainType  RestingBP  Cholesterol  FastingBS RestingECG  \\\n",
              "0  40.0   M           ATA      140.0          289          0     Normal   \n",
              "1  49.0   F           NAP      160.0          180          0     Normal   \n",
              "2  37.0   M           ATA      130.0          283          0         ST   \n",
              "\n",
              "   MaxHR ExerciseAngina  Oldpeak ST_Slope  HeartDisease  \n",
              "0    172              N      0.0       Up             0  \n",
              "1    156              N      1.0     Flat             1  \n",
              "2     98              N      0.0       Up             0  "
            ],
            "text/html": [
              "\n",
              "  <div id=\"df-7ad2b70c-5dd9-442a-93a4-93a78acae9dd\">\n",
              "    <div class=\"colab-df-container\">\n",
              "      <div>\n",
              "<style scoped>\n",
              "    .dataframe tbody tr th:only-of-type {\n",
              "        vertical-align: middle;\n",
              "    }\n",
              "\n",
              "    .dataframe tbody tr th {\n",
              "        vertical-align: top;\n",
              "    }\n",
              "\n",
              "    .dataframe thead th {\n",
              "        text-align: right;\n",
              "    }\n",
              "</style>\n",
              "<table border=\"1\" class=\"dataframe\">\n",
              "  <thead>\n",
              "    <tr style=\"text-align: right;\">\n",
              "      <th></th>\n",
              "      <th>Age</th>\n",
              "      <th>Sex</th>\n",
              "      <th>ChestPainType</th>\n",
              "      <th>RestingBP</th>\n",
              "      <th>Cholesterol</th>\n",
              "      <th>FastingBS</th>\n",
              "      <th>RestingECG</th>\n",
              "      <th>MaxHR</th>\n",
              "      <th>ExerciseAngina</th>\n",
              "      <th>Oldpeak</th>\n",
              "      <th>ST_Slope</th>\n",
              "      <th>HeartDisease</th>\n",
              "    </tr>\n",
              "  </thead>\n",
              "  <tbody>\n",
              "    <tr>\n",
              "      <th>0</th>\n",
              "      <td>40.0</td>\n",
              "      <td>M</td>\n",
              "      <td>ATA</td>\n",
              "      <td>140.0</td>\n",
              "      <td>289</td>\n",
              "      <td>0</td>\n",
              "      <td>Normal</td>\n",
              "      <td>172</td>\n",
              "      <td>N</td>\n",
              "      <td>0.0</td>\n",
              "      <td>Up</td>\n",
              "      <td>0</td>\n",
              "    </tr>\n",
              "    <tr>\n",
              "      <th>1</th>\n",
              "      <td>49.0</td>\n",
              "      <td>F</td>\n",
              "      <td>NAP</td>\n",
              "      <td>160.0</td>\n",
              "      <td>180</td>\n",
              "      <td>0</td>\n",
              "      <td>Normal</td>\n",
              "      <td>156</td>\n",
              "      <td>N</td>\n",
              "      <td>1.0</td>\n",
              "      <td>Flat</td>\n",
              "      <td>1</td>\n",
              "    </tr>\n",
              "    <tr>\n",
              "      <th>2</th>\n",
              "      <td>37.0</td>\n",
              "      <td>M</td>\n",
              "      <td>ATA</td>\n",
              "      <td>130.0</td>\n",
              "      <td>283</td>\n",
              "      <td>0</td>\n",
              "      <td>ST</td>\n",
              "      <td>98</td>\n",
              "      <td>N</td>\n",
              "      <td>0.0</td>\n",
              "      <td>Up</td>\n",
              "      <td>0</td>\n",
              "    </tr>\n",
              "  </tbody>\n",
              "</table>\n",
              "</div>\n",
              "      <button class=\"colab-df-convert\" onclick=\"convertToInteractive('df-7ad2b70c-5dd9-442a-93a4-93a78acae9dd')\"\n",
              "              title=\"Convert this dataframe to an interactive table.\"\n",
              "              style=\"display:none;\">\n",
              "        \n",
              "  <svg xmlns=\"http://www.w3.org/2000/svg\" height=\"24px\"viewBox=\"0 0 24 24\"\n",
              "       width=\"24px\">\n",
              "    <path d=\"M0 0h24v24H0V0z\" fill=\"none\"/>\n",
              "    <path d=\"M18.56 5.44l.94 2.06.94-2.06 2.06-.94-2.06-.94-.94-2.06-.94 2.06-2.06.94zm-11 1L8.5 8.5l.94-2.06 2.06-.94-2.06-.94L8.5 2.5l-.94 2.06-2.06.94zm10 10l.94 2.06.94-2.06 2.06-.94-2.06-.94-.94-2.06-.94 2.06-2.06.94z\"/><path d=\"M17.41 7.96l-1.37-1.37c-.4-.4-.92-.59-1.43-.59-.52 0-1.04.2-1.43.59L10.3 9.45l-7.72 7.72c-.78.78-.78 2.05 0 2.83L4 21.41c.39.39.9.59 1.41.59.51 0 1.02-.2 1.41-.59l7.78-7.78 2.81-2.81c.8-.78.8-2.07 0-2.86zM5.41 20L4 18.59l7.72-7.72 1.47 1.35L5.41 20z\"/>\n",
              "  </svg>\n",
              "      </button>\n",
              "      \n",
              "  <style>\n",
              "    .colab-df-container {\n",
              "      display:flex;\n",
              "      flex-wrap:wrap;\n",
              "      gap: 12px;\n",
              "    }\n",
              "\n",
              "    .colab-df-convert {\n",
              "      background-color: #E8F0FE;\n",
              "      border: none;\n",
              "      border-radius: 50%;\n",
              "      cursor: pointer;\n",
              "      display: none;\n",
              "      fill: #1967D2;\n",
              "      height: 32px;\n",
              "      padding: 0 0 0 0;\n",
              "      width: 32px;\n",
              "    }\n",
              "\n",
              "    .colab-df-convert:hover {\n",
              "      background-color: #E2EBFA;\n",
              "      box-shadow: 0px 1px 2px rgba(60, 64, 67, 0.3), 0px 1px 3px 1px rgba(60, 64, 67, 0.15);\n",
              "      fill: #174EA6;\n",
              "    }\n",
              "\n",
              "    [theme=dark] .colab-df-convert {\n",
              "      background-color: #3B4455;\n",
              "      fill: #D2E3FC;\n",
              "    }\n",
              "\n",
              "    [theme=dark] .colab-df-convert:hover {\n",
              "      background-color: #434B5C;\n",
              "      box-shadow: 0px 1px 3px 1px rgba(0, 0, 0, 0.15);\n",
              "      filter: drop-shadow(0px 1px 2px rgba(0, 0, 0, 0.3));\n",
              "      fill: #FFFFFF;\n",
              "    }\n",
              "  </style>\n",
              "\n",
              "      <script>\n",
              "        const buttonEl =\n",
              "          document.querySelector('#df-7ad2b70c-5dd9-442a-93a4-93a78acae9dd button.colab-df-convert');\n",
              "        buttonEl.style.display =\n",
              "          google.colab.kernel.accessAllowed ? 'block' : 'none';\n",
              "\n",
              "        async function convertToInteractive(key) {\n",
              "          const element = document.querySelector('#df-7ad2b70c-5dd9-442a-93a4-93a78acae9dd');\n",
              "          const dataTable =\n",
              "            await google.colab.kernel.invokeFunction('convertToInteractive',\n",
              "                                                     [key], {});\n",
              "          if (!dataTable) return;\n",
              "\n",
              "          const docLinkHtml = 'Like what you see? Visit the ' +\n",
              "            '<a target=\"_blank\" href=https://colab.research.google.com/notebooks/data_table.ipynb>data table notebook</a>'\n",
              "            + ' to learn more about interactive tables.';\n",
              "          element.innerHTML = '';\n",
              "          dataTable['output_type'] = 'display_data';\n",
              "          await google.colab.output.renderOutput(dataTable, element);\n",
              "          const docLink = document.createElement('div');\n",
              "          docLink.innerHTML = docLinkHtml;\n",
              "          element.appendChild(docLink);\n",
              "        }\n",
              "      </script>\n",
              "    </div>\n",
              "  </div>\n",
              "  "
            ]
          },
          "metadata": {},
          "execution_count": 29
        }
      ]
    },
    {
      "cell_type": "code",
      "source": [
        "df.select(['Age']).describe().show()"
      ],
      "metadata": {
        "colab": {
          "base_uri": "https://localhost:8080/"
        },
        "id": "PWN_UxuCpZV9",
        "outputId": "a195e05a-92bc-4b9c-b1da-8918158960f5"
      },
      "execution_count": null,
      "outputs": [
        {
          "output_type": "stream",
          "name": "stdout",
          "text": [
            "+-------+------------------+\n",
            "|summary|               Age|\n",
            "+-------+------------------+\n",
            "|  count|               918|\n",
            "|   mean|53.510893246187365|\n",
            "| stddev| 9.432616506732021|\n",
            "|    min|              28.0|\n",
            "|    max|              77.0|\n",
            "+-------+------------------+\n",
            "\n"
          ]
        }
      ]
    },
    {
      "cell_type": "code",
      "source": [
        "pd_df['Age'].describe()"
      ],
      "metadata": {
        "colab": {
          "base_uri": "https://localhost:8080/"
        },
        "id": "MnZFOmDkpjQn",
        "outputId": "d8da673f-272d-4e5b-b56f-21964d9af901"
      },
      "execution_count": null,
      "outputs": [
        {
          "output_type": "execute_result",
          "data": {
            "text/plain": [
              "count    918.000000\n",
              "mean      53.510893\n",
              "std        9.432617\n",
              "min       28.000000\n",
              "25%       47.000000\n",
              "50%       54.000000\n",
              "75%       60.000000\n",
              "max       77.000000\n",
              "Name: Age, dtype: float64"
            ]
          },
          "metadata": {},
          "execution_count": 27
        }
      ]
    },
    {
      "cell_type": "code",
      "source": [
        "AgeFixed = df['Age'] + 1\n",
        "df = df.withColumn('AgeFixed', AgeFixed)\n",
        "df.show(3)"
      ],
      "metadata": {
        "colab": {
          "base_uri": "https://localhost:8080/"
        },
        "id": "qDSMyGtypori",
        "outputId": "0ddb4718-6be2-44b1-a8a5-502f44c6caae"
      },
      "execution_count": null,
      "outputs": [
        {
          "output_type": "stream",
          "name": "stdout",
          "text": [
            "+----+---+-------------+---------+-----------+---------+----------+-----+--------------+-------+--------+------------+--------+\n",
            "| Age|Sex|ChestPainType|RestingBP|Cholesterol|FastingBS|RestingECG|MaxHR|ExerciseAngina|Oldpeak|ST_Slope|HeartDisease|AgeFixed|\n",
            "+----+---+-------------+---------+-----------+---------+----------+-----+--------------+-------+--------+------------+--------+\n",
            "|40.0|  M|          ATA|    140.0|        289|        0|    Normal|  172|             N|    0.0|      Up|           0|    41.0|\n",
            "|49.0|  F|          NAP|    160.0|        180|        0|    Normal|  156|             N|    1.0|    Flat|           1|    50.0|\n",
            "|37.0|  M|          ATA|    130.0|        283|        0|        ST|   98|             N|    0.0|      Up|           0|    38.0|\n",
            "+----+---+-------------+---------+-----------+---------+----------+-----+--------------+-------+--------+------------+--------+\n",
            "only showing top 3 rows\n",
            "\n"
          ]
        }
      ]
    },
    {
      "cell_type": "code",
      "source": [
        "pd_df['AgeFixed'] = pd_df['Age']+1\n",
        "pd_df.head(3)"
      ],
      "metadata": {
        "colab": {
          "base_uri": "https://localhost:8080/",
          "height": 207
        },
        "id": "5NLq2fQBrGJy",
        "outputId": "20965a91-0892-4e1b-b6a1-d19fd30dd60d"
      },
      "execution_count": null,
      "outputs": [
        {
          "output_type": "execute_result",
          "data": {
            "text/plain": [
              "    Age Sex ChestPainType  RestingBP  Cholesterol  FastingBS RestingECG  \\\n",
              "0  40.0   M           ATA      140.0          289          0     Normal   \n",
              "1  49.0   F           NAP      160.0          180          0     Normal   \n",
              "2  37.0   M           ATA      130.0          283          0         ST   \n",
              "\n",
              "   MaxHR ExerciseAngina  Oldpeak ST_Slope  HeartDisease  AgeFixed  \n",
              "0    172              N      0.0       Up             0      41.0  \n",
              "1    156              N      1.0     Flat             1      50.0  \n",
              "2     98              N      0.0       Up             0      38.0  "
            ],
            "text/html": [
              "\n",
              "  <div id=\"df-c78fed37-9dfa-448e-b1eb-67e8a854dd99\">\n",
              "    <div class=\"colab-df-container\">\n",
              "      <div>\n",
              "<style scoped>\n",
              "    .dataframe tbody tr th:only-of-type {\n",
              "        vertical-align: middle;\n",
              "    }\n",
              "\n",
              "    .dataframe tbody tr th {\n",
              "        vertical-align: top;\n",
              "    }\n",
              "\n",
              "    .dataframe thead th {\n",
              "        text-align: right;\n",
              "    }\n",
              "</style>\n",
              "<table border=\"1\" class=\"dataframe\">\n",
              "  <thead>\n",
              "    <tr style=\"text-align: right;\">\n",
              "      <th></th>\n",
              "      <th>Age</th>\n",
              "      <th>Sex</th>\n",
              "      <th>ChestPainType</th>\n",
              "      <th>RestingBP</th>\n",
              "      <th>Cholesterol</th>\n",
              "      <th>FastingBS</th>\n",
              "      <th>RestingECG</th>\n",
              "      <th>MaxHR</th>\n",
              "      <th>ExerciseAngina</th>\n",
              "      <th>Oldpeak</th>\n",
              "      <th>ST_Slope</th>\n",
              "      <th>HeartDisease</th>\n",
              "      <th>AgeFixed</th>\n",
              "    </tr>\n",
              "  </thead>\n",
              "  <tbody>\n",
              "    <tr>\n",
              "      <th>0</th>\n",
              "      <td>40.0</td>\n",
              "      <td>M</td>\n",
              "      <td>ATA</td>\n",
              "      <td>140.0</td>\n",
              "      <td>289</td>\n",
              "      <td>0</td>\n",
              "      <td>Normal</td>\n",
              "      <td>172</td>\n",
              "      <td>N</td>\n",
              "      <td>0.0</td>\n",
              "      <td>Up</td>\n",
              "      <td>0</td>\n",
              "      <td>41.0</td>\n",
              "    </tr>\n",
              "    <tr>\n",
              "      <th>1</th>\n",
              "      <td>49.0</td>\n",
              "      <td>F</td>\n",
              "      <td>NAP</td>\n",
              "      <td>160.0</td>\n",
              "      <td>180</td>\n",
              "      <td>0</td>\n",
              "      <td>Normal</td>\n",
              "      <td>156</td>\n",
              "      <td>N</td>\n",
              "      <td>1.0</td>\n",
              "      <td>Flat</td>\n",
              "      <td>1</td>\n",
              "      <td>50.0</td>\n",
              "    </tr>\n",
              "    <tr>\n",
              "      <th>2</th>\n",
              "      <td>37.0</td>\n",
              "      <td>M</td>\n",
              "      <td>ATA</td>\n",
              "      <td>130.0</td>\n",
              "      <td>283</td>\n",
              "      <td>0</td>\n",
              "      <td>ST</td>\n",
              "      <td>98</td>\n",
              "      <td>N</td>\n",
              "      <td>0.0</td>\n",
              "      <td>Up</td>\n",
              "      <td>0</td>\n",
              "      <td>38.0</td>\n",
              "    </tr>\n",
              "  </tbody>\n",
              "</table>\n",
              "</div>\n",
              "      <button class=\"colab-df-convert\" onclick=\"convertToInteractive('df-c78fed37-9dfa-448e-b1eb-67e8a854dd99')\"\n",
              "              title=\"Convert this dataframe to an interactive table.\"\n",
              "              style=\"display:none;\">\n",
              "        \n",
              "  <svg xmlns=\"http://www.w3.org/2000/svg\" height=\"24px\"viewBox=\"0 0 24 24\"\n",
              "       width=\"24px\">\n",
              "    <path d=\"M0 0h24v24H0V0z\" fill=\"none\"/>\n",
              "    <path d=\"M18.56 5.44l.94 2.06.94-2.06 2.06-.94-2.06-.94-.94-2.06-.94 2.06-2.06.94zm-11 1L8.5 8.5l.94-2.06 2.06-.94-2.06-.94L8.5 2.5l-.94 2.06-2.06.94zm10 10l.94 2.06.94-2.06 2.06-.94-2.06-.94-.94-2.06-.94 2.06-2.06.94z\"/><path d=\"M17.41 7.96l-1.37-1.37c-.4-.4-.92-.59-1.43-.59-.52 0-1.04.2-1.43.59L10.3 9.45l-7.72 7.72c-.78.78-.78 2.05 0 2.83L4 21.41c.39.39.9.59 1.41.59.51 0 1.02-.2 1.41-.59l7.78-7.78 2.81-2.81c.8-.78.8-2.07 0-2.86zM5.41 20L4 18.59l7.72-7.72 1.47 1.35L5.41 20z\"/>\n",
              "  </svg>\n",
              "      </button>\n",
              "      \n",
              "  <style>\n",
              "    .colab-df-container {\n",
              "      display:flex;\n",
              "      flex-wrap:wrap;\n",
              "      gap: 12px;\n",
              "    }\n",
              "\n",
              "    .colab-df-convert {\n",
              "      background-color: #E8F0FE;\n",
              "      border: none;\n",
              "      border-radius: 50%;\n",
              "      cursor: pointer;\n",
              "      display: none;\n",
              "      fill: #1967D2;\n",
              "      height: 32px;\n",
              "      padding: 0 0 0 0;\n",
              "      width: 32px;\n",
              "    }\n",
              "\n",
              "    .colab-df-convert:hover {\n",
              "      background-color: #E2EBFA;\n",
              "      box-shadow: 0px 1px 2px rgba(60, 64, 67, 0.3), 0px 1px 3px 1px rgba(60, 64, 67, 0.15);\n",
              "      fill: #174EA6;\n",
              "    }\n",
              "\n",
              "    [theme=dark] .colab-df-convert {\n",
              "      background-color: #3B4455;\n",
              "      fill: #D2E3FC;\n",
              "    }\n",
              "\n",
              "    [theme=dark] .colab-df-convert:hover {\n",
              "      background-color: #434B5C;\n",
              "      box-shadow: 0px 1px 3px 1px rgba(0, 0, 0, 0.15);\n",
              "      filter: drop-shadow(0px 1px 2px rgba(0, 0, 0, 0.3));\n",
              "      fill: #FFFFFF;\n",
              "    }\n",
              "  </style>\n",
              "\n",
              "      <script>\n",
              "        const buttonEl =\n",
              "          document.querySelector('#df-c78fed37-9dfa-448e-b1eb-67e8a854dd99 button.colab-df-convert');\n",
              "        buttonEl.style.display =\n",
              "          google.colab.kernel.accessAllowed ? 'block' : 'none';\n",
              "\n",
              "        async function convertToInteractive(key) {\n",
              "          const element = document.querySelector('#df-c78fed37-9dfa-448e-b1eb-67e8a854dd99');\n",
              "          const dataTable =\n",
              "            await google.colab.kernel.invokeFunction('convertToInteractive',\n",
              "                                                     [key], {});\n",
              "          if (!dataTable) return;\n",
              "\n",
              "          const docLinkHtml = 'Like what you see? Visit the ' +\n",
              "            '<a target=\"_blank\" href=https://colab.research.google.com/notebooks/data_table.ipynb>data table notebook</a>'\n",
              "            + ' to learn more about interactive tables.';\n",
              "          element.innerHTML = '';\n",
              "          dataTable['output_type'] = 'display_data';\n",
              "          await google.colab.output.renderOutput(dataTable, element);\n",
              "          const docLink = document.createElement('div');\n",
              "          docLink.innerHTML = docLinkHtml;\n",
              "          element.appendChild(docLink);\n",
              "        }\n",
              "      </script>\n",
              "    </div>\n",
              "  </div>\n",
              "  "
            ]
          },
          "metadata": {},
          "execution_count": 31
        }
      ]
    },
    {
      "cell_type": "code",
      "source": [
        "df.drop('AgeFixed').show(2)"
      ],
      "metadata": {
        "colab": {
          "base_uri": "https://localhost:8080/"
        },
        "id": "kgBrj1uNrOqx",
        "outputId": "5a07af3b-d2b3-4200-d00e-6fd57280ac61"
      },
      "execution_count": null,
      "outputs": [
        {
          "output_type": "stream",
          "name": "stdout",
          "text": [
            "+----+---+-------------+---------+-----------+---------+----------+-----+--------------+-------+--------+------------+\n",
            "| Age|Sex|ChestPainType|RestingBP|Cholesterol|FastingBS|RestingECG|MaxHR|ExerciseAngina|Oldpeak|ST_Slope|HeartDisease|\n",
            "+----+---+-------------+---------+-----------+---------+----------+-----+--------------+-------+--------+------------+\n",
            "|40.0|  M|          ATA|    140.0|        289|        0|    Normal|  172|             N|    0.0|      Up|           0|\n",
            "|49.0|  F|          NAP|    160.0|        180|        0|    Normal|  156|             N|    1.0|    Flat|           1|\n",
            "+----+---+-------------+---------+-----------+---------+----------+-----+--------------+-------+--------+------------+\n",
            "only showing top 2 rows\n",
            "\n"
          ]
        }
      ]
    },
    {
      "cell_type": "code",
      "source": [
        "#rename a column\n",
        "df.withColumnRenamed('Age', 'age').show(1)"
      ],
      "metadata": {
        "colab": {
          "base_uri": "https://localhost:8080/"
        },
        "id": "pydAFw2Krg9g",
        "outputId": "863fcea1-9f3d-4338-ec96-7abbd8fe74ae"
      },
      "execution_count": null,
      "outputs": [
        {
          "output_type": "stream",
          "name": "stdout",
          "text": [
            "+----+---+-------------+---------+-----------+---------+----------+-----+--------------+-------+--------+------------+--------+\n",
            "| age|Sex|ChestPainType|RestingBP|Cholesterol|FastingBS|RestingECG|MaxHR|ExerciseAngina|Oldpeak|ST_Slope|HeartDisease|AgeFixed|\n",
            "+----+---+-------------+---------+-----------+---------+----------+-----+--------------+-------+--------+------------+--------+\n",
            "|40.0|  M|          ATA|    140.0|        289|        0|    Normal|  172|             N|    0.0|      Up|           0|    41.0|\n",
            "+----+---+-------------+---------+-----------+---------+----------+-----+--------------+-------+--------+------------+--------+\n",
            "only showing top 1 row\n",
            "\n"
          ]
        }
      ]
    },
    {
      "cell_type": "code",
      "source": [
        "pd_df.rename(columns = {'Age':'age'}, inplace=True)\n",
        "pd_df.head(1)"
      ],
      "metadata": {
        "colab": {
          "base_uri": "https://localhost:8080/",
          "height": 145
        },
        "id": "7FG3AnykrurB",
        "outputId": "bcb8157d-60be-401a-90e3-a5e4be14ea8c"
      },
      "execution_count": null,
      "outputs": [
        {
          "output_type": "execute_result",
          "data": {
            "text/plain": [
              "    age Sex ChestPainType  RestingBP  Cholesterol  FastingBS RestingECG  \\\n",
              "0  40.0   M           ATA      140.0          289          0     Normal   \n",
              "\n",
              "   MaxHR ExerciseAngina  Oldpeak ST_Slope  HeartDisease  AgeFixed  \n",
              "0    172              N      0.0       Up             0      41.0  "
            ],
            "text/html": [
              "\n",
              "  <div id=\"df-7e457880-cbf2-4468-8fd4-d4687d9a478a\">\n",
              "    <div class=\"colab-df-container\">\n",
              "      <div>\n",
              "<style scoped>\n",
              "    .dataframe tbody tr th:only-of-type {\n",
              "        vertical-align: middle;\n",
              "    }\n",
              "\n",
              "    .dataframe tbody tr th {\n",
              "        vertical-align: top;\n",
              "    }\n",
              "\n",
              "    .dataframe thead th {\n",
              "        text-align: right;\n",
              "    }\n",
              "</style>\n",
              "<table border=\"1\" class=\"dataframe\">\n",
              "  <thead>\n",
              "    <tr style=\"text-align: right;\">\n",
              "      <th></th>\n",
              "      <th>age</th>\n",
              "      <th>Sex</th>\n",
              "      <th>ChestPainType</th>\n",
              "      <th>RestingBP</th>\n",
              "      <th>Cholesterol</th>\n",
              "      <th>FastingBS</th>\n",
              "      <th>RestingECG</th>\n",
              "      <th>MaxHR</th>\n",
              "      <th>ExerciseAngina</th>\n",
              "      <th>Oldpeak</th>\n",
              "      <th>ST_Slope</th>\n",
              "      <th>HeartDisease</th>\n",
              "      <th>AgeFixed</th>\n",
              "    </tr>\n",
              "  </thead>\n",
              "  <tbody>\n",
              "    <tr>\n",
              "      <th>0</th>\n",
              "      <td>40.0</td>\n",
              "      <td>M</td>\n",
              "      <td>ATA</td>\n",
              "      <td>140.0</td>\n",
              "      <td>289</td>\n",
              "      <td>0</td>\n",
              "      <td>Normal</td>\n",
              "      <td>172</td>\n",
              "      <td>N</td>\n",
              "      <td>0.0</td>\n",
              "      <td>Up</td>\n",
              "      <td>0</td>\n",
              "      <td>41.0</td>\n",
              "    </tr>\n",
              "  </tbody>\n",
              "</table>\n",
              "</div>\n",
              "      <button class=\"colab-df-convert\" onclick=\"convertToInteractive('df-7e457880-cbf2-4468-8fd4-d4687d9a478a')\"\n",
              "              title=\"Convert this dataframe to an interactive table.\"\n",
              "              style=\"display:none;\">\n",
              "        \n",
              "  <svg xmlns=\"http://www.w3.org/2000/svg\" height=\"24px\"viewBox=\"0 0 24 24\"\n",
              "       width=\"24px\">\n",
              "    <path d=\"M0 0h24v24H0V0z\" fill=\"none\"/>\n",
              "    <path d=\"M18.56 5.44l.94 2.06.94-2.06 2.06-.94-2.06-.94-.94-2.06-.94 2.06-2.06.94zm-11 1L8.5 8.5l.94-2.06 2.06-.94-2.06-.94L8.5 2.5l-.94 2.06-2.06.94zm10 10l.94 2.06.94-2.06 2.06-.94-2.06-.94-.94-2.06-.94 2.06-2.06.94z\"/><path d=\"M17.41 7.96l-1.37-1.37c-.4-.4-.92-.59-1.43-.59-.52 0-1.04.2-1.43.59L10.3 9.45l-7.72 7.72c-.78.78-.78 2.05 0 2.83L4 21.41c.39.39.9.59 1.41.59.51 0 1.02-.2 1.41-.59l7.78-7.78 2.81-2.81c.8-.78.8-2.07 0-2.86zM5.41 20L4 18.59l7.72-7.72 1.47 1.35L5.41 20z\"/>\n",
              "  </svg>\n",
              "      </button>\n",
              "      \n",
              "  <style>\n",
              "    .colab-df-container {\n",
              "      display:flex;\n",
              "      flex-wrap:wrap;\n",
              "      gap: 12px;\n",
              "    }\n",
              "\n",
              "    .colab-df-convert {\n",
              "      background-color: #E8F0FE;\n",
              "      border: none;\n",
              "      border-radius: 50%;\n",
              "      cursor: pointer;\n",
              "      display: none;\n",
              "      fill: #1967D2;\n",
              "      height: 32px;\n",
              "      padding: 0 0 0 0;\n",
              "      width: 32px;\n",
              "    }\n",
              "\n",
              "    .colab-df-convert:hover {\n",
              "      background-color: #E2EBFA;\n",
              "      box-shadow: 0px 1px 2px rgba(60, 64, 67, 0.3), 0px 1px 3px 1px rgba(60, 64, 67, 0.15);\n",
              "      fill: #174EA6;\n",
              "    }\n",
              "\n",
              "    [theme=dark] .colab-df-convert {\n",
              "      background-color: #3B4455;\n",
              "      fill: #D2E3FC;\n",
              "    }\n",
              "\n",
              "    [theme=dark] .colab-df-convert:hover {\n",
              "      background-color: #434B5C;\n",
              "      box-shadow: 0px 1px 3px 1px rgba(0, 0, 0, 0.15);\n",
              "      filter: drop-shadow(0px 1px 2px rgba(0, 0, 0, 0.3));\n",
              "      fill: #FFFFFF;\n",
              "    }\n",
              "  </style>\n",
              "\n",
              "      <script>\n",
              "        const buttonEl =\n",
              "          document.querySelector('#df-7e457880-cbf2-4468-8fd4-d4687d9a478a button.colab-df-convert');\n",
              "        buttonEl.style.display =\n",
              "          google.colab.kernel.accessAllowed ? 'block' : 'none';\n",
              "\n",
              "        async function convertToInteractive(key) {\n",
              "          const element = document.querySelector('#df-7e457880-cbf2-4468-8fd4-d4687d9a478a');\n",
              "          const dataTable =\n",
              "            await google.colab.kernel.invokeFunction('convertToInteractive',\n",
              "                                                     [key], {});\n",
              "          if (!dataTable) return;\n",
              "\n",
              "          const docLinkHtml = 'Like what you see? Visit the ' +\n",
              "            '<a target=\"_blank\" href=https://colab.research.google.com/notebooks/data_table.ipynb>data table notebook</a>'\n",
              "            + ' to learn more about interactive tables.';\n",
              "          element.innerHTML = '';\n",
              "          dataTable['output_type'] = 'display_data';\n",
              "          await google.colab.output.renderOutput(dataTable, element);\n",
              "          const docLink = document.createElement('div');\n",
              "          docLink.innerHTML = docLinkHtml;\n",
              "          element.appendChild(docLink);\n",
              "        }\n",
              "      </script>\n",
              "    </div>\n",
              "  </div>\n",
              "  "
            ]
          },
          "metadata": {},
          "execution_count": 38
        }
      ]
    },
    {
      "cell_type": "code",
      "source": [
        "df.count()"
      ],
      "metadata": {
        "colab": {
          "base_uri": "https://localhost:8080/"
        },
        "id": "LTaGOjjJsaWq",
        "outputId": "85d8d4dd-aca1-4a36-c833-124ca87e4f3b"
      },
      "execution_count": null,
      "outputs": [
        {
          "output_type": "execute_result",
          "data": {
            "text/plain": [
              "918"
            ]
          },
          "metadata": {},
          "execution_count": 41
        }
      ]
    },
    {
      "cell_type": "code",
      "source": [
        "df.na.drop()\n",
        "print(df.count())"
      ],
      "metadata": {
        "colab": {
          "base_uri": "https://localhost:8080/"
        },
        "id": "qzd_7wpostHM",
        "outputId": "478fa95f-0760-48c1-9f53-feebde2a0b1b"
      },
      "execution_count": null,
      "outputs": [
        {
          "output_type": "stream",
          "name": "stdout",
          "text": [
            "918\n"
          ]
        }
      ]
    },
    {
      "cell_type": "code",
      "source": [
        "df.na.drop(how='all')\n",
        "df.count()"
      ],
      "metadata": {
        "colab": {
          "base_uri": "https://localhost:8080/"
        },
        "id": "a7VJqyZ1sxO6",
        "outputId": "e2a4b835-70f0-46ca-8214-206d2989ea1a"
      },
      "execution_count": null,
      "outputs": [
        {
          "output_type": "execute_result",
          "data": {
            "text/plain": [
              "918"
            ]
          },
          "metadata": {},
          "execution_count": 43
        }
      ]
    },
    {
      "cell_type": "code",
      "source": [
        "df.na.drop(thresh=2)\n",
        "df.count()"
      ],
      "metadata": {
        "colab": {
          "base_uri": "https://localhost:8080/"
        },
        "id": "3ChdPMSVs19W",
        "outputId": "28d5211a-040b-4bfc-f96b-c6bf9153830f"
      },
      "execution_count": null,
      "outputs": [
        {
          "output_type": "execute_result",
          "data": {
            "text/plain": [
              "918"
            ]
          },
          "metadata": {},
          "execution_count": 44
        }
      ]
    },
    {
      "cell_type": "code",
      "source": [
        "df.na.drop(how='any', subset=['Age', 'Sex'])\n",
        "df.count()"
      ],
      "metadata": {
        "colab": {
          "base_uri": "https://localhost:8080/"
        },
        "id": "8YFgNy_Ds759",
        "outputId": "91efccdd-6de1-4c99-f91c-b6ea174b8e0c"
      },
      "execution_count": null,
      "outputs": [
        {
          "output_type": "execute_result",
          "data": {
            "text/plain": [
              "918"
            ]
          },
          "metadata": {},
          "execution_count": 45
        }
      ]
    },
    {
      "cell_type": "markdown",
      "source": [
        "## Doing the pyspark on New dataset"
      ],
      "metadata": {
        "id": "RYXXVEUowC81"
      }
    },
    {
      "cell_type": "code",
      "source": [
        "!pip install pyspark"
      ],
      "metadata": {
        "colab": {
          "base_uri": "https://localhost:8080/"
        },
        "id": "ldwQ7dfWxxxU",
        "outputId": "b02caf7e-6143-4fcf-faa3-277e1633fdf7"
      },
      "execution_count": null,
      "outputs": [
        {
          "output_type": "stream",
          "name": "stdout",
          "text": [
            "Requirement already satisfied: pyspark in /usr/local/lib/python3.10/dist-packages (3.4.1)\n",
            "Requirement already satisfied: py4j==0.10.9.7 in /usr/local/lib/python3.10/dist-packages (from pyspark) (0.10.9.7)\n"
          ]
        }
      ]
    },
    {
      "cell_type": "code",
      "source": [
        "from pyspark.sql import SparkSession\n",
        "spark = SparkSession.builder.appName('churn').getOrCreate()\n",
        "spark"
      ],
      "metadata": {
        "colab": {
          "base_uri": "https://localhost:8080/",
          "height": 220
        },
        "id": "WxOsFr7jwCM1",
        "outputId": "a900e605-d123-4364-8480-ed12fa2dff79"
      },
      "execution_count": null,
      "outputs": [
        {
          "output_type": "execute_result",
          "data": {
            "text/plain": [
              "<pyspark.sql.session.SparkSession at 0x7f1d2c133220>"
            ],
            "text/html": [
              "\n",
              "            <div>\n",
              "                <p><b>SparkSession - in-memory</b></p>\n",
              "                \n",
              "        <div>\n",
              "            <p><b>SparkContext</b></p>\n",
              "\n",
              "            <p><a href=\"http://a112798310bd:4040\">Spark UI</a></p>\n",
              "\n",
              "            <dl>\n",
              "              <dt>Version</dt>\n",
              "                <dd><code>v3.4.1</code></dd>\n",
              "              <dt>Master</dt>\n",
              "                <dd><code>local[*]</code></dd>\n",
              "              <dt>AppName</dt>\n",
              "                <dd><code>churn</code></dd>\n",
              "            </dl>\n",
              "        </div>\n",
              "        \n",
              "            </div>\n",
              "        "
            ]
          },
          "metadata": {},
          "execution_count": 2
        }
      ]
    },
    {
      "cell_type": "code",
      "source": [
        "df = spark.read.csv('churn.csv', inferSchema=True, header=True)"
      ],
      "metadata": {
        "id": "WUjPIGE3tGZI"
      },
      "execution_count": null,
      "outputs": []
    },
    {
      "cell_type": "code",
      "source": [
        "df.show(5)"
      ],
      "metadata": {
        "colab": {
          "base_uri": "https://localhost:8080/"
        },
        "id": "dYCGmqz7yDVe",
        "outputId": "bba7cddd-22dd-4716-ccda-5b890c155502"
      },
      "execution_count": null,
      "outputs": [
        {
          "output_type": "stream",
          "name": "stdout",
          "text": [
            "+-----+-----+----+-------+------------+--------+----------+------------------+---------+--------+--------------+-----------+--------+--------------------+--------------+--------+------------+--------+------------+-----------------+------------+--------------+--------------+-------------+-------------+-----------+-----------------------+------------------+--------------+-----------+-----------+\n",
            "| user|churn| age|housing|credit_score|deposits|withdrawal|purchases_partners|purchases|cc_taken|cc_recommended|cc_disliked|cc_liked|cc_application_begin|app_downloaded|web_user|app_web_user|ios_user|android_user|registered_phones|payment_type|waiting_4_loan|cancelled_loan|received_loan|rejected_loan|zodiac_sign|left_for_two_month_plus|left_for_one_month|rewards_earned|reward_rate|is_referred|\n",
            "+-----+-----+----+-------+------------+--------+----------+------------------+---------+--------+--------------+-----------+--------+--------------------+--------------+--------+------------+--------+------------+-----------------+------------+--------------+--------------+-------------+-------------+-----------+-----------------------+------------------+--------------+-----------+-----------+\n",
            "|55409|    0|37.0|     na|        null|       0|         0|                 0|        0|       0|             0|          0|       0|                   0|             1|       1|           1|       1|           0|                0|   Bi-Weekly|             0|             0|            0|            0|        Leo|                      1|                 0|          null|        0.0|          0|\n",
            "|23547|    0|28.0|      R|       486.0|       0|         0|                 1|        0|       0|            96|          0|       0|                   5|             1|       1|           1|       1|           0|                0|      Weekly|             0|             0|            0|            0|        Leo|                      0|                 0|          44.0|       1.47|          1|\n",
            "|58313|    0|35.0|      R|       561.0|      47|         2|                86|       47|       0|           285|          0|       0|                   9|             1|       0|           0|       0|           1|                2|Semi-Monthly|             0|             0|            0|            0|  Capricorn|                      1|                 0|          65.0|       2.17|          0|\n",
            "| 8095|    0|26.0|      R|       567.0|      26|         3|                38|       25|       0|            74|          0|       0|                  26|             1|       0|           0|       0|           1|                0|   Bi-Weekly|             0|             0|            0|            0|  Capricorn|                      0|                 0|          33.0|        1.1|          1|\n",
            "|61353|    1|27.0|     na|        null|       0|         0|                 2|        0|       0|             0|          0|       0|                   0|             1|       1|           1|       0|           1|                0|   Bi-Weekly|             0|             0|            0|            0|      Aries|                      1|                 0|           1.0|       0.03|          0|\n",
            "+-----+-----+----+-------+------------+--------+----------+------------------+---------+--------+--------------+-----------+--------+--------------------+--------------+--------+------------+--------+------------+-----------------+------------+--------------+--------------+-------------+-------------+-----------+-----------------------+------------------+--------------+-----------+-----------+\n",
            "only showing top 5 rows\n",
            "\n"
          ]
        }
      ]
    },
    {
      "cell_type": "code",
      "source": [
        "df.describe().show()"
      ],
      "metadata": {
        "colab": {
          "base_uri": "https://localhost:8080/"
        },
        "id": "qzrM1ut4yIdg",
        "outputId": "c003e0c2-309f-4c14-e295-594087250265"
      },
      "execution_count": null,
      "outputs": [
        {
          "output_type": "stream",
          "name": "stdout",
          "text": [
            "+-------+------------------+-------------------+------------------+-------+-----------------+------------------+-----------------+------------------+------------------+-------------------+-----------------+-------------------+--------------------+--------------------+------------------+-------------------+------------------+-------------------+-------------------+------------------+------------+--------------------+--------------------+--------------------+--------------------+-----------+-----------------------+--------------------+------------------+------------------+-------------------+\n",
            "|summary|              user|              churn|               age|housing|     credit_score|          deposits|       withdrawal|purchases_partners|         purchases|           cc_taken|   cc_recommended|        cc_disliked|            cc_liked|cc_application_begin|    app_downloaded|           web_user|      app_web_user|           ios_user|       android_user| registered_phones|payment_type|      waiting_4_loan|      cancelled_loan|       received_loan|       rejected_loan|zodiac_sign|left_for_two_month_plus|  left_for_one_month|    rewards_earned|       reward_rate|        is_referred|\n",
            "+-------+------------------+-------------------+------------------+-------+-----------------+------------------+-----------------+------------------+------------------+-------------------+-----------------+-------------------+--------------------+--------------------+------------------+-------------------+------------------+-------------------+-------------------+------------------+------------+--------------------+--------------------+--------------------+--------------------+-----------+-----------------------+--------------------+------------------+------------------+-------------------+\n",
            "|  count|             27000|              27000|             26996|  27000|            18969|             27000|            27000|             27000|             27000|              27000|            27000|              27000|               27000|               27000|             27000|              27000|             27000|              27000|              27000|             27000|       27000|               27000|               27000|               27000|               27000|      27000|                  27000|               27000|             23773|             27000|              27000|\n",
            "|   mean| 35422.70251851852|0.41385185185185186|32.219921469847385|   null|542.9442247878117|3.3415555555555554|            0.307| 28.06251851851852|3.2734814814814817|0.07377777777777778|92.62577777777778|0.05062962962962963|0.013111111111111112|   8.197851851851851|0.9524814814814815| 0.6060740740740741|0.5617407407407408| 0.3939259259259259| 0.5872592592592593|0.4209259259259259|        null|0.001296296296296...|0.018814814814814815|0.018185185185185186|0.004888888888888889|       null|    0.17344444444444446|0.018074074074074076|29.110124931645142|0.9076844444444258|0.31803703703703706|\n",
            "| stddev|20321.006677600148| 0.4925317058750379| 9.964837840756536|   null| 61.0593148493553| 9.131406035993571|1.055416205480738|42.219686022056834| 8.953076794382149| 0.4372991982467374| 88.8693428410003| 0.8713664997486357| 0.23815769641415566|  12.497243038916212|0.2127491134965235|0.48862780688999913|0.4961826270110387|0.48862780688999863|0.49233606333345276|0.9128305613632373|        null|0.035981437752290193| 0.13587310741131628| 0.13362314742084147| 0.06975075516238283|       null|     0.3786380580666803| 0.13322184226307227|21.973478128847987|0.7520160203071283|  0.465722571227737|\n",
            "|    min|                 1|                  0|              17.0|      O|              2.0|                 0|                0|                 0|                 0|                  0|                0|                  0|                   0|                   0|                 0|                  0|                 0|                  0|                  0|                 0|   Bi-Weekly|                   0|                   0|                   0|                   0|   Aquarius|                      0|                   0|               1.0|               0.0|                  0|\n",
            "|    max|             69658|                  1|              91.0|     na|            838.0|                65|               29|              1067|                63|                 29|              522|                 65|                  27|                 263|                 1|                  1|                 1|                  1|                  1|                 5|          na|                   1|                   1|                   1|                   1|         na|                      1|                   1|             114.0|               4.0|                  1|\n",
            "+-------+------------------+-------------------+------------------+-------+-----------------+------------------+-----------------+------------------+------------------+-------------------+-----------------+-------------------+--------------------+--------------------+------------------+-------------------+------------------+-------------------+-------------------+------------------+------------+--------------------+--------------------+--------------------+--------------------+-----------+-----------------------+--------------------+------------------+------------------+-------------------+\n",
            "\n"
          ]
        }
      ]
    },
    {
      "cell_type": "code",
      "source": [
        "from pyspark.sql.functions import col,isnan, when, count\n",
        "df.select([count(when(isnan(c) | col(c).isNull(), c)).alias(c) for c in df.columns]).show()"
      ],
      "metadata": {
        "colab": {
          "base_uri": "https://localhost:8080/"
        },
        "id": "yYn0eQ4Ezlov",
        "outputId": "f2ebbec4-cbd8-420e-a829-c805c5475d94"
      },
      "execution_count": null,
      "outputs": [
        {
          "output_type": "stream",
          "name": "stdout",
          "text": [
            "+----+-----+---+-------+------------+--------+----------+------------------+---------+--------+--------------+-----------+--------+--------------------+--------------+--------+------------+--------+------------+-----------------+------------+--------------+--------------+-------------+-------------+-----------+-----------------------+------------------+--------------+-----------+-----------+\n",
            "|user|churn|age|housing|credit_score|deposits|withdrawal|purchases_partners|purchases|cc_taken|cc_recommended|cc_disliked|cc_liked|cc_application_begin|app_downloaded|web_user|app_web_user|ios_user|android_user|registered_phones|payment_type|waiting_4_loan|cancelled_loan|received_loan|rejected_loan|zodiac_sign|left_for_two_month_plus|left_for_one_month|rewards_earned|reward_rate|is_referred|\n",
            "+----+-----+---+-------+------------+--------+----------+------------------+---------+--------+--------------+-----------+--------+--------------------+--------------+--------+------------+--------+------------+-----------------+------------+--------------+--------------+-------------+-------------+-----------+-----------------------+------------------+--------------+-----------+-----------+\n",
            "|   0|    0|  4|      0|        8031|       0|         0|                 0|        0|       0|             0|          0|       0|                   0|             0|       0|           0|       0|           0|                0|           0|             0|             0|            0|            0|          0|                      0|                 0|          3227|          0|          0|\n",
            "+----+-----+---+-------+------------+--------+----------+------------------+---------+--------+--------------+-----------+--------+--------------------+--------------+--------+------------+--------+------------+-----------------+------------+--------------+--------------+-------------+-------------+-----------+-----------------------+------------------+--------------+-----------+-----------+\n",
            "\n"
          ]
        }
      ]
    },
    {
      "cell_type": "code",
      "source": [
        "df = df.na.drop(how='all', subset=['age'])\n",
        "df.select([count(when(isnan(c) | col(c).isNull(), c)).alias(c) for c in df.columns]).show()"
      ],
      "metadata": {
        "colab": {
          "base_uri": "https://localhost:8080/"
        },
        "id": "xDYOvGj0zwwF",
        "outputId": "a25e3b27-d848-4350-cbc1-66d3b5c7aaf3"
      },
      "execution_count": null,
      "outputs": [
        {
          "output_type": "stream",
          "name": "stdout",
          "text": [
            "+----+-----+---+-------+------------+--------+----------+------------------+---------+--------+--------------+-----------+--------+--------------------+--------------+--------+------------+--------+------------+-----------------+------------+--------------+--------------+-------------+-------------+-----------+-----------------------+------------------+--------------+-----------+-----------+\n",
            "|user|churn|age|housing|credit_score|deposits|withdrawal|purchases_partners|purchases|cc_taken|cc_recommended|cc_disliked|cc_liked|cc_application_begin|app_downloaded|web_user|app_web_user|ios_user|android_user|registered_phones|payment_type|waiting_4_loan|cancelled_loan|received_loan|rejected_loan|zodiac_sign|left_for_two_month_plus|left_for_one_month|rewards_earned|reward_rate|is_referred|\n",
            "+----+-----+---+-------+------------+--------+----------+------------------+---------+--------+--------------+-----------+--------+--------------------+--------------+--------+------------+--------+------------+-----------------+------------+--------------+--------------+-------------+-------------+-----------+-----------------------+------------------+--------------+-----------+-----------+\n",
            "|   0|    0|  0|      0|        8027|       0|         0|                 0|        0|       0|             0|          0|       0|                   0|             0|       0|           0|       0|           0|                0|           0|             0|             0|            0|            0|          0|                      0|                 0|          3223|          0|          0|\n",
            "+----+-----+---+-------+------------+--------+----------+------------------+---------+--------+--------------+-----------+--------+--------------------+--------------+--------+------------+--------+------------+-----------------+------------+--------------+--------------+-------------+-------------+-----------+-----------------------+------------------+--------------+-----------+-----------+\n",
            "\n"
          ]
        }
      ]
    },
    {
      "cell_type": "code",
      "source": [
        "df = df.drop('credit_score', 'rewards_earned')\n",
        "df.show(5)"
      ],
      "metadata": {
        "colab": {
          "base_uri": "https://localhost:8080/"
        },
        "id": "OwKmj2Dy04zj",
        "outputId": "7816aaad-07ce-449b-fa3c-3fa948200139"
      },
      "execution_count": null,
      "outputs": [
        {
          "output_type": "stream",
          "name": "stdout",
          "text": [
            "+-----+-----+----+-------+--------+----------+------------------+---------+--------+--------------+-----------+--------+--------------------+--------------+--------+------------+--------+------------+-----------------+------------+--------------+--------------+-------------+-------------+-----------+-----------------------+------------------+-----------+-----------+\n",
            "| user|churn| age|housing|deposits|withdrawal|purchases_partners|purchases|cc_taken|cc_recommended|cc_disliked|cc_liked|cc_application_begin|app_downloaded|web_user|app_web_user|ios_user|android_user|registered_phones|payment_type|waiting_4_loan|cancelled_loan|received_loan|rejected_loan|zodiac_sign|left_for_two_month_plus|left_for_one_month|reward_rate|is_referred|\n",
            "+-----+-----+----+-------+--------+----------+------------------+---------+--------+--------------+-----------+--------+--------------------+--------------+--------+------------+--------+------------+-----------------+------------+--------------+--------------+-------------+-------------+-----------+-----------------------+------------------+-----------+-----------+\n",
            "|55409|    0|37.0|     na|       0|         0|                 0|        0|       0|             0|          0|       0|                   0|             1|       1|           1|       1|           0|                0|   Bi-Weekly|             0|             0|            0|            0|        Leo|                      1|                 0|        0.0|          0|\n",
            "|23547|    0|28.0|      R|       0|         0|                 1|        0|       0|            96|          0|       0|                   5|             1|       1|           1|       1|           0|                0|      Weekly|             0|             0|            0|            0|        Leo|                      0|                 0|       1.47|          1|\n",
            "|58313|    0|35.0|      R|      47|         2|                86|       47|       0|           285|          0|       0|                   9|             1|       0|           0|       0|           1|                2|Semi-Monthly|             0|             0|            0|            0|  Capricorn|                      1|                 0|       2.17|          0|\n",
            "| 8095|    0|26.0|      R|      26|         3|                38|       25|       0|            74|          0|       0|                  26|             1|       0|           0|       0|           1|                0|   Bi-Weekly|             0|             0|            0|            0|  Capricorn|                      0|                 0|        1.1|          1|\n",
            "|61353|    1|27.0|     na|       0|         0|                 2|        0|       0|             0|          0|       0|                   0|             1|       1|           1|       0|           1|                0|   Bi-Weekly|             0|             0|            0|            0|      Aries|                      1|                 0|       0.03|          0|\n",
            "+-----+-----+----+-------+--------+----------+------------------+---------+--------+--------------+-----------+--------+--------------------+--------------+--------+------------+--------+------------+-----------------+------------+--------------+--------------+-------------+-------------+-----------+-----------------------+------------------+-----------+-----------+\n",
            "only showing top 5 rows\n",
            "\n"
          ]
        }
      ]
    },
    {
      "cell_type": "code",
      "source": [
        "new_df = df[['housing', 'is_referred', 'app_downloaded',\n",
        "                    'web_user', 'app_web_user', 'ios_user',\n",
        "                    'android_user', 'registered_phones', 'payment_type',\n",
        "                    'waiting_4_loan', 'cancelled_loan',\n",
        "                    'received_loan', 'rejected_loan', 'zodiac_sign',\n",
        "                    'left_for_two_month_plus', 'left_for_one_month', 'is_referred']]\n",
        "new_df.show(3)"
      ],
      "metadata": {
        "colab": {
          "base_uri": "https://localhost:8080/"
        },
        "id": "pUjWt8491Ujb",
        "outputId": "4018058e-75dd-4463-b370-9c67b02e4728"
      },
      "execution_count": null,
      "outputs": [
        {
          "output_type": "stream",
          "name": "stdout",
          "text": [
            "+-------+-----------+--------------+--------+------------+--------+------------+-----------------+------------+--------------+--------------+-------------+-------------+-----------+-----------------------+------------------+-----------+\n",
            "|housing|is_referred|app_downloaded|web_user|app_web_user|ios_user|android_user|registered_phones|payment_type|waiting_4_loan|cancelled_loan|received_loan|rejected_loan|zodiac_sign|left_for_two_month_plus|left_for_one_month|is_referred|\n",
            "+-------+-----------+--------------+--------+------------+--------+------------+-----------------+------------+--------------+--------------+-------------+-------------+-----------+-----------------------+------------------+-----------+\n",
            "|     na|          0|             1|       1|           1|       1|           0|                0|   Bi-Weekly|             0|             0|            0|            0|        Leo|                      1|                 0|          0|\n",
            "|      R|          1|             1|       1|           1|       1|           0|                0|      Weekly|             0|             0|            0|            0|        Leo|                      0|                 0|          1|\n",
            "|      R|          0|             1|       0|           0|       0|           1|                2|Semi-Monthly|             0|             0|            0|            0|  Capricorn|                      1|                 0|          0|\n",
            "+-------+-----------+--------------+--------+------------+--------+------------+-----------------+------------+--------------+--------------+-------------+-------------+-----------+-----------------------+------------------+-----------+\n",
            "only showing top 3 rows\n",
            "\n"
          ]
        }
      ]
    },
    {
      "cell_type": "code",
      "source": [
        "df.count()"
      ],
      "metadata": {
        "colab": {
          "base_uri": "https://localhost:8080/"
        },
        "id": "X-KXR1Db17iS",
        "outputId": "782e3a18-923b-444a-c5a2-38564c24c404"
      },
      "execution_count": null,
      "outputs": [
        {
          "output_type": "execute_result",
          "data": {
            "text/plain": [
              "26996"
            ]
          },
          "metadata": {},
          "execution_count": 19
        }
      ]
    },
    {
      "cell_type": "code",
      "source": [
        "new_df.count()"
      ],
      "metadata": {
        "colab": {
          "base_uri": "https://localhost:8080/"
        },
        "id": "IVez8xsi2dUe",
        "outputId": "027b0331-074e-403a-e00a-73d36f6472be"
      },
      "execution_count": null,
      "outputs": [
        {
          "output_type": "execute_result",
          "data": {
            "text/plain": [
              "26996"
            ]
          },
          "metadata": {},
          "execution_count": 20
        }
      ]
    },
    {
      "cell_type": "code",
      "source": [
        "print(len(df.columns))\n",
        "print(len(new_df.columns))"
      ],
      "metadata": {
        "colab": {
          "base_uri": "https://localhost:8080/"
        },
        "id": "JjqrHtie2fIE",
        "outputId": "03679290-d28b-447c-d126-b32bbfc968f1"
      },
      "execution_count": null,
      "outputs": [
        {
          "output_type": "stream",
          "name": "stdout",
          "text": [
            "29\n",
            "17\n"
          ]
        }
      ]
    },
    {
      "cell_type": "code",
      "source": [
        "new_df = new_df.drop('app_web_user')\n",
        "print(len(new_df.columns))"
      ],
      "metadata": {
        "colab": {
          "base_uri": "https://localhost:8080/"
        },
        "id": "taje4EL0264C",
        "outputId": "1226418a-e715-4bc3-8ccd-5fe75455b208"
      },
      "execution_count": null,
      "outputs": [
        {
          "output_type": "stream",
          "name": "stdout",
          "text": [
            "16\n"
          ]
        }
      ]
    },
    {
      "cell_type": "code",
      "source": [
        "new_df = new_df.drop('is_referred')\n",
        "print(len(new_df.columns))"
      ],
      "metadata": {
        "colab": {
          "base_uri": "https://localhost:8080/"
        },
        "id": "H1XI3W1N3TYj",
        "outputId": "c127acc6-e984-40c8-aef7-538b8804b0d0"
      },
      "execution_count": null,
      "outputs": [
        {
          "output_type": "stream",
          "name": "stdout",
          "text": [
            "14\n"
          ]
        }
      ]
    },
    {
      "cell_type": "code",
      "source": [
        "new_df.write.format('csv').save('new_churn.csv')"
      ],
      "metadata": {
        "id": "jeM49BOq2lF9"
      },
      "execution_count": null,
      "outputs": []
    },
    {
      "cell_type": "code",
      "source": [
        "new_df.show(2)"
      ],
      "metadata": {
        "colab": {
          "base_uri": "https://localhost:8080/"
        },
        "id": "5oxNNkiA3ErH",
        "outputId": "181eb6c5-7636-4eed-ccad-4e0760e9a235"
      },
      "execution_count": null,
      "outputs": [
        {
          "output_type": "stream",
          "name": "stdout",
          "text": [
            "+-------+-----------+--------------+--------+--------+------------+-----------------+------------+--------------+--------------+-------------+-------------+-----------+-----------------------+------------------+-----------+\n",
            "|housing|is_referred|app_downloaded|web_user|ios_user|android_user|registered_phones|payment_type|waiting_4_loan|cancelled_loan|received_loan|rejected_loan|zodiac_sign|left_for_two_month_plus|left_for_one_month|is_referred|\n",
            "+-------+-----------+--------------+--------+--------+------------+-----------------+------------+--------------+--------------+-------------+-------------+-----------+-----------------------+------------------+-----------+\n",
            "|     na|          0|             1|       1|       1|           0|                0|   Bi-Weekly|             0|             0|            0|            0|        Leo|                      1|                 0|          0|\n",
            "|      R|          1|             1|       1|       1|           0|                0|      Weekly|             0|             0|            0|            0|        Leo|                      0|                 0|          1|\n",
            "+-------+-----------+--------------+--------+--------+------------+-----------------+------------+--------------+--------------+-------------+-------------+-----------+-----------------------+------------------+-----------+\n",
            "only showing top 2 rows\n",
            "\n"
          ]
        }
      ]
    },
    {
      "cell_type": "code",
      "source": [
        "new_df.createOrReplaceTempView('new_churn')\n",
        "\n",
        "spark.sql('select * from new_churn').show(3)"
      ],
      "metadata": {
        "colab": {
          "base_uri": "https://localhost:8080/"
        },
        "id": "HSnndqQd3Njo",
        "outputId": "4a95b90e-9fd6-4818-b5d1-7ee6386e5efa"
      },
      "execution_count": null,
      "outputs": [
        {
          "output_type": "stream",
          "name": "stdout",
          "text": [
            "+-------+--------------+--------+--------+------------+-----------------+------------+--------------+--------------+-------------+-------------+-----------+-----------------------+------------------+\n",
            "|housing|app_downloaded|web_user|ios_user|android_user|registered_phones|payment_type|waiting_4_loan|cancelled_loan|received_loan|rejected_loan|zodiac_sign|left_for_two_month_plus|left_for_one_month|\n",
            "+-------+--------------+--------+--------+------------+-----------------+------------+--------------+--------------+-------------+-------------+-----------+-----------------------+------------------+\n",
            "|     na|             1|       1|       1|           0|                0|   Bi-Weekly|             0|             0|            0|            0|        Leo|                      1|                 0|\n",
            "|      R|             1|       1|       1|           0|                0|      Weekly|             0|             0|            0|            0|        Leo|                      0|                 0|\n",
            "|      R|             1|       0|       0|           1|                2|Semi-Monthly|             0|             0|            0|            0|  Capricorn|                      1|                 0|\n",
            "+-------+--------------+--------+--------+------------+-----------------+------------+--------------+--------------+-------------+-------------+-----------+-----------------------+------------------+\n",
            "only showing top 3 rows\n",
            "\n"
          ]
        }
      ]
    },
    {
      "cell_type": "code",
      "source": [
        "spark.sql('select * from new_churn where ios_user=1').show(5)"
      ],
      "metadata": {
        "colab": {
          "base_uri": "https://localhost:8080/"
        },
        "id": "mx3YfTfn4Wb9",
        "outputId": "74d9810c-e3fa-4b80-807e-1f0711033b34"
      },
      "execution_count": null,
      "outputs": [
        {
          "output_type": "stream",
          "name": "stdout",
          "text": [
            "+-------+--------------+--------+--------+------------+-----------------+------------+--------------+--------------+-------------+-------------+-----------+-----------------------+------------------+\n",
            "|housing|app_downloaded|web_user|ios_user|android_user|registered_phones|payment_type|waiting_4_loan|cancelled_loan|received_loan|rejected_loan|zodiac_sign|left_for_two_month_plus|left_for_one_month|\n",
            "+-------+--------------+--------+--------+------------+-----------------+------------+--------------+--------------+-------------+-------------+-----------+-----------------------+------------------+\n",
            "|     na|             1|       1|       1|           0|                0|   Bi-Weekly|             0|             0|            0|            0|        Leo|                      1|                 0|\n",
            "|      R|             1|       1|       1|           0|                0|      Weekly|             0|             0|            0|            0|        Leo|                      0|                 0|\n",
            "|      R|             1|       1|       1|           0|                0|   Bi-Weekly|             0|             0|            0|            0|Sagittarius|                      0|                 0|\n",
            "|     na|             1|       1|       1|           0|                0|   Bi-Weekly|             0|             0|            0|            0|   Aquarius|                      0|                 0|\n",
            "|      R|             1|       1|       1|           0|                0|     Monthly|             0|             0|            0|            0|      Virgo|                      0|                 0|\n",
            "+-------+--------------+--------+--------+------------+-----------------+------------+--------------+--------------+-------------+-------------+-----------+-----------------------+------------------+\n",
            "only showing top 5 rows\n",
            "\n"
          ]
        }
      ]
    },
    {
      "cell_type": "code",
      "source": [
        "!pip install pyspark"
      ],
      "metadata": {
        "colab": {
          "base_uri": "https://localhost:8080/"
        },
        "id": "BwCYIKZU4maA",
        "outputId": "70eaef92-2699-4337-94a6-0648224ec516"
      },
      "execution_count": null,
      "outputs": [
        {
          "output_type": "stream",
          "name": "stdout",
          "text": [
            "Collecting pyspark\n",
            "  Downloading pyspark-3.4.1.tar.gz (310.8 MB)\n",
            "\u001b[2K     \u001b[90m━━━━━━━━━━━━━━━━━━━━━━━━━━━━━━━━━━━━━━━\u001b[0m \u001b[32m310.8/310.8 MB\u001b[0m \u001b[31m3.4 MB/s\u001b[0m eta \u001b[36m0:00:00\u001b[0m\n",
            "\u001b[?25h  Preparing metadata (setup.py) ... \u001b[?25l\u001b[?25hdone\n",
            "Requirement already satisfied: py4j==0.10.9.7 in /usr/local/lib/python3.10/dist-packages (from pyspark) (0.10.9.7)\n",
            "Building wheels for collected packages: pyspark\n",
            "  Building wheel for pyspark (setup.py) ... \u001b[?25l\u001b[?25hdone\n",
            "  Created wheel for pyspark: filename=pyspark-3.4.1-py2.py3-none-any.whl size=311285398 sha256=99e8d5dbbdfbb46bd853204c03a6a3837eb044931d141eb437bdd352f76052e3\n",
            "  Stored in directory: /root/.cache/pip/wheels/0d/77/a3/ff2f74cc9ab41f8f594dabf0579c2a7c6de920d584206e0834\n",
            "Successfully built pyspark\n",
            "Installing collected packages: pyspark\n",
            "Successfully installed pyspark-3.4.1\n"
          ]
        }
      ]
    },
    {
      "cell_type": "code",
      "source": [
        "from pyspark.sql import SparkSession\n",
        "spark = SparkSession.builder.appName('test').getOrCreate()\n",
        "df = spark.read.csv('churn.csv', inferSchema=True, header=True)\n",
        "df.show(5)"
      ],
      "metadata": {
        "colab": {
          "base_uri": "https://localhost:8080/"
        },
        "id": "kXN2wwqyUbBo",
        "outputId": "d7b0f7fe-520c-4245-bfac-86f1d36b3690"
      },
      "execution_count": null,
      "outputs": [
        {
          "output_type": "stream",
          "name": "stdout",
          "text": [
            "+-----+-----+----+-------+------------+--------+----------+------------------+---------+--------+--------------+-----------+--------+--------------------+--------------+--------+------------+--------+------------+-----------------+------------+--------------+--------------+-------------+-------------+-----------+-----------------------+------------------+--------------+-----------+-----------+\n",
            "| user|churn| age|housing|credit_score|deposits|withdrawal|purchases_partners|purchases|cc_taken|cc_recommended|cc_disliked|cc_liked|cc_application_begin|app_downloaded|web_user|app_web_user|ios_user|android_user|registered_phones|payment_type|waiting_4_loan|cancelled_loan|received_loan|rejected_loan|zodiac_sign|left_for_two_month_plus|left_for_one_month|rewards_earned|reward_rate|is_referred|\n",
            "+-----+-----+----+-------+------------+--------+----------+------------------+---------+--------+--------------+-----------+--------+--------------------+--------------+--------+------------+--------+------------+-----------------+------------+--------------+--------------+-------------+-------------+-----------+-----------------------+------------------+--------------+-----------+-----------+\n",
            "|55409|    0|37.0|     na|        null|       0|         0|                 0|        0|       0|             0|          0|       0|                   0|             1|       1|           1|       1|           0|                0|   Bi-Weekly|             0|             0|            0|            0|        Leo|                      1|                 0|          null|        0.0|          0|\n",
            "|23547|    0|28.0|      R|       486.0|       0|         0|                 1|        0|       0|            96|          0|       0|                   5|             1|       1|           1|       1|           0|                0|      Weekly|             0|             0|            0|            0|        Leo|                      0|                 0|          44.0|       1.47|          1|\n",
            "|58313|    0|35.0|      R|       561.0|      47|         2|                86|       47|       0|           285|          0|       0|                   9|             1|       0|           0|       0|           1|                2|Semi-Monthly|             0|             0|            0|            0|  Capricorn|                      1|                 0|          65.0|       2.17|          0|\n",
            "| 8095|    0|26.0|      R|       567.0|      26|         3|                38|       25|       0|            74|          0|       0|                  26|             1|       0|           0|       0|           1|                0|   Bi-Weekly|             0|             0|            0|            0|  Capricorn|                      0|                 0|          33.0|        1.1|          1|\n",
            "|61353|    1|27.0|     na|        null|       0|         0|                 2|        0|       0|             0|          0|       0|                   0|             1|       1|           1|       0|           1|                0|   Bi-Weekly|             0|             0|            0|            0|      Aries|                      1|                 0|           1.0|       0.03|          0|\n",
            "+-----+-----+----+-------+------------+--------+----------+------------------+---------+--------+--------------+-----------+--------+--------------------+--------------+--------+------------+--------+------------+-----------------+------------+--------------+--------------+-------------+-------------+-----------+-----------------------+------------------+--------------+-----------+-----------+\n",
            "only showing top 5 rows\n",
            "\n"
          ]
        }
      ]
    },
    {
      "cell_type": "code",
      "source": [
        "# filtering using age greate than 30\n",
        "df.filter('Age>=30').show(4)"
      ],
      "metadata": {
        "colab": {
          "base_uri": "https://localhost:8080/"
        },
        "id": "gvtq78WSUvgg",
        "outputId": "d7f319ba-09d3-40e9-ec71-6f1d3520f80f"
      },
      "execution_count": null,
      "outputs": [
        {
          "output_type": "stream",
          "name": "stdout",
          "text": [
            "+-----+-----+----+-------+------------+--------+----------+------------------+---------+--------+--------------+-----------+--------+--------------------+--------------+--------+------------+--------+------------+-----------------+------------+--------------+--------------+-------------+-------------+-----------+-----------------------+------------------+--------------+-----------+-----------+\n",
            "| user|churn| age|housing|credit_score|deposits|withdrawal|purchases_partners|purchases|cc_taken|cc_recommended|cc_disliked|cc_liked|cc_application_begin|app_downloaded|web_user|app_web_user|ios_user|android_user|registered_phones|payment_type|waiting_4_loan|cancelled_loan|received_loan|rejected_loan|zodiac_sign|left_for_two_month_plus|left_for_one_month|rewards_earned|reward_rate|is_referred|\n",
            "+-----+-----+----+-------+------------+--------+----------+------------------+---------+--------+--------------+-----------+--------+--------------------+--------------+--------+------------+--------+------------+-----------------+------------+--------------+--------------+-------------+-------------+-----------+-----------------------+------------------+--------------+-----------+-----------+\n",
            "|55409|    0|37.0|     na|        null|       0|         0|                 0|        0|       0|             0|          0|       0|                   0|             1|       1|           1|       1|           0|                0|   Bi-Weekly|             0|             0|            0|            0|        Leo|                      1|                 0|          null|        0.0|          0|\n",
            "|58313|    0|35.0|      R|       561.0|      47|         2|                86|       47|       0|           285|          0|       0|                   9|             1|       0|           0|       0|           1|                2|Semi-Monthly|             0|             0|            0|            0|  Capricorn|                      1|                 0|          65.0|       2.17|          0|\n",
            "| 3120|    1|32.0|      R|       567.0|       5|         3|               111|        5|       0|           227|          0|       0|                  17|             1|       1|           1|       0|           1|                0|   Bi-Weekly|             0|             0|            0|            0|     Taurus|                      0|                 0|          55.0|       1.83|          0|\n",
            "|13840|    0|32.0|      R|        null|       0|         0|                30|        0|       0|            70|          0|       0|                   3|             1|       1|           1|       1|           0|                0|     Monthly|             0|             0|            0|            0|      Virgo|                      0|                 0|          19.0|       0.83|          1|\n",
            "+-----+-----+----+-------+------------+--------+----------+------------------+---------+--------+--------------+-----------+--------+--------------------+--------------+--------+------------+--------+------------+-----------------+------------+--------------+--------------+-------------+-------------+-----------+-----------------------+------------------+--------------+-----------+-----------+\n",
            "only showing top 4 rows\n",
            "\n"
          ]
        }
      ]
    },
    {
      "cell_type": "code",
      "source": [
        "#  filter using age and only. print credit_score age\n",
        "df.filter('Age>=30').select('credit_score', 'Age').show(4)"
      ],
      "metadata": {
        "colab": {
          "base_uri": "https://localhost:8080/"
        },
        "id": "P2nyVYHUVOjP",
        "outputId": "3ee71e85-188d-4a4f-ba6a-3c478bbb7e8f"
      },
      "execution_count": null,
      "outputs": [
        {
          "output_type": "stream",
          "name": "stdout",
          "text": [
            "+------------+----+\n",
            "|credit_score| Age|\n",
            "+------------+----+\n",
            "|        null|37.0|\n",
            "|       561.0|35.0|\n",
            "|       567.0|32.0|\n",
            "|        null|32.0|\n",
            "+------------+----+\n",
            "only showing top 4 rows\n",
            "\n"
          ]
        }
      ]
    },
    {
      "cell_type": "code",
      "source": [
        "#filter multiple conditions\n",
        "df.filter((df['Age']>=30) & (df['credit_score']>=500)).show(4)"
      ],
      "metadata": {
        "colab": {
          "base_uri": "https://localhost:8080/"
        },
        "id": "hPC2U4tLVn24",
        "outputId": "88cec1bd-9932-45df-84bf-0f14938d4c77"
      },
      "execution_count": null,
      "outputs": [
        {
          "output_type": "stream",
          "name": "stdout",
          "text": [
            "+-----+-----+----+-------+------------+--------+----------+------------------+---------+--------+--------------+-----------+--------+--------------------+--------------+--------+------------+--------+------------+-----------------+------------+--------------+--------------+-------------+-------------+-----------+-----------------------+------------------+--------------+------------------+-----------+\n",
            "| user|churn| age|housing|credit_score|deposits|withdrawal|purchases_partners|purchases|cc_taken|cc_recommended|cc_disliked|cc_liked|cc_application_begin|app_downloaded|web_user|app_web_user|ios_user|android_user|registered_phones|payment_type|waiting_4_loan|cancelled_loan|received_loan|rejected_loan|zodiac_sign|left_for_two_month_plus|left_for_one_month|rewards_earned|       reward_rate|is_referred|\n",
            "+-----+-----+----+-------+------------+--------+----------+------------------+---------+--------+--------------+-----------+--------+--------------------+--------------+--------+------------+--------+------------+-----------------+------------+--------------+--------------+-------------+-------------+-----------+-----------------------+------------------+--------------+------------------+-----------+\n",
            "|58313|    0|35.0|      R|       561.0|      47|         2|                86|       47|       0|           285|          0|       0|                   9|             1|       0|           0|       0|           1|                2|Semi-Monthly|             0|             0|            0|            0|  Capricorn|                      1|                 0|          65.0|              2.17|          0|\n",
            "| 3120|    1|32.0|      R|       567.0|       5|         3|               111|        5|       0|           227|          0|       0|                  17|             1|       1|           1|       0|           1|                0|   Bi-Weekly|             0|             0|            0|            0|     Taurus|                      0|                 0|          55.0|              1.83|          0|\n",
            "|25899|    0|41.0|      O|       625.0|      14|         0|               116|       13|       0|           217|          0|       0|                  45|             1|       1|           1|       1|           0|                0|Semi-Monthly|             0|             0|            0|            0|      Virgo|                      0|                 0|          65.0|              2.17|          0|\n",
            "|30693|    0|31.0|      R|       565.0|      17|         2|                62|       17|       0|           180|          0|       0|                  22|             1|       1|           1|       0|           1|                0|          na|             0|             0|            0|            0|      Libra|                      0|                 0|          43.0|1.4300000000000002|          0|\n",
            "+-----+-----+----+-------+------------+--------+----------+------------------+---------+--------+--------------+-----------+--------+--------------------+--------------+--------+------------+--------+------------+-----------------+------------+--------------+--------------+-------------+-------------+-----------+-----------------------+------------------+--------------+------------------+-----------+\n",
            "only showing top 4 rows\n",
            "\n"
          ]
        }
      ]
    },
    {
      "cell_type": "markdown",
      "source": [
        "## Groupby and aggregate\n",
        "- coachsandeepkhaira.com"
      ],
      "metadata": {
        "id": "nLExrN57T9sH"
      }
    },
    {
      "cell_type": "code",
      "source": [
        "import pandas as pd\n",
        "import numpy as np\n",
        "\n",
        "# Set random seed for salary generation\n",
        "np.random.seed(123)\n",
        "\n",
        "# Define the number of rows\n",
        "num_rows = 100\n",
        "\n",
        "# Create a dictionary with data\n",
        "data = {\n",
        "    'Name': ['Employee {}'.format(i+1) for i in range(num_rows)],\n",
        "    'Department': np.random.choice(['IT', 'HR', 'Finance', 'Sales'], num_rows),\n",
        "    'Salary': np.random.randint(30000, 90000, num_rows)\n",
        "}\n",
        "\n",
        "# Create DataFrame\n",
        "df = pd.DataFrame(data)\n",
        "\n",
        "df.to_csv('salary.csv')\n"
      ],
      "metadata": {
        "id": "mSHlZRsWWCSh"
      },
      "execution_count": null,
      "outputs": []
    },
    {
      "cell_type": "code",
      "source": [
        "from pyspark.sql import SparkSession\n",
        "spark = SparkSession.builder.appName('salary').getOrCreate()\n",
        "df = spark.read.csv('salary.csv', header=True, inferSchema=True)\n",
        "df.show(3)"
      ],
      "metadata": {
        "colab": {
          "base_uri": "https://localhost:8080/"
        },
        "id": "Yq8YQHOgUse-",
        "outputId": "f8422ad4-7967-404f-e99c-74c4601783c9"
      },
      "execution_count": null,
      "outputs": [
        {
          "output_type": "stream",
          "name": "stdout",
          "text": [
            "+---+----------+----------+------+\n",
            "|_c0|      Name|Department|Salary|\n",
            "+---+----------+----------+------+\n",
            "|  0|Employee 1|   Finance| 64097|\n",
            "|  1|Employee 2|        HR| 78908|\n",
            "|  2|Employee 3|   Finance| 34626|\n",
            "+---+----------+----------+------+\n",
            "only showing top 3 rows\n",
            "\n"
          ]
        }
      ]
    },
    {
      "cell_type": "code",
      "source": [
        "#total salary of each department\n",
        "df.groupby('Department').sum('salary').show()"
      ],
      "metadata": {
        "colab": {
          "base_uri": "https://localhost:8080/"
        },
        "id": "M0dw7ziTVCpK",
        "outputId": "dff00cd9-0e60-47f9-b806-5f27222739d8"
      },
      "execution_count": null,
      "outputs": [
        {
          "output_type": "stream",
          "name": "stdout",
          "text": [
            "+----------+-----------+\n",
            "|Department|sum(salary)|\n",
            "+----------+-----------+\n",
            "|     Sales|    1466431|\n",
            "|        HR|    1403347|\n",
            "|   Finance|    1750986|\n",
            "|        IT|    1472062|\n",
            "+----------+-----------+\n",
            "\n"
          ]
        }
      ]
    },
    {
      "cell_type": "code",
      "source": [
        "#how many emp in each department\n",
        "df.groupby('Department').count().show()"
      ],
      "metadata": {
        "colab": {
          "base_uri": "https://localhost:8080/"
        },
        "id": "DH0m8pDaVi4F",
        "outputId": "6e98c2ec-7493-4c0c-9fb9-fe83be855ca3"
      },
      "execution_count": null,
      "outputs": [
        {
          "output_type": "stream",
          "name": "stdout",
          "text": [
            "+----------+-----+\n",
            "|Department|count|\n",
            "+----------+-----+\n",
            "|     Sales|   24|\n",
            "|        HR|   21|\n",
            "|   Finance|   30|\n",
            "|        IT|   25|\n",
            "+----------+-----+\n",
            "\n"
          ]
        }
      ]
    },
    {
      "cell_type": "code",
      "source": [
        "#total salary of all the departments\n",
        "df.agg({'Salary':'sum', 'Department':'count'}).show()"
      ],
      "metadata": {
        "colab": {
          "base_uri": "https://localhost:8080/"
        },
        "id": "VobNL0D3V4bT",
        "outputId": "d6547ec6-ddd2-4aa9-f059-c187001bfa99"
      },
      "execution_count": null,
      "outputs": [
        {
          "output_type": "stream",
          "name": "stdout",
          "text": [
            "+-----------+-----------------+\n",
            "|sum(Salary)|count(Department)|\n",
            "+-----------+-----------------+\n",
            "|    6092826|              100|\n",
            "+-----------+-----------------+\n",
            "\n"
          ]
        }
      ]
    },
    {
      "cell_type": "code",
      "source": [
        "#find which employee has highest salary\n",
        "max_salary_row = df.agg({'Salary':'max'}).first()\n",
        "max_salary = max_salary_row[0]\n",
        "\n",
        "#look where the max salary is there\n",
        "df.filter(df['Salary']==max_salary).show()"
      ],
      "metadata": {
        "colab": {
          "base_uri": "https://localhost:8080/"
        },
        "id": "c9WYR-VHWJ-h",
        "outputId": "3365864e-4cde-472a-957f-8edca025eb54"
      },
      "execution_count": null,
      "outputs": [
        {
          "output_type": "stream",
          "name": "stdout",
          "text": [
            "+---+-----------+----------+------+\n",
            "|_c0|       Name|Department|Salary|\n",
            "+---+-----------+----------+------+\n",
            "| 94|Employee 95|        HR| 89400|\n",
            "+---+-----------+----------+------+\n",
            "\n"
          ]
        }
      ]
    },
    {
      "cell_type": "code",
      "source": [
        "#CREATE A TABLE\n",
        "df.registerTempTable('test')\n",
        "spark.sql(\"\"\"Select Name, Department, max(Salary) as max_sal\n",
        "            From test\n",
        "            GroupBy Department;\"\"\").show()"
      ],
      "metadata": {
        "colab": {
          "base_uri": "https://localhost:8080/",
          "height": 547
        },
        "id": "sG9gz8v_n1ei",
        "outputId": "34444b01-5435-4109-9840-73da3680c337"
      },
      "execution_count": null,
      "outputs": [
        {
          "output_type": "error",
          "ename": "ParseException",
          "evalue": "ignored",
          "traceback": [
            "\u001b[0;31m---------------------------------------------------------------------------\u001b[0m",
            "\u001b[0;31mParseException\u001b[0m                            Traceback (most recent call last)",
            "\u001b[0;32m<ipython-input-42-eef48ef65f38>\u001b[0m in \u001b[0;36m<cell line: 3>\u001b[0;34m()\u001b[0m\n\u001b[1;32m      1\u001b[0m \u001b[0;31m#CREATE A TABLE\u001b[0m\u001b[0;34m\u001b[0m\u001b[0;34m\u001b[0m\u001b[0m\n\u001b[1;32m      2\u001b[0m \u001b[0mdf\u001b[0m\u001b[0;34m.\u001b[0m\u001b[0mregisterTempTable\u001b[0m\u001b[0;34m(\u001b[0m\u001b[0;34m'test'\u001b[0m\u001b[0;34m)\u001b[0m\u001b[0;34m\u001b[0m\u001b[0;34m\u001b[0m\u001b[0m\n\u001b[0;32m----> 3\u001b[0;31m spark.sql(\"\"\"Select Name,  max(Salary) as max_sal \n\u001b[0m\u001b[1;32m      4\u001b[0m             \u001b[0mFrom\u001b[0m \u001b[0mtest\u001b[0m\u001b[0;34m\u001b[0m\u001b[0;34m\u001b[0m\u001b[0m\n\u001b[1;32m      5\u001b[0m             GroupBy Department;\"\"\").show()\n",
            "\u001b[0;32m/usr/local/lib/python3.10/dist-packages/pyspark/sql/session.py\u001b[0m in \u001b[0;36msql\u001b[0;34m(self, sqlQuery, args, **kwargs)\u001b[0m\n\u001b[1;32m   1438\u001b[0m         \u001b[0;32mtry\u001b[0m\u001b[0;34m:\u001b[0m\u001b[0;34m\u001b[0m\u001b[0;34m\u001b[0m\u001b[0m\n\u001b[1;32m   1439\u001b[0m             \u001b[0mlitArgs\u001b[0m \u001b[0;34m=\u001b[0m \u001b[0;34m{\u001b[0m\u001b[0mk\u001b[0m\u001b[0;34m:\u001b[0m \u001b[0m_to_java_column\u001b[0m\u001b[0;34m(\u001b[0m\u001b[0mlit\u001b[0m\u001b[0;34m(\u001b[0m\u001b[0mv\u001b[0m\u001b[0;34m)\u001b[0m\u001b[0;34m)\u001b[0m \u001b[0;32mfor\u001b[0m \u001b[0mk\u001b[0m\u001b[0;34m,\u001b[0m \u001b[0mv\u001b[0m \u001b[0;32min\u001b[0m \u001b[0;34m(\u001b[0m\u001b[0margs\u001b[0m \u001b[0;32mor\u001b[0m \u001b[0;34m{\u001b[0m\u001b[0;34m}\u001b[0m\u001b[0;34m)\u001b[0m\u001b[0;34m.\u001b[0m\u001b[0mitems\u001b[0m\u001b[0;34m(\u001b[0m\u001b[0;34m)\u001b[0m\u001b[0;34m}\u001b[0m\u001b[0;34m\u001b[0m\u001b[0;34m\u001b[0m\u001b[0m\n\u001b[0;32m-> 1440\u001b[0;31m             \u001b[0;32mreturn\u001b[0m \u001b[0mDataFrame\u001b[0m\u001b[0;34m(\u001b[0m\u001b[0mself\u001b[0m\u001b[0;34m.\u001b[0m\u001b[0m_jsparkSession\u001b[0m\u001b[0;34m.\u001b[0m\u001b[0msql\u001b[0m\u001b[0;34m(\u001b[0m\u001b[0msqlQuery\u001b[0m\u001b[0;34m,\u001b[0m \u001b[0mlitArgs\u001b[0m\u001b[0;34m)\u001b[0m\u001b[0;34m,\u001b[0m \u001b[0mself\u001b[0m\u001b[0;34m)\u001b[0m\u001b[0;34m\u001b[0m\u001b[0;34m\u001b[0m\u001b[0m\n\u001b[0m\u001b[1;32m   1441\u001b[0m         \u001b[0;32mfinally\u001b[0m\u001b[0;34m:\u001b[0m\u001b[0;34m\u001b[0m\u001b[0;34m\u001b[0m\u001b[0m\n\u001b[1;32m   1442\u001b[0m             \u001b[0;32mif\u001b[0m \u001b[0mlen\u001b[0m\u001b[0;34m(\u001b[0m\u001b[0mkwargs\u001b[0m\u001b[0;34m)\u001b[0m \u001b[0;34m>\u001b[0m \u001b[0;36m0\u001b[0m\u001b[0;34m:\u001b[0m\u001b[0;34m\u001b[0m\u001b[0;34m\u001b[0m\u001b[0m\n",
            "\u001b[0;32m/usr/local/lib/python3.10/dist-packages/py4j/java_gateway.py\u001b[0m in \u001b[0;36m__call__\u001b[0;34m(self, *args)\u001b[0m\n\u001b[1;32m   1320\u001b[0m \u001b[0;34m\u001b[0m\u001b[0m\n\u001b[1;32m   1321\u001b[0m         \u001b[0manswer\u001b[0m \u001b[0;34m=\u001b[0m \u001b[0mself\u001b[0m\u001b[0;34m.\u001b[0m\u001b[0mgateway_client\u001b[0m\u001b[0;34m.\u001b[0m\u001b[0msend_command\u001b[0m\u001b[0;34m(\u001b[0m\u001b[0mcommand\u001b[0m\u001b[0;34m)\u001b[0m\u001b[0;34m\u001b[0m\u001b[0;34m\u001b[0m\u001b[0m\n\u001b[0;32m-> 1322\u001b[0;31m         return_value = get_return_value(\n\u001b[0m\u001b[1;32m   1323\u001b[0m             answer, self.gateway_client, self.target_id, self.name)\n\u001b[1;32m   1324\u001b[0m \u001b[0;34m\u001b[0m\u001b[0m\n",
            "\u001b[0;32m/usr/local/lib/python3.10/dist-packages/pyspark/errors/exceptions/captured.py\u001b[0m in \u001b[0;36mdeco\u001b[0;34m(*a, **kw)\u001b[0m\n\u001b[1;32m    173\u001b[0m                 \u001b[0;31m# Hide where the exception came from that shows a non-Pythonic\u001b[0m\u001b[0;34m\u001b[0m\u001b[0;34m\u001b[0m\u001b[0m\n\u001b[1;32m    174\u001b[0m                 \u001b[0;31m# JVM exception message.\u001b[0m\u001b[0;34m\u001b[0m\u001b[0;34m\u001b[0m\u001b[0m\n\u001b[0;32m--> 175\u001b[0;31m                 \u001b[0;32mraise\u001b[0m \u001b[0mconverted\u001b[0m \u001b[0;32mfrom\u001b[0m \u001b[0;32mNone\u001b[0m\u001b[0;34m\u001b[0m\u001b[0;34m\u001b[0m\u001b[0m\n\u001b[0m\u001b[1;32m    176\u001b[0m             \u001b[0;32melse\u001b[0m\u001b[0;34m:\u001b[0m\u001b[0;34m\u001b[0m\u001b[0;34m\u001b[0m\u001b[0m\n\u001b[1;32m    177\u001b[0m                 \u001b[0;32mraise\u001b[0m\u001b[0;34m\u001b[0m\u001b[0;34m\u001b[0m\u001b[0m\n",
            "\u001b[0;31mParseException\u001b[0m: \n[PARSE_SYNTAX_ERROR] Syntax error at or near 'Department': extra input 'Department'.(line 3, pos 20)\n\n== SQL ==\nSelect Name,  max(Salary) as max_sal \n            From test \n            GroupBy Department;\n--------------------^^^\n"
          ]
        }
      ]
    },
    {
      "cell_type": "markdown",
      "source": [
        "# Working with MLlib"
      ],
      "metadata": {
        "id": "rLk8BN6er1XB"
      }
    },
    {
      "cell_type": "code",
      "source": [
        "import pandas as pd\n",
        "import numpy as np\n",
        "\n",
        "# Set random seed for data generation\n",
        "np.random.seed(123)\n",
        "\n",
        "# Define the number of rows\n",
        "num_rows = 25\n",
        "\n",
        "# Create a dictionary with data\n",
        "data = {\n",
        "    'Name': ['Employee {}'.format(i+1) for i in range(num_rows)],\n",
        "    'Age': np.random.randint(22, 60, num_rows),\n",
        "    'Experience': np.random.randint(1, 15, num_rows),\n",
        "    'Salary': np.random.randint(30000, 90000, num_rows)\n",
        "}\n",
        "\n",
        "# Create DataFrame\n",
        "df = pd.DataFrame(data)\n",
        "\n",
        "# Print the DataFrame\n",
        "df.to_csv('new_salary.csv')"
      ],
      "metadata": {
        "id": "7b6-fhBRqPv6"
      },
      "execution_count": null,
      "outputs": []
    },
    {
      "cell_type": "code",
      "source": [
        "from pyspark.sql import SparkSession\n",
        "spark = SparkSession.builder.appName('salary').getOrCreate()\n",
        "df = spark.read.csv('new_salary.csv', header=True, inferSchema=True)\n",
        "df.show(5)"
      ],
      "metadata": {
        "colab": {
          "base_uri": "https://localhost:8080/"
        },
        "id": "dye1Zg5FsKuF",
        "outputId": "a6b541fa-ee6b-40ec-c06c-0bc14d51dc2a"
      },
      "execution_count": null,
      "outputs": [
        {
          "output_type": "stream",
          "name": "stdout",
          "text": [
            "+---+----------+---+----------+------+\n",
            "|_c0|      Name|Age|Experience|Salary|\n",
            "+---+----------+---+----------+------+\n",
            "|  0|Employee 1| 24|        13| 83659|\n",
            "|  1|Employee 2| 50|        13| 39981|\n",
            "|  2|Employee 3| 56|         5| 87324|\n",
            "|  3|Employee 4| 39|         7| 60878|\n",
            "|  4|Employee 5| 41|         2| 54134|\n",
            "+---+----------+---+----------+------+\n",
            "only showing top 5 rows\n",
            "\n"
          ]
        }
      ]
    },
    {
      "cell_type": "code",
      "source": [
        "df.columns"
      ],
      "metadata": {
        "colab": {
          "base_uri": "https://localhost:8080/"
        },
        "id": "FdBtE8nJtIfu",
        "outputId": "5165f339-8e17-407e-f7a0-1bd208469fa7"
      },
      "execution_count": null,
      "outputs": [
        {
          "output_type": "execute_result",
          "data": {
            "text/plain": [
              "['_c0', 'Name', 'Age', 'Experience', 'Salary']"
            ]
          },
          "metadata": {},
          "execution_count": 14
        }
      ]
    },
    {
      "cell_type": "code",
      "source": [
        "df = df.drop('_c0')\n",
        "df.show(2)"
      ],
      "metadata": {
        "colab": {
          "base_uri": "https://localhost:8080/"
        },
        "id": "ojdmTLowtQK7",
        "outputId": "111e0eb5-35e0-4639-c75f-289545198439"
      },
      "execution_count": null,
      "outputs": [
        {
          "output_type": "stream",
          "name": "stdout",
          "text": [
            "+----------+---+----------+------+\n",
            "|      Name|Age|Experience|Salary|\n",
            "+----------+---+----------+------+\n",
            "|Employee 1| 24|        13| 83659|\n",
            "|Employee 2| 50|        13| 39981|\n",
            "+----------+---+----------+------+\n",
            "only showing top 2 rows\n",
            "\n"
          ]
        }
      ]
    },
    {
      "cell_type": "code",
      "source": [
        "df.columns"
      ],
      "metadata": {
        "colab": {
          "base_uri": "https://localhost:8080/"
        },
        "id": "DLczezzguUP2",
        "outputId": "573421c9-f3d7-445c-cbf2-b5df6c595616"
      },
      "execution_count": null,
      "outputs": [
        {
          "output_type": "execute_result",
          "data": {
            "text/plain": [
              "['Name', 'Age', 'Experience', 'Salary']"
            ]
          },
          "metadata": {},
          "execution_count": 16
        }
      ]
    },
    {
      "cell_type": "code",
      "source": [
        "from pyspark.ml.feature import VectorAssembler\n",
        "featureassembler = VectorAssembler(inputCols=['Age', 'Experience'], outputCol='Independent Features')"
      ],
      "metadata": {
        "id": "KjW_1gnbuV2e"
      },
      "execution_count": null,
      "outputs": []
    },
    {
      "cell_type": "code",
      "source": [
        "output = featureassembler.transform(df)\n",
        "output.show()"
      ],
      "metadata": {
        "colab": {
          "base_uri": "https://localhost:8080/"
        },
        "id": "RQeY0rdTu2S_",
        "outputId": "eba8ee8d-824d-4393-f264-75fa43712994"
      },
      "execution_count": null,
      "outputs": [
        {
          "output_type": "stream",
          "name": "stdout",
          "text": [
            "+-----------+---+----------+------+--------------------+\n",
            "|       Name|Age|Experience|Salary|Independent Features|\n",
            "+-----------+---+----------+------+--------------------+\n",
            "| Employee 1| 24|        13| 83659|         [24.0,13.0]|\n",
            "| Employee 2| 50|        13| 39981|         [50.0,13.0]|\n",
            "| Employee 3| 56|         5| 87324|          [56.0,5.0]|\n",
            "| Employee 4| 39|         7| 60878|          [39.0,7.0]|\n",
            "| Employee 5| 41|         2| 54134|          [41.0,2.0]|\n",
            "| Employee 6| 44|         6| 47773|          [44.0,6.0]|\n",
            "| Employee 7| 55|         7| 54947|          [55.0,7.0]|\n",
            "| Employee 8| 54|        12| 74186|         [54.0,12.0]|\n",
            "| Employee 9| 31|         3| 40960|          [31.0,3.0]|\n",
            "|Employee 10| 54|         2| 87734|          [54.0,2.0]|\n",
            "|Employee 11| 54|        13| 70718|         [54.0,13.0]|\n",
            "|Employee 12| 47|         9| 71215|          [47.0,9.0]|\n",
            "|Employee 13| 41|         4| 33316|          [41.0,4.0]|\n",
            "|Employee 14| 36|        11| 50839|         [36.0,11.0]|\n",
            "|Employee 15| 58|         6| 58619|          [58.0,6.0]|\n",
            "|Employee 16| 54|         1| 80102|          [54.0,1.0]|\n",
            "|Employee 17| 38|        12| 85239|         [38.0,12.0]|\n",
            "|Employee 18| 26|         3| 80305|          [26.0,3.0]|\n",
            "|Employee 19| 25|        11| 38747|         [25.0,11.0]|\n",
            "|Employee 20| 24|        11| 66026|         [24.0,11.0]|\n",
            "+-----------+---+----------+------+--------------------+\n",
            "only showing top 20 rows\n",
            "\n"
          ]
        }
      ]
    },
    {
      "cell_type": "code",
      "source": [
        "finalized_data = output.select('Independent Features', 'Salary')\n",
        "finalized_data.show(2)"
      ],
      "metadata": {
        "colab": {
          "base_uri": "https://localhost:8080/"
        },
        "id": "obctdnaou9yB",
        "outputId": "152b8a6d-d54e-4d6f-d5d5-0f1dce43a336"
      },
      "execution_count": null,
      "outputs": [
        {
          "output_type": "stream",
          "name": "stdout",
          "text": [
            "+--------------------+------+\n",
            "|Independent Features|Salary|\n",
            "+--------------------+------+\n",
            "|         [24.0,13.0]| 83659|\n",
            "|         [50.0,13.0]| 39981|\n",
            "+--------------------+------+\n",
            "only showing top 2 rows\n",
            "\n"
          ]
        }
      ]
    },
    {
      "cell_type": "code",
      "source": [
        "from pyspark.ml.regression import LinearRegression\n",
        "train_data, test_data = finalized_data.randomSplit([0.6, 0.4])\n",
        "reg = LinearRegression(featuresCol='Independent Features', labelCol='Salary')\n",
        "reg = reg.fit(train_data)"
      ],
      "metadata": {
        "id": "gynkaVM0vtlp"
      },
      "execution_count": null,
      "outputs": []
    },
    {
      "cell_type": "code",
      "source": [
        "reg.coefficients"
      ],
      "metadata": {
        "colab": {
          "base_uri": "https://localhost:8080/"
        },
        "id": "jA_dn9LewHY8",
        "outputId": "dddfb46b-f068-47b6-c6c8-b730180823b9"
      },
      "execution_count": null,
      "outputs": [
        {
          "output_type": "execute_result",
          "data": {
            "text/plain": [
              "DenseVector([207.1709, 179.1555])"
            ]
          },
          "metadata": {},
          "execution_count": 31
        }
      ]
    },
    {
      "cell_type": "code",
      "source": [
        "reg.intercept"
      ],
      "metadata": {
        "colab": {
          "base_uri": "https://localhost:8080/"
        },
        "id": "nCK9OEdlwNRF",
        "outputId": "cacea3fc-6be6-4ef6-b296-9b61f3e994d9"
      },
      "execution_count": null,
      "outputs": [
        {
          "output_type": "execute_result",
          "data": {
            "text/plain": [
              "46965.94018651788"
            ]
          },
          "metadata": {},
          "execution_count": 32
        }
      ]
    },
    {
      "cell_type": "code",
      "source": [
        "pred = reg.evaluate(test_data)"
      ],
      "metadata": {
        "id": "hSKwMAWHwR55"
      },
      "execution_count": null,
      "outputs": []
    },
    {
      "cell_type": "code",
      "source": [
        "pred.predictions.show()"
      ],
      "metadata": {
        "colab": {
          "base_uri": "https://localhost:8080/"
        },
        "id": "EhKQU_HVwbRT",
        "outputId": "18dff194-6600-405b-9014-64347424a87e"
      },
      "execution_count": null,
      "outputs": [
        {
          "output_type": "stream",
          "name": "stdout",
          "text": [
            "+--------------------+------+------------------+\n",
            "|Independent Features|Salary|        prediction|\n",
            "+--------------------+------+------------------+\n",
            "|         [24.0,14.0]| 38887|54446.219507242444|\n",
            "|          [26.0,3.0]| 80305| 52889.85026494356|\n",
            "|          [29.0,5.0]| 72964|53869.674067411375|\n",
            "|         [36.0,11.0]| 50839| 56394.80367251492|\n",
            "|         [38.0,12.0]| 85239|  56988.3010243238|\n",
            "|          [39.0,7.0]| 60878| 56299.69417792885|\n",
            "|          [41.0,2.0]| 54134| 55818.25823268385|\n",
            "|          [47.0,9.0]| 71215| 58315.37248614643|\n",
            "|          [54.0,1.0]| 80102| 58332.32439812424|\n",
            "|         [54.0,12.0]| 74186| 60303.03544272303|\n",
            "|          [55.0,7.0]| 54947| 59614.42859632808|\n",
            "+--------------------+------+------------------+\n",
            "\n"
          ]
        }
      ]
    },
    {
      "cell_type": "code",
      "source": [
        "train_data.show()"
      ],
      "metadata": {
        "colab": {
          "base_uri": "https://localhost:8080/"
        },
        "id": "KTkONkaRwiyL",
        "outputId": "2f8db404-1f03-40e1-f1bf-95d1b76d45c7"
      },
      "execution_count": null,
      "outputs": [
        {
          "output_type": "stream",
          "name": "stdout",
          "text": [
            "+--------------------+------+\n",
            "|Independent Features|Salary|\n",
            "+--------------------+------+\n",
            "|         [24.0,11.0]| 66026|\n",
            "|         [24.0,13.0]| 83659|\n",
            "|         [24.0,14.0]| 38887|\n",
            "|         [25.0,11.0]| 38747|\n",
            "|          [26.0,3.0]| 80305|\n",
            "|          [29.0,5.0]| 72964|\n",
            "|          [31.0,3.0]| 40960|\n",
            "|         [36.0,11.0]| 50839|\n",
            "|         [38.0,12.0]| 85239|\n",
            "|          [39.0,7.0]| 60878|\n",
            "|          [41.0,2.0]| 54134|\n",
            "|          [41.0,4.0]| 33316|\n",
            "|          [42.0,3.0]| 36578|\n",
            "|          [42.0,7.0]| 72341|\n",
            "|          [44.0,6.0]| 47773|\n",
            "|         [50.0,13.0]| 39981|\n",
            "|          [54.0,1.0]| 80102|\n",
            "|          [54.0,2.0]| 87734|\n",
            "|         [54.0,12.0]| 74186|\n",
            "|         [54.0,13.0]| 70718|\n",
            "+--------------------+------+\n",
            "only showing top 20 rows\n",
            "\n"
          ]
        }
      ]
    },
    {
      "cell_type": "code",
      "source": [],
      "metadata": {
        "id": "8rHSS29Nwlsl"
      },
      "execution_count": null,
      "outputs": []
    }
  ]
}